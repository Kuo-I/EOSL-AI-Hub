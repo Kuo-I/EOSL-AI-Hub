{
  "nbformat": 4,
  "nbformat_minor": 0,
  "metadata": {
    "colab": {
      "provenance": [],
      "gpuType": "T4"
    },
    "kernelspec": {
      "name": "python3",
      "display_name": "Python 3"
    },
    "language_info": {
      "name": "python"
    },
    "accelerator": "GPU"
  },
  "cells": [
    {
      "cell_type": "code",
      "source": [
        "!wget https://itriaihub.blob.core.windows.net/github-download-resources/repository/ITRI-AI-Hub/datasets/HardHat_Pose_Dataset.YOLO.zip\n",
        "!unzip HardHat_Pose_Dataset.YOLO.zip"
      ],
      "metadata": {
        "colab": {
          "base_uri": "https://localhost:8080/"
        },
        "id": "_HV8mponSbRk",
        "outputId": "2cca2698-159f-4c32-dec0-db95f99bc620"
      },
      "execution_count": null,
      "outputs": [
        {
          "output_type": "stream",
          "name": "stdout",
          "text": [
            "--2024-11-11 13:54:53--  https://itriaihub.blob.core.windows.net/github-download-resources/repository/ITRI-AI-Hub/datasets/HardHat_Pose_Dataset.YOLO.zip\n",
            "Resolving itriaihub.blob.core.windows.net (itriaihub.blob.core.windows.net)... 20.209.42.36\n",
            "Connecting to itriaihub.blob.core.windows.net (itriaihub.blob.core.windows.net)|20.209.42.36|:443... connected.\n",
            "HTTP request sent, awaiting response... 200 OK\n",
            "Length: 3751561 (3.6M) [application/x-zip-compressed]\n",
            "Saving to: ‘HardHat_Pose_Dataset.YOLO.zip’\n",
            "\n",
            "HardHat_Pose_Datase 100%[===================>]   3.58M  2.39MB/s    in 1.5s    \n",
            "\n",
            "2024-11-11 13:54:55 (2.39 MB/s) - ‘HardHat_Pose_Dataset.YOLO.zip’ saved [3751561/3751561]\n",
            "\n",
            "Archive:  HardHat_Pose_Dataset.YOLO.zip\n",
            "   creating: HardHat_Pose_Dataset.YOLO/\n",
            "  inflating: HardHat_Pose_Dataset.YOLO/data.yaml  \n",
            "  inflating: HardHat_Pose_Dataset.YOLO/README.roboflow.txt  \n",
            "   creating: HardHat_Pose_Dataset.YOLO/test/\n",
            "   creating: HardHat_Pose_Dataset.YOLO/test/images/\n",
            "  inflating: HardHat_Pose_Dataset.YOLO/test/images/000008_jpg.rf.8ddEpaD8kjf9Wwgm1P3I.jpg  \n",
            "  inflating: HardHat_Pose_Dataset.YOLO/test/images/000011_jpg.rf.n6TiaiPM2lzuMoiSQNmo.jpg  \n",
            "  inflating: HardHat_Pose_Dataset.YOLO/test/images/000034_jpg.rf.qntmyCFyZO1mm5K83Q2U.jpg  \n",
            "  inflating: HardHat_Pose_Dataset.YOLO/test/images/000047_jpg.rf.rrQnzhne8qC0aY5YFqTs.jpg  \n",
            "  inflating: HardHat_Pose_Dataset.YOLO/test/images/000054_jpg.rf.4rv9qXIezByFltihCAki.jpg  \n",
            "  inflating: HardHat_Pose_Dataset.YOLO/test/images/000073_jpg.rf.WaR1Cr7x6TS2HKvYK1x9.jpg  \n",
            "  inflating: HardHat_Pose_Dataset.YOLO/test/images/000076_jpg.rf.ySqZfAFjerLFbsr3lYFA.jpg  \n",
            "  inflating: HardHat_Pose_Dataset.YOLO/test/images/000084_jpg.rf.ypBrJPcN7GVM2jxfozBk.jpg  \n",
            "  inflating: HardHat_Pose_Dataset.YOLO/test/images/000097_jpg.rf.TiWcbiGnH5DmEu4s1ytr.jpg  \n",
            "  inflating: HardHat_Pose_Dataset.YOLO/test/images/000098_jpg.rf.nnm9JVksIPPAqpQTx76U.jpg  \n",
            "   creating: HardHat_Pose_Dataset.YOLO/test/labels/\n",
            "  inflating: HardHat_Pose_Dataset.YOLO/test/labels/000008_jpg.rf.8ddEpaD8kjf9Wwgm1P3I.txt  \n",
            "  inflating: HardHat_Pose_Dataset.YOLO/test/labels/000011_jpg.rf.n6TiaiPM2lzuMoiSQNmo.txt  \n",
            "  inflating: HardHat_Pose_Dataset.YOLO/test/labels/000034_jpg.rf.qntmyCFyZO1mm5K83Q2U.txt  \n",
            "  inflating: HardHat_Pose_Dataset.YOLO/test/labels/000047_jpg.rf.rrQnzhne8qC0aY5YFqTs.txt  \n",
            "  inflating: HardHat_Pose_Dataset.YOLO/test/labels/000054_jpg.rf.4rv9qXIezByFltihCAki.txt  \n",
            "  inflating: HardHat_Pose_Dataset.YOLO/test/labels/000073_jpg.rf.WaR1Cr7x6TS2HKvYK1x9.txt  \n",
            "  inflating: HardHat_Pose_Dataset.YOLO/test/labels/000076_jpg.rf.ySqZfAFjerLFbsr3lYFA.txt  \n",
            "  inflating: HardHat_Pose_Dataset.YOLO/test/labels/000084_jpg.rf.ypBrJPcN7GVM2jxfozBk.txt  \n",
            "  inflating: HardHat_Pose_Dataset.YOLO/test/labels/000097_jpg.rf.TiWcbiGnH5DmEu4s1ytr.txt  \n",
            "  inflating: HardHat_Pose_Dataset.YOLO/test/labels/000098_jpg.rf.nnm9JVksIPPAqpQTx76U.txt  \n",
            "   creating: HardHat_Pose_Dataset.YOLO/train/\n",
            "   creating: HardHat_Pose_Dataset.YOLO/train/images/\n",
            "  inflating: HardHat_Pose_Dataset.YOLO/train/images/000001_jpg.rf.lr4ZmXF3PvLg6puT9eTZ.jpg  \n",
            "  inflating: HardHat_Pose_Dataset.YOLO/train/images/000007_jpg.rf.mn7CnVZFyc8sfVSuTUU9.jpg  \n",
            "  inflating: HardHat_Pose_Dataset.YOLO/train/images/000012_jpg.rf.SXG83CiV3friXnUAZFvn.jpg  \n",
            "  inflating: HardHat_Pose_Dataset.YOLO/train/images/000013_jpg.rf.NKiMm27JcltSIR4TH6Yw.jpg  \n",
            "  inflating: HardHat_Pose_Dataset.YOLO/train/images/000014_jpg.rf.Pl5PKx0zQyRw6Z4twhRh.jpg  \n",
            "  inflating: HardHat_Pose_Dataset.YOLO/train/images/000016_jpg.rf.ZIq2bpsCTJ3aoHXhMujn.jpg  \n",
            "  inflating: HardHat_Pose_Dataset.YOLO/train/images/000017_jpg.rf.fmnhbILLEYBAbbgkCUzY.jpg  \n",
            "  inflating: HardHat_Pose_Dataset.YOLO/train/images/000018_jpg.rf.ejU3o24j3VaxiLXoYfmm.jpg  \n",
            "  inflating: HardHat_Pose_Dataset.YOLO/train/images/000019_jpg.rf.7JZ1deu9Lr71Mr87XEyr.jpg  \n",
            "  inflating: HardHat_Pose_Dataset.YOLO/train/images/000020_jpg.rf.6iWFXgOzff5GFKaCffKu.jpg  \n",
            "  inflating: HardHat_Pose_Dataset.YOLO/train/images/000021_jpg.rf.GHFXMr2bYhIOcHTR2I8a.jpg  \n",
            "  inflating: HardHat_Pose_Dataset.YOLO/train/images/000022_jpg.rf.IGCXkU0mFl300eqfrq4W.jpg  \n",
            "  inflating: HardHat_Pose_Dataset.YOLO/train/images/000023_jpg.rf.2PtGhFk0VisqQG0UKgeS.jpg  \n",
            "  inflating: HardHat_Pose_Dataset.YOLO/train/images/000024_jpg.rf.GeuqSF7poGvwFxLyQnD0.jpg  \n",
            "  inflating: HardHat_Pose_Dataset.YOLO/train/images/000025_jpg.rf.j90EdnFwguNExJ8Qlnac.jpg  \n",
            "  inflating: HardHat_Pose_Dataset.YOLO/train/images/000026_jpg.rf.lLox0IncnLd5vvl97wpt.jpg  \n",
            "  inflating: HardHat_Pose_Dataset.YOLO/train/images/000027_jpg.rf.VPRIBHENkqF8DRtsYoq6.jpg  \n",
            "  inflating: HardHat_Pose_Dataset.YOLO/train/images/000028_jpg.rf.cVcf9mxnqav9lIKjhKTB.jpg  \n",
            "  inflating: HardHat_Pose_Dataset.YOLO/train/images/000029_jpg.rf.EBQCCwqNWzhNSsO316mB.jpg  \n",
            "  inflating: HardHat_Pose_Dataset.YOLO/train/images/000030_jpg.rf.norcz4nZ6jiSQSahqSSv.jpg  \n",
            "  inflating: HardHat_Pose_Dataset.YOLO/train/images/000031_jpg.rf.0gOBdTRlsXHxeEoU6MrY.jpg  \n",
            "  inflating: HardHat_Pose_Dataset.YOLO/train/images/000032_jpg.rf.cUdwomewOltL7m7H8tom.jpg  \n",
            "  inflating: HardHat_Pose_Dataset.YOLO/train/images/000033_jpg.rf.jlc79Y5MRxqPQa92MJ2L.jpg  \n",
            "  inflating: HardHat_Pose_Dataset.YOLO/train/images/000035_jpg.rf.b964v8uDAWCqCWr06243.jpg  \n",
            "  inflating: HardHat_Pose_Dataset.YOLO/train/images/000036_jpg.rf.Qnva2FdBk3VJ9TfcLnVE.jpg  \n",
            "  inflating: HardHat_Pose_Dataset.YOLO/train/images/000037_jpg.rf.5T7nwKm9LinkkoqsPvnQ.jpg  \n",
            "  inflating: HardHat_Pose_Dataset.YOLO/train/images/000038_jpg.rf.blyuB6O3jcicHh6rcW6y.jpg  \n",
            "  inflating: HardHat_Pose_Dataset.YOLO/train/images/000039_jpg.rf.DdAwtHEjNjAlF7MHMERy.jpg  \n",
            "  inflating: HardHat_Pose_Dataset.YOLO/train/images/000040_jpg.rf.Z0b27laDa9tM1udrtbxu.jpg  \n",
            "  inflating: HardHat_Pose_Dataset.YOLO/train/images/000041_jpg.rf.ID0EFYpJ3AFVZ6dPexlu.jpg  \n",
            "  inflating: HardHat_Pose_Dataset.YOLO/train/images/000042_jpg.rf.gu1tKBJoYUPEK2TfmRgH.jpg  \n",
            "  inflating: HardHat_Pose_Dataset.YOLO/train/images/000044_jpg.rf.Y7aNPeRVl953G0Smpk7B.jpg  \n",
            "  inflating: HardHat_Pose_Dataset.YOLO/train/images/000045_jpg.rf.63JtErP9ClkjFvImok08.jpg  \n",
            "  inflating: HardHat_Pose_Dataset.YOLO/train/images/000049_jpg.rf.NJsuzQfhycmkMUHo4XKk.jpg  \n",
            "  inflating: HardHat_Pose_Dataset.YOLO/train/images/000050_jpg.rf.s0QUkANVPyRBszh7UaS5.jpg  \n",
            "  inflating: HardHat_Pose_Dataset.YOLO/train/images/000051_jpg.rf.Y1MHTGe7lgKqGKdeSvAA.jpg  \n",
            "  inflating: HardHat_Pose_Dataset.YOLO/train/images/000052_jpg.rf.bG12OWcn4wNqKupMqPVU.jpg  \n",
            "  inflating: HardHat_Pose_Dataset.YOLO/train/images/000053_jpg.rf.42lW2wsPitDMMdIdeHeX.jpg  \n",
            "  inflating: HardHat_Pose_Dataset.YOLO/train/images/000056_jpg.rf.DBLCiTl8d0xE20SR0nCN.jpg  \n",
            "  inflating: HardHat_Pose_Dataset.YOLO/train/images/000058_jpg.rf.YuZxHJr1b46TrpirGUGm.jpg  \n",
            "  inflating: HardHat_Pose_Dataset.YOLO/train/images/000059_jpg.rf.b2F46aXvPxUGRWbxbaYA.jpg  \n",
            "  inflating: HardHat_Pose_Dataset.YOLO/train/images/000060_jpg.rf.neA0AtXF901C9mcPC3rg.jpg  \n",
            "  inflating: HardHat_Pose_Dataset.YOLO/train/images/000061_jpg.rf.yrzgWg4swwYtUN4zfaev.jpg  \n",
            "  inflating: HardHat_Pose_Dataset.YOLO/train/images/000062_jpg.rf.qaBCRl1lJcfnE3dZHuNB.jpg  \n",
            "  inflating: HardHat_Pose_Dataset.YOLO/train/images/000064_jpg.rf.rZXmv7lDI6bSMRfV9pzc.jpg  \n",
            "  inflating: HardHat_Pose_Dataset.YOLO/train/images/000066_jpg.rf.n42Z6WlJzId2bXIyTocO.jpg  \n",
            "  inflating: HardHat_Pose_Dataset.YOLO/train/images/000067_jpg.rf.5QXCAaj4ORQgu79PXmF5.jpg  \n",
            "  inflating: HardHat_Pose_Dataset.YOLO/train/images/000068_jpg.rf.tonB2bT09Vu1Wj6hoCnQ.jpg  \n",
            "  inflating: HardHat_Pose_Dataset.YOLO/train/images/000069_jpg.rf.d1MM9KbeNiI7Rk11xq91.jpg  \n",
            "  inflating: HardHat_Pose_Dataset.YOLO/train/images/000070_jpg.rf.FS0D4Yn9tGvqhqV04Bqw.jpg  \n",
            "  inflating: HardHat_Pose_Dataset.YOLO/train/images/000072_jpg.rf.9sjrqItGLF1muAnUsp4X.jpg  \n",
            "  inflating: HardHat_Pose_Dataset.YOLO/train/images/000074_jpg.rf.0mhNgaIhuK6AksOZuIE7.jpg  \n",
            "  inflating: HardHat_Pose_Dataset.YOLO/train/images/000075_jpg.rf.JtQTSb5UCbP3592TkThM.jpg  \n",
            "  inflating: HardHat_Pose_Dataset.YOLO/train/images/000077_jpg.rf.9n4RChdCQApHrjx3LZz1.jpg  \n",
            "  inflating: HardHat_Pose_Dataset.YOLO/train/images/000078_jpg.rf.H2ek4btF7N2ghdmXFv8i.jpg  \n",
            "  inflating: HardHat_Pose_Dataset.YOLO/train/images/000079_jpg.rf.IOebpXGwlLZVvC0FcPt3.jpg  \n",
            "  inflating: HardHat_Pose_Dataset.YOLO/train/images/000080_jpg.rf.ccWXnwgMKKHp9BYA3ARq.jpg  \n",
            "  inflating: HardHat_Pose_Dataset.YOLO/train/images/000081_jpg.rf.ZcWyAWeqDpUm1Bpmpk3W.jpg  \n",
            "  inflating: HardHat_Pose_Dataset.YOLO/train/images/000082_jpg.rf.imhAb6oKepLm9B3TA9q0.jpg  \n",
            "  inflating: HardHat_Pose_Dataset.YOLO/train/images/000083_jpg.rf.3kqxcVBX5xiUn1seP3UR.jpg  \n",
            "  inflating: HardHat_Pose_Dataset.YOLO/train/images/000085_jpg.rf.aZ3Q7Wy94WQ6i05e7CM0.jpg  \n",
            "  inflating: HardHat_Pose_Dataset.YOLO/train/images/000086_jpg.rf.vOm6zJIiagrPWUcDWZT2.jpg  \n",
            "  inflating: HardHat_Pose_Dataset.YOLO/train/images/000087_jpg.rf.lJPmeH4TPXtfnCZVJrGY.jpg  \n",
            "  inflating: HardHat_Pose_Dataset.YOLO/train/images/000089_jpg.rf.wvu4hEGMA72ZcIV5niww.jpg  \n",
            "  inflating: HardHat_Pose_Dataset.YOLO/train/images/000090_jpg.rf.thD0aBzhv7T3yHKyHpL9.jpg  \n",
            "  inflating: HardHat_Pose_Dataset.YOLO/train/images/000092_jpg.rf.rb0MN0wMcwaLhvNz8AFx.jpg  \n",
            "  inflating: HardHat_Pose_Dataset.YOLO/train/images/000093_jpg.rf.vyRp7GG7PHuksTTLWHpj.jpg  \n",
            "  inflating: HardHat_Pose_Dataset.YOLO/train/images/000094_jpg.rf.DpdZYGvWVeZZdz79mEuX.jpg  \n",
            "  inflating: HardHat_Pose_Dataset.YOLO/train/images/000096_jpg.rf.dRa1uZXefKajmoBDBLCm.jpg  \n",
            "  inflating: HardHat_Pose_Dataset.YOLO/train/images/000100_jpg.rf.BzOp5ivVZTzPYFCmYYdx.jpg  \n",
            "   creating: HardHat_Pose_Dataset.YOLO/train/labels/\n",
            "  inflating: HardHat_Pose_Dataset.YOLO/train/labels/000001_jpg.rf.lr4ZmXF3PvLg6puT9eTZ.txt  \n",
            "  inflating: HardHat_Pose_Dataset.YOLO/train/labels/000007_jpg.rf.mn7CnVZFyc8sfVSuTUU9.txt  \n",
            "  inflating: HardHat_Pose_Dataset.YOLO/train/labels/000012_jpg.rf.SXG83CiV3friXnUAZFvn.txt  \n",
            "  inflating: HardHat_Pose_Dataset.YOLO/train/labels/000013_jpg.rf.NKiMm27JcltSIR4TH6Yw.txt  \n",
            "  inflating: HardHat_Pose_Dataset.YOLO/train/labels/000014_jpg.rf.Pl5PKx0zQyRw6Z4twhRh.txt  \n",
            "  inflating: HardHat_Pose_Dataset.YOLO/train/labels/000016_jpg.rf.ZIq2bpsCTJ3aoHXhMujn.txt  \n",
            "  inflating: HardHat_Pose_Dataset.YOLO/train/labels/000017_jpg.rf.fmnhbILLEYBAbbgkCUzY.txt  \n",
            "  inflating: HardHat_Pose_Dataset.YOLO/train/labels/000018_jpg.rf.ejU3o24j3VaxiLXoYfmm.txt  \n",
            "  inflating: HardHat_Pose_Dataset.YOLO/train/labels/000019_jpg.rf.7JZ1deu9Lr71Mr87XEyr.txt  \n",
            "  inflating: HardHat_Pose_Dataset.YOLO/train/labels/000020_jpg.rf.6iWFXgOzff5GFKaCffKu.txt  \n",
            "  inflating: HardHat_Pose_Dataset.YOLO/train/labels/000021_jpg.rf.GHFXMr2bYhIOcHTR2I8a.txt  \n",
            "  inflating: HardHat_Pose_Dataset.YOLO/train/labels/000022_jpg.rf.IGCXkU0mFl300eqfrq4W.txt  \n",
            "  inflating: HardHat_Pose_Dataset.YOLO/train/labels/000023_jpg.rf.2PtGhFk0VisqQG0UKgeS.txt  \n",
            "  inflating: HardHat_Pose_Dataset.YOLO/train/labels/000024_jpg.rf.GeuqSF7poGvwFxLyQnD0.txt  \n",
            "  inflating: HardHat_Pose_Dataset.YOLO/train/labels/000025_jpg.rf.j90EdnFwguNExJ8Qlnac.txt  \n",
            "  inflating: HardHat_Pose_Dataset.YOLO/train/labels/000026_jpg.rf.lLox0IncnLd5vvl97wpt.txt  \n",
            "  inflating: HardHat_Pose_Dataset.YOLO/train/labels/000027_jpg.rf.VPRIBHENkqF8DRtsYoq6.txt  \n",
            "  inflating: HardHat_Pose_Dataset.YOLO/train/labels/000028_jpg.rf.cVcf9mxnqav9lIKjhKTB.txt  \n",
            "  inflating: HardHat_Pose_Dataset.YOLO/train/labels/000029_jpg.rf.EBQCCwqNWzhNSsO316mB.txt  \n",
            "  inflating: HardHat_Pose_Dataset.YOLO/train/labels/000030_jpg.rf.norcz4nZ6jiSQSahqSSv.txt  \n",
            "  inflating: HardHat_Pose_Dataset.YOLO/train/labels/000031_jpg.rf.0gOBdTRlsXHxeEoU6MrY.txt  \n",
            "  inflating: HardHat_Pose_Dataset.YOLO/train/labels/000032_jpg.rf.cUdwomewOltL7m7H8tom.txt  \n",
            "  inflating: HardHat_Pose_Dataset.YOLO/train/labels/000033_jpg.rf.jlc79Y5MRxqPQa92MJ2L.txt  \n",
            "  inflating: HardHat_Pose_Dataset.YOLO/train/labels/000035_jpg.rf.b964v8uDAWCqCWr06243.txt  \n",
            "  inflating: HardHat_Pose_Dataset.YOLO/train/labels/000036_jpg.rf.Qnva2FdBk3VJ9TfcLnVE.txt  \n",
            "  inflating: HardHat_Pose_Dataset.YOLO/train/labels/000037_jpg.rf.5T7nwKm9LinkkoqsPvnQ.txt  \n",
            "  inflating: HardHat_Pose_Dataset.YOLO/train/labels/000038_jpg.rf.blyuB6O3jcicHh6rcW6y.txt  \n",
            "  inflating: HardHat_Pose_Dataset.YOLO/train/labels/000039_jpg.rf.DdAwtHEjNjAlF7MHMERy.txt  \n",
            "  inflating: HardHat_Pose_Dataset.YOLO/train/labels/000040_jpg.rf.Z0b27laDa9tM1udrtbxu.txt  \n",
            "  inflating: HardHat_Pose_Dataset.YOLO/train/labels/000041_jpg.rf.ID0EFYpJ3AFVZ6dPexlu.txt  \n",
            "  inflating: HardHat_Pose_Dataset.YOLO/train/labels/000042_jpg.rf.gu1tKBJoYUPEK2TfmRgH.txt  \n",
            "  inflating: HardHat_Pose_Dataset.YOLO/train/labels/000044_jpg.rf.Y7aNPeRVl953G0Smpk7B.txt  \n",
            "  inflating: HardHat_Pose_Dataset.YOLO/train/labels/000045_jpg.rf.63JtErP9ClkjFvImok08.txt  \n",
            "  inflating: HardHat_Pose_Dataset.YOLO/train/labels/000049_jpg.rf.NJsuzQfhycmkMUHo4XKk.txt  \n",
            "  inflating: HardHat_Pose_Dataset.YOLO/train/labels/000050_jpg.rf.s0QUkANVPyRBszh7UaS5.txt  \n",
            "  inflating: HardHat_Pose_Dataset.YOLO/train/labels/000051_jpg.rf.Y1MHTGe7lgKqGKdeSvAA.txt  \n",
            "  inflating: HardHat_Pose_Dataset.YOLO/train/labels/000052_jpg.rf.bG12OWcn4wNqKupMqPVU.txt  \n",
            "  inflating: HardHat_Pose_Dataset.YOLO/train/labels/000053_jpg.rf.42lW2wsPitDMMdIdeHeX.txt  \n",
            "  inflating: HardHat_Pose_Dataset.YOLO/train/labels/000056_jpg.rf.DBLCiTl8d0xE20SR0nCN.txt  \n",
            "  inflating: HardHat_Pose_Dataset.YOLO/train/labels/000058_jpg.rf.YuZxHJr1b46TrpirGUGm.txt  \n",
            "  inflating: HardHat_Pose_Dataset.YOLO/train/labels/000059_jpg.rf.b2F46aXvPxUGRWbxbaYA.txt  \n",
            "  inflating: HardHat_Pose_Dataset.YOLO/train/labels/000060_jpg.rf.neA0AtXF901C9mcPC3r.txt  \n",
            "  inflating: HardHat_Pose_Dataset.YOLO/train/labels/000060_jpg.rf.neA0AtXF901C9mcPC3rg.txt  \n",
            "  inflating: HardHat_Pose_Dataset.YOLO/train/labels/000061_jpg.rf.yrzgWg4swwYtUN4zfaev.txt  \n",
            "  inflating: HardHat_Pose_Dataset.YOLO/train/labels/000062_jpg.rf.qaBCRl1lJcfnE3dZHuNB.txt  \n",
            "  inflating: HardHat_Pose_Dataset.YOLO/train/labels/000064_jpg.rf.rZXmv7lDI6bSMRfV9pzc.txt  \n",
            "  inflating: HardHat_Pose_Dataset.YOLO/train/labels/000066_jpg.rf.n42Z6WlJzId2bXIyTocO.txt  \n",
            "  inflating: HardHat_Pose_Dataset.YOLO/train/labels/000067_jpg.rf.5QXCAaj4ORQgu79PXmF5.txt  \n",
            "  inflating: HardHat_Pose_Dataset.YOLO/train/labels/000068_jpg.rf.tonB2bT09Vu1Wj6hoCnQ.txt  \n",
            "  inflating: HardHat_Pose_Dataset.YOLO/train/labels/000069_jpg.rf.d1MM9KbeNiI7Rk11xq91.txt  \n",
            "  inflating: HardHat_Pose_Dataset.YOLO/train/labels/000070_jpg.rf.FS0D4Yn9tGvqhqV04Bqw.txt  \n",
            "  inflating: HardHat_Pose_Dataset.YOLO/train/labels/000072_jpg.rf.9sjrqItGLF1muAnUsp4X.txt  \n",
            "  inflating: HardHat_Pose_Dataset.YOLO/train/labels/000074_jpg.rf.0mhNgaIhuK6AksOZuIE7.txt  \n",
            "  inflating: HardHat_Pose_Dataset.YOLO/train/labels/000075_jpg.rf.JtQTSb5UCbP3592TkThM.txt  \n",
            "  inflating: HardHat_Pose_Dataset.YOLO/train/labels/000077_jpg.rf.9n4RChdCQApHrjx3LZz1.txt  \n",
            "  inflating: HardHat_Pose_Dataset.YOLO/train/labels/000078_jpg.rf.H2ek4btF7N2ghdmXFv8i.txt  \n",
            "  inflating: HardHat_Pose_Dataset.YOLO/train/labels/000079_jpg.rf.IOebpXGwlLZVvC0FcPt3.txt  \n",
            "  inflating: HardHat_Pose_Dataset.YOLO/train/labels/000080_jpg.rf.ccWXnwgMKKHp9BYA3ARq.txt  \n",
            "  inflating: HardHat_Pose_Dataset.YOLO/train/labels/000081_jpg.rf.ZcWyAWeqDpUm1Bpmpk3W.txt  \n",
            "  inflating: HardHat_Pose_Dataset.YOLO/train/labels/000082_jpg.rf.imhAb6oKepLm9B3TA9q0.txt  \n",
            "  inflating: HardHat_Pose_Dataset.YOLO/train/labels/000083_jpg.rf.3kqxcVBX5xiUn1seP3UR.txt  \n",
            "  inflating: HardHat_Pose_Dataset.YOLO/train/labels/000085_jpg.rf.aZ3Q7Wy94WQ6i05e7CM0.txt  \n",
            "  inflating: HardHat_Pose_Dataset.YOLO/train/labels/000086_jpg.rf.vOm6zJIiagrPWUcDWZT2.txt  \n",
            "  inflating: HardHat_Pose_Dataset.YOLO/train/labels/000087_jpg.rf.lJPmeH4TPXtfnCZVJrGY.txt  \n",
            "  inflating: HardHat_Pose_Dataset.YOLO/train/labels/000089_jpg.rf.wvu4hEGMA72ZcIV5niww.txt  \n",
            "  inflating: HardHat_Pose_Dataset.YOLO/train/labels/000090_jpg.rf.thD0aBzhv7T3yHKyHpL9.txt  \n",
            "  inflating: HardHat_Pose_Dataset.YOLO/train/labels/000092_jpg.rf.rb0MN0wMcwaLhvNz8AFx.txt  \n",
            "  inflating: HardHat_Pose_Dataset.YOLO/train/labels/000093_jpg.rf.vyRp7GG7PHuksTTLWH.txt  \n",
            "  inflating: HardHat_Pose_Dataset.YOLO/train/labels/000093_jpg.rf.vyRp7GG7PHuksTTLWHpj.txt  \n",
            "  inflating: HardHat_Pose_Dataset.YOLO/train/labels/000094_jpg.rf.DpdZYGvWVeZZdz79mEuX.txt  \n",
            "  inflating: HardHat_Pose_Dataset.YOLO/train/labels/000096_jpg.rf.dRa1uZXefKajmoBDBLCm.txt  \n",
            "  inflating: HardHat_Pose_Dataset.YOLO/train/labels/000100_jpg.rf.BzOp5ivVZTzPYFCmYYdx.txt  \n",
            "   creating: HardHat_Pose_Dataset.YOLO/valid/\n",
            "   creating: HardHat_Pose_Dataset.YOLO/valid/images/\n",
            "  inflating: HardHat_Pose_Dataset.YOLO/valid/images/000002_jpg.rf.TlCjYNxN0dHXRn6ctWn5.jpg  \n",
            "  inflating: HardHat_Pose_Dataset.YOLO/valid/images/000003_jpg.rf.EjIdAhHuafGrfVhehoij.jpg  \n",
            "  inflating: HardHat_Pose_Dataset.YOLO/valid/images/000004_jpg.rf.2GdL1eNABqI43qeB9rXr.jpg  \n",
            "  inflating: HardHat_Pose_Dataset.YOLO/valid/images/000005_jpg.rf.IK4SxvmKAdE1oZQ2HTDP.jpg  \n",
            "  inflating: HardHat_Pose_Dataset.YOLO/valid/images/000006_jpg.rf.flfDLCVd3tPH0v65BrQC.jpg  \n",
            "  inflating: HardHat_Pose_Dataset.YOLO/valid/images/000009_jpg.rf.Ir5w16tzcvVT0LmMaLsj.jpg  \n",
            "  inflating: HardHat_Pose_Dataset.YOLO/valid/images/000010_jpg.rf.7zS8QbkzXx5yCyeU2AuQ.jpg  \n",
            "  inflating: HardHat_Pose_Dataset.YOLO/valid/images/000015_jpg.rf.tRd4zoJP3vdWLz8IH3gN.jpg  \n",
            "  inflating: HardHat_Pose_Dataset.YOLO/valid/images/000043_jpg.rf.QmNTLAsIrQ7QLD1t6Oue.jpg  \n",
            "  inflating: HardHat_Pose_Dataset.YOLO/valid/images/000046_jpg.rf.kKFomGyV5pD4rFt0cp6t.jpg  \n",
            "  inflating: HardHat_Pose_Dataset.YOLO/valid/images/000048_jpg.rf.GvZcBmbGjfHpZ7oZ9k2n.jpg  \n",
            "  inflating: HardHat_Pose_Dataset.YOLO/valid/images/000055_jpg.rf.0Yk2MA7lmPmTcczN0Tcr.jpg  \n",
            "  inflating: HardHat_Pose_Dataset.YOLO/valid/images/000063_jpg.rf.fv1FHLDZzHuTGcFh2NHk.jpg  \n",
            "  inflating: HardHat_Pose_Dataset.YOLO/valid/images/000065_jpg.rf.FX2AuBNCGfGzs94x3kmD.jpg  \n",
            "  inflating: HardHat_Pose_Dataset.YOLO/valid/images/000071_jpg.rf.waLD6hhz137pK57LrHgW.jpg  \n",
            "  inflating: HardHat_Pose_Dataset.YOLO/valid/images/000088_jpg.rf.B6UqpphUZFXwTPdQgrNQ.jpg  \n",
            "  inflating: HardHat_Pose_Dataset.YOLO/valid/images/000091_jpg.rf.LrtkMqnIntdJ843SL5ax.jpg  \n",
            "  inflating: HardHat_Pose_Dataset.YOLO/valid/images/000099_jpg.rf.HDeWNLsEC4a7Lp3dgBrH.jpg  \n",
            "  inflating: HardHat_Pose_Dataset.YOLO/valid/images/000101_jpg.rf.onyq0ctZMDwxamdFdycU.jpg  \n",
            "  inflating: HardHat_Pose_Dataset.YOLO/valid/images/000102_jpg.rf.NxJRm40Pcb42W5gbi1S7.jpg  \n",
            "   creating: HardHat_Pose_Dataset.YOLO/valid/labels/\n",
            "  inflating: HardHat_Pose_Dataset.YOLO/valid/labels/000002_jpg.rf.TlCjYNxN0dHXRn6ctWn5.txt  \n",
            "  inflating: HardHat_Pose_Dataset.YOLO/valid/labels/000003_jpg.rf.EjIdAhHuafGrfVhehoi.txt  \n",
            "  inflating: HardHat_Pose_Dataset.YOLO/valid/labels/000003_jpg.rf.EjIdAhHuafGrfVhehoij.txt  \n",
            "  inflating: HardHat_Pose_Dataset.YOLO/valid/labels/000004_jpg.rf.2GdL1eNABqI43qeB9rXr.txt  \n",
            "  inflating: HardHat_Pose_Dataset.YOLO/valid/labels/000005_jpg.rf.IK4SxvmKAdE1oZQ2HTDP.txt  \n",
            "  inflating: HardHat_Pose_Dataset.YOLO/valid/labels/000006_jpg.rf.flfDLCVd3tPH0v65BrQC.txt  \n",
            "  inflating: HardHat_Pose_Dataset.YOLO/valid/labels/000009_jpg.rf.Ir5w16tzcvVT0LmMaLs.txt  \n",
            "  inflating: HardHat_Pose_Dataset.YOLO/valid/labels/000009_jpg.rf.Ir5w16tzcvVT0LmMaLsj.txt  \n",
            "  inflating: HardHat_Pose_Dataset.YOLO/valid/labels/000010_jpg.rf.7zS8QbkzXx5yCyeU2AuQ.txt  \n",
            "  inflating: HardHat_Pose_Dataset.YOLO/valid/labels/000015_jpg.rf.tRd4zoJP3vdWLz8IH3gN.txt  \n",
            "  inflating: HardHat_Pose_Dataset.YOLO/valid/labels/000043_jpg.rf.QmNTLAsIrQ7QLD1t6Oue.txt  \n",
            "  inflating: HardHat_Pose_Dataset.YOLO/valid/labels/000046_jpg.rf.kKFomGyV5pD4rFt0cp6t.txt  \n",
            "  inflating: HardHat_Pose_Dataset.YOLO/valid/labels/000048_jpg.rf.GvZcBmbGjfHpZ7oZ9k2n.txt  \n",
            "  inflating: HardHat_Pose_Dataset.YOLO/valid/labels/000055_jpg.rf.0Yk2MA7lmPmTcczN0Tcr.txt  \n",
            "  inflating: HardHat_Pose_Dataset.YOLO/valid/labels/000063_jpg.rf.fv1FHLDZzHuTGcFh2NHk.txt  \n",
            "  inflating: HardHat_Pose_Dataset.YOLO/valid/labels/000065_jpg.rf.FX2AuBNCGfGzs94x3kmD.txt  \n",
            "  inflating: HardHat_Pose_Dataset.YOLO/valid/labels/000071_jpg.rf.waLD6hhz137pK57LrHgW.txt  \n",
            "  inflating: HardHat_Pose_Dataset.YOLO/valid/labels/000088_jpg.rf.B6UqpphUZFXwTPdQgrNQ.txt  \n",
            "  inflating: HardHat_Pose_Dataset.YOLO/valid/labels/000091_jpg.rf.LrtkMqnIntdJ843SL5ax.txt  \n",
            "  inflating: HardHat_Pose_Dataset.YOLO/valid/labels/000099_jpg.rf.HDeWNLsEC4a7Lp3dgBrH.txt  \n",
            "  inflating: HardHat_Pose_Dataset.YOLO/valid/labels/000101_jpg.rf.onyq0ctZMDwxamdFdycU.txt  \n",
            "  inflating: HardHat_Pose_Dataset.YOLO/valid/labels/000102_jpg.rf.NxJRm40Pcb42W5gbi1S7.txt  \n"
          ]
        }
      ]
    },
    {
      "cell_type": "code",
      "source": [
        "#!pip install ultralytics\n",
        "from ultralytics import YOLO\n",
        "\n",
        "model = YOLO(\"yolov8n-pose.pt\")\n",
        "results = model.train(data='/content/HardHat_Pose_Dataset.YOLO/data.yaml', epochs=100)"
      ],
      "metadata": {
        "colab": {
          "base_uri": "https://localhost:8080/"
        },
        "id": "sA4K0w13Sf13",
        "outputId": "4a89daa6-9a5c-48f6-8492-c485755cc5fd"
      },
      "execution_count": null,
      "outputs": [
        {
          "output_type": "stream",
          "name": "stdout",
          "text": [
            "Downloading https://github.com/ultralytics/assets/releases/download/v8.3.0/yolov8n-pose.pt to 'yolov8n-pose.pt'...\n"
          ]
        },
        {
          "output_type": "stream",
          "name": "stderr",
          "text": [
            "100%|██████████| 6.52M/6.52M [00:00<00:00, 111MB/s]"
          ]
        },
        {
          "output_type": "stream",
          "name": "stdout",
          "text": [
            "Ultralytics 8.3.29 🚀 Python-3.10.12 torch-2.5.0+cu121 CUDA:0 (Tesla T4, 15102MiB)\n",
            "\u001b[34m\u001b[1mengine/trainer: \u001b[0mtask=pose, mode=train, model=yolov8n-pose.pt, data=/content/HardHat_Pose_Dataset.YOLO/data.yaml, epochs=100, time=None, patience=100, batch=16, imgsz=640, save=True, save_period=-1, cache=False, device=None, workers=8, project=None, name=train2, exist_ok=False, pretrained=True, optimizer=auto, verbose=True, seed=0, deterministic=True, single_cls=False, rect=False, cos_lr=False, close_mosaic=10, resume=False, amp=True, fraction=1.0, profile=False, freeze=None, multi_scale=False, overlap_mask=True, mask_ratio=4, dropout=0.0, val=True, split=val, save_json=False, save_hybrid=False, conf=None, iou=0.7, max_det=300, half=False, dnn=False, plots=True, source=None, vid_stride=1, stream_buffer=False, visualize=False, augment=False, agnostic_nms=False, classes=None, retina_masks=False, embed=None, show=False, save_frames=False, save_txt=False, save_conf=False, save_crop=False, show_labels=True, show_conf=True, show_boxes=True, line_width=None, format=torchscript, keras=False, optimize=False, int8=False, dynamic=False, simplify=True, opset=None, workspace=4, nms=False, lr0=0.01, lrf=0.01, momentum=0.937, weight_decay=0.0005, warmup_epochs=3.0, warmup_momentum=0.8, warmup_bias_lr=0.1, box=7.5, cls=0.5, dfl=1.5, pose=12.0, kobj=1.0, label_smoothing=0.0, nbs=64, hsv_h=0.015, hsv_s=0.7, hsv_v=0.4, degrees=0.0, translate=0.1, scale=0.5, shear=0.0, perspective=0.0, flipud=0.0, fliplr=0.5, bgr=0.0, mosaic=1.0, mixup=0.0, copy_paste=0.0, copy_paste_mode=flip, auto_augment=randaugment, erasing=0.4, crop_fraction=1.0, cfg=None, tracker=botsort.yaml, save_dir=runs/pose/train2\n",
            "\n",
            "                   from  n    params  module                                       arguments                     \n",
            "  0                  -1  1       464  ultralytics.nn.modules.conv.Conv             [3, 16, 3, 2]                 \n",
            "  1                  -1  1      4672  ultralytics.nn.modules.conv.Conv             [16, 32, 3, 2]                \n",
            "  2                  -1  1      7360  ultralytics.nn.modules.block.C2f             [32, 32, 1, True]             \n",
            "  3                  -1  1     18560  ultralytics.nn.modules.conv.Conv             [32, 64, 3, 2]                \n",
            "  4                  -1  2     49664  ultralytics.nn.modules.block.C2f             [64, 64, 2, True]             \n",
            "  5                  -1  1     73984  ultralytics.nn.modules.conv.Conv             [64, 128, 3, 2]               \n"
          ]
        },
        {
          "output_type": "stream",
          "name": "stderr",
          "text": [
            "\n"
          ]
        },
        {
          "output_type": "stream",
          "name": "stdout",
          "text": [
            "  6                  -1  2    197632  ultralytics.nn.modules.block.C2f             [128, 128, 2, True]           \n",
            "  7                  -1  1    295424  ultralytics.nn.modules.conv.Conv             [128, 256, 3, 2]              \n",
            "  8                  -1  1    460288  ultralytics.nn.modules.block.C2f             [256, 256, 1, True]           \n",
            "  9                  -1  1    164608  ultralytics.nn.modules.block.SPPF            [256, 256, 5]                 \n",
            " 10                  -1  1         0  torch.nn.modules.upsampling.Upsample         [None, 2, 'nearest']          \n",
            " 11             [-1, 6]  1         0  ultralytics.nn.modules.conv.Concat           [1]                           \n",
            " 12                  -1  1    148224  ultralytics.nn.modules.block.C2f             [384, 128, 1]                 \n",
            " 13                  -1  1         0  torch.nn.modules.upsampling.Upsample         [None, 2, 'nearest']          \n",
            " 14             [-1, 4]  1         0  ultralytics.nn.modules.conv.Concat           [1]                           \n",
            " 15                  -1  1     37248  ultralytics.nn.modules.block.C2f             [192, 64, 1]                  \n",
            " 16                  -1  1     36992  ultralytics.nn.modules.conv.Conv             [64, 64, 3, 2]                \n",
            " 17            [-1, 12]  1         0  ultralytics.nn.modules.conv.Concat           [1]                           \n",
            " 18                  -1  1    123648  ultralytics.nn.modules.block.C2f             [192, 128, 1]                 \n",
            " 19                  -1  1    147712  ultralytics.nn.modules.conv.Conv             [128, 128, 3, 2]              \n",
            " 20             [-1, 9]  1         0  ultralytics.nn.modules.conv.Concat           [1]                           \n",
            " 21                  -1  1    493056  ultralytics.nn.modules.block.C2f             [384, 256, 1]                 \n",
            " 22        [15, 18, 21]  1   1035934  ultralytics.nn.modules.head.Pose             [1, [17, 3], [64, 128, 256]]  \n",
            "YOLOv8n-pose summary: 250 layers, 3,295,470 parameters, 3,295,454 gradients, 9.3 GFLOPs\n",
            "\n",
            "Transferred 397/397 items from pretrained weights\n",
            "\u001b[34m\u001b[1mTensorBoard: \u001b[0mStart with 'tensorboard --logdir runs/pose/train2', view at http://localhost:6006/\n",
            "Freezing layer 'model.22.dfl.conv.weight'\n",
            "\u001b[34m\u001b[1mAMP: \u001b[0mrunning Automatic Mixed Precision (AMP) checks...\n",
            "\u001b[34m\u001b[1mAMP: \u001b[0mchecks passed ✅\n"
          ]
        },
        {
          "output_type": "stream",
          "name": "stderr",
          "text": [
            "\u001b[34m\u001b[1mtrain: \u001b[0mScanning /content/HardHat_Pose_Dataset.YOLO/train/labels.cache... 70 images, 0 backgrounds, 2 corrupt: 100%|██████████| 70/70 [00:00<?, ?it/s]"
          ]
        },
        {
          "output_type": "stream",
          "name": "stdout",
          "text": [
            "\u001b[34m\u001b[1mtrain: \u001b[0mWARNING ⚠️ /content/HardHat_Pose_Dataset.YOLO/train/images/000060_jpg.rf.neA0AtXF901C9mcPC3rg.jpg: ignoring corrupt image/label: labels require 56 columns each\n",
            "\u001b[34m\u001b[1mtrain: \u001b[0mWARNING ⚠️ /content/HardHat_Pose_Dataset.YOLO/train/images/000093_jpg.rf.vyRp7GG7PHuksTTLWHpj.jpg: ignoring corrupt image/label: labels require 56 columns each\n",
            "\u001b[34m\u001b[1malbumentations: \u001b[0mBlur(p=0.01, blur_limit=(3, 7)), MedianBlur(p=0.01, blur_limit=(3, 7)), ToGray(p=0.01, num_output_channels=3, method='weighted_average'), CLAHE(p=0.01, clip_limit=(1.0, 4.0), tile_grid_size=(8, 8))\n"
          ]
        },
        {
          "output_type": "stream",
          "name": "stderr",
          "text": [
            "\n",
            "\u001b[34m\u001b[1mval: \u001b[0mScanning /content/HardHat_Pose_Dataset.YOLO/valid/labels.cache... 20 images, 0 backgrounds, 2 corrupt: 100%|██████████| 20/20 [00:00<?, ?it/s]"
          ]
        },
        {
          "output_type": "stream",
          "name": "stdout",
          "text": [
            "\u001b[34m\u001b[1mval: \u001b[0mWARNING ⚠️ /content/HardHat_Pose_Dataset.YOLO/valid/images/000003_jpg.rf.EjIdAhHuafGrfVhehoij.jpg: ignoring corrupt image/label: labels require 56 columns each\n",
            "\u001b[34m\u001b[1mval: \u001b[0mWARNING ⚠️ /content/HardHat_Pose_Dataset.YOLO/valid/images/000009_jpg.rf.Ir5w16tzcvVT0LmMaLsj.jpg: ignoring corrupt image/label: labels require 56 columns each\n"
          ]
        },
        {
          "output_type": "stream",
          "name": "stderr",
          "text": [
            "\n"
          ]
        },
        {
          "output_type": "stream",
          "name": "stdout",
          "text": [
            "Plotting labels to runs/pose/train2/labels.jpg... \n",
            "\u001b[34m\u001b[1moptimizer:\u001b[0m 'optimizer=auto' found, ignoring 'lr0=0.01' and 'momentum=0.937' and determining best 'optimizer', 'lr0' and 'momentum' automatically... \n",
            "\u001b[34m\u001b[1moptimizer:\u001b[0m AdamW(lr=0.002, momentum=0.9) with parameter groups 63 weight(decay=0.0), 73 weight(decay=0.0005), 72 bias(decay=0.0)\n",
            "\u001b[34m\u001b[1mTensorBoard: \u001b[0mmodel graph visualization added ✅\n",
            "Image sizes 640 train, 640 val\n",
            "Using 2 dataloader workers\n",
            "Logging results to \u001b[1mruns/pose/train2\u001b[0m\n",
            "Starting training for 100 epochs...\n",
            "\n",
            "      Epoch    GPU_mem   box_loss  pose_loss  kobj_loss   cls_loss   dfl_loss  Instances       Size\n"
          ]
        },
        {
          "output_type": "stream",
          "name": "stderr",
          "text": [
            "      1/100      2.48G     0.7897       2.97     0.3004     0.7228      1.114         16        640: 100%|██████████| 5/5 [00:03<00:00,  1.41it/s]\n",
            "                 Class     Images  Instances      Box(P          R      mAP50  mAP50-95)     Pose(P          R      mAP50  mAP50-95): 100%|██████████| 1/1 [00:01<00:00,  1.09s/it]"
          ]
        },
        {
          "output_type": "stream",
          "name": "stdout",
          "text": [
            "                   all         18         65      0.874      0.857      0.924       0.79      0.943      0.759      0.869      0.702\n"
          ]
        },
        {
          "output_type": "stream",
          "name": "stderr",
          "text": [
            "\n"
          ]
        },
        {
          "output_type": "stream",
          "name": "stdout",
          "text": [
            "\n",
            "      Epoch    GPU_mem   box_loss  pose_loss  kobj_loss   cls_loss   dfl_loss  Instances       Size\n"
          ]
        },
        {
          "output_type": "stream",
          "name": "stderr",
          "text": [
            "      2/100      2.36G     0.8318      2.728     0.3047     0.7265      1.109         33        640: 100%|██████████| 5/5 [00:01<00:00,  4.07it/s]\n",
            "                 Class     Images  Instances      Box(P          R      mAP50  mAP50-95)     Pose(P          R      mAP50  mAP50-95): 100%|██████████| 1/1 [00:00<00:00,  4.43it/s]"
          ]
        },
        {
          "output_type": "stream",
          "name": "stdout",
          "text": [
            "                   all         18         65      0.977        0.8      0.909      0.682      0.993      0.815       0.88      0.598\n"
          ]
        },
        {
          "output_type": "stream",
          "name": "stderr",
          "text": [
            "\n"
          ]
        },
        {
          "output_type": "stream",
          "name": "stdout",
          "text": [
            "\n",
            "      Epoch    GPU_mem   box_loss  pose_loss  kobj_loss   cls_loss   dfl_loss  Instances       Size\n"
          ]
        },
        {
          "output_type": "stream",
          "name": "stderr",
          "text": [
            "      3/100      2.48G     0.8757      2.769     0.3164     0.7734      1.097         48        640: 100%|██████████| 5/5 [00:01<00:00,  3.95it/s]\n",
            "                 Class     Images  Instances      Box(P          R      mAP50  mAP50-95)     Pose(P          R      mAP50  mAP50-95): 100%|██████████| 1/1 [00:00<00:00,  4.34it/s]"
          ]
        },
        {
          "output_type": "stream",
          "name": "stdout",
          "text": [
            "                   all         18         65      0.943      0.785      0.872      0.682      0.943      0.785      0.844      0.522\n"
          ]
        },
        {
          "output_type": "stream",
          "name": "stderr",
          "text": [
            "\n"
          ]
        },
        {
          "output_type": "stream",
          "name": "stdout",
          "text": [
            "\n",
            "      Epoch    GPU_mem   box_loss  pose_loss  kobj_loss   cls_loss   dfl_loss  Instances       Size\n"
          ]
        },
        {
          "output_type": "stream",
          "name": "stderr",
          "text": [
            "      4/100      2.45G     0.8252       2.88     0.3058     0.7076      1.083         51        640: 100%|██████████| 5/5 [00:01<00:00,  4.67it/s]\n",
            "                 Class     Images  Instances      Box(P          R      mAP50  mAP50-95)     Pose(P          R      mAP50  mAP50-95): 100%|██████████| 1/1 [00:00<00:00,  4.29it/s]"
          ]
        },
        {
          "output_type": "stream",
          "name": "stdout",
          "text": [
            "                   all         18         65      0.937        0.8      0.876      0.681      0.937        0.8      0.853      0.556\n"
          ]
        },
        {
          "output_type": "stream",
          "name": "stderr",
          "text": [
            "\n"
          ]
        },
        {
          "output_type": "stream",
          "name": "stdout",
          "text": [
            "\n",
            "      Epoch    GPU_mem   box_loss  pose_loss  kobj_loss   cls_loss   dfl_loss  Instances       Size\n"
          ]
        },
        {
          "output_type": "stream",
          "name": "stderr",
          "text": [
            "      5/100      2.44G     0.8481      2.707     0.3254     0.7631      1.082         50        640: 100%|██████████| 5/5 [00:01<00:00,  4.61it/s]\n",
            "                 Class     Images  Instances      Box(P          R      mAP50  mAP50-95)     Pose(P          R      mAP50  mAP50-95): 100%|██████████| 1/1 [00:00<00:00,  3.98it/s]"
          ]
        },
        {
          "output_type": "stream",
          "name": "stdout",
          "text": [
            "                   all         18         65       0.98      0.738      0.889      0.674      0.959      0.723      0.822      0.497\n"
          ]
        },
        {
          "output_type": "stream",
          "name": "stderr",
          "text": [
            "\n"
          ]
        },
        {
          "output_type": "stream",
          "name": "stdout",
          "text": [
            "\n",
            "      Epoch    GPU_mem   box_loss  pose_loss  kobj_loss   cls_loss   dfl_loss  Instances       Size\n"
          ]
        },
        {
          "output_type": "stream",
          "name": "stderr",
          "text": [
            "      6/100      2.46G      0.923       2.87     0.3197     0.8183      1.149         45        640: 100%|██████████| 5/5 [00:01<00:00,  4.78it/s]\n",
            "                 Class     Images  Instances      Box(P          R      mAP50  mAP50-95)     Pose(P          R      mAP50  mAP50-95): 100%|██████████| 1/1 [00:00<00:00,  4.37it/s]"
          ]
        },
        {
          "output_type": "stream",
          "name": "stdout",
          "text": [
            "                   all         18         65      0.955      0.754      0.878      0.665      0.957      0.708      0.822      0.489\n"
          ]
        },
        {
          "output_type": "stream",
          "name": "stderr",
          "text": [
            "\n"
          ]
        },
        {
          "output_type": "stream",
          "name": "stdout",
          "text": [
            "\n",
            "      Epoch    GPU_mem   box_loss  pose_loss  kobj_loss   cls_loss   dfl_loss  Instances       Size\n"
          ]
        },
        {
          "output_type": "stream",
          "name": "stderr",
          "text": [
            "      7/100       2.4G     0.9029      3.153     0.3156     0.7823      1.129         29        640: 100%|██████████| 5/5 [00:01<00:00,  3.18it/s]\n",
            "                 Class     Images  Instances      Box(P          R      mAP50  mAP50-95)     Pose(P          R      mAP50  mAP50-95): 100%|██████████| 1/1 [00:00<00:00,  2.19it/s]"
          ]
        },
        {
          "output_type": "stream",
          "name": "stdout",
          "text": [
            "                   all         18         65      0.858      0.742      0.838       0.62      0.848      0.754      0.794      0.438\n"
          ]
        },
        {
          "output_type": "stream",
          "name": "stderr",
          "text": [
            "\n"
          ]
        },
        {
          "output_type": "stream",
          "name": "stdout",
          "text": [
            "\n",
            "      Epoch    GPU_mem   box_loss  pose_loss  kobj_loss   cls_loss   dfl_loss  Instances       Size\n"
          ]
        },
        {
          "output_type": "stream",
          "name": "stderr",
          "text": [
            "      8/100      2.46G     0.8844      2.917     0.3174     0.7915      1.129         47        640: 100%|██████████| 5/5 [00:01<00:00,  3.08it/s]\n",
            "                 Class     Images  Instances      Box(P          R      mAP50  mAP50-95)     Pose(P          R      mAP50  mAP50-95): 100%|██████████| 1/1 [00:00<00:00,  2.01it/s]"
          ]
        },
        {
          "output_type": "stream",
          "name": "stdout",
          "text": [
            "                   all         18         65      0.923      0.754      0.838      0.609      0.866      0.708      0.754      0.402\n"
          ]
        },
        {
          "output_type": "stream",
          "name": "stderr",
          "text": [
            "\n"
          ]
        },
        {
          "output_type": "stream",
          "name": "stdout",
          "text": [
            "\n",
            "      Epoch    GPU_mem   box_loss  pose_loss  kobj_loss   cls_loss   dfl_loss  Instances       Size\n"
          ]
        },
        {
          "output_type": "stream",
          "name": "stderr",
          "text": [
            "      9/100      2.37G     0.9756      3.376     0.3095     0.8316      1.173         32        640: 100%|██████████| 5/5 [00:01<00:00,  3.10it/s]\n",
            "                 Class     Images  Instances      Box(P          R      mAP50  mAP50-95)     Pose(P          R      mAP50  mAP50-95): 100%|██████████| 1/1 [00:00<00:00,  1.91it/s]"
          ]
        },
        {
          "output_type": "stream",
          "name": "stdout",
          "text": [
            "                   all         18         65      0.921      0.785       0.83      0.594      0.813      0.692      0.696      0.321\n"
          ]
        },
        {
          "output_type": "stream",
          "name": "stderr",
          "text": [
            "\n"
          ]
        },
        {
          "output_type": "stream",
          "name": "stdout",
          "text": [
            "\n",
            "      Epoch    GPU_mem   box_loss  pose_loss  kobj_loss   cls_loss   dfl_loss  Instances       Size\n"
          ]
        },
        {
          "output_type": "stream",
          "name": "stderr",
          "text": [
            "     10/100      2.43G     0.9421      3.096      0.332     0.7814      1.155         31        640: 100%|██████████| 5/5 [00:01<00:00,  4.98it/s]\n",
            "                 Class     Images  Instances      Box(P          R      mAP50  mAP50-95)     Pose(P          R      mAP50  mAP50-95): 100%|██████████| 1/1 [00:00<00:00,  3.06it/s]"
          ]
        },
        {
          "output_type": "stream",
          "name": "stdout",
          "text": [
            "                   all         18         65      0.849      0.777      0.818      0.582       0.78      0.631      0.658      0.317\n"
          ]
        },
        {
          "output_type": "stream",
          "name": "stderr",
          "text": [
            "\n"
          ]
        },
        {
          "output_type": "stream",
          "name": "stdout",
          "text": [
            "\n",
            "      Epoch    GPU_mem   box_loss  pose_loss  kobj_loss   cls_loss   dfl_loss  Instances       Size\n"
          ]
        },
        {
          "output_type": "stream",
          "name": "stderr",
          "text": [
            "     11/100      2.43G     0.9642       3.44     0.3219      0.831      1.151         63        640: 100%|██████████| 5/5 [00:01<00:00,  4.78it/s]\n",
            "                 Class     Images  Instances      Box(P          R      mAP50  mAP50-95)     Pose(P          R      mAP50  mAP50-95): 100%|██████████| 1/1 [00:00<00:00,  3.96it/s]"
          ]
        },
        {
          "output_type": "stream",
          "name": "stdout",
          "text": [
            "                   all         18         65      0.743      0.692      0.753      0.533      0.623      0.635      0.615      0.273\n"
          ]
        },
        {
          "output_type": "stream",
          "name": "stderr",
          "text": [
            "\n"
          ]
        },
        {
          "output_type": "stream",
          "name": "stdout",
          "text": [
            "\n",
            "      Epoch    GPU_mem   box_loss  pose_loss  kobj_loss   cls_loss   dfl_loss  Instances       Size\n"
          ]
        },
        {
          "output_type": "stream",
          "name": "stderr",
          "text": [
            "     12/100       2.4G     0.9587      3.255      0.328     0.8043      1.155         43        640: 100%|██████████| 5/5 [00:01<00:00,  4.87it/s]\n",
            "                 Class     Images  Instances      Box(P          R      mAP50  mAP50-95)     Pose(P          R      mAP50  mAP50-95): 100%|██████████| 1/1 [00:00<00:00,  3.70it/s]"
          ]
        },
        {
          "output_type": "stream",
          "name": "stdout",
          "text": [
            "                   all         18         65      0.808      0.738       0.75      0.526      0.607      0.554        0.5      0.242\n"
          ]
        },
        {
          "output_type": "stream",
          "name": "stderr",
          "text": [
            "\n"
          ]
        },
        {
          "output_type": "stream",
          "name": "stdout",
          "text": [
            "\n",
            "      Epoch    GPU_mem   box_loss  pose_loss  kobj_loss   cls_loss   dfl_loss  Instances       Size\n"
          ]
        },
        {
          "output_type": "stream",
          "name": "stderr",
          "text": [
            "     13/100      2.49G     0.9325      3.545     0.3296     0.8363      1.133         17        640: 100%|██████████| 5/5 [00:01<00:00,  4.90it/s]\n",
            "                 Class     Images  Instances      Box(P          R      mAP50  mAP50-95)     Pose(P          R      mAP50  mAP50-95): 100%|██████████| 1/1 [00:00<00:00,  4.52it/s]"
          ]
        },
        {
          "output_type": "stream",
          "name": "stdout",
          "text": [
            "                   all         18         65      0.773      0.738      0.775      0.553      0.699      0.571       0.58      0.253\n"
          ]
        },
        {
          "output_type": "stream",
          "name": "stderr",
          "text": [
            "\n"
          ]
        },
        {
          "output_type": "stream",
          "name": "stdout",
          "text": [
            "\n",
            "      Epoch    GPU_mem   box_loss  pose_loss  kobj_loss   cls_loss   dfl_loss  Instances       Size\n"
          ]
        },
        {
          "output_type": "stream",
          "name": "stderr",
          "text": [
            "     14/100      2.36G     0.9721      3.374     0.3255     0.8487      1.152         22        640: 100%|██████████| 5/5 [00:01<00:00,  4.94it/s]\n",
            "                 Class     Images  Instances      Box(P          R      mAP50  mAP50-95)     Pose(P          R      mAP50  mAP50-95): 100%|██████████| 1/1 [00:00<00:00,  3.71it/s]"
          ]
        },
        {
          "output_type": "stream",
          "name": "stdout",
          "text": [
            "                   all         18         65      0.803      0.626      0.755      0.535      0.806      0.512      0.567      0.246\n"
          ]
        },
        {
          "output_type": "stream",
          "name": "stderr",
          "text": [
            "\n"
          ]
        },
        {
          "output_type": "stream",
          "name": "stdout",
          "text": [
            "\n",
            "      Epoch    GPU_mem   box_loss  pose_loss  kobj_loss   cls_loss   dfl_loss  Instances       Size\n"
          ]
        },
        {
          "output_type": "stream",
          "name": "stderr",
          "text": [
            "     15/100      2.48G     0.9517      3.337      0.321     0.7875      1.143         33        640: 100%|██████████| 5/5 [00:01<00:00,  3.39it/s]\n",
            "                 Class     Images  Instances      Box(P          R      mAP50  mAP50-95)     Pose(P          R      mAP50  mAP50-95): 100%|██████████| 1/1 [00:00<00:00,  2.74it/s]"
          ]
        },
        {
          "output_type": "stream",
          "name": "stdout",
          "text": [
            "                   all         18         65      0.756      0.569      0.666      0.457      0.651      0.477      0.485      0.169\n"
          ]
        },
        {
          "output_type": "stream",
          "name": "stderr",
          "text": [
            "\n"
          ]
        },
        {
          "output_type": "stream",
          "name": "stdout",
          "text": [
            "\n",
            "      Epoch    GPU_mem   box_loss  pose_loss  kobj_loss   cls_loss   dfl_loss  Instances       Size\n"
          ]
        },
        {
          "output_type": "stream",
          "name": "stderr",
          "text": [
            "     16/100      2.49G     0.9807       3.45     0.3358     0.8011      1.193         22        640: 100%|██████████| 5/5 [00:01<00:00,  3.08it/s]\n",
            "                 Class     Images  Instances      Box(P          R      mAP50  mAP50-95)     Pose(P          R      mAP50  mAP50-95): 100%|██████████| 1/1 [00:00<00:00,  2.28it/s]"
          ]
        },
        {
          "output_type": "stream",
          "name": "stdout",
          "text": [
            "                   all         18         65      0.663      0.515      0.526      0.336      0.547      0.415      0.324      0.127\n"
          ]
        },
        {
          "output_type": "stream",
          "name": "stderr",
          "text": [
            "\n"
          ]
        },
        {
          "output_type": "stream",
          "name": "stdout",
          "text": [
            "\n",
            "      Epoch    GPU_mem   box_loss  pose_loss  kobj_loss   cls_loss   dfl_loss  Instances       Size\n"
          ]
        },
        {
          "output_type": "stream",
          "name": "stderr",
          "text": [
            "     17/100      2.46G      1.017      3.561     0.3435     0.8748      1.158         42        640: 100%|██████████| 5/5 [00:01<00:00,  3.12it/s]\n",
            "                 Class     Images  Instances      Box(P          R      mAP50  mAP50-95)     Pose(P          R      mAP50  mAP50-95): 100%|██████████| 1/1 [00:00<00:00,  1.85it/s]"
          ]
        },
        {
          "output_type": "stream",
          "name": "stdout",
          "text": [
            "                   all         18         65      0.507      0.477      0.453       0.28      0.388      0.338      0.255     0.0923\n"
          ]
        },
        {
          "output_type": "stream",
          "name": "stderr",
          "text": [
            "\n"
          ]
        },
        {
          "output_type": "stream",
          "name": "stdout",
          "text": [
            "\n",
            "      Epoch    GPU_mem   box_loss  pose_loss  kobj_loss   cls_loss   dfl_loss  Instances       Size\n"
          ]
        },
        {
          "output_type": "stream",
          "name": "stderr",
          "text": [
            "     18/100      2.42G     0.9881      3.545     0.3295     0.8649      1.159         41        640: 100%|██████████| 5/5 [00:01<00:00,  4.59it/s]\n",
            "                 Class     Images  Instances      Box(P          R      mAP50  mAP50-95)     Pose(P          R      mAP50  mAP50-95): 100%|██████████| 1/1 [00:00<00:00,  4.54it/s]"
          ]
        },
        {
          "output_type": "stream",
          "name": "stdout",
          "text": [
            "                   all         18         65       0.53      0.538      0.501      0.326      0.575      0.323      0.323      0.142\n"
          ]
        },
        {
          "output_type": "stream",
          "name": "stderr",
          "text": [
            "\n"
          ]
        },
        {
          "output_type": "stream",
          "name": "stdout",
          "text": [
            "\n",
            "      Epoch    GPU_mem   box_loss  pose_loss  kobj_loss   cls_loss   dfl_loss  Instances       Size\n"
          ]
        },
        {
          "output_type": "stream",
          "name": "stderr",
          "text": [
            "     19/100      2.49G     0.9803      3.696     0.3493     0.8377      1.186         28        640: 100%|██████████| 5/5 [00:00<00:00,  5.03it/s]\n",
            "                 Class     Images  Instances      Box(P          R      mAP50  mAP50-95)     Pose(P          R      mAP50  mAP50-95): 100%|██████████| 1/1 [00:00<00:00,  3.63it/s]"
          ]
        },
        {
          "output_type": "stream",
          "name": "stdout",
          "text": [
            "                   all         18         65      0.701      0.554      0.618      0.395       0.64      0.323      0.363      0.144\n"
          ]
        },
        {
          "output_type": "stream",
          "name": "stderr",
          "text": [
            "\n"
          ]
        },
        {
          "output_type": "stream",
          "name": "stdout",
          "text": [
            "\n",
            "      Epoch    GPU_mem   box_loss  pose_loss  kobj_loss   cls_loss   dfl_loss  Instances       Size\n"
          ]
        },
        {
          "output_type": "stream",
          "name": "stderr",
          "text": [
            "     20/100      2.48G     0.9357      3.495     0.3314     0.8104      1.146         23        640: 100%|██████████| 5/5 [00:01<00:00,  4.26it/s]\n",
            "                 Class     Images  Instances      Box(P          R      mAP50  mAP50-95)     Pose(P          R      mAP50  mAP50-95): 100%|██████████| 1/1 [00:00<00:00,  5.72it/s]"
          ]
        },
        {
          "output_type": "stream",
          "name": "stdout",
          "text": [
            "                   all         18         65      0.785      0.585       0.69      0.481      0.755      0.474      0.505      0.221\n"
          ]
        },
        {
          "output_type": "stream",
          "name": "stderr",
          "text": [
            "\n"
          ]
        },
        {
          "output_type": "stream",
          "name": "stdout",
          "text": [
            "\n",
            "      Epoch    GPU_mem   box_loss  pose_loss  kobj_loss   cls_loss   dfl_loss  Instances       Size\n"
          ]
        },
        {
          "output_type": "stream",
          "name": "stderr",
          "text": [
            "     21/100       2.5G      1.013      3.782     0.3431     0.8891      1.251         10        640: 100%|██████████| 5/5 [00:01<00:00,  4.93it/s]\n",
            "                 Class     Images  Instances      Box(P          R      mAP50  mAP50-95)     Pose(P          R      mAP50  mAP50-95): 100%|██████████| 1/1 [00:00<00:00,  3.48it/s]"
          ]
        },
        {
          "output_type": "stream",
          "name": "stdout",
          "text": [
            "                   all         18         65      0.763      0.646      0.734      0.511      0.622      0.462      0.411      0.178\n"
          ]
        },
        {
          "output_type": "stream",
          "name": "stderr",
          "text": [
            "\n"
          ]
        },
        {
          "output_type": "stream",
          "name": "stdout",
          "text": [
            "\n",
            "      Epoch    GPU_mem   box_loss  pose_loss  kobj_loss   cls_loss   dfl_loss  Instances       Size\n"
          ]
        },
        {
          "output_type": "stream",
          "name": "stderr",
          "text": [
            "     22/100      2.47G     0.9823       3.54      0.344     0.8221      1.171         38        640: 100%|██████████| 5/5 [00:01<00:00,  4.84it/s]\n",
            "                 Class     Images  Instances      Box(P          R      mAP50  mAP50-95)     Pose(P          R      mAP50  mAP50-95): 100%|██████████| 1/1 [00:00<00:00,  3.75it/s]"
          ]
        },
        {
          "output_type": "stream",
          "name": "stdout",
          "text": [
            "                   all         18         65      0.729      0.708      0.732      0.473      0.572      0.534      0.471      0.202\n"
          ]
        },
        {
          "output_type": "stream",
          "name": "stderr",
          "text": [
            "\n"
          ]
        },
        {
          "output_type": "stream",
          "name": "stdout",
          "text": [
            "\n",
            "      Epoch    GPU_mem   box_loss  pose_loss  kobj_loss   cls_loss   dfl_loss  Instances       Size\n"
          ]
        },
        {
          "output_type": "stream",
          "name": "stderr",
          "text": [
            "     23/100      2.46G       0.95      3.324     0.3258     0.7937      1.146         51        640: 100%|██████████| 5/5 [00:01<00:00,  3.36it/s]\n",
            "                 Class     Images  Instances      Box(P          R      mAP50  mAP50-95)     Pose(P          R      mAP50  mAP50-95): 100%|██████████| 1/1 [00:00<00:00,  2.59it/s]"
          ]
        },
        {
          "output_type": "stream",
          "name": "stdout",
          "text": [
            "                   all         18         65       0.75      0.738       0.77      0.484      0.664      0.538      0.524       0.18\n"
          ]
        },
        {
          "output_type": "stream",
          "name": "stderr",
          "text": [
            "\n"
          ]
        },
        {
          "output_type": "stream",
          "name": "stdout",
          "text": [
            "\n",
            "      Epoch    GPU_mem   box_loss  pose_loss  kobj_loss   cls_loss   dfl_loss  Instances       Size\n"
          ]
        },
        {
          "output_type": "stream",
          "name": "stderr",
          "text": [
            "     24/100      2.46G     0.9492      3.476     0.3289     0.8675      1.175         16        640: 100%|██████████| 5/5 [00:01<00:00,  3.35it/s]\n",
            "                 Class     Images  Instances      Box(P          R      mAP50  mAP50-95)     Pose(P          R      mAP50  mAP50-95): 100%|██████████| 1/1 [00:00<00:00,  2.19it/s]"
          ]
        },
        {
          "output_type": "stream",
          "name": "stdout",
          "text": [
            "                   all         18         65      0.839       0.64      0.734      0.458       0.62      0.477      0.362       0.13\n"
          ]
        },
        {
          "output_type": "stream",
          "name": "stderr",
          "text": [
            "\n"
          ]
        },
        {
          "output_type": "stream",
          "name": "stdout",
          "text": [
            "\n",
            "      Epoch    GPU_mem   box_loss  pose_loss  kobj_loss   cls_loss   dfl_loss  Instances       Size\n"
          ]
        },
        {
          "output_type": "stream",
          "name": "stderr",
          "text": [
            "     25/100      2.43G     0.9615       3.44     0.3401      0.805      1.132         31        640: 100%|██████████| 5/5 [00:01<00:00,  3.09it/s]\n",
            "                 Class     Images  Instances      Box(P          R      mAP50  mAP50-95)     Pose(P          R      mAP50  mAP50-95): 100%|██████████| 1/1 [00:00<00:00,  1.83it/s]"
          ]
        },
        {
          "output_type": "stream",
          "name": "stdout",
          "text": [
            "                   all         18         65      0.794      0.631      0.706      0.434      0.621      0.492      0.385      0.108\n"
          ]
        },
        {
          "output_type": "stream",
          "name": "stderr",
          "text": [
            "\n"
          ]
        },
        {
          "output_type": "stream",
          "name": "stdout",
          "text": [
            "\n",
            "      Epoch    GPU_mem   box_loss  pose_loss  kobj_loss   cls_loss   dfl_loss  Instances       Size\n"
          ]
        },
        {
          "output_type": "stream",
          "name": "stderr",
          "text": [
            "     26/100       2.4G     0.9538      3.298     0.3323     0.7878      1.128         34        640: 100%|██████████| 5/5 [00:01<00:00,  4.33it/s]\n",
            "                 Class     Images  Instances      Box(P          R      mAP50  mAP50-95)     Pose(P          R      mAP50  mAP50-95): 100%|██████████| 1/1 [00:00<00:00,  4.05it/s]"
          ]
        },
        {
          "output_type": "stream",
          "name": "stdout",
          "text": [
            "                   all         18         65      0.776      0.569       0.69      0.399      0.566      0.421      0.302        0.1\n"
          ]
        },
        {
          "output_type": "stream",
          "name": "stderr",
          "text": [
            "\n"
          ]
        },
        {
          "output_type": "stream",
          "name": "stdout",
          "text": [
            "\n",
            "      Epoch    GPU_mem   box_loss  pose_loss  kobj_loss   cls_loss   dfl_loss  Instances       Size\n"
          ]
        },
        {
          "output_type": "stream",
          "name": "stderr",
          "text": [
            "     27/100      2.49G     0.9427      3.292     0.3348     0.7857      1.152         25        640: 100%|██████████| 5/5 [00:00<00:00,  5.14it/s]\n",
            "                 Class     Images  Instances      Box(P          R      mAP50  mAP50-95)     Pose(P          R      mAP50  mAP50-95): 100%|██████████| 1/1 [00:00<00:00,  3.43it/s]"
          ]
        },
        {
          "output_type": "stream",
          "name": "stdout",
          "text": [
            "                   all         18         65      0.777      0.585      0.665      0.405      0.551      0.415      0.275     0.0972\n"
          ]
        },
        {
          "output_type": "stream",
          "name": "stderr",
          "text": [
            "\n"
          ]
        },
        {
          "output_type": "stream",
          "name": "stdout",
          "text": [
            "\n",
            "      Epoch    GPU_mem   box_loss  pose_loss  kobj_loss   cls_loss   dfl_loss  Instances       Size\n"
          ]
        },
        {
          "output_type": "stream",
          "name": "stderr",
          "text": [
            "     28/100      2.46G     0.9666       3.57      0.355     0.8029      1.158         42        640: 100%|██████████| 5/5 [00:01<00:00,  4.67it/s]\n",
            "                 Class     Images  Instances      Box(P          R      mAP50  mAP50-95)     Pose(P          R      mAP50  mAP50-95): 100%|██████████| 1/1 [00:00<00:00,  4.17it/s]"
          ]
        },
        {
          "output_type": "stream",
          "name": "stdout",
          "text": [
            "                   all         18         65      0.808      0.585      0.659      0.389      0.571      0.415       0.38      0.119\n"
          ]
        },
        {
          "output_type": "stream",
          "name": "stderr",
          "text": [
            "\n"
          ]
        },
        {
          "output_type": "stream",
          "name": "stdout",
          "text": [
            "\n",
            "      Epoch    GPU_mem   box_loss  pose_loss  kobj_loss   cls_loss   dfl_loss  Instances       Size\n"
          ]
        },
        {
          "output_type": "stream",
          "name": "stderr",
          "text": [
            "     29/100      2.49G     0.9661      3.436     0.3316     0.8034      1.216         19        640: 100%|██████████| 5/5 [00:01<00:00,  4.33it/s]\n",
            "                 Class     Images  Instances      Box(P          R      mAP50  mAP50-95)     Pose(P          R      mAP50  mAP50-95): 100%|██████████| 1/1 [00:00<00:00,  3.96it/s]"
          ]
        },
        {
          "output_type": "stream",
          "name": "stdout",
          "text": [
            "                   all         18         65      0.772      0.626      0.675      0.437      0.538      0.431      0.369      0.118\n"
          ]
        },
        {
          "output_type": "stream",
          "name": "stderr",
          "text": [
            "\n"
          ]
        },
        {
          "output_type": "stream",
          "name": "stdout",
          "text": [
            "\n",
            "      Epoch    GPU_mem   box_loss  pose_loss  kobj_loss   cls_loss   dfl_loss  Instances       Size\n"
          ]
        },
        {
          "output_type": "stream",
          "name": "stderr",
          "text": [
            "     30/100      2.41G     0.8984      3.119     0.3198     0.7515      1.129         25        640: 100%|██████████| 5/5 [00:00<00:00,  5.59it/s]\n",
            "                 Class     Images  Instances      Box(P          R      mAP50  mAP50-95)     Pose(P          R      mAP50  mAP50-95): 100%|██████████| 1/1 [00:00<00:00,  2.72it/s]"
          ]
        },
        {
          "output_type": "stream",
          "name": "stdout",
          "text": [
            "                   all         18         65      0.835      0.703      0.767      0.472      0.617       0.52      0.489      0.162\n"
          ]
        },
        {
          "output_type": "stream",
          "name": "stderr",
          "text": [
            "\n"
          ]
        },
        {
          "output_type": "stream",
          "name": "stdout",
          "text": [
            "\n",
            "      Epoch    GPU_mem   box_loss  pose_loss  kobj_loss   cls_loss   dfl_loss  Instances       Size\n"
          ]
        },
        {
          "output_type": "stream",
          "name": "stderr",
          "text": [
            "     31/100      2.47G     0.8938      3.036     0.3177     0.7543      1.107         17        640: 100%|██████████| 5/5 [00:01<00:00,  3.88it/s]\n",
            "                 Class     Images  Instances      Box(P          R      mAP50  mAP50-95)     Pose(P          R      mAP50  mAP50-95): 100%|██████████| 1/1 [00:00<00:00,  2.22it/s]"
          ]
        },
        {
          "output_type": "stream",
          "name": "stdout",
          "text": [
            "                   all         18         65      0.819      0.754      0.779      0.488      0.708        0.6      0.584      0.218\n"
          ]
        },
        {
          "output_type": "stream",
          "name": "stderr",
          "text": [
            "\n"
          ]
        },
        {
          "output_type": "stream",
          "name": "stdout",
          "text": [
            "\n",
            "      Epoch    GPU_mem   box_loss  pose_loss  kobj_loss   cls_loss   dfl_loss  Instances       Size\n"
          ]
        },
        {
          "output_type": "stream",
          "name": "stderr",
          "text": [
            "     32/100      2.49G     0.8861      3.223     0.3198     0.7392      1.107         20        640: 100%|██████████| 5/5 [00:01<00:00,  3.20it/s]\n",
            "                 Class     Images  Instances      Box(P          R      mAP50  mAP50-95)     Pose(P          R      mAP50  mAP50-95): 100%|██████████| 1/1 [00:00<00:00,  1.71it/s]"
          ]
        },
        {
          "output_type": "stream",
          "name": "stdout",
          "text": [
            "                   all         18         65      0.805      0.762      0.796      0.514      0.828      0.569      0.588      0.237\n"
          ]
        },
        {
          "output_type": "stream",
          "name": "stderr",
          "text": [
            "\n"
          ]
        },
        {
          "output_type": "stream",
          "name": "stdout",
          "text": [
            "\n",
            "      Epoch    GPU_mem   box_loss  pose_loss  kobj_loss   cls_loss   dfl_loss  Instances       Size\n"
          ]
        },
        {
          "output_type": "stream",
          "name": "stderr",
          "text": [
            "     33/100      2.47G     0.9528      2.992     0.3042     0.7336      1.141         37        640: 100%|██████████| 5/5 [00:01<00:00,  3.12it/s]\n",
            "                 Class     Images  Instances      Box(P          R      mAP50  mAP50-95)     Pose(P          R      mAP50  mAP50-95): 100%|██████████| 1/1 [00:00<00:00,  2.06it/s]"
          ]
        },
        {
          "output_type": "stream",
          "name": "stdout",
          "text": [
            "                   all         18         65      0.949      0.723      0.825      0.512      0.846      0.646      0.671      0.233\n"
          ]
        },
        {
          "output_type": "stream",
          "name": "stderr",
          "text": [
            "\n"
          ]
        },
        {
          "output_type": "stream",
          "name": "stdout",
          "text": [
            "\n",
            "      Epoch    GPU_mem   box_loss  pose_loss  kobj_loss   cls_loss   dfl_loss  Instances       Size\n"
          ]
        },
        {
          "output_type": "stream",
          "name": "stderr",
          "text": [
            "     34/100       2.4G     0.8871      3.301     0.3294      0.722      1.123         26        640: 100%|██████████| 5/5 [00:01<00:00,  3.55it/s]\n",
            "                 Class     Images  Instances      Box(P          R      mAP50  mAP50-95)     Pose(P          R      mAP50  mAP50-95): 100%|██████████| 1/1 [00:00<00:00,  3.22it/s]"
          ]
        },
        {
          "output_type": "stream",
          "name": "stdout",
          "text": [
            "                   all         18         65      0.823      0.769        0.8      0.503      0.813      0.603      0.661      0.254\n"
          ]
        },
        {
          "output_type": "stream",
          "name": "stderr",
          "text": [
            "\n"
          ]
        },
        {
          "output_type": "stream",
          "name": "stdout",
          "text": [
            "\n",
            "      Epoch    GPU_mem   box_loss  pose_loss  kobj_loss   cls_loss   dfl_loss  Instances       Size\n"
          ]
        },
        {
          "output_type": "stream",
          "name": "stderr",
          "text": [
            "     35/100      2.48G     0.8973      2.983     0.3106     0.7177      1.106         25        640: 100%|██████████| 5/5 [00:01<00:00,  4.81it/s]\n",
            "                 Class     Images  Instances      Box(P          R      mAP50  mAP50-95)     Pose(P          R      mAP50  mAP50-95): 100%|██████████| 1/1 [00:00<00:00,  4.23it/s]"
          ]
        },
        {
          "output_type": "stream",
          "name": "stdout",
          "text": [
            "                   all         18         65      0.836      0.786      0.803      0.515      0.744      0.708      0.705      0.291\n"
          ]
        },
        {
          "output_type": "stream",
          "name": "stderr",
          "text": [
            "\n"
          ]
        },
        {
          "output_type": "stream",
          "name": "stdout",
          "text": [
            "\n",
            "      Epoch    GPU_mem   box_loss  pose_loss  kobj_loss   cls_loss   dfl_loss  Instances       Size\n"
          ]
        },
        {
          "output_type": "stream",
          "name": "stderr",
          "text": [
            "     36/100      2.43G     0.8695      2.899     0.3227     0.7545       1.16         23        640: 100%|██████████| 5/5 [00:01<00:00,  4.55it/s]\n",
            "                 Class     Images  Instances      Box(P          R      mAP50  mAP50-95)     Pose(P          R      mAP50  mAP50-95): 100%|██████████| 1/1 [00:00<00:00,  4.63it/s]"
          ]
        },
        {
          "output_type": "stream",
          "name": "stdout",
          "text": [
            "                   all         18         65       0.86      0.769      0.802      0.533      0.854      0.662      0.686      0.298\n"
          ]
        },
        {
          "output_type": "stream",
          "name": "stderr",
          "text": [
            "\n"
          ]
        },
        {
          "output_type": "stream",
          "name": "stdout",
          "text": [
            "\n",
            "      Epoch    GPU_mem   box_loss  pose_loss  kobj_loss   cls_loss   dfl_loss  Instances       Size\n"
          ]
        },
        {
          "output_type": "stream",
          "name": "stderr",
          "text": [
            "     37/100      2.47G      0.863      3.141     0.3073     0.6922      1.097         33        640: 100%|██████████| 5/5 [00:01<00:00,  4.71it/s]\n",
            "                 Class     Images  Instances      Box(P          R      mAP50  mAP50-95)     Pose(P          R      mAP50  mAP50-95): 100%|██████████| 1/1 [00:00<00:00,  4.66it/s]"
          ]
        },
        {
          "output_type": "stream",
          "name": "stdout",
          "text": [
            "                   all         18         65      0.802      0.831      0.826      0.536      0.783      0.667      0.675      0.332\n"
          ]
        },
        {
          "output_type": "stream",
          "name": "stderr",
          "text": [
            "\n"
          ]
        },
        {
          "output_type": "stream",
          "name": "stdout",
          "text": [
            "\n",
            "      Epoch    GPU_mem   box_loss  pose_loss  kobj_loss   cls_loss   dfl_loss  Instances       Size\n"
          ]
        },
        {
          "output_type": "stream",
          "name": "stderr",
          "text": [
            "     38/100      2.47G     0.8489      2.714     0.3018     0.7119      1.079         35        640: 100%|██████████| 5/5 [00:00<00:00,  5.22it/s]\n",
            "                 Class     Images  Instances      Box(P          R      mAP50  mAP50-95)     Pose(P          R      mAP50  mAP50-95): 100%|██████████| 1/1 [00:00<00:00,  3.34it/s]"
          ]
        },
        {
          "output_type": "stream",
          "name": "stdout",
          "text": [
            "                   all         18         65       0.84      0.815      0.853      0.562      0.816      0.662      0.707      0.331\n"
          ]
        },
        {
          "output_type": "stream",
          "name": "stderr",
          "text": [
            "\n"
          ]
        },
        {
          "output_type": "stream",
          "name": "stdout",
          "text": [
            "\n",
            "      Epoch    GPU_mem   box_loss  pose_loss  kobj_loss   cls_loss   dfl_loss  Instances       Size\n"
          ]
        },
        {
          "output_type": "stream",
          "name": "stderr",
          "text": [
            "     39/100      2.46G     0.8863      2.902     0.3056     0.6838      1.119         25        640: 100%|██████████| 5/5 [00:01<00:00,  4.47it/s]\n",
            "                 Class     Images  Instances      Box(P          R      mAP50  mAP50-95)     Pose(P          R      mAP50  mAP50-95): 100%|██████████| 1/1 [00:00<00:00,  2.48it/s]"
          ]
        },
        {
          "output_type": "stream",
          "name": "stdout",
          "text": [
            "                   all         18         65      0.927      0.778      0.846      0.603      0.872      0.734      0.748      0.307\n"
          ]
        },
        {
          "output_type": "stream",
          "name": "stderr",
          "text": [
            "\n"
          ]
        },
        {
          "output_type": "stream",
          "name": "stdout",
          "text": [
            "\n",
            "      Epoch    GPU_mem   box_loss  pose_loss  kobj_loss   cls_loss   dfl_loss  Instances       Size\n"
          ]
        },
        {
          "output_type": "stream",
          "name": "stderr",
          "text": [
            "     40/100      2.44G     0.8553      2.873     0.3193     0.6935      1.071         47        640: 100%|██████████| 5/5 [00:01<00:00,  3.41it/s]\n",
            "                 Class     Images  Instances      Box(P          R      mAP50  mAP50-95)     Pose(P          R      mAP50  mAP50-95): 100%|██████████| 1/1 [00:00<00:00,  2.26it/s]"
          ]
        },
        {
          "output_type": "stream",
          "name": "stdout",
          "text": [
            "                   all         18         65       0.85        0.8      0.845      0.592      0.827      0.662      0.693      0.284\n"
          ]
        },
        {
          "output_type": "stream",
          "name": "stderr",
          "text": [
            "\n"
          ]
        },
        {
          "output_type": "stream",
          "name": "stdout",
          "text": [
            "\n",
            "      Epoch    GPU_mem   box_loss  pose_loss  kobj_loss   cls_loss   dfl_loss  Instances       Size\n"
          ]
        },
        {
          "output_type": "stream",
          "name": "stderr",
          "text": [
            "     41/100      2.47G     0.8052      2.868     0.3045      0.678      1.062         48        640: 100%|██████████| 5/5 [00:01<00:00,  3.02it/s]\n",
            "                 Class     Images  Instances      Box(P          R      mAP50  mAP50-95)     Pose(P          R      mAP50  mAP50-95): 100%|██████████| 1/1 [00:00<00:00,  2.00it/s]"
          ]
        },
        {
          "output_type": "stream",
          "name": "stdout",
          "text": [
            "                   all         18         65      0.927      0.783      0.853      0.613      0.836      0.704      0.738      0.299\n"
          ]
        },
        {
          "output_type": "stream",
          "name": "stderr",
          "text": [
            "\n"
          ]
        },
        {
          "output_type": "stream",
          "name": "stdout",
          "text": [
            "\n",
            "      Epoch    GPU_mem   box_loss  pose_loss  kobj_loss   cls_loss   dfl_loss  Instances       Size\n"
          ]
        },
        {
          "output_type": "stream",
          "name": "stderr",
          "text": [
            "     42/100      2.47G     0.8221      2.864        0.3     0.7207      1.111         22        640: 100%|██████████| 5/5 [00:01<00:00,  3.87it/s]\n",
            "                 Class     Images  Instances      Box(P          R      mAP50  mAP50-95)     Pose(P          R      mAP50  mAP50-95): 100%|██████████| 1/1 [00:00<00:00,  3.77it/s]"
          ]
        },
        {
          "output_type": "stream",
          "name": "stdout",
          "text": [
            "                   all         18         65      0.894      0.769      0.845      0.606       0.84      0.723      0.726      0.324\n"
          ]
        },
        {
          "output_type": "stream",
          "name": "stderr",
          "text": [
            "\n"
          ]
        },
        {
          "output_type": "stream",
          "name": "stdout",
          "text": [
            "\n",
            "      Epoch    GPU_mem   box_loss  pose_loss  kobj_loss   cls_loss   dfl_loss  Instances       Size\n"
          ]
        },
        {
          "output_type": "stream",
          "name": "stderr",
          "text": [
            "     43/100      2.49G     0.8145      2.816     0.3137     0.6754      1.054         35        640: 100%|██████████| 5/5 [00:01<00:00,  4.90it/s]\n",
            "                 Class     Images  Instances      Box(P          R      mAP50  mAP50-95)     Pose(P          R      mAP50  mAP50-95): 100%|██████████| 1/1 [00:00<00:00,  4.78it/s]"
          ]
        },
        {
          "output_type": "stream",
          "name": "stdout",
          "text": [
            "                   all         18         65      0.848      0.769      0.819      0.598      0.784      0.708      0.683       0.31\n"
          ]
        },
        {
          "output_type": "stream",
          "name": "stderr",
          "text": [
            "\n"
          ]
        },
        {
          "output_type": "stream",
          "name": "stdout",
          "text": [
            "\n",
            "      Epoch    GPU_mem   box_loss  pose_loss  kobj_loss   cls_loss   dfl_loss  Instances       Size\n"
          ]
        },
        {
          "output_type": "stream",
          "name": "stderr",
          "text": [
            "     44/100      2.47G     0.8372      2.836     0.3038     0.6706      1.096         34        640: 100%|██████████| 5/5 [00:01<00:00,  4.68it/s]\n",
            "                 Class     Images  Instances      Box(P          R      mAP50  mAP50-95)     Pose(P          R      mAP50  mAP50-95): 100%|██████████| 1/1 [00:00<00:00,  4.56it/s]"
          ]
        },
        {
          "output_type": "stream",
          "name": "stdout",
          "text": [
            "                   all         18         65      0.763      0.738       0.78      0.559      0.747      0.723      0.713      0.364\n"
          ]
        },
        {
          "output_type": "stream",
          "name": "stderr",
          "text": [
            "\n"
          ]
        },
        {
          "output_type": "stream",
          "name": "stdout",
          "text": [
            "\n",
            "      Epoch    GPU_mem   box_loss  pose_loss  kobj_loss   cls_loss   dfl_loss  Instances       Size\n"
          ]
        },
        {
          "output_type": "stream",
          "name": "stderr",
          "text": [
            "     45/100      2.46G      0.817      2.658     0.2755     0.7251      1.099         13        640: 100%|██████████| 5/5 [00:01<00:00,  4.78it/s]\n",
            "                 Class     Images  Instances      Box(P          R      mAP50  mAP50-95)     Pose(P          R      mAP50  mAP50-95): 100%|██████████| 1/1 [00:00<00:00,  4.01it/s]"
          ]
        },
        {
          "output_type": "stream",
          "name": "stdout",
          "text": [
            "                   all         18         65      0.839      0.708      0.775      0.541      0.714      0.708      0.692      0.344\n"
          ]
        },
        {
          "output_type": "stream",
          "name": "stderr",
          "text": [
            "\n"
          ]
        },
        {
          "output_type": "stream",
          "name": "stdout",
          "text": [
            "\n",
            "      Epoch    GPU_mem   box_loss  pose_loss  kobj_loss   cls_loss   dfl_loss  Instances       Size\n"
          ]
        },
        {
          "output_type": "stream",
          "name": "stderr",
          "text": [
            "     46/100       2.4G     0.8404       2.95     0.2945     0.7063      1.086         22        640: 100%|██████████| 5/5 [00:01<00:00,  4.83it/s]\n",
            "                 Class     Images  Instances      Box(P          R      mAP50  mAP50-95)     Pose(P          R      mAP50  mAP50-95): 100%|██████████| 1/1 [00:00<00:00,  4.15it/s]"
          ]
        },
        {
          "output_type": "stream",
          "name": "stdout",
          "text": [
            "                   all         18         65      0.798       0.73      0.787      0.551      0.749      0.688      0.685      0.336\n"
          ]
        },
        {
          "output_type": "stream",
          "name": "stderr",
          "text": [
            "\n"
          ]
        },
        {
          "output_type": "stream",
          "name": "stdout",
          "text": [
            "\n",
            "      Epoch    GPU_mem   box_loss  pose_loss  kobj_loss   cls_loss   dfl_loss  Instances       Size\n"
          ]
        },
        {
          "output_type": "stream",
          "name": "stderr",
          "text": [
            "     47/100      2.47G     0.8368      2.696     0.2958     0.6832      1.062         62        640: 100%|██████████| 5/5 [00:01<00:00,  4.52it/s]\n",
            "                 Class     Images  Instances      Box(P          R      mAP50  mAP50-95)     Pose(P          R      mAP50  mAP50-95): 100%|██████████| 1/1 [00:00<00:00,  2.66it/s]"
          ]
        },
        {
          "output_type": "stream",
          "name": "stdout",
          "text": [
            "                   all         18         65      0.823      0.714      0.789      0.559      0.799      0.692      0.722      0.344\n"
          ]
        },
        {
          "output_type": "stream",
          "name": "stderr",
          "text": [
            "\n"
          ]
        },
        {
          "output_type": "stream",
          "name": "stdout",
          "text": [
            "\n",
            "      Epoch    GPU_mem   box_loss  pose_loss  kobj_loss   cls_loss   dfl_loss  Instances       Size\n"
          ]
        },
        {
          "output_type": "stream",
          "name": "stderr",
          "text": [
            "     48/100      2.46G     0.8241      2.706     0.3073     0.7223      1.099         53        640: 100%|██████████| 5/5 [00:01<00:00,  3.39it/s]\n",
            "                 Class     Images  Instances      Box(P          R      mAP50  mAP50-95)     Pose(P          R      mAP50  mAP50-95): 100%|██████████| 1/1 [00:00<00:00,  2.70it/s]"
          ]
        },
        {
          "output_type": "stream",
          "name": "stdout",
          "text": [
            "                   all         18         65       0.88      0.723      0.822      0.585      0.888      0.729      0.799        0.4\n"
          ]
        },
        {
          "output_type": "stream",
          "name": "stderr",
          "text": [
            "\n"
          ]
        },
        {
          "output_type": "stream",
          "name": "stdout",
          "text": [
            "\n",
            "      Epoch    GPU_mem   box_loss  pose_loss  kobj_loss   cls_loss   dfl_loss  Instances       Size\n"
          ]
        },
        {
          "output_type": "stream",
          "name": "stderr",
          "text": [
            "     49/100      2.46G     0.8195      2.845     0.3016     0.7117      1.081         46        640: 100%|██████████| 5/5 [00:01<00:00,  3.35it/s]\n",
            "                 Class     Images  Instances      Box(P          R      mAP50  mAP50-95)     Pose(P          R      mAP50  mAP50-95): 100%|██████████| 1/1 [00:00<00:00,  1.84it/s]"
          ]
        },
        {
          "output_type": "stream",
          "name": "stdout",
          "text": [
            "                   all         18         65      0.867      0.738      0.829      0.596      0.767      0.723      0.734      0.408\n"
          ]
        },
        {
          "output_type": "stream",
          "name": "stderr",
          "text": [
            "\n"
          ]
        },
        {
          "output_type": "stream",
          "name": "stdout",
          "text": [
            "\n",
            "      Epoch    GPU_mem   box_loss  pose_loss  kobj_loss   cls_loss   dfl_loss  Instances       Size\n"
          ]
        },
        {
          "output_type": "stream",
          "name": "stderr",
          "text": [
            "     50/100      2.41G     0.7848      2.715     0.2729     0.6442      1.042         27        640: 100%|██████████| 5/5 [00:01<00:00,  3.28it/s]\n",
            "                 Class     Images  Instances      Box(P          R      mAP50  mAP50-95)     Pose(P          R      mAP50  mAP50-95): 100%|██████████| 1/1 [00:00<00:00,  2.73it/s]"
          ]
        },
        {
          "output_type": "stream",
          "name": "stdout",
          "text": [
            "                   all         18         65      0.886      0.754      0.834      0.578      0.928      0.677      0.737      0.397\n"
          ]
        },
        {
          "output_type": "stream",
          "name": "stderr",
          "text": [
            "\n"
          ]
        },
        {
          "output_type": "stream",
          "name": "stdout",
          "text": [
            "\n",
            "      Epoch    GPU_mem   box_loss  pose_loss  kobj_loss   cls_loss   dfl_loss  Instances       Size\n"
          ]
        },
        {
          "output_type": "stream",
          "name": "stderr",
          "text": [
            "     51/100      2.47G     0.8163      2.695     0.3029     0.6629      1.095         33        640: 100%|██████████| 5/5 [00:01<00:00,  4.92it/s]\n",
            "                 Class     Images  Instances      Box(P          R      mAP50  mAP50-95)     Pose(P          R      mAP50  mAP50-95): 100%|██████████| 1/1 [00:00<00:00,  4.39it/s]"
          ]
        },
        {
          "output_type": "stream",
          "name": "stdout",
          "text": [
            "                   all         18         65      0.904      0.724      0.826      0.563      0.857      0.615      0.695      0.382\n"
          ]
        },
        {
          "output_type": "stream",
          "name": "stderr",
          "text": [
            "\n"
          ]
        },
        {
          "output_type": "stream",
          "name": "stdout",
          "text": [
            "\n",
            "      Epoch    GPU_mem   box_loss  pose_loss  kobj_loss   cls_loss   dfl_loss  Instances       Size\n"
          ]
        },
        {
          "output_type": "stream",
          "name": "stderr",
          "text": [
            "     52/100      2.49G      0.803      2.576     0.2813     0.6797      1.066         24        640: 100%|██████████| 5/5 [00:01<00:00,  4.62it/s]\n",
            "                 Class     Images  Instances      Box(P          R      mAP50  mAP50-95)     Pose(P          R      mAP50  mAP50-95): 100%|██████████| 1/1 [00:00<00:00,  4.60it/s]"
          ]
        },
        {
          "output_type": "stream",
          "name": "stdout",
          "text": [
            "                   all         18         65      0.959      0.723      0.815      0.572      0.876      0.662      0.724      0.382\n"
          ]
        },
        {
          "output_type": "stream",
          "name": "stderr",
          "text": [
            "\n"
          ]
        },
        {
          "output_type": "stream",
          "name": "stdout",
          "text": [
            "\n",
            "      Epoch    GPU_mem   box_loss  pose_loss  kobj_loss   cls_loss   dfl_loss  Instances       Size\n"
          ]
        },
        {
          "output_type": "stream",
          "name": "stderr",
          "text": [
            "     53/100      2.48G     0.7771      2.506     0.2899     0.6428      1.038         20        640: 100%|██████████| 5/5 [00:01<00:00,  4.83it/s]\n",
            "                 Class     Images  Instances      Box(P          R      mAP50  mAP50-95)     Pose(P          R      mAP50  mAP50-95): 100%|██████████| 1/1 [00:00<00:00,  4.04it/s]"
          ]
        },
        {
          "output_type": "stream",
          "name": "stdout",
          "text": [
            "                   all         18         65       0.96      0.723      0.832      0.601      0.915      0.692      0.759      0.391\n"
          ]
        },
        {
          "output_type": "stream",
          "name": "stderr",
          "text": [
            "\n"
          ]
        },
        {
          "output_type": "stream",
          "name": "stdout",
          "text": [
            "\n",
            "      Epoch    GPU_mem   box_loss  pose_loss  kobj_loss   cls_loss   dfl_loss  Instances       Size\n"
          ]
        },
        {
          "output_type": "stream",
          "name": "stderr",
          "text": [
            "     54/100       2.4G     0.7733      2.623     0.2917     0.6138       1.03         45        640: 100%|██████████| 5/5 [00:01<00:00,  4.78it/s]\n",
            "                 Class     Images  Instances      Box(P          R      mAP50  mAP50-95)     Pose(P          R      mAP50  mAP50-95): 100%|██████████| 1/1 [00:00<00:00,  5.00it/s]"
          ]
        },
        {
          "output_type": "stream",
          "name": "stdout",
          "text": [
            "                   all         18         65      0.924      0.738      0.825      0.605      0.888      0.738      0.761      0.401\n"
          ]
        },
        {
          "output_type": "stream",
          "name": "stderr",
          "text": [
            "\n"
          ]
        },
        {
          "output_type": "stream",
          "name": "stdout",
          "text": [
            "\n",
            "      Epoch    GPU_mem   box_loss  pose_loss  kobj_loss   cls_loss   dfl_loss  Instances       Size\n"
          ]
        },
        {
          "output_type": "stream",
          "name": "stderr",
          "text": [
            "     55/100      2.48G     0.7786       2.58     0.2815     0.6523      1.046         27        640: 100%|██████████| 5/5 [00:01<00:00,  4.60it/s]\n",
            "                 Class     Images  Instances      Box(P          R      mAP50  mAP50-95)     Pose(P          R      mAP50  mAP50-95): 100%|██████████| 1/1 [00:00<00:00,  2.83it/s]"
          ]
        },
        {
          "output_type": "stream",
          "name": "stdout",
          "text": [
            "                   all         18         65      0.888       0.73      0.818      0.612      0.938      0.704      0.773      0.389\n"
          ]
        },
        {
          "output_type": "stream",
          "name": "stderr",
          "text": [
            "\n"
          ]
        },
        {
          "output_type": "stream",
          "name": "stdout",
          "text": [
            "\n",
            "      Epoch    GPU_mem   box_loss  pose_loss  kobj_loss   cls_loss   dfl_loss  Instances       Size\n"
          ]
        },
        {
          "output_type": "stream",
          "name": "stderr",
          "text": [
            "     56/100      2.47G     0.7358      2.527     0.3026     0.6217      1.044         21        640: 100%|██████████| 5/5 [00:01<00:00,  3.22it/s]\n",
            "                 Class     Images  Instances      Box(P          R      mAP50  mAP50-95)     Pose(P          R      mAP50  mAP50-95): 100%|██████████| 1/1 [00:00<00:00,  2.90it/s]"
          ]
        },
        {
          "output_type": "stream",
          "name": "stdout",
          "text": [
            "                   all         18         65      0.948      0.738       0.83       0.62       0.92      0.723      0.766      0.386\n"
          ]
        },
        {
          "output_type": "stream",
          "name": "stderr",
          "text": [
            "\n"
          ]
        },
        {
          "output_type": "stream",
          "name": "stdout",
          "text": [
            "\n",
            "      Epoch    GPU_mem   box_loss  pose_loss  kobj_loss   cls_loss   dfl_loss  Instances       Size\n"
          ]
        },
        {
          "output_type": "stream",
          "name": "stderr",
          "text": [
            "     57/100      2.46G     0.7847      2.498     0.2832     0.6921       1.07         14        640: 100%|██████████| 5/5 [00:01<00:00,  3.16it/s]\n",
            "                 Class     Images  Instances      Box(P          R      mAP50  mAP50-95)     Pose(P          R      mAP50  mAP50-95): 100%|██████████| 1/1 [00:00<00:00,  2.35it/s]"
          ]
        },
        {
          "output_type": "stream",
          "name": "stdout",
          "text": [
            "                   all         18         65      0.954      0.769      0.851      0.618      0.868       0.71      0.739      0.388\n"
          ]
        },
        {
          "output_type": "stream",
          "name": "stderr",
          "text": [
            "\n"
          ]
        },
        {
          "output_type": "stream",
          "name": "stdout",
          "text": [
            "\n",
            "      Epoch    GPU_mem   box_loss  pose_loss  kobj_loss   cls_loss   dfl_loss  Instances       Size\n"
          ]
        },
        {
          "output_type": "stream",
          "name": "stderr",
          "text": [
            "     58/100       2.4G     0.8294      2.544     0.2955     0.7035       1.07         28        640: 100%|██████████| 5/5 [00:01<00:00,  3.11it/s]\n",
            "                 Class     Images  Instances      Box(P          R      mAP50  mAP50-95)     Pose(P          R      mAP50  mAP50-95): 100%|██████████| 1/1 [00:00<00:00,  1.81it/s]"
          ]
        },
        {
          "output_type": "stream",
          "name": "stdout",
          "text": [
            "                   all         18         65      0.925      0.756      0.849      0.628       0.87      0.722      0.735      0.399\n"
          ]
        },
        {
          "output_type": "stream",
          "name": "stderr",
          "text": [
            "\n"
          ]
        },
        {
          "output_type": "stream",
          "name": "stdout",
          "text": [
            "\n",
            "      Epoch    GPU_mem   box_loss  pose_loss  kobj_loss   cls_loss   dfl_loss  Instances       Size\n"
          ]
        },
        {
          "output_type": "stream",
          "name": "stderr",
          "text": [
            "     59/100      2.44G      0.794      2.479     0.2948     0.6207      1.064         28        640: 100%|██████████| 5/5 [00:01<00:00,  4.67it/s]\n",
            "                 Class     Images  Instances      Box(P          R      mAP50  mAP50-95)     Pose(P          R      mAP50  mAP50-95): 100%|██████████| 1/1 [00:00<00:00,  4.28it/s]"
          ]
        },
        {
          "output_type": "stream",
          "name": "stdout",
          "text": [
            "                   all         18         65      0.924      0.769      0.832      0.622      0.869      0.723      0.721      0.391\n"
          ]
        },
        {
          "output_type": "stream",
          "name": "stderr",
          "text": [
            "\n"
          ]
        },
        {
          "output_type": "stream",
          "name": "stdout",
          "text": [
            "\n",
            "      Epoch    GPU_mem   box_loss  pose_loss  kobj_loss   cls_loss   dfl_loss  Instances       Size\n"
          ]
        },
        {
          "output_type": "stream",
          "name": "stderr",
          "text": [
            "     60/100      2.44G      0.763      2.301     0.2888     0.6122      1.047         33        640: 100%|██████████| 5/5 [00:01<00:00,  4.75it/s]\n",
            "                 Class     Images  Instances      Box(P          R      mAP50  mAP50-95)     Pose(P          R      mAP50  mAP50-95): 100%|██████████| 1/1 [00:00<00:00,  3.60it/s]"
          ]
        },
        {
          "output_type": "stream",
          "name": "stdout",
          "text": [
            "                   all         18         65      0.923      0.734      0.809      0.621      0.937      0.689      0.734      0.393\n"
          ]
        },
        {
          "output_type": "stream",
          "name": "stderr",
          "text": [
            "\n"
          ]
        },
        {
          "output_type": "stream",
          "name": "stdout",
          "text": [
            "\n",
            "      Epoch    GPU_mem   box_loss  pose_loss  kobj_loss   cls_loss   dfl_loss  Instances       Size\n"
          ]
        },
        {
          "output_type": "stream",
          "name": "stderr",
          "text": [
            "     61/100      2.42G     0.7446       2.29      0.281     0.6152      1.048         19        640: 100%|██████████| 5/5 [00:00<00:00,  5.26it/s]\n",
            "                 Class     Images  Instances      Box(P          R      mAP50  mAP50-95)     Pose(P          R      mAP50  mAP50-95): 100%|██████████| 1/1 [00:00<00:00,  3.26it/s]"
          ]
        },
        {
          "output_type": "stream",
          "name": "stdout",
          "text": [
            "                   all         18         65      0.943      0.763      0.818       0.63      0.905      0.733      0.757      0.429\n"
          ]
        },
        {
          "output_type": "stream",
          "name": "stderr",
          "text": [
            "\n"
          ]
        },
        {
          "output_type": "stream",
          "name": "stdout",
          "text": [
            "\n",
            "      Epoch    GPU_mem   box_loss  pose_loss  kobj_loss   cls_loss   dfl_loss  Instances       Size\n"
          ]
        },
        {
          "output_type": "stream",
          "name": "stderr",
          "text": [
            "     62/100      2.38G      0.721      2.532     0.2871     0.6011      1.034         21        640: 100%|██████████| 5/5 [00:01<00:00,  4.71it/s]\n",
            "                 Class     Images  Instances      Box(P          R      mAP50  mAP50-95)     Pose(P          R      mAP50  mAP50-95): 100%|██████████| 1/1 [00:00<00:00,  3.74it/s]"
          ]
        },
        {
          "output_type": "stream",
          "name": "stdout",
          "text": [
            "                   all         18         65      0.953      0.754      0.837      0.636      0.913      0.723      0.771      0.454\n"
          ]
        },
        {
          "output_type": "stream",
          "name": "stderr",
          "text": [
            "\n"
          ]
        },
        {
          "output_type": "stream",
          "name": "stdout",
          "text": [
            "\n",
            "      Epoch    GPU_mem   box_loss  pose_loss  kobj_loss   cls_loss   dfl_loss  Instances       Size\n"
          ]
        },
        {
          "output_type": "stream",
          "name": "stderr",
          "text": [
            "     63/100      2.46G     0.7852      2.755     0.2857     0.6383      1.063         42        640: 100%|██████████| 5/5 [00:00<00:00,  5.03it/s]\n",
            "                 Class     Images  Instances      Box(P          R      mAP50  mAP50-95)     Pose(P          R      mAP50  mAP50-95): 100%|██████████| 1/1 [00:00<00:00,  3.62it/s]"
          ]
        },
        {
          "output_type": "stream",
          "name": "stdout",
          "text": [
            "                   all         18         65      0.921      0.754      0.834      0.661      0.914      0.723      0.796      0.464\n"
          ]
        },
        {
          "output_type": "stream",
          "name": "stderr",
          "text": [
            "\n"
          ]
        },
        {
          "output_type": "stream",
          "name": "stdout",
          "text": [
            "\n",
            "      Epoch    GPU_mem   box_loss  pose_loss  kobj_loss   cls_loss   dfl_loss  Instances       Size\n"
          ]
        },
        {
          "output_type": "stream",
          "name": "stderr",
          "text": [
            "     64/100       2.4G     0.7128      2.469     0.2801      0.601      1.025         37        640: 100%|██████████| 5/5 [00:01<00:00,  3.32it/s]\n",
            "                 Class     Images  Instances      Box(P          R      mAP50  mAP50-95)     Pose(P          R      mAP50  mAP50-95): 100%|██████████| 1/1 [00:00<00:00,  1.92it/s]"
          ]
        },
        {
          "output_type": "stream",
          "name": "stdout",
          "text": [
            "                   all         18         65       0.96      0.738      0.837      0.662      0.895      0.738      0.778      0.477\n"
          ]
        },
        {
          "output_type": "stream",
          "name": "stderr",
          "text": [
            "\n"
          ]
        },
        {
          "output_type": "stream",
          "name": "stdout",
          "text": [
            "\n",
            "      Epoch    GPU_mem   box_loss  pose_loss  kobj_loss   cls_loss   dfl_loss  Instances       Size\n"
          ]
        },
        {
          "output_type": "stream",
          "name": "stderr",
          "text": [
            "     65/100      2.45G     0.7316      2.228     0.2817     0.6051      1.022         26        640: 100%|██████████| 5/5 [00:01<00:00,  3.14it/s]\n",
            "                 Class     Images  Instances      Box(P          R      mAP50  mAP50-95)     Pose(P          R      mAP50  mAP50-95): 100%|██████████| 1/1 [00:00<00:00,  1.74it/s]"
          ]
        },
        {
          "output_type": "stream",
          "name": "stdout",
          "text": [
            "                   all         18         65      0.871      0.769      0.832      0.649       0.88      0.723      0.783      0.473\n"
          ]
        },
        {
          "output_type": "stream",
          "name": "stderr",
          "text": [
            "\n"
          ]
        },
        {
          "output_type": "stream",
          "name": "stdout",
          "text": [
            "\n",
            "      Epoch    GPU_mem   box_loss  pose_loss  kobj_loss   cls_loss   dfl_loss  Instances       Size\n"
          ]
        },
        {
          "output_type": "stream",
          "name": "stderr",
          "text": [
            "     66/100      2.46G      0.723      2.357     0.2735     0.6753       1.06         43        640: 100%|██████████| 5/5 [00:01<00:00,  3.19it/s]\n",
            "                 Class     Images  Instances      Box(P          R      mAP50  mAP50-95)     Pose(P          R      mAP50  mAP50-95): 100%|██████████| 1/1 [00:00<00:00,  1.96it/s]"
          ]
        },
        {
          "output_type": "stream",
          "name": "stdout",
          "text": [
            "                   all         18         65      0.891      0.752      0.827      0.646      0.821      0.779      0.796      0.464\n"
          ]
        },
        {
          "output_type": "stream",
          "name": "stderr",
          "text": [
            "\n"
          ]
        },
        {
          "output_type": "stream",
          "name": "stdout",
          "text": [
            "\n",
            "      Epoch    GPU_mem   box_loss  pose_loss  kobj_loss   cls_loss   dfl_loss  Instances       Size\n"
          ]
        },
        {
          "output_type": "stream",
          "name": "stderr",
          "text": [
            "     67/100      2.47G     0.6984      2.361     0.2931     0.5816      1.011         32        640: 100%|██████████| 5/5 [00:00<00:00,  5.13it/s]\n",
            "                 Class     Images  Instances      Box(P          R      mAP50  mAP50-95)     Pose(P          R      mAP50  mAP50-95): 100%|██████████| 1/1 [00:00<00:00,  2.74it/s]"
          ]
        },
        {
          "output_type": "stream",
          "name": "stdout",
          "text": [
            "                   all         18         65      0.872      0.769       0.82       0.63      0.891      0.723      0.799      0.468\n"
          ]
        },
        {
          "output_type": "stream",
          "name": "stderr",
          "text": [
            "\n"
          ]
        },
        {
          "output_type": "stream",
          "name": "stdout",
          "text": [
            "\n",
            "      Epoch    GPU_mem   box_loss  pose_loss  kobj_loss   cls_loss   dfl_loss  Instances       Size\n"
          ]
        },
        {
          "output_type": "stream",
          "name": "stderr",
          "text": [
            "     68/100      2.47G      0.741      2.129     0.2901     0.6107      1.048         41        640: 100%|██████████| 5/5 [00:01<00:00,  4.54it/s]\n",
            "                 Class     Images  Instances      Box(P          R      mAP50  mAP50-95)     Pose(P          R      mAP50  mAP50-95): 100%|██████████| 1/1 [00:00<00:00,  4.24it/s]"
          ]
        },
        {
          "output_type": "stream",
          "name": "stdout",
          "text": [
            "                   all         18         65       0.96      0.735       0.83       0.64      0.901      0.692      0.759      0.437\n"
          ]
        },
        {
          "output_type": "stream",
          "name": "stderr",
          "text": [
            "\n"
          ]
        },
        {
          "output_type": "stream",
          "name": "stdout",
          "text": [
            "\n",
            "      Epoch    GPU_mem   box_loss  pose_loss  kobj_loss   cls_loss   dfl_loss  Instances       Size\n"
          ]
        },
        {
          "output_type": "stream",
          "name": "stderr",
          "text": [
            "     69/100      2.49G     0.7106      2.112     0.2657      0.575      1.019         33        640: 100%|██████████| 5/5 [00:01<00:00,  4.88it/s]\n",
            "                 Class     Images  Instances      Box(P          R      mAP50  mAP50-95)     Pose(P          R      mAP50  mAP50-95): 100%|██████████| 1/1 [00:00<00:00,  3.80it/s]"
          ]
        },
        {
          "output_type": "stream",
          "name": "stdout",
          "text": [
            "                   all         18         65       0.86      0.769      0.837      0.636      0.878      0.666      0.758      0.404\n"
          ]
        },
        {
          "output_type": "stream",
          "name": "stderr",
          "text": [
            "\n"
          ]
        },
        {
          "output_type": "stream",
          "name": "stdout",
          "text": [
            "\n",
            "      Epoch    GPU_mem   box_loss  pose_loss  kobj_loss   cls_loss   dfl_loss  Instances       Size\n"
          ]
        },
        {
          "output_type": "stream",
          "name": "stderr",
          "text": [
            "     70/100      2.44G     0.7228      2.252     0.2745     0.5862      1.023         30        640: 100%|██████████| 5/5 [00:01<00:00,  4.74it/s]\n",
            "                 Class     Images  Instances      Box(P          R      mAP50  mAP50-95)     Pose(P          R      mAP50  mAP50-95): 100%|██████████| 1/1 [00:00<00:00,  4.17it/s]"
          ]
        },
        {
          "output_type": "stream",
          "name": "stdout",
          "text": [
            "                   all         18         65      0.795      0.785      0.836      0.635      0.786      0.692      0.746      0.388\n"
          ]
        },
        {
          "output_type": "stream",
          "name": "stderr",
          "text": [
            "\n"
          ]
        },
        {
          "output_type": "stream",
          "name": "stdout",
          "text": [
            "\n",
            "      Epoch    GPU_mem   box_loss  pose_loss  kobj_loss   cls_loss   dfl_loss  Instances       Size\n"
          ]
        },
        {
          "output_type": "stream",
          "name": "stderr",
          "text": [
            "     71/100      2.46G      0.716      2.355     0.2735     0.6109      1.048         31        640: 100%|██████████| 5/5 [00:01<00:00,  4.75it/s]\n",
            "                 Class     Images  Instances      Box(P          R      mAP50  mAP50-95)     Pose(P          R      mAP50  mAP50-95): 100%|██████████| 1/1 [00:00<00:00,  4.03it/s]"
          ]
        },
        {
          "output_type": "stream",
          "name": "stdout",
          "text": [
            "                   all         18         65      0.847      0.768      0.847      0.634      0.829      0.674      0.762      0.384\n"
          ]
        },
        {
          "output_type": "stream",
          "name": "stderr",
          "text": [
            "\n"
          ]
        },
        {
          "output_type": "stream",
          "name": "stdout",
          "text": [
            "\n",
            "      Epoch    GPU_mem   box_loss  pose_loss  kobj_loss   cls_loss   dfl_loss  Instances       Size\n"
          ]
        },
        {
          "output_type": "stream",
          "name": "stderr",
          "text": [
            "     72/100      2.47G     0.6732      2.195     0.2623     0.5564      1.043         30        640: 100%|██████████| 5/5 [00:01<00:00,  3.39it/s]\n",
            "                 Class     Images  Instances      Box(P          R      mAP50  mAP50-95)     Pose(P          R      mAP50  mAP50-95): 100%|██████████| 1/1 [00:00<00:00,  2.37it/s]"
          ]
        },
        {
          "output_type": "stream",
          "name": "stdout",
          "text": [
            "                   all         18         65      0.871      0.815      0.864      0.639      0.782      0.738      0.751      0.401\n"
          ]
        },
        {
          "output_type": "stream",
          "name": "stderr",
          "text": [
            "\n"
          ]
        },
        {
          "output_type": "stream",
          "name": "stdout",
          "text": [
            "\n",
            "      Epoch    GPU_mem   box_loss  pose_loss  kobj_loss   cls_loss   dfl_loss  Instances       Size\n"
          ]
        },
        {
          "output_type": "stream",
          "name": "stderr",
          "text": [
            "     73/100      2.47G     0.6856      2.052     0.2816     0.5607      1.011         36        640: 100%|██████████| 5/5 [00:01<00:00,  3.31it/s]\n",
            "                 Class     Images  Instances      Box(P          R      mAP50  mAP50-95)     Pose(P          R      mAP50  mAP50-95): 100%|██████████| 1/1 [00:00<00:00,  1.80it/s]"
          ]
        },
        {
          "output_type": "stream",
          "name": "stdout",
          "text": [
            "                   all         18         65      0.896      0.794       0.87      0.644      0.827      0.708      0.722      0.422\n"
          ]
        },
        {
          "output_type": "stream",
          "name": "stderr",
          "text": [
            "\n"
          ]
        },
        {
          "output_type": "stream",
          "name": "stdout",
          "text": [
            "\n",
            "      Epoch    GPU_mem   box_loss  pose_loss  kobj_loss   cls_loss   dfl_loss  Instances       Size\n"
          ]
        },
        {
          "output_type": "stream",
          "name": "stderr",
          "text": [
            "     74/100      2.37G     0.6504      2.054     0.2671     0.5361     0.9953         28        640: 100%|██████████| 5/5 [00:01<00:00,  3.17it/s]\n",
            "                 Class     Images  Instances      Box(P          R      mAP50  mAP50-95)     Pose(P          R      mAP50  mAP50-95): 100%|██████████| 1/1 [00:00<00:00,  2.46it/s]"
          ]
        },
        {
          "output_type": "stream",
          "name": "stdout",
          "text": [
            "                   all         18         65      0.911      0.787      0.872      0.645      0.865      0.708       0.74      0.426\n"
          ]
        },
        {
          "output_type": "stream",
          "name": "stderr",
          "text": [
            "\n"
          ]
        },
        {
          "output_type": "stream",
          "name": "stdout",
          "text": [
            "\n",
            "      Epoch    GPU_mem   box_loss  pose_loss  kobj_loss   cls_loss   dfl_loss  Instances       Size\n"
          ]
        },
        {
          "output_type": "stream",
          "name": "stderr",
          "text": [
            "     75/100      2.44G     0.6806      2.033     0.2707     0.5502      1.028         33        640: 100%|██████████| 5/5 [00:01<00:00,  4.71it/s]\n",
            "                 Class     Images  Instances      Box(P          R      mAP50  mAP50-95)     Pose(P          R      mAP50  mAP50-95): 100%|██████████| 1/1 [00:00<00:00,  3.86it/s]"
          ]
        },
        {
          "output_type": "stream",
          "name": "stdout",
          "text": [
            "                   all         18         65      0.901      0.769      0.865      0.656      0.868      0.738      0.774      0.426\n"
          ]
        },
        {
          "output_type": "stream",
          "name": "stderr",
          "text": [
            "\n"
          ]
        },
        {
          "output_type": "stream",
          "name": "stdout",
          "text": [
            "\n",
            "      Epoch    GPU_mem   box_loss  pose_loss  kobj_loss   cls_loss   dfl_loss  Instances       Size\n"
          ]
        },
        {
          "output_type": "stream",
          "name": "stderr",
          "text": [
            "     76/100      2.46G     0.6365      2.053      0.268     0.5308      1.009         30        640: 100%|██████████| 5/5 [00:01<00:00,  4.52it/s]\n",
            "                 Class     Images  Instances      Box(P          R      mAP50  mAP50-95)     Pose(P          R      mAP50  mAP50-95): 100%|██████████| 1/1 [00:00<00:00,  4.93it/s]"
          ]
        },
        {
          "output_type": "stream",
          "name": "stdout",
          "text": [
            "                   all         18         65      0.927      0.785      0.876      0.655      0.897      0.723      0.764      0.453\n"
          ]
        },
        {
          "output_type": "stream",
          "name": "stderr",
          "text": [
            "\n"
          ]
        },
        {
          "output_type": "stream",
          "name": "stdout",
          "text": [
            "\n",
            "      Epoch    GPU_mem   box_loss  pose_loss  kobj_loss   cls_loss   dfl_loss  Instances       Size\n"
          ]
        },
        {
          "output_type": "stream",
          "name": "stderr",
          "text": [
            "     77/100      2.47G     0.7008      1.896     0.2764     0.5693      1.038         18        640: 100%|██████████| 5/5 [00:01<00:00,  4.88it/s]\n",
            "                 Class     Images  Instances      Box(P          R      mAP50  mAP50-95)     Pose(P          R      mAP50  mAP50-95): 100%|██████████| 1/1 [00:00<00:00,  3.38it/s]"
          ]
        },
        {
          "output_type": "stream",
          "name": "stdout",
          "text": [
            "                   all         18         65       0.94      0.769      0.875      0.655      0.899      0.723      0.768      0.462\n"
          ]
        },
        {
          "output_type": "stream",
          "name": "stderr",
          "text": [
            "\n"
          ]
        },
        {
          "output_type": "stream",
          "name": "stdout",
          "text": [
            "\n",
            "      Epoch    GPU_mem   box_loss  pose_loss  kobj_loss   cls_loss   dfl_loss  Instances       Size\n"
          ]
        },
        {
          "output_type": "stream",
          "name": "stderr",
          "text": [
            "     78/100       2.4G      0.665      1.824     0.2786     0.5264     0.9739         25        640: 100%|██████████| 5/5 [00:00<00:00,  5.23it/s]\n",
            "                 Class     Images  Instances      Box(P          R      mAP50  mAP50-95)     Pose(P          R      mAP50  mAP50-95): 100%|██████████| 1/1 [00:00<00:00,  3.44it/s]"
          ]
        },
        {
          "output_type": "stream",
          "name": "stdout",
          "text": [
            "                   all         18         65      0.943      0.766      0.873      0.649      0.898      0.723      0.764      0.459\n"
          ]
        },
        {
          "output_type": "stream",
          "name": "stderr",
          "text": [
            "\n"
          ]
        },
        {
          "output_type": "stream",
          "name": "stdout",
          "text": [
            "\n",
            "      Epoch    GPU_mem   box_loss  pose_loss  kobj_loss   cls_loss   dfl_loss  Instances       Size\n"
          ]
        },
        {
          "output_type": "stream",
          "name": "stderr",
          "text": [
            "     79/100      2.47G     0.7028      2.181     0.2494     0.5621      1.035         27        640: 100%|██████████| 5/5 [00:00<00:00,  5.06it/s]\n",
            "                 Class     Images  Instances      Box(P          R      mAP50  mAP50-95)     Pose(P          R      mAP50  mAP50-95): 100%|██████████| 1/1 [00:00<00:00,  3.19it/s]"
          ]
        },
        {
          "output_type": "stream",
          "name": "stdout",
          "text": [
            "                   all         18         65      0.937      0.769      0.864      0.658      0.872      0.736      0.768      0.456\n"
          ]
        },
        {
          "output_type": "stream",
          "name": "stderr",
          "text": [
            "\n"
          ]
        },
        {
          "output_type": "stream",
          "name": "stdout",
          "text": [
            "\n",
            "      Epoch    GPU_mem   box_loss  pose_loss  kobj_loss   cls_loss   dfl_loss  Instances       Size\n"
          ]
        },
        {
          "output_type": "stream",
          "name": "stderr",
          "text": [
            "     80/100       2.4G     0.6644      2.221     0.2677     0.5614     0.9959         38        640: 100%|██████████| 5/5 [00:01<00:00,  3.04it/s]\n",
            "                 Class     Images  Instances      Box(P          R      mAP50  mAP50-95)     Pose(P          R      mAP50  mAP50-95): 100%|██████████| 1/1 [00:00<00:00,  2.09it/s]"
          ]
        },
        {
          "output_type": "stream",
          "name": "stdout",
          "text": [
            "                   all         18         65      0.895      0.785       0.87       0.68       0.89       0.75      0.792       0.47\n"
          ]
        },
        {
          "output_type": "stream",
          "name": "stderr",
          "text": [
            "\n"
          ]
        },
        {
          "output_type": "stream",
          "name": "stdout",
          "text": [
            "\n",
            "      Epoch    GPU_mem   box_loss  pose_loss  kobj_loss   cls_loss   dfl_loss  Instances       Size\n"
          ]
        },
        {
          "output_type": "stream",
          "name": "stderr",
          "text": [
            "     81/100      2.48G      0.662      1.991     0.2696     0.5329      1.007         34        640: 100%|██████████| 5/5 [00:01<00:00,  3.05it/s]\n",
            "                 Class     Images  Instances      Box(P          R      mAP50  mAP50-95)     Pose(P          R      mAP50  mAP50-95): 100%|██████████| 1/1 [00:00<00:00,  1.65it/s]"
          ]
        },
        {
          "output_type": "stream",
          "name": "stdout",
          "text": [
            "                   all         18         65      0.873      0.769      0.865      0.667      0.855      0.754       0.78      0.474\n"
          ]
        },
        {
          "output_type": "stream",
          "name": "stderr",
          "text": [
            "\n"
          ]
        },
        {
          "output_type": "stream",
          "name": "stdout",
          "text": [
            "\n",
            "      Epoch    GPU_mem   box_loss  pose_loss  kobj_loss   cls_loss   dfl_loss  Instances       Size\n"
          ]
        },
        {
          "output_type": "stream",
          "name": "stderr",
          "text": [
            "     82/100       2.4G     0.6507       1.94     0.2692     0.5501      1.029         30        640: 100%|██████████| 5/5 [00:01<00:00,  2.94it/s]\n",
            "                 Class     Images  Instances      Box(P          R      mAP50  mAP50-95)     Pose(P          R      mAP50  mAP50-95): 100%|██████████| 1/1 [00:00<00:00,  2.00it/s]"
          ]
        },
        {
          "output_type": "stream",
          "name": "stdout",
          "text": [
            "                   all         18         65      0.869      0.769      0.863      0.674      0.852      0.754      0.782      0.479\n"
          ]
        },
        {
          "output_type": "stream",
          "name": "stderr",
          "text": [
            "\n"
          ]
        },
        {
          "output_type": "stream",
          "name": "stdout",
          "text": [
            "\n",
            "      Epoch    GPU_mem   box_loss  pose_loss  kobj_loss   cls_loss   dfl_loss  Instances       Size\n"
          ]
        },
        {
          "output_type": "stream",
          "name": "stderr",
          "text": [
            "     83/100      2.48G     0.6151      2.031     0.2707     0.5246      0.995         20        640: 100%|██████████| 5/5 [00:01<00:00,  4.73it/s]\n",
            "                 Class     Images  Instances      Box(P          R      mAP50  mAP50-95)     Pose(P          R      mAP50  mAP50-95): 100%|██████████| 1/1 [00:00<00:00,  3.51it/s]"
          ]
        },
        {
          "output_type": "stream",
          "name": "stdout",
          "text": [
            "                   all         18         65      0.893      0.785      0.867      0.669      0.858      0.754      0.782      0.467\n"
          ]
        },
        {
          "output_type": "stream",
          "name": "stderr",
          "text": [
            "\n"
          ]
        },
        {
          "output_type": "stream",
          "name": "stdout",
          "text": [
            "\n",
            "      Epoch    GPU_mem   box_loss  pose_loss  kobj_loss   cls_loss   dfl_loss  Instances       Size\n"
          ]
        },
        {
          "output_type": "stream",
          "name": "stderr",
          "text": [
            "     84/100      2.47G     0.6852      1.919     0.2602     0.5388      1.013         36        640: 100%|██████████| 5/5 [00:01<00:00,  4.85it/s]\n",
            "                 Class     Images  Instances      Box(P          R      mAP50  mAP50-95)     Pose(P          R      mAP50  mAP50-95): 100%|██████████| 1/1 [00:00<00:00,  3.42it/s]"
          ]
        },
        {
          "output_type": "stream",
          "name": "stdout",
          "text": [
            "                   all         18         65      0.905      0.769      0.872      0.669       0.83       0.75      0.778      0.457\n"
          ]
        },
        {
          "output_type": "stream",
          "name": "stderr",
          "text": [
            "\n"
          ]
        },
        {
          "output_type": "stream",
          "name": "stdout",
          "text": [
            "\n",
            "      Epoch    GPU_mem   box_loss  pose_loss  kobj_loss   cls_loss   dfl_loss  Instances       Size\n"
          ]
        },
        {
          "output_type": "stream",
          "name": "stderr",
          "text": [
            "     85/100      2.42G     0.5949      1.721     0.2619     0.5205     0.9658         24        640: 100%|██████████| 5/5 [00:01<00:00,  4.58it/s]\n",
            "                 Class     Images  Instances      Box(P          R      mAP50  mAP50-95)     Pose(P          R      mAP50  mAP50-95): 100%|██████████| 1/1 [00:00<00:00,  3.92it/s]"
          ]
        },
        {
          "output_type": "stream",
          "name": "stdout",
          "text": [
            "                   all         18         65      0.919      0.785      0.893       0.68      0.847      0.723      0.786       0.47\n"
          ]
        },
        {
          "output_type": "stream",
          "name": "stderr",
          "text": [
            "\n"
          ]
        },
        {
          "output_type": "stream",
          "name": "stdout",
          "text": [
            "\n",
            "      Epoch    GPU_mem   box_loss  pose_loss  kobj_loss   cls_loss   dfl_loss  Instances       Size\n"
          ]
        },
        {
          "output_type": "stream",
          "name": "stderr",
          "text": [
            "     86/100      2.48G     0.6056      1.879     0.2454     0.5124      1.014         19        640: 100%|██████████| 5/5 [00:01<00:00,  4.64it/s]\n",
            "                 Class     Images  Instances      Box(P          R      mAP50  mAP50-95)     Pose(P          R      mAP50  mAP50-95): 100%|██████████| 1/1 [00:00<00:00,  4.34it/s]"
          ]
        },
        {
          "output_type": "stream",
          "name": "stdout",
          "text": [
            "                   all         18         65      0.908      0.785      0.877      0.666      0.839      0.719      0.753      0.465\n"
          ]
        },
        {
          "output_type": "stream",
          "name": "stderr",
          "text": [
            "\n"
          ]
        },
        {
          "output_type": "stream",
          "name": "stdout",
          "text": [
            "\n",
            "      Epoch    GPU_mem   box_loss  pose_loss  kobj_loss   cls_loss   dfl_loss  Instances       Size\n"
          ]
        },
        {
          "output_type": "stream",
          "name": "stderr",
          "text": [
            "     87/100      2.47G     0.5566      1.605     0.2623     0.4715     0.9632         13        640: 100%|██████████| 5/5 [00:01<00:00,  4.84it/s]\n",
            "                 Class     Images  Instances      Box(P          R      mAP50  mAP50-95)     Pose(P          R      mAP50  mAP50-95): 100%|██████████| 1/1 [00:00<00:00,  4.10it/s]"
          ]
        },
        {
          "output_type": "stream",
          "name": "stdout",
          "text": [
            "                   all         18         65      0.943      0.765      0.879      0.679      0.899      0.723      0.788      0.477\n"
          ]
        },
        {
          "output_type": "stream",
          "name": "stderr",
          "text": [
            "\n"
          ]
        },
        {
          "output_type": "stream",
          "name": "stdout",
          "text": [
            "\n",
            "      Epoch    GPU_mem   box_loss  pose_loss  kobj_loss   cls_loss   dfl_loss  Instances       Size\n"
          ]
        },
        {
          "output_type": "stream",
          "name": "stderr",
          "text": [
            "     88/100      2.49G     0.7124      2.216      0.254     0.5904      1.036         33        640: 100%|██████████| 5/5 [00:01<00:00,  3.34it/s]\n",
            "                 Class     Images  Instances      Box(P          R      mAP50  mAP50-95)     Pose(P          R      mAP50  mAP50-95): 100%|██████████| 1/1 [00:00<00:00,  2.27it/s]"
          ]
        },
        {
          "output_type": "stream",
          "name": "stdout",
          "text": [
            "                   all         18         65      0.925      0.769      0.872      0.677      0.918      0.738      0.793      0.481\n"
          ]
        },
        {
          "output_type": "stream",
          "name": "stderr",
          "text": [
            "\n"
          ]
        },
        {
          "output_type": "stream",
          "name": "stdout",
          "text": [
            "\n",
            "      Epoch    GPU_mem   box_loss  pose_loss  kobj_loss   cls_loss   dfl_loss  Instances       Size\n"
          ]
        },
        {
          "output_type": "stream",
          "name": "stderr",
          "text": [
            "     89/100      2.46G      0.617      1.894      0.265     0.5218     0.9822         33        640: 100%|██████████| 5/5 [00:01<00:00,  3.10it/s]\n",
            "                 Class     Images  Instances      Box(P          R      mAP50  mAP50-95)     Pose(P          R      mAP50  mAP50-95): 100%|██████████| 1/1 [00:00<00:00,  2.26it/s]"
          ]
        },
        {
          "output_type": "stream",
          "name": "stdout",
          "text": [
            "                   all         18         65      0.921      0.769      0.878      0.673      0.914      0.738      0.798      0.485\n"
          ]
        },
        {
          "output_type": "stream",
          "name": "stderr",
          "text": [
            "\n"
          ]
        },
        {
          "output_type": "stream",
          "name": "stdout",
          "text": [
            "\n",
            "      Epoch    GPU_mem   box_loss  pose_loss  kobj_loss   cls_loss   dfl_loss  Instances       Size\n"
          ]
        },
        {
          "output_type": "stream",
          "name": "stderr",
          "text": [
            "     90/100      2.37G     0.5964      1.558     0.2541     0.4951     0.9696         22        640: 100%|██████████| 5/5 [00:01<00:00,  3.19it/s]\n",
            "                 Class     Images  Instances      Box(P          R      mAP50  mAP50-95)     Pose(P          R      mAP50  mAP50-95): 100%|██████████| 1/1 [00:00<00:00,  1.62it/s]"
          ]
        },
        {
          "output_type": "stream",
          "name": "stdout",
          "text": [
            "                   all         18         65      0.938      0.769      0.881      0.677      0.922      0.738      0.798      0.489\n"
          ]
        },
        {
          "output_type": "stream",
          "name": "stderr",
          "text": [
            "\n"
          ]
        },
        {
          "output_type": "stream",
          "name": "stdout",
          "text": [
            "Closing dataloader mosaic\n",
            "\u001b[34m\u001b[1malbumentations: \u001b[0mBlur(p=0.01, blur_limit=(3, 7)), MedianBlur(p=0.01, blur_limit=(3, 7)), ToGray(p=0.01, num_output_channels=3, method='weighted_average'), CLAHE(p=0.01, clip_limit=(1.0, 4.0), tile_grid_size=(8, 8))\n",
            "\n",
            "      Epoch    GPU_mem   box_loss  pose_loss  kobj_loss   cls_loss   dfl_loss  Instances       Size\n"
          ]
        },
        {
          "output_type": "stream",
          "name": "stderr",
          "text": [
            "     91/100      2.49G      0.469      0.982     0.2107     0.4461     0.9176         14        640: 100%|██████████| 5/5 [00:02<00:00,  1.81it/s]\n",
            "                 Class     Images  Instances      Box(P          R      mAP50  mAP50-95)     Pose(P          R      mAP50  mAP50-95): 100%|██████████| 1/1 [00:00<00:00,  1.07it/s]"
          ]
        },
        {
          "output_type": "stream",
          "name": "stdout",
          "text": [
            "                   all         18         65      0.955      0.769      0.882       0.68      0.921       0.72      0.798      0.495\n"
          ]
        },
        {
          "output_type": "stream",
          "name": "stderr",
          "text": [
            "\n"
          ]
        },
        {
          "output_type": "stream",
          "name": "stdout",
          "text": [
            "\n",
            "      Epoch    GPU_mem   box_loss  pose_loss  kobj_loss   cls_loss   dfl_loss  Instances       Size\n"
          ]
        },
        {
          "output_type": "stream",
          "name": "stderr",
          "text": [
            "     92/100      2.42G     0.5434      1.141     0.2279     0.4392     0.9207         18        640: 100%|██████████| 5/5 [00:01<00:00,  4.47it/s]\n",
            "                 Class     Images  Instances      Box(P          R      mAP50  mAP50-95)     Pose(P          R      mAP50  mAP50-95): 100%|██████████| 1/1 [00:00<00:00,  4.52it/s]"
          ]
        },
        {
          "output_type": "stream",
          "name": "stdout",
          "text": [
            "                   all         18         65      0.971      0.769       0.88      0.682      0.911      0.723      0.794      0.488\n"
          ]
        },
        {
          "output_type": "stream",
          "name": "stderr",
          "text": [
            "\n"
          ]
        },
        {
          "output_type": "stream",
          "name": "stdout",
          "text": [
            "\n",
            "      Epoch    GPU_mem   box_loss  pose_loss  kobj_loss   cls_loss   dfl_loss  Instances       Size\n"
          ]
        },
        {
          "output_type": "stream",
          "name": "stderr",
          "text": [
            "     93/100      2.47G     0.5526      1.094     0.2167      0.429     0.9485          7        640: 100%|██████████| 5/5 [00:01<00:00,  4.73it/s]\n",
            "                 Class     Images  Instances      Box(P          R      mAP50  mAP50-95)     Pose(P          R      mAP50  mAP50-95): 100%|██████████| 1/1 [00:00<00:00,  3.15it/s]"
          ]
        },
        {
          "output_type": "stream",
          "name": "stdout",
          "text": [
            "                   all         18         65      0.955      0.754      0.866      0.677      0.915      0.723      0.788      0.489\n"
          ]
        },
        {
          "output_type": "stream",
          "name": "stderr",
          "text": [
            "\n"
          ]
        },
        {
          "output_type": "stream",
          "name": "stdout",
          "text": [
            "\n",
            "      Epoch    GPU_mem   box_loss  pose_loss  kobj_loss   cls_loss   dfl_loss  Instances       Size\n"
          ]
        },
        {
          "output_type": "stream",
          "name": "stderr",
          "text": [
            "     94/100      2.42G     0.4888      1.013     0.2195     0.4077     0.9061         14        640: 100%|██████████| 5/5 [00:01<00:00,  3.67it/s]\n",
            "                 Class     Images  Instances      Box(P          R      mAP50  mAP50-95)     Pose(P          R      mAP50  mAP50-95): 100%|██████████| 1/1 [00:00<00:00,  2.01it/s]"
          ]
        },
        {
          "output_type": "stream",
          "name": "stdout",
          "text": [
            "                   all         18         65      0.957      0.754       0.87      0.678      0.918      0.723      0.786      0.495\n"
          ]
        },
        {
          "output_type": "stream",
          "name": "stderr",
          "text": [
            "\n"
          ]
        },
        {
          "output_type": "stream",
          "name": "stdout",
          "text": [
            "\n",
            "      Epoch    GPU_mem   box_loss  pose_loss  kobj_loss   cls_loss   dfl_loss  Instances       Size\n"
          ]
        },
        {
          "output_type": "stream",
          "name": "stderr",
          "text": [
            "     95/100      2.41G     0.4914      1.305     0.2266     0.3932     0.8779         13        640: 100%|██████████| 5/5 [00:01<00:00,  3.27it/s]\n",
            "                 Class     Images  Instances      Box(P          R      mAP50  mAP50-95)     Pose(P          R      mAP50  mAP50-95): 100%|██████████| 1/1 [00:00<00:00,  2.32it/s]"
          ]
        },
        {
          "output_type": "stream",
          "name": "stdout",
          "text": [
            "                   all         18         65       0.94      0.769      0.877      0.685       0.92      0.723      0.786      0.495\n"
          ]
        },
        {
          "output_type": "stream",
          "name": "stderr",
          "text": [
            "\n"
          ]
        },
        {
          "output_type": "stream",
          "name": "stdout",
          "text": [
            "\n",
            "      Epoch    GPU_mem   box_loss  pose_loss  kobj_loss   cls_loss   dfl_loss  Instances       Size\n"
          ]
        },
        {
          "output_type": "stream",
          "name": "stderr",
          "text": [
            "     96/100      2.47G     0.4813       1.05     0.2163     0.4013     0.9421         11        640: 100%|██████████| 5/5 [00:01<00:00,  2.91it/s]\n",
            "                 Class     Images  Instances      Box(P          R      mAP50  mAP50-95)     Pose(P          R      mAP50  mAP50-95): 100%|██████████| 1/1 [00:00<00:00,  1.78it/s]"
          ]
        },
        {
          "output_type": "stream",
          "name": "stdout",
          "text": [
            "                   all         18         65      0.944      0.779      0.876      0.689      0.902      0.723      0.779      0.494\n"
          ]
        },
        {
          "output_type": "stream",
          "name": "stderr",
          "text": [
            "\n"
          ]
        },
        {
          "output_type": "stream",
          "name": "stdout",
          "text": [
            "\n",
            "      Epoch    GPU_mem   box_loss  pose_loss  kobj_loss   cls_loss   dfl_loss  Instances       Size\n"
          ]
        },
        {
          "output_type": "stream",
          "name": "stderr",
          "text": [
            "     97/100      2.49G     0.5071      1.187     0.2157     0.4141     0.9264         17        640: 100%|██████████| 5/5 [00:01<00:00,  4.73it/s]\n",
            "                 Class     Images  Instances      Box(P          R      mAP50  mAP50-95)     Pose(P          R      mAP50  mAP50-95): 100%|██████████| 1/1 [00:00<00:00,  3.93it/s]"
          ]
        },
        {
          "output_type": "stream",
          "name": "stdout",
          "text": [
            "                   all         18         65      0.953      0.769      0.875      0.689      0.896      0.723      0.779      0.497\n"
          ]
        },
        {
          "output_type": "stream",
          "name": "stderr",
          "text": [
            "\n"
          ]
        },
        {
          "output_type": "stream",
          "name": "stdout",
          "text": [
            "\n",
            "      Epoch    GPU_mem   box_loss  pose_loss  kobj_loss   cls_loss   dfl_loss  Instances       Size\n"
          ]
        },
        {
          "output_type": "stream",
          "name": "stderr",
          "text": [
            "     98/100      2.42G     0.4844      1.046     0.2165     0.4203     0.9105         20        640: 100%|██████████| 5/5 [00:01<00:00,  4.76it/s]\n",
            "                 Class     Images  Instances      Box(P          R      mAP50  mAP50-95)     Pose(P          R      mAP50  mAP50-95): 100%|██████████| 1/1 [00:00<00:00,  4.23it/s]"
          ]
        },
        {
          "output_type": "stream",
          "name": "stdout",
          "text": [
            "                   all         18         65      0.962      0.778      0.875      0.693      0.905      0.732      0.779      0.505\n"
          ]
        },
        {
          "output_type": "stream",
          "name": "stderr",
          "text": [
            "\n"
          ]
        },
        {
          "output_type": "stream",
          "name": "stdout",
          "text": [
            "\n",
            "      Epoch    GPU_mem   box_loss  pose_loss  kobj_loss   cls_loss   dfl_loss  Instances       Size\n"
          ]
        },
        {
          "output_type": "stream",
          "name": "stderr",
          "text": [
            "     99/100      2.38G     0.4475     0.9645     0.2177     0.3814     0.8899         12        640: 100%|██████████| 5/5 [00:01<00:00,  4.81it/s]\n",
            "                 Class     Images  Instances      Box(P          R      mAP50  mAP50-95)     Pose(P          R      mAP50  mAP50-95): 100%|██████████| 1/1 [00:00<00:00,  3.94it/s]"
          ]
        },
        {
          "output_type": "stream",
          "name": "stdout",
          "text": [
            "                   all         18         65      0.954      0.769      0.875      0.698      0.897      0.723      0.781       0.51\n"
          ]
        },
        {
          "output_type": "stream",
          "name": "stderr",
          "text": [
            "\n"
          ]
        },
        {
          "output_type": "stream",
          "name": "stdout",
          "text": [
            "\n",
            "      Epoch    GPU_mem   box_loss  pose_loss  kobj_loss   cls_loss   dfl_loss  Instances       Size\n"
          ]
        },
        {
          "output_type": "stream",
          "name": "stderr",
          "text": [
            "    100/100      2.47G     0.4515      0.943     0.2217     0.3805     0.8921         19        640: 100%|██████████| 5/5 [00:01<00:00,  4.73it/s]\n",
            "                 Class     Images  Instances      Box(P          R      mAP50  mAP50-95)     Pose(P          R      mAP50  mAP50-95): 100%|██████████| 1/1 [00:00<00:00,  3.78it/s]"
          ]
        },
        {
          "output_type": "stream",
          "name": "stdout",
          "text": [
            "                   all         18         65      0.961      0.785      0.884      0.703      0.904      0.738      0.788      0.514\n"
          ]
        },
        {
          "output_type": "stream",
          "name": "stderr",
          "text": [
            "\n"
          ]
        },
        {
          "output_type": "stream",
          "name": "stdout",
          "text": [
            "\n",
            "100 epochs completed in 0.073 hours.\n",
            "Optimizer stripped from runs/pose/train2/weights/last.pt, 6.8MB\n",
            "Optimizer stripped from runs/pose/train2/weights/best.pt, 6.8MB\n",
            "\n",
            "Validating runs/pose/train2/weights/best.pt...\n",
            "Ultralytics 8.3.29 🚀 Python-3.10.12 torch-2.5.0+cu121 CUDA:0 (Tesla T4, 15102MiB)\n",
            "YOLOv8n-pose summary (fused): 187 layers, 3,289,964 parameters, 0 gradients, 9.2 GFLOPs\n"
          ]
        },
        {
          "output_type": "stream",
          "name": "stderr",
          "text": [
            "                 Class     Images  Instances      Box(P          R      mAP50  mAP50-95)     Pose(P          R      mAP50  mAP50-95): 100%|██████████| 1/1 [00:00<00:00,  5.66it/s]\n"
          ]
        },
        {
          "output_type": "stream",
          "name": "stdout",
          "text": [
            "                   all         18         65      0.874      0.856      0.924       0.79      0.943      0.754       0.87      0.702\n",
            "Speed: 0.4ms preprocess, 2.2ms inference, 0.0ms loss, 1.0ms postprocess per image\n",
            "Results saved to \u001b[1mruns/pose/train2\u001b[0m\n"
          ]
        }
      ]
    },
    {
      "cell_type": "code",
      "source": [
        "results.results_dict"
      ],
      "metadata": {
        "colab": {
          "base_uri": "https://localhost:8080/"
        },
        "id": "YV7k4zOAbC6y",
        "outputId": "a4e847fe-78d3-4e16-fca3-b9a6f0d836b4"
      },
      "execution_count": null,
      "outputs": [
        {
          "output_type": "execute_result",
          "data": {
            "text/plain": [
              "{'metrics/precision(B)': 0.8742456275136014,\n",
              " 'metrics/recall(B)': 0.8556891733362322,\n",
              " 'metrics/mAP50(B)': 0.9235065526107477,\n",
              " 'metrics/mAP50-95(B)': 0.7899096561368303,\n",
              " 'metrics/precision(P)': 0.9425550390859592,\n",
              " 'metrics/recall(P)': 0.7538461538461538,\n",
              " 'metrics/mAP50(P)': 0.869772996649297,\n",
              " 'metrics/mAP50-95(P)': 0.7023828089300554,\n",
              " 'fitness': 1.5223911734862017}"
            ]
          },
          "metadata": {},
          "execution_count": 9
        }
      ]
    }
  ]
}