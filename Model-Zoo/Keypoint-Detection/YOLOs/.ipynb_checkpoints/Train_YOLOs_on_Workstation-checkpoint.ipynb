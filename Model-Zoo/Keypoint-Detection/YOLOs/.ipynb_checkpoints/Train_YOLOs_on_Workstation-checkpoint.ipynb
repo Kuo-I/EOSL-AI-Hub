{
 "cells": [
  {
   "cell_type": "markdown",
   "metadata": {},
   "source": [
    "### Load the Configuration of YOLOs\n",
    "\n",
    "**1. Importing the ultralytics framework** : \n",
    "\n",
    "imports the YOLO backbone from the ultralytics library. This library provides tools for working with the YOLO (You Only Look Once) family of computer vision models.\n",
    "\n",
    "**2. Loading pre-trained model**: \n",
    "\n",
    "creates an instance of the YOLO class and loads a pre-trained model named yolov8n-pose.pt. This model is specifically designed for keypoints estimation tasks.\n",
    "\n",
    "**Options**: [[YOLOv8-pose]](https://docs.ultralytics.com/models/yolov8/) | [[YOLO11-pose]](https://docs.ultralytics.com/models/yolo11/)"
   ]
  },
  {
   "cell_type": "code",
   "execution_count": 5,
   "metadata": {
    "scrolled": true
   },
   "outputs": [
    {
     "name": "stdout",
     "output_type": "stream",
     "text": [
      "Unexpected exception formatting exception. Falling back to standard exception\n"
     ]
    },
    {
     "name": "stderr",
     "output_type": "stream",
     "text": [
      "Traceback (most recent call last):\n",
      "  File \"C:\\ProgramData\\Anaconda3\\lib\\site-packages\\IPython\\core\\interactiveshell.py\", line 3508, in run_code\n",
      "    exec(code_obj, self.user_global_ns, self.user_ns)\n",
      "  File \"C:\\Users\\B20447\\AppData\\Local\\Temp\\ipykernel_25064\\1425778601.py\", line 1, in <module>\n",
      "    from ultralytics import YOLO\n",
      "  File \"C:\\ProgramData\\Anaconda3\\lib\\site-packages\\ultralytics\\__init__.py\", line 10, in <module>\n",
      "    from ultralytics.data.explorer.explorer import Explorer\n",
      "  File \"C:\\ProgramData\\Anaconda3\\lib\\site-packages\\ultralytics\\data\\__init__.py\", line 3, in <module>\n",
      "    from .base import BaseDataset\n",
      "  File \"C:\\ProgramData\\Anaconda3\\lib\\site-packages\\ultralytics\\data\\base.py\", line 12, in <module>\n",
      "    import cv2\n",
      "  File \"C:\\ProgramData\\Anaconda3\\lib\\site-packages\\cv2\\__init__.py\", line 9, in <module>\n",
      "    from .cv2 import _registerMatType\n",
      "ImportError: cannot import name '_registerMatType' from 'cv2.cv2' (C:\\ProgramData\\Anaconda3\\lib\\site-packages\\cv2\\cv2.cp38-win_amd64.pyd)\n",
      "\n",
      "During handling of the above exception, another exception occurred:\n",
      "\n",
      "Traceback (most recent call last):\n",
      "  File \"C:\\ProgramData\\Anaconda3\\lib\\site-packages\\IPython\\core\\interactiveshell.py\", line 2105, in showtraceback\n",
      "    stb = self.InteractiveTB.structured_traceback(\n",
      "  File \"C:\\ProgramData\\Anaconda3\\lib\\site-packages\\IPython\\core\\ultratb.py\", line 1396, in structured_traceback\n",
      "    return FormattedTB.structured_traceback(\n",
      "  File \"C:\\ProgramData\\Anaconda3\\lib\\site-packages\\IPython\\core\\ultratb.py\", line 1287, in structured_traceback\n",
      "    return VerboseTB.structured_traceback(\n",
      "  File \"C:\\ProgramData\\Anaconda3\\lib\\site-packages\\IPython\\core\\ultratb.py\", line 1140, in structured_traceback\n",
      "    formatted_exception = self.format_exception_as_a_whole(etype, evalue, etb, number_of_lines_of_context,\n",
      "  File \"C:\\ProgramData\\Anaconda3\\lib\\site-packages\\IPython\\core\\ultratb.py\", line 1055, in format_exception_as_a_whole\n",
      "    frames.append(self.format_record(record))\n",
      "  File \"C:\\ProgramData\\Anaconda3\\lib\\site-packages\\IPython\\core\\ultratb.py\", line 955, in format_record\n",
      "    frame_info.lines, Colors, self.has_colors, lvals\n",
      "  File \"C:\\ProgramData\\Anaconda3\\lib\\site-packages\\IPython\\core\\ultratb.py\", line 778, in lines\n",
      "    return self._sd.lines\n",
      "  File \"C:\\ProgramData\\Anaconda3\\lib\\site-packages\\stack_data\\utils.py\", line 145, in cached_property_wrapper\n",
      "    value = obj.__dict__[self.func.__name__] = self.func(obj)\n",
      "  File \"C:\\ProgramData\\Anaconda3\\lib\\site-packages\\stack_data\\core.py\", line 698, in lines\n",
      "    pieces = self.included_pieces\n",
      "  File \"C:\\ProgramData\\Anaconda3\\lib\\site-packages\\stack_data\\utils.py\", line 145, in cached_property_wrapper\n",
      "    value = obj.__dict__[self.func.__name__] = self.func(obj)\n",
      "  File \"C:\\ProgramData\\Anaconda3\\lib\\site-packages\\stack_data\\core.py\", line 649, in included_pieces\n",
      "    pos = scope_pieces.index(self.executing_piece)\n",
      "  File \"C:\\ProgramData\\Anaconda3\\lib\\site-packages\\stack_data\\utils.py\", line 145, in cached_property_wrapper\n",
      "    value = obj.__dict__[self.func.__name__] = self.func(obj)\n",
      "  File \"C:\\ProgramData\\Anaconda3\\lib\\site-packages\\stack_data\\core.py\", line 628, in executing_piece\n",
      "    return only(\n",
      "  File \"C:\\ProgramData\\Anaconda3\\lib\\site-packages\\executing\\executing.py\", line 164, in only\n",
      "    raise NotOneValueFound('Expected one value, found 0')\n",
      "executing.executing.NotOneValueFound: Expected one value, found 0\n"
     ]
    }
   ],
   "source": [
    "!pip install ultralytics\n",
    "from ultralytics import YOLO\n",
    "\n",
    "model = YOLO(\"yolov8n-pose.pt\")      # @param [\"yolov8n-pose.pt\", \"yolov8s-pose.pt\", \"yolov8m-pose.pt\", \"yolov8l-pose.pt\", \"yolov8x-pose.pt\", \"yolov8x-pose-p6.pt\", \"yolo11n-pose.pt\", \"yolo11s-pose.pt\", \"yolo11m-pose.pt\", \"yolo11l-pose.pt\", \"yolo11x-pose.pt\"]"
   ]
  },
  {
   "cell_type": "markdown",
   "metadata": {},
   "source": [
    "### Train on Custom Dataset"
   ]
  },
  {
   "cell_type": "markdown",
   "metadata": {},
   "source": [
    "To quickly train the YOLO-pose model with different key points when the image size is 640, you can directly obtain the sample data set and its key point information from the ultralytics API, and modify it to what you need.\n",
    "\n",
    "**Options**: [[COCO8-Pose]](https://docs.ultralytics.com/datasets/pose/coco8-pose/) | [[Tiger-Pose]](https://docs.ultralytics.com/datasets/pose/tiger-pose/) | [[Hand Keypoints]](https://docs.ultralytics.com/datasets/pose/hand-keypoints/)"
   ]
  },
  {
   "cell_type": "code",
   "execution_count": 3,
   "metadata": {
    "colab": {
     "base_uri": "https://localhost:8080/"
    },
    "id": "sA4K0w13Sf13",
    "outputId": "4a89daa6-9a5c-48f6-8492-c485755cc5fd"
   },
   "outputs": [
    {
     "ename": "NameError",
     "evalue": "name 'model' is not defined",
     "output_type": "error",
     "traceback": [
      "\u001b[1;31m---------------------------------------------------------------------------\u001b[0m",
      "\u001b[1;31mNameError\u001b[0m                                 Traceback (most recent call last)",
      "Cell \u001b[1;32mIn[3], line 1\u001b[0m\n\u001b[1;32m----> 1\u001b[0m results \u001b[38;5;241m=\u001b[39m \u001b[43mmodel\u001b[49m\u001b[38;5;241m.\u001b[39mtrain(data\u001b[38;5;241m=\u001b[39m\u001b[38;5;124m\"\u001b[39m\u001b[38;5;124mcoco8-pose.yaml\u001b[39m\u001b[38;5;124m\"\u001b[39m, epochs\u001b[38;5;241m=\u001b[39m\u001b[38;5;241m100\u001b[39m, imgsz\u001b[38;5;241m=\u001b[39m\u001b[38;5;241m640\u001b[39m)\n",
      "\u001b[1;31mNameError\u001b[0m: name 'model' is not defined"
     ]
    }
   ],
   "source": [
    "results = model.train(data=\"coco8-pose.yaml\", epochs=100, imgsz=640)\n",
    "#results = model.train(data=\"tiger- pose.yaml\", epochs=100, imgsz=640)\n",
    "#results = model.train(data=\"hand-keypoints.yaml\", epochs=100, imgsz=640)"
   ]
  },
  {
   "cell_type": "markdown",
   "metadata": {},
   "source": [
    "### Evaluate Training Results"
   ]
  },
  {
   "cell_type": "code",
   "execution_count": null,
   "metadata": {
    "colab": {
     "base_uri": "https://localhost:8080/"
    },
    "id": "YV7k4zOAbC6y",
    "outputId": "a4e847fe-78d3-4e16-fca3-b9a6f0d836b4"
   },
   "outputs": [],
   "source": [
    "results.results_dict"
   ]
  },
  {
   "cell_type": "code",
   "execution_count": null,
   "metadata": {},
   "outputs": [],
   "source": []
  }
 ],
 "metadata": {
  "accelerator": "GPU",
  "colab": {
   "gpuType": "T4",
   "provenance": []
  },
  "kernelspec": {
   "display_name": "Python 3",
   "language": "python",
   "name": "python3"
  },
  "language_info": {
   "codemirror_mode": {
    "name": "ipython",
    "version": 3
   },
   "file_extension": ".py",
   "mimetype": "text/x-python",
   "name": "python",
   "nbconvert_exporter": "python",
   "pygments_lexer": "ipython3",
   "version": "3.8.18"
  }
 },
 "nbformat": 4,
 "nbformat_minor": 4
}
