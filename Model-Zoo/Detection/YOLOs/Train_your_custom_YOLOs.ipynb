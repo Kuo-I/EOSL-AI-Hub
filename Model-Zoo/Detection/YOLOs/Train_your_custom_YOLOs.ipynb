{
  "nbformat": 4,
  "nbformat_minor": 0,
  "metadata": {
    "colab": {
      "provenance": []
    },
    "kernelspec": {
      "name": "python3",
      "display_name": "Python 3"
    },
    "language_info": {
      "name": "python"
    }
  },
  "cells": [
    {
      "cell_type": "code",
      "execution_count": 1,
      "metadata": {
        "colab": {
          "base_uri": "https://localhost:8080/"
        },
        "id": "xbCBfAFDaZxB",
        "outputId": "ba916868-3d73-40b2-ef1b-00d326cade5f"
      },
      "outputs": [
        {
          "output_type": "stream",
          "name": "stdout",
          "text": [
            "--2024-11-06 09:02:51--  https://itriaihub.blob.core.windows.net/github-download-resources/repository/ITRI-AI-Hub/datasets/HardHat_Dataset.YOLO.zip\n",
            "Resolving itriaihub.blob.core.windows.net (itriaihub.blob.core.windows.net)... 20.209.42.36\n",
            "Connecting to itriaihub.blob.core.windows.net (itriaihub.blob.core.windows.net)|20.209.42.36|:443... connected.\n",
            "HTTP request sent, awaiting response... 200 OK\n",
            "Length: 3705720 (3.5M) [application/x-zip-compressed]\n",
            "Saving to: ‘HardHat_Dataset.YOLO.zip’\n",
            "\n",
            "HardHat_Dataset.YOL 100%[===================>]   3.53M  1.05MB/s    in 3.4s    \n",
            "\n",
            "2024-11-06 09:02:55 (1.05 MB/s) - ‘HardHat_Dataset.YOLO.zip’ saved [3705720/3705720]\n",
            "\n",
            "Archive:  HardHat_Dataset.YOLO.zip\n",
            "   creating: HardHat_Dataset.YOLO/\n",
            "  inflating: HardHat_Dataset.YOLO/data.yaml  \n",
            "  inflating: HardHat_Dataset.YOLO/README.roboflow.txt  \n",
            "   creating: HardHat_Dataset.YOLO/test/\n",
            "   creating: HardHat_Dataset.YOLO/test/images/\n",
            "  inflating: HardHat_Dataset.YOLO/test/images/000008_jpg.rf.8ddEpaD8kjf9Wwgm1P3I.jpg  \n",
            "  inflating: HardHat_Dataset.YOLO/test/images/000011_jpg.rf.n6TiaiPM2lzuMoiSQNmo.jpg  \n",
            "  inflating: HardHat_Dataset.YOLO/test/images/000034_jpg.rf.qntmyCFyZO1mm5K83Q2U.jpg  \n",
            "  inflating: HardHat_Dataset.YOLO/test/images/000047_jpg.rf.rrQnzhne8qC0aY5YFqTs.jpg  \n",
            "  inflating: HardHat_Dataset.YOLO/test/images/000054_jpg.rf.4rv9qXIezByFltihCAki.jpg  \n",
            "  inflating: HardHat_Dataset.YOLO/test/images/000073_jpg.rf.WaR1Cr7x6TS2HKvYK1x9.jpg  \n",
            "  inflating: HardHat_Dataset.YOLO/test/images/000076_jpg.rf.ySqZfAFjerLFbsr3lYFA.jpg  \n",
            "  inflating: HardHat_Dataset.YOLO/test/images/000084_jpg.rf.ypBrJPcN7GVM2jxfozBk.jpg  \n",
            "  inflating: HardHat_Dataset.YOLO/test/images/000097_jpg.rf.TiWcbiGnH5DmEu4s1ytr.jpg  \n",
            "  inflating: HardHat_Dataset.YOLO/test/images/000098_jpg.rf.nnm9JVksIPPAqpQTx76U.jpg  \n",
            "   creating: HardHat_Dataset.YOLO/test/labels/\n",
            "  inflating: HardHat_Dataset.YOLO/test/labels/000008_jpg.rf.8ddEpaD8kjf9Wwgm1P3I.txt  \n",
            "  inflating: HardHat_Dataset.YOLO/test/labels/000011_jpg.rf.n6TiaiPM2lzuMoiSQNmo.txt  \n",
            "  inflating: HardHat_Dataset.YOLO/test/labels/000034_jpg.rf.qntmyCFyZO1mm5K83Q2U.txt  \n",
            "  inflating: HardHat_Dataset.YOLO/test/labels/000047_jpg.rf.rrQnzhne8qC0aY5YFqTs.txt  \n",
            "  inflating: HardHat_Dataset.YOLO/test/labels/000054_jpg.rf.4rv9qXIezByFltihCAki.txt  \n",
            "  inflating: HardHat_Dataset.YOLO/test/labels/000073_jpg.rf.WaR1Cr7x6TS2HKvYK1x9.txt  \n",
            "  inflating: HardHat_Dataset.YOLO/test/labels/000076_jpg.rf.ySqZfAFjerLFbsr3lYFA.txt  \n",
            "  inflating: HardHat_Dataset.YOLO/test/labels/000084_jpg.rf.ypBrJPcN7GVM2jxfozBk.txt  \n",
            "  inflating: HardHat_Dataset.YOLO/test/labels/000097_jpg.rf.TiWcbiGnH5DmEu4s1ytr.txt  \n",
            "  inflating: HardHat_Dataset.YOLO/test/labels/000098_jpg.rf.nnm9JVksIPPAqpQTx76U.txt  \n",
            "   creating: HardHat_Dataset.YOLO/train/\n",
            "   creating: HardHat_Dataset.YOLO/train/images/\n",
            "  inflating: HardHat_Dataset.YOLO/train/images/000001_jpg.rf.lr4ZmXF3PvLg6puT9eTZ.jpg  \n",
            "  inflating: HardHat_Dataset.YOLO/train/images/000007_jpg.rf.mn7CnVZFyc8sfVSuTUU9.jpg  \n",
            "  inflating: HardHat_Dataset.YOLO/train/images/000012_jpg.rf.SXG83CiV3friXnUAZFvn.jpg  \n",
            "  inflating: HardHat_Dataset.YOLO/train/images/000013_jpg.rf.NKiMm27JcltSIR4TH6Yw.jpg  \n",
            "  inflating: HardHat_Dataset.YOLO/train/images/000014_jpg.rf.Pl5PKx0zQyRw6Z4twhRh.jpg  \n",
            "  inflating: HardHat_Dataset.YOLO/train/images/000016_jpg.rf.ZIq2bpsCTJ3aoHXhMujn.jpg  \n",
            "  inflating: HardHat_Dataset.YOLO/train/images/000017_jpg.rf.fmnhbILLEYBAbbgkCUzY.jpg  \n",
            "  inflating: HardHat_Dataset.YOLO/train/images/000018_jpg.rf.ejU3o24j3VaxiLXoYfmm.jpg  \n",
            "  inflating: HardHat_Dataset.YOLO/train/images/000019_jpg.rf.7JZ1deu9Lr71Mr87XEyr.jpg  \n",
            "  inflating: HardHat_Dataset.YOLO/train/images/000020_jpg.rf.6iWFXgOzff5GFKaCffKu.jpg  \n",
            "  inflating: HardHat_Dataset.YOLO/train/images/000021_jpg.rf.GHFXMr2bYhIOcHTR2I8a.jpg  \n",
            "  inflating: HardHat_Dataset.YOLO/train/images/000022_jpg.rf.IGCXkU0mFl300eqfrq4W.jpg  \n",
            "  inflating: HardHat_Dataset.YOLO/train/images/000023_jpg.rf.2PtGhFk0VisqQG0UKgeS.jpg  \n",
            "  inflating: HardHat_Dataset.YOLO/train/images/000024_jpg.rf.GeuqSF7poGvwFxLyQnD0.jpg  \n",
            "  inflating: HardHat_Dataset.YOLO/train/images/000025_jpg.rf.j90EdnFwguNExJ8Qlnac.jpg  \n",
            "  inflating: HardHat_Dataset.YOLO/train/images/000026_jpg.rf.lLox0IncnLd5vvl97wpt.jpg  \n",
            "  inflating: HardHat_Dataset.YOLO/train/images/000027_jpg.rf.VPRIBHENkqF8DRtsYoq6.jpg  \n",
            "  inflating: HardHat_Dataset.YOLO/train/images/000028_jpg.rf.cVcf9mxnqav9lIKjhKTB.jpg  \n",
            "  inflating: HardHat_Dataset.YOLO/train/images/000029_jpg.rf.EBQCCwqNWzhNSsO316mB.jpg  \n",
            "  inflating: HardHat_Dataset.YOLO/train/images/000030_jpg.rf.norcz4nZ6jiSQSahqSSv.jpg  \n",
            "  inflating: HardHat_Dataset.YOLO/train/images/000031_jpg.rf.0gOBdTRlsXHxeEoU6MrY.jpg  \n",
            "  inflating: HardHat_Dataset.YOLO/train/images/000032_jpg.rf.cUdwomewOltL7m7H8tom.jpg  \n",
            "  inflating: HardHat_Dataset.YOLO/train/images/000033_jpg.rf.jlc79Y5MRxqPQa92MJ2L.jpg  \n",
            "  inflating: HardHat_Dataset.YOLO/train/images/000035_jpg.rf.b964v8uDAWCqCWr06243.jpg  \n",
            "  inflating: HardHat_Dataset.YOLO/train/images/000036_jpg.rf.Qnva2FdBk3VJ9TfcLnVE.jpg  \n",
            "  inflating: HardHat_Dataset.YOLO/train/images/000037_jpg.rf.5T7nwKm9LinkkoqsPvnQ.jpg  \n",
            "  inflating: HardHat_Dataset.YOLO/train/images/000038_jpg.rf.blyuB6O3jcicHh6rcW6y.jpg  \n",
            "  inflating: HardHat_Dataset.YOLO/train/images/000039_jpg.rf.DdAwtHEjNjAlF7MHMERy.jpg  \n",
            "  inflating: HardHat_Dataset.YOLO/train/images/000040_jpg.rf.Z0b27laDa9tM1udrtbxu.jpg  \n",
            "  inflating: HardHat_Dataset.YOLO/train/images/000041_jpg.rf.ID0EFYpJ3AFVZ6dPexlu.jpg  \n",
            "  inflating: HardHat_Dataset.YOLO/train/images/000042_jpg.rf.gu1tKBJoYUPEK2TfmRgH.jpg  \n",
            "  inflating: HardHat_Dataset.YOLO/train/images/000044_jpg.rf.Y7aNPeRVl953G0Smpk7B.jpg  \n",
            "  inflating: HardHat_Dataset.YOLO/train/images/000045_jpg.rf.63JtErP9ClkjFvImok08.jpg  \n",
            "  inflating: HardHat_Dataset.YOLO/train/images/000049_jpg.rf.NJsuzQfhycmkMUHo4XKk.jpg  \n",
            "  inflating: HardHat_Dataset.YOLO/train/images/000050_jpg.rf.s0QUkANVPyRBszh7UaS5.jpg  \n",
            "  inflating: HardHat_Dataset.YOLO/train/images/000051_jpg.rf.Y1MHTGe7lgKqGKdeSvAA.jpg  \n",
            "  inflating: HardHat_Dataset.YOLO/train/images/000052_jpg.rf.bG12OWcn4wNqKupMqPVU.jpg  \n",
            "  inflating: HardHat_Dataset.YOLO/train/images/000053_jpg.rf.42lW2wsPitDMMdIdeHeX.jpg  \n",
            "  inflating: HardHat_Dataset.YOLO/train/images/000056_jpg.rf.DBLCiTl8d0xE20SR0nCN.jpg  \n",
            "  inflating: HardHat_Dataset.YOLO/train/images/000058_jpg.rf.YuZxHJr1b46TrpirGUGm.jpg  \n",
            "  inflating: HardHat_Dataset.YOLO/train/images/000059_jpg.rf.b2F46aXvPxUGRWbxbaYA.jpg  \n",
            "  inflating: HardHat_Dataset.YOLO/train/images/000060_jpg.rf.neA0AtXF901C9mcPC3rg.jpg  \n",
            "  inflating: HardHat_Dataset.YOLO/train/images/000061_jpg.rf.yrzgWg4swwYtUN4zfaev.jpg  \n",
            "  inflating: HardHat_Dataset.YOLO/train/images/000062_jpg.rf.qaBCRl1lJcfnE3dZHuNB.jpg  \n",
            "  inflating: HardHat_Dataset.YOLO/train/images/000064_jpg.rf.rZXmv7lDI6bSMRfV9pzc.jpg  \n",
            "  inflating: HardHat_Dataset.YOLO/train/images/000066_jpg.rf.n42Z6WlJzId2bXIyTocO.jpg  \n",
            "  inflating: HardHat_Dataset.YOLO/train/images/000067_jpg.rf.5QXCAaj4ORQgu79PXmF5.jpg  \n",
            "  inflating: HardHat_Dataset.YOLO/train/images/000068_jpg.rf.tonB2bT09Vu1Wj6hoCnQ.jpg  \n",
            "  inflating: HardHat_Dataset.YOLO/train/images/000069_jpg.rf.d1MM9KbeNiI7Rk11xq91.jpg  \n",
            "  inflating: HardHat_Dataset.YOLO/train/images/000070_jpg.rf.FS0D4Yn9tGvqhqV04Bqw.jpg  \n",
            "  inflating: HardHat_Dataset.YOLO/train/images/000072_jpg.rf.9sjrqItGLF1muAnUsp4X.jpg  \n",
            "  inflating: HardHat_Dataset.YOLO/train/images/000074_jpg.rf.0mhNgaIhuK6AksOZuIE7.jpg  \n",
            "  inflating: HardHat_Dataset.YOLO/train/images/000075_jpg.rf.JtQTSb5UCbP3592TkThM.jpg  \n",
            "  inflating: HardHat_Dataset.YOLO/train/images/000077_jpg.rf.9n4RChdCQApHrjx3LZz1.jpg  \n",
            "  inflating: HardHat_Dataset.YOLO/train/images/000078_jpg.rf.H2ek4btF7N2ghdmXFv8i.jpg  \n",
            "  inflating: HardHat_Dataset.YOLO/train/images/000079_jpg.rf.IOebpXGwlLZVvC0FcPt3.jpg  \n",
            "  inflating: HardHat_Dataset.YOLO/train/images/000080_jpg.rf.ccWXnwgMKKHp9BYA3ARq.jpg  \n",
            "  inflating: HardHat_Dataset.YOLO/train/images/000081_jpg.rf.ZcWyAWeqDpUm1Bpmpk3W.jpg  \n",
            "  inflating: HardHat_Dataset.YOLO/train/images/000082_jpg.rf.imhAb6oKepLm9B3TA9q0.jpg  \n",
            "  inflating: HardHat_Dataset.YOLO/train/images/000083_jpg.rf.3kqxcVBX5xiUn1seP3UR.jpg  \n",
            "  inflating: HardHat_Dataset.YOLO/train/images/000085_jpg.rf.aZ3Q7Wy94WQ6i05e7CM0.jpg  \n",
            "  inflating: HardHat_Dataset.YOLO/train/images/000086_jpg.rf.vOm6zJIiagrPWUcDWZT2.jpg  \n",
            "  inflating: HardHat_Dataset.YOLO/train/images/000087_jpg.rf.lJPmeH4TPXtfnCZVJrGY.jpg  \n",
            "  inflating: HardHat_Dataset.YOLO/train/images/000089_jpg.rf.wvu4hEGMA72ZcIV5niww.jpg  \n",
            "  inflating: HardHat_Dataset.YOLO/train/images/000090_jpg.rf.thD0aBzhv7T3yHKyHpL9.jpg  \n",
            "  inflating: HardHat_Dataset.YOLO/train/images/000092_jpg.rf.rb0MN0wMcwaLhvNz8AFx.jpg  \n",
            "  inflating: HardHat_Dataset.YOLO/train/images/000093_jpg.rf.vyRp7GG7PHuksTTLWHpj.jpg  \n",
            "  inflating: HardHat_Dataset.YOLO/train/images/000094_jpg.rf.DpdZYGvWVeZZdz79mEuX.jpg  \n",
            "  inflating: HardHat_Dataset.YOLO/train/images/000096_jpg.rf.dRa1uZXefKajmoBDBLCm.jpg  \n",
            "  inflating: HardHat_Dataset.YOLO/train/images/000100_jpg.rf.BzOp5ivVZTzPYFCmYYdx.jpg  \n",
            "   creating: HardHat_Dataset.YOLO/train/labels/\n",
            "  inflating: HardHat_Dataset.YOLO/train/labels/000001_jpg.rf.lr4ZmXF3PvLg6puT9eTZ.txt  \n",
            "  inflating: HardHat_Dataset.YOLO/train/labels/000007_jpg.rf.mn7CnVZFyc8sfVSuTUU9.txt  \n",
            "  inflating: HardHat_Dataset.YOLO/train/labels/000012_jpg.rf.SXG83CiV3friXnUAZFvn.txt  \n",
            "  inflating: HardHat_Dataset.YOLO/train/labels/000013_jpg.rf.NKiMm27JcltSIR4TH6Yw.txt  \n",
            "  inflating: HardHat_Dataset.YOLO/train/labels/000014_jpg.rf.Pl5PKx0zQyRw6Z4twhRh.txt  \n",
            "  inflating: HardHat_Dataset.YOLO/train/labels/000016_jpg.rf.ZIq2bpsCTJ3aoHXhMujn.txt  \n",
            "  inflating: HardHat_Dataset.YOLO/train/labels/000017_jpg.rf.fmnhbILLEYBAbbgkCUzY.txt  \n",
            "  inflating: HardHat_Dataset.YOLO/train/labels/000018_jpg.rf.ejU3o24j3VaxiLXoYfmm.txt  \n",
            "  inflating: HardHat_Dataset.YOLO/train/labels/000019_jpg.rf.7JZ1deu9Lr71Mr87XEyr.txt  \n",
            "  inflating: HardHat_Dataset.YOLO/train/labels/000020_jpg.rf.6iWFXgOzff5GFKaCffKu.txt  \n",
            "  inflating: HardHat_Dataset.YOLO/train/labels/000021_jpg.rf.GHFXMr2bYhIOcHTR2I8a.txt  \n",
            "  inflating: HardHat_Dataset.YOLO/train/labels/000022_jpg.rf.IGCXkU0mFl300eqfrq4W.txt  \n",
            "  inflating: HardHat_Dataset.YOLO/train/labels/000023_jpg.rf.2PtGhFk0VisqQG0UKgeS.txt  \n",
            "  inflating: HardHat_Dataset.YOLO/train/labels/000024_jpg.rf.GeuqSF7poGvwFxLyQnD0.txt  \n",
            "  inflating: HardHat_Dataset.YOLO/train/labels/000025_jpg.rf.j90EdnFwguNExJ8Qlnac.txt  \n",
            "  inflating: HardHat_Dataset.YOLO/train/labels/000026_jpg.rf.lLox0IncnLd5vvl97wpt.txt  \n",
            "  inflating: HardHat_Dataset.YOLO/train/labels/000027_jpg.rf.VPRIBHENkqF8DRtsYoq6.txt  \n",
            "  inflating: HardHat_Dataset.YOLO/train/labels/000028_jpg.rf.cVcf9mxnqav9lIKjhKTB.txt  \n",
            "  inflating: HardHat_Dataset.YOLO/train/labels/000029_jpg.rf.EBQCCwqNWzhNSsO316mB.txt  \n",
            "  inflating: HardHat_Dataset.YOLO/train/labels/000030_jpg.rf.norcz4nZ6jiSQSahqSSv.txt  \n",
            "  inflating: HardHat_Dataset.YOLO/train/labels/000031_jpg.rf.0gOBdTRlsXHxeEoU6MrY.txt  \n",
            "  inflating: HardHat_Dataset.YOLO/train/labels/000032_jpg.rf.cUdwomewOltL7m7H8tom.txt  \n",
            "  inflating: HardHat_Dataset.YOLO/train/labels/000033_jpg.rf.jlc79Y5MRxqPQa92MJ2L.txt  \n",
            "  inflating: HardHat_Dataset.YOLO/train/labels/000035_jpg.rf.b964v8uDAWCqCWr06243.txt  \n",
            "  inflating: HardHat_Dataset.YOLO/train/labels/000036_jpg.rf.Qnva2FdBk3VJ9TfcLnVE.txt  \n",
            "  inflating: HardHat_Dataset.YOLO/train/labels/000037_jpg.rf.5T7nwKm9LinkkoqsPvnQ.txt  \n",
            "  inflating: HardHat_Dataset.YOLO/train/labels/000038_jpg.rf.blyuB6O3jcicHh6rcW6y.txt  \n",
            "  inflating: HardHat_Dataset.YOLO/train/labels/000039_jpg.rf.DdAwtHEjNjAlF7MHMERy.txt  \n",
            "  inflating: HardHat_Dataset.YOLO/train/labels/000040_jpg.rf.Z0b27laDa9tM1udrtbxu.txt  \n",
            "  inflating: HardHat_Dataset.YOLO/train/labels/000041_jpg.rf.ID0EFYpJ3AFVZ6dPexlu.txt  \n",
            "  inflating: HardHat_Dataset.YOLO/train/labels/000042_jpg.rf.gu1tKBJoYUPEK2TfmRgH.txt  \n",
            "  inflating: HardHat_Dataset.YOLO/train/labels/000044_jpg.rf.Y7aNPeRVl953G0Smpk7B.txt  \n",
            "  inflating: HardHat_Dataset.YOLO/train/labels/000045_jpg.rf.63JtErP9ClkjFvImok08.txt  \n",
            "  inflating: HardHat_Dataset.YOLO/train/labels/000049_jpg.rf.NJsuzQfhycmkMUHo4XKk.txt  \n",
            "  inflating: HardHat_Dataset.YOLO/train/labels/000050_jpg.rf.s0QUkANVPyRBszh7UaS5.txt  \n",
            "  inflating: HardHat_Dataset.YOLO/train/labels/000051_jpg.rf.Y1MHTGe7lgKqGKdeSvAA.txt  \n",
            "  inflating: HardHat_Dataset.YOLO/train/labels/000052_jpg.rf.bG12OWcn4wNqKupMqPVU.txt  \n",
            "  inflating: HardHat_Dataset.YOLO/train/labels/000053_jpg.rf.42lW2wsPitDMMdIdeHeX.txt  \n",
            "  inflating: HardHat_Dataset.YOLO/train/labels/000056_jpg.rf.DBLCiTl8d0xE20SR0nCN.txt  \n",
            "  inflating: HardHat_Dataset.YOLO/train/labels/000058_jpg.rf.YuZxHJr1b46TrpirGUGm.txt  \n",
            "  inflating: HardHat_Dataset.YOLO/train/labels/000059_jpg.rf.b2F46aXvPxUGRWbxbaYA.txt  \n",
            "  inflating: HardHat_Dataset.YOLO/train/labels/000060_jpg.rf.neA0AtXF901C9mcPC3rg.txt  \n",
            "  inflating: HardHat_Dataset.YOLO/train/labels/000061_jpg.rf.yrzgWg4swwYtUN4zfaev.txt  \n",
            "  inflating: HardHat_Dataset.YOLO/train/labels/000062_jpg.rf.qaBCRl1lJcfnE3dZHuNB.txt  \n",
            "  inflating: HardHat_Dataset.YOLO/train/labels/000064_jpg.rf.rZXmv7lDI6bSMRfV9pzc.txt  \n",
            "  inflating: HardHat_Dataset.YOLO/train/labels/000066_jpg.rf.n42Z6WlJzId2bXIyTocO.txt  \n",
            "  inflating: HardHat_Dataset.YOLO/train/labels/000067_jpg.rf.5QXCAaj4ORQgu79PXmF5.txt  \n",
            "  inflating: HardHat_Dataset.YOLO/train/labels/000068_jpg.rf.tonB2bT09Vu1Wj6hoCnQ.txt  \n",
            "  inflating: HardHat_Dataset.YOLO/train/labels/000069_jpg.rf.d1MM9KbeNiI7Rk11xq91.txt  \n",
            "  inflating: HardHat_Dataset.YOLO/train/labels/000070_jpg.rf.FS0D4Yn9tGvqhqV04Bqw.txt  \n",
            "  inflating: HardHat_Dataset.YOLO/train/labels/000072_jpg.rf.9sjrqItGLF1muAnUsp4X.txt  \n",
            "  inflating: HardHat_Dataset.YOLO/train/labels/000074_jpg.rf.0mhNgaIhuK6AksOZuIE7.txt  \n",
            "  inflating: HardHat_Dataset.YOLO/train/labels/000075_jpg.rf.JtQTSb5UCbP3592TkThM.txt  \n",
            "  inflating: HardHat_Dataset.YOLO/train/labels/000077_jpg.rf.9n4RChdCQApHrjx3LZz1.txt  \n",
            "  inflating: HardHat_Dataset.YOLO/train/labels/000078_jpg.rf.H2ek4btF7N2ghdmXFv8i.txt  \n",
            "  inflating: HardHat_Dataset.YOLO/train/labels/000079_jpg.rf.IOebpXGwlLZVvC0FcPt3.txt  \n",
            "  inflating: HardHat_Dataset.YOLO/train/labels/000080_jpg.rf.ccWXnwgMKKHp9BYA3ARq.txt  \n",
            "  inflating: HardHat_Dataset.YOLO/train/labels/000081_jpg.rf.ZcWyAWeqDpUm1Bpmpk3W.txt  \n",
            "  inflating: HardHat_Dataset.YOLO/train/labels/000082_jpg.rf.imhAb6oKepLm9B3TA9q0.txt  \n",
            "  inflating: HardHat_Dataset.YOLO/train/labels/000083_jpg.rf.3kqxcVBX5xiUn1seP3UR.txt  \n",
            "  inflating: HardHat_Dataset.YOLO/train/labels/000085_jpg.rf.aZ3Q7Wy94WQ6i05e7CM0.txt  \n",
            "  inflating: HardHat_Dataset.YOLO/train/labels/000086_jpg.rf.vOm6zJIiagrPWUcDWZT2.txt  \n",
            "  inflating: HardHat_Dataset.YOLO/train/labels/000087_jpg.rf.lJPmeH4TPXtfnCZVJrGY.txt  \n",
            "  inflating: HardHat_Dataset.YOLO/train/labels/000089_jpg.rf.wvu4hEGMA72ZcIV5niww.txt  \n",
            "  inflating: HardHat_Dataset.YOLO/train/labels/000090_jpg.rf.thD0aBzhv7T3yHKyHpL9.txt  \n",
            "  inflating: HardHat_Dataset.YOLO/train/labels/000092_jpg.rf.rb0MN0wMcwaLhvNz8AFx.txt  \n",
            "  inflating: HardHat_Dataset.YOLO/train/labels/000093_jpg.rf.vyRp7GG7PHuksTTLWHpj.txt  \n",
            "  inflating: HardHat_Dataset.YOLO/train/labels/000094_jpg.rf.DpdZYGvWVeZZdz79mEuX.txt  \n",
            "  inflating: HardHat_Dataset.YOLO/train/labels/000096_jpg.rf.dRa1uZXefKajmoBDBLCm.txt  \n",
            "  inflating: HardHat_Dataset.YOLO/train/labels/000100_jpg.rf.BzOp5ivVZTzPYFCmYYdx.txt  \n",
            "   creating: HardHat_Dataset.YOLO/valid/\n",
            "   creating: HardHat_Dataset.YOLO/valid/images/\n",
            "  inflating: HardHat_Dataset.YOLO/valid/images/000002_jpg.rf.TlCjYNxN0dHXRn6ctWn5.jpg  \n",
            "  inflating: HardHat_Dataset.YOLO/valid/images/000003_jpg.rf.EjIdAhHuafGrfVhehoij.jpg  \n",
            "  inflating: HardHat_Dataset.YOLO/valid/images/000004_jpg.rf.2GdL1eNABqI43qeB9rXr.jpg  \n",
            "  inflating: HardHat_Dataset.YOLO/valid/images/000005_jpg.rf.IK4SxvmKAdE1oZQ2HTDP.jpg  \n",
            "  inflating: HardHat_Dataset.YOLO/valid/images/000006_jpg.rf.flfDLCVd3tPH0v65BrQC.jpg  \n",
            "  inflating: HardHat_Dataset.YOLO/valid/images/000009_jpg.rf.Ir5w16tzcvVT0LmMaLsj.jpg  \n",
            "  inflating: HardHat_Dataset.YOLO/valid/images/000010_jpg.rf.7zS8QbkzXx5yCyeU2AuQ.jpg  \n",
            "  inflating: HardHat_Dataset.YOLO/valid/images/000015_jpg.rf.tRd4zoJP3vdWLz8IH3gN.jpg  \n",
            "  inflating: HardHat_Dataset.YOLO/valid/images/000043_jpg.rf.QmNTLAsIrQ7QLD1t6Oue.jpg  \n",
            "  inflating: HardHat_Dataset.YOLO/valid/images/000046_jpg.rf.kKFomGyV5pD4rFt0cp6t.jpg  \n",
            "  inflating: HardHat_Dataset.YOLO/valid/images/000048_jpg.rf.GvZcBmbGjfHpZ7oZ9k2n.jpg  \n",
            "  inflating: HardHat_Dataset.YOLO/valid/images/000055_jpg.rf.0Yk2MA7lmPmTcczN0Tcr.jpg  \n",
            "  inflating: HardHat_Dataset.YOLO/valid/images/000063_jpg.rf.fv1FHLDZzHuTGcFh2NHk.jpg  \n",
            "  inflating: HardHat_Dataset.YOLO/valid/images/000065_jpg.rf.FX2AuBNCGfGzs94x3kmD.jpg  \n",
            "  inflating: HardHat_Dataset.YOLO/valid/images/000071_jpg.rf.waLD6hhz137pK57LrHgW.jpg  \n",
            "  inflating: HardHat_Dataset.YOLO/valid/images/000088_jpg.rf.B6UqpphUZFXwTPdQgrNQ.jpg  \n",
            "  inflating: HardHat_Dataset.YOLO/valid/images/000091_jpg.rf.LrtkMqnIntdJ843SL5ax.jpg  \n",
            "  inflating: HardHat_Dataset.YOLO/valid/images/000099_jpg.rf.HDeWNLsEC4a7Lp3dgBrH.jpg  \n",
            "  inflating: HardHat_Dataset.YOLO/valid/images/000101_jpg.rf.onyq0ctZMDwxamdFdycU.jpg  \n",
            "  inflating: HardHat_Dataset.YOLO/valid/images/000102_jpg.rf.NxJRm40Pcb42W5gbi1S7.jpg  \n",
            "   creating: HardHat_Dataset.YOLO/valid/labels/\n",
            "  inflating: HardHat_Dataset.YOLO/valid/labels/000002_jpg.rf.TlCjYNxN0dHXRn6ctWn5.txt  \n",
            "  inflating: HardHat_Dataset.YOLO/valid/labels/000003_jpg.rf.EjIdAhHuafGrfVhehoij.txt  \n",
            "  inflating: HardHat_Dataset.YOLO/valid/labels/000004_jpg.rf.2GdL1eNABqI43qeB9rXr.txt  \n",
            "  inflating: HardHat_Dataset.YOLO/valid/labels/000005_jpg.rf.IK4SxvmKAdE1oZQ2HTDP.txt  \n",
            "  inflating: HardHat_Dataset.YOLO/valid/labels/000006_jpg.rf.flfDLCVd3tPH0v65BrQC.txt  \n",
            "  inflating: HardHat_Dataset.YOLO/valid/labels/000009_jpg.rf.Ir5w16tzcvVT0LmMaLsj.txt  \n",
            "  inflating: HardHat_Dataset.YOLO/valid/labels/000010_jpg.rf.7zS8QbkzXx5yCyeU2AuQ.txt  \n",
            "  inflating: HardHat_Dataset.YOLO/valid/labels/000015_jpg.rf.tRd4zoJP3vdWLz8IH3gN.txt  \n",
            "  inflating: HardHat_Dataset.YOLO/valid/labels/000043_jpg.rf.QmNTLAsIrQ7QLD1t6Oue.txt  \n",
            "  inflating: HardHat_Dataset.YOLO/valid/labels/000046_jpg.rf.kKFomGyV5pD4rFt0cp6t.txt  \n",
            "  inflating: HardHat_Dataset.YOLO/valid/labels/000048_jpg.rf.GvZcBmbGjfHpZ7oZ9k2n.txt  \n",
            "  inflating: HardHat_Dataset.YOLO/valid/labels/000055_jpg.rf.0Yk2MA7lmPmTcczN0Tcr.txt  \n",
            "  inflating: HardHat_Dataset.YOLO/valid/labels/000063_jpg.rf.fv1FHLDZzHuTGcFh2NHk.txt  \n",
            "  inflating: HardHat_Dataset.YOLO/valid/labels/000065_jpg.rf.FX2AuBNCGfGzs94x3kmD.txt  \n",
            "  inflating: HardHat_Dataset.YOLO/valid/labels/000071_jpg.rf.waLD6hhz137pK57LrHgW.txt  \n",
            "  inflating: HardHat_Dataset.YOLO/valid/labels/000088_jpg.rf.B6UqpphUZFXwTPdQgrNQ.txt  \n",
            "  inflating: HardHat_Dataset.YOLO/valid/labels/000091_jpg.rf.LrtkMqnIntdJ843SL5ax.txt  \n",
            "  inflating: HardHat_Dataset.YOLO/valid/labels/000099_jpg.rf.HDeWNLsEC4a7Lp3dgBrH.txt  \n",
            "  inflating: HardHat_Dataset.YOLO/valid/labels/000101_jpg.rf.onyq0ctZMDwxamdFdycU.txt  \n",
            "  inflating: HardHat_Dataset.YOLO/valid/labels/000102_jpg.rf.NxJRm40Pcb42W5gbi1S7.txt  \n"
          ]
        }
      ],
      "source": [
        "!wget https://itriaihub.blob.core.windows.net/github-download-resources/repository/ITRI-AI-Hub/datasets/HardHat_Dataset.YOLO.zip\n",
        "!unzip HardHat_Dataset.YOLO.zip"
      ]
    },
    {
      "cell_type": "code",
      "source": [
        "#optional\n",
        "!git clone https://github.com/R300-AI/AutoAugment.git\n",
        "!pip install -r AutoAugment/requirements.txt"
      ],
      "metadata": {
        "colab": {
          "base_uri": "https://localhost:8080/"
        },
        "id": "u2WSrdecgIj4",
        "outputId": "f277545f-bc8e-46c7-b2fe-0fd7d12b3b35"
      },
      "execution_count": 2,
      "outputs": [
        {
          "output_type": "stream",
          "name": "stdout",
          "text": [
            "Cloning into 'AutoAugment'...\n",
            "remote: Enumerating objects: 66, done.\u001b[K\n",
            "remote: Counting objects: 100% (66/66), done.\u001b[K\n",
            "remote: Compressing objects: 100% (63/63), done.\u001b[K\n",
            "remote: Total 66 (delta 17), reused 0 (delta 0), pack-reused 0 (from 0)\u001b[K\n",
            "Receiving objects: 100% (66/66), 27.71 KiB | 1.98 MiB/s, done.\n",
            "Resolving deltas: 100% (17/17), done.\n",
            "Requirement already satisfied: albumentations in /usr/local/lib/python3.10/dist-packages (from -r AutoAugment/requirements.txt (line 1)) (1.4.20)\n",
            "Requirement already satisfied: numpy>=1.24.4 in /usr/local/lib/python3.10/dist-packages (from albumentations->-r AutoAugment/requirements.txt (line 1)) (1.26.4)\n",
            "Requirement already satisfied: scipy>=1.10.0 in /usr/local/lib/python3.10/dist-packages (from albumentations->-r AutoAugment/requirements.txt (line 1)) (1.13.1)\n",
            "Requirement already satisfied: PyYAML in /usr/local/lib/python3.10/dist-packages (from albumentations->-r AutoAugment/requirements.txt (line 1)) (6.0.2)\n",
            "Requirement already satisfied: pydantic>=2.7.0 in /usr/local/lib/python3.10/dist-packages (from albumentations->-r AutoAugment/requirements.txt (line 1)) (2.9.2)\n",
            "Requirement already satisfied: albucore==0.0.19 in /usr/local/lib/python3.10/dist-packages (from albumentations->-r AutoAugment/requirements.txt (line 1)) (0.0.19)\n",
            "Requirement already satisfied: eval-type-backport in /usr/local/lib/python3.10/dist-packages (from albumentations->-r AutoAugment/requirements.txt (line 1)) (0.2.0)\n",
            "Requirement already satisfied: opencv-python-headless>=4.9.0.80 in /usr/local/lib/python3.10/dist-packages (from albumentations->-r AutoAugment/requirements.txt (line 1)) (4.10.0.84)\n",
            "Requirement already satisfied: stringzilla>=3.10.4 in /usr/local/lib/python3.10/dist-packages (from albucore==0.0.19->albumentations->-r AutoAugment/requirements.txt (line 1)) (3.10.6)\n",
            "Requirement already satisfied: annotated-types>=0.6.0 in /usr/local/lib/python3.10/dist-packages (from pydantic>=2.7.0->albumentations->-r AutoAugment/requirements.txt (line 1)) (0.7.0)\n",
            "Requirement already satisfied: pydantic-core==2.23.4 in /usr/local/lib/python3.10/dist-packages (from pydantic>=2.7.0->albumentations->-r AutoAugment/requirements.txt (line 1)) (2.23.4)\n",
            "Requirement already satisfied: typing-extensions>=4.6.1 in /usr/local/lib/python3.10/dist-packages (from pydantic>=2.7.0->albumentations->-r AutoAugment/requirements.txt (line 1)) (4.12.2)\n"
          ]
        }
      ]
    },
    {
      "cell_type": "markdown",
      "source": [
        "https://huggingface.co/spaces/qubvel-hf/albumentations-demo"
      ],
      "metadata": {
        "id": "gb9HgPNIlCNS"
      }
    },
    {
      "cell_type": "code",
      "source": [
        "from AutoAugment.augmentors import ObjectAugmentor\n",
        "from IPython.display import display, Image\n",
        "import albumentations as A\n",
        "import warnings, os\n",
        "\n",
        "warnings.simplefilter(\"ignore\")\n",
        "\n",
        "augmentor = ObjectAugmentor(maximum_size = 16, maximum_process_second = 60)\n",
        "NEW_DATASET_PATH = augmentor.fit('/content/HardHat_Dataset.YOLO', [A.Blur(p=0.8), A.CLAHE(p=0.8), A.GaussNoise(p=0.8), A.HorizontalFlip(p=0.5), A.PixelDropout(p=0.8),\n",
        "                                      A.RandomBrightnessContrast(p=0.9), A.RandomShadow(p=0.8, shadow_intensity_range=(0.6, 0.9)),\n",
        "                                      A.BBoxSafeRandomCrop(p=.7), A.ColorJitter(p=.8)] , save=True, verbose=True)\n",
        "\n",
        "log = os.listdir(f\"{NEW_DATASET_PATH}/log\")[-1]\n",
        "display(Image(filename=f\"{NEW_DATASET_PATH}/log/{log}\"))"
      ],
      "metadata": {
        "colab": {
          "base_uri": "https://localhost:8080/",
          "height": 629
        },
        "id": "U5SkEfKkgRxU",
        "outputId": "12b3638a-f885-4e45-a489-627075922694"
      },
      "execution_count": 3,
      "outputs": [
        {
          "output_type": "stream",
          "name": "stderr",
          "text": [
            "/usr/local/lib/python3.10/dist-packages/albumentations/__init__.py:24: UserWarning: A new version of Albumentations is available: 1.4.21 (you have 1.4.20). Upgrade using: pip install -U albumentations. To disable automatic update checks, set the environment variable NO_ALBUMENTATIONS_UPDATE to 1.\n",
            "  check_for_updates()\n"
          ]
        },
        {
          "output_type": "stream",
          "name": "stdout",
          "text": [
            "summary the samples...\n",
            "process each samples limited to 0.8571428571428571 seconds.\n"
          ]
        },
        {
          "output_type": "stream",
          "name": "stderr",
          "text": [
            "100%|██████████| 70/70 [04:25<00:00,  3.79s/it]\n"
          ]
        },
        {
          "output_type": "display_data",
          "data": {
            "image/jpeg": "[encoded data removed]",
            "text/plain": [
              "<IPython.core.display.Image object>"
            ]
          },
          "metadata": {}
        }
      ]
    },
    {
      "cell_type": "code",
      "source": [
        "!pip install ultralytics\n",
        "from ultralytics import YOLO\n",
        "\n",
        "model = YOLO('yolov8n.pt')\n",
        "model"
      ],
      "metadata": {
        "colab": {
          "base_uri": "https://localhost:8080/"
        },
        "id": "s8ZSq34kdKpN",
        "outputId": "a2314968-900f-4177-aac3-707fb35217e7"
      },
      "execution_count": 4,
      "outputs": [
        {
          "output_type": "stream",
          "name": "stdout",
          "text": [
            "Collecting ultralytics\n",
            "  Downloading ultralytics-8.3.27-py3-none-any.whl.metadata (35 kB)\n",
            "Requirement already satisfied: numpy>=1.23.0 in /usr/local/lib/python3.10/dist-packages (from ultralytics) (1.26.4)\n",
            "Requirement already satisfied: matplotlib>=3.3.0 in /usr/local/lib/python3.10/dist-packages (from ultralytics) (3.8.0)\n",
            "Requirement already satisfied: opencv-python>=4.6.0 in /usr/local/lib/python3.10/dist-packages (from ultralytics) (4.10.0.84)\n",
            "Requirement already satisfied: pillow>=7.1.2 in /usr/local/lib/python3.10/dist-packages (from ultralytics) (10.4.0)\n",
            "Requirement already satisfied: pyyaml>=5.3.1 in /usr/local/lib/python3.10/dist-packages (from ultralytics) (6.0.2)\n",
            "Requirement already satisfied: requests>=2.23.0 in /usr/local/lib/python3.10/dist-packages (from ultralytics) (2.32.3)\n",
            "Requirement already satisfied: scipy>=1.4.1 in /usr/local/lib/python3.10/dist-packages (from ultralytics) (1.13.1)\n",
            "Requirement already satisfied: torch>=1.8.0 in /usr/local/lib/python3.10/dist-packages (from ultralytics) (2.5.0+cu121)\n",
            "Requirement already satisfied: torchvision>=0.9.0 in /usr/local/lib/python3.10/dist-packages (from ultralytics) (0.20.0+cu121)\n",
            "Requirement already satisfied: tqdm>=4.64.0 in /usr/local/lib/python3.10/dist-packages (from ultralytics) (4.66.6)\n",
            "Requirement already satisfied: psutil in /usr/local/lib/python3.10/dist-packages (from ultralytics) (5.9.5)\n",
            "Requirement already satisfied: py-cpuinfo in /usr/local/lib/python3.10/dist-packages (from ultralytics) (9.0.0)\n",
            "Requirement already satisfied: pandas>=1.1.4 in /usr/local/lib/python3.10/dist-packages (from ultralytics) (2.2.2)\n",
            "Requirement already satisfied: seaborn>=0.11.0 in /usr/local/lib/python3.10/dist-packages (from ultralytics) (0.13.2)\n",
            "Collecting ultralytics-thop>=2.0.0 (from ultralytics)\n",
            "  Downloading ultralytics_thop-2.0.10-py3-none-any.whl.metadata (9.4 kB)\n",
            "Requirement already satisfied: contourpy>=1.0.1 in /usr/local/lib/python3.10/dist-packages (from matplotlib>=3.3.0->ultralytics) (1.3.0)\n",
            "Requirement already satisfied: cycler>=0.10 in /usr/local/lib/python3.10/dist-packages (from matplotlib>=3.3.0->ultralytics) (0.12.1)\n",
            "Requirement already satisfied: fonttools>=4.22.0 in /usr/local/lib/python3.10/dist-packages (from matplotlib>=3.3.0->ultralytics) (4.54.1)\n",
            "Requirement already satisfied: kiwisolver>=1.0.1 in /usr/local/lib/python3.10/dist-packages (from matplotlib>=3.3.0->ultralytics) (1.4.7)\n",
            "Requirement already satisfied: packaging>=20.0 in /usr/local/lib/python3.10/dist-packages (from matplotlib>=3.3.0->ultralytics) (24.1)\n",
            "Requirement already satisfied: pyparsing>=2.3.1 in /usr/local/lib/python3.10/dist-packages (from matplotlib>=3.3.0->ultralytics) (3.2.0)\n",
            "Requirement already satisfied: python-dateutil>=2.7 in /usr/local/lib/python3.10/dist-packages (from matplotlib>=3.3.0->ultralytics) (2.8.2)\n",
            "Requirement already satisfied: pytz>=2020.1 in /usr/local/lib/python3.10/dist-packages (from pandas>=1.1.4->ultralytics) (2024.2)\n",
            "Requirement already satisfied: tzdata>=2022.7 in /usr/local/lib/python3.10/dist-packages (from pandas>=1.1.4->ultralytics) (2024.2)\n",
            "Requirement already satisfied: charset-normalizer<4,>=2 in /usr/local/lib/python3.10/dist-packages (from requests>=2.23.0->ultralytics) (3.4.0)\n",
            "Requirement already satisfied: idna<4,>=2.5 in /usr/local/lib/python3.10/dist-packages (from requests>=2.23.0->ultralytics) (3.10)\n",
            "Requirement already satisfied: urllib3<3,>=1.21.1 in /usr/local/lib/python3.10/dist-packages (from requests>=2.23.0->ultralytics) (2.2.3)\n",
            "Requirement already satisfied: certifi>=2017.4.17 in /usr/local/lib/python3.10/dist-packages (from requests>=2.23.0->ultralytics) (2024.8.30)\n",
            "Requirement already satisfied: filelock in /usr/local/lib/python3.10/dist-packages (from torch>=1.8.0->ultralytics) (3.16.1)\n",
            "Requirement already satisfied: typing-extensions>=4.8.0 in /usr/local/lib/python3.10/dist-packages (from torch>=1.8.0->ultralytics) (4.12.2)\n",
            "Requirement already satisfied: networkx in /usr/local/lib/python3.10/dist-packages (from torch>=1.8.0->ultralytics) (3.4.2)\n",
            "Requirement already satisfied: jinja2 in /usr/local/lib/python3.10/dist-packages (from torch>=1.8.0->ultralytics) (3.1.4)\n",
            "Requirement already satisfied: fsspec in /usr/local/lib/python3.10/dist-packages (from torch>=1.8.0->ultralytics) (2024.10.0)\n",
            "Requirement already satisfied: sympy==1.13.1 in /usr/local/lib/python3.10/dist-packages (from torch>=1.8.0->ultralytics) (1.13.1)\n",
            "Requirement already satisfied: mpmath<1.4,>=1.1.0 in /usr/local/lib/python3.10/dist-packages (from sympy==1.13.1->torch>=1.8.0->ultralytics) (1.3.0)\n",
            "Requirement already satisfied: six>=1.5 in /usr/local/lib/python3.10/dist-packages (from python-dateutil>=2.7->matplotlib>=3.3.0->ultralytics) (1.16.0)\n",
            "Requirement already satisfied: MarkupSafe>=2.0 in /usr/local/lib/python3.10/dist-packages (from jinja2->torch>=1.8.0->ultralytics) (3.0.2)\n",
            "Downloading ultralytics-8.3.27-py3-none-any.whl (878 kB)\n",
            "\u001b[2K   \u001b[90m━━━━━━━━━━━━━━━━━━━━━━━━━━━━━━━━━━━━━━━━\u001b[0m \u001b[32m879.0/879.0 kB\u001b[0m \u001b[31m15.6 MB/s\u001b[0m eta \u001b[36m0:00:00\u001b[0m\n",
            "\u001b[?25hDownloading ultralytics_thop-2.0.10-py3-none-any.whl (26 kB)\n",
            "Installing collected packages: ultralytics-thop, ultralytics\n",
            "Successfully installed ultralytics-8.3.27 ultralytics-thop-2.0.10\n",
            "Creating new Ultralytics Settings v0.0.6 file ✅ \n",
            "View Ultralytics Settings with 'yolo settings' or at '/root/.config/Ultralytics/settings.json'\n",
            "Update Settings with 'yolo settings key=value', i.e. 'yolo settings runs_dir=path/to/dir'. For help see https://docs.ultralytics.com/quickstart/#ultralytics-settings.\n",
            "Downloading https://github.com/ultralytics/assets/releases/download/v8.3.0/yolov8n.pt to 'yolov8n.pt'...\n"
          ]
        },
        {
          "output_type": "stream",
          "name": "stderr",
          "text": [
            "100%|██████████| 6.25M/6.25M [00:00<00:00, 56.5MB/s]\n"
          ]
        },
        {
          "output_type": "execute_result",
          "data": {
            "text/plain": [
              "YOLO(\n",
              "  (model): DetectionModel(\n",
              "    (model): Sequential(\n",
              "      (0): Conv(\n",
              "        (conv): Conv2d(3, 16, kernel_size=(3, 3), stride=(2, 2), padding=(1, 1), bias=False)\n",
              "        (bn): BatchNorm2d(16, eps=0.001, momentum=0.03, affine=True, track_running_stats=True)\n",
              "        (act): SiLU(inplace=True)\n",
              "      )\n",
              "      (1): Conv(\n",
              "        (conv): Conv2d(16, 32, kernel_size=(3, 3), stride=(2, 2), padding=(1, 1), bias=False)\n",
              "        (bn): BatchNorm2d(32, eps=0.001, momentum=0.03, affine=True, track_running_stats=True)\n",
              "        (act): SiLU(inplace=True)\n",
              "      )\n",
              "      (2): C2f(\n",
              "        (cv1): Conv(\n",
              "          (conv): Conv2d(32, 32, kernel_size=(1, 1), stride=(1, 1), bias=False)\n",
              "          (bn): BatchNorm2d(32, eps=0.001, momentum=0.03, affine=True, track_running_stats=True)\n",
              "          (act): SiLU(inplace=True)\n",
              "        )\n",
              "        (cv2): Conv(\n",
              "          (conv): Conv2d(48, 32, kernel_size=(1, 1), stride=(1, 1), bias=False)\n",
              "          (bn): BatchNorm2d(32, eps=0.001, momentum=0.03, affine=True, track_running_stats=True)\n",
              "          (act): SiLU(inplace=True)\n",
              "        )\n",
              "        (m): ModuleList(\n",
              "          (0): Bottleneck(\n",
              "            (cv1): Conv(\n",
              "              (conv): Conv2d(16, 16, kernel_size=(3, 3), stride=(1, 1), padding=(1, 1), bias=False)\n",
              "              (bn): BatchNorm2d(16, eps=0.001, momentum=0.03, affine=True, track_running_stats=True)\n",
              "              (act): SiLU(inplace=True)\n",
              "            )\n",
              "            (cv2): Conv(\n",
              "              (conv): Conv2d(16, 16, kernel_size=(3, 3), stride=(1, 1), padding=(1, 1), bias=False)\n",
              "              (bn): BatchNorm2d(16, eps=0.001, momentum=0.03, affine=True, track_running_stats=True)\n",
              "              (act): SiLU(inplace=True)\n",
              "            )\n",
              "          )\n",
              "        )\n",
              "      )\n",
              "      (3): Conv(\n",
              "        (conv): Conv2d(32, 64, kernel_size=(3, 3), stride=(2, 2), padding=(1, 1), bias=False)\n",
              "        (bn): BatchNorm2d(64, eps=0.001, momentum=0.03, affine=True, track_running_stats=True)\n",
              "        (act): SiLU(inplace=True)\n",
              "      )\n",
              "      (4): C2f(\n",
              "        (cv1): Conv(\n",
              "          (conv): Conv2d(64, 64, kernel_size=(1, 1), stride=(1, 1), bias=False)\n",
              "          (bn): BatchNorm2d(64, eps=0.001, momentum=0.03, affine=True, track_running_stats=True)\n",
              "          (act): SiLU(inplace=True)\n",
              "        )\n",
              "        (cv2): Conv(\n",
              "          (conv): Conv2d(128, 64, kernel_size=(1, 1), stride=(1, 1), bias=False)\n",
              "          (bn): BatchNorm2d(64, eps=0.001, momentum=0.03, affine=True, track_running_stats=True)\n",
              "          (act): SiLU(inplace=True)\n",
              "        )\n",
              "        (m): ModuleList(\n",
              "          (0-1): 2 x Bottleneck(\n",
              "            (cv1): Conv(\n",
              "              (conv): Conv2d(32, 32, kernel_size=(3, 3), stride=(1, 1), padding=(1, 1), bias=False)\n",
              "              (bn): BatchNorm2d(32, eps=0.001, momentum=0.03, affine=True, track_running_stats=True)\n",
              "              (act): SiLU(inplace=True)\n",
              "            )\n",
              "            (cv2): Conv(\n",
              "              (conv): Conv2d(32, 32, kernel_size=(3, 3), stride=(1, 1), padding=(1, 1), bias=False)\n",
              "              (bn): BatchNorm2d(32, eps=0.001, momentum=0.03, affine=True, track_running_stats=True)\n",
              "              (act): SiLU(inplace=True)\n",
              "            )\n",
              "          )\n",
              "        )\n",
              "      )\n",
              "      (5): Conv(\n",
              "        (conv): Conv2d(64, 128, kernel_size=(3, 3), stride=(2, 2), padding=(1, 1), bias=False)\n",
              "        (bn): BatchNorm2d(128, eps=0.001, momentum=0.03, affine=True, track_running_stats=True)\n",
              "        (act): SiLU(inplace=True)\n",
              "      )\n",
              "      (6): C2f(\n",
              "        (cv1): Conv(\n",
              "          (conv): Conv2d(128, 128, kernel_size=(1, 1), stride=(1, 1), bias=False)\n",
              "          (bn): BatchNorm2d(128, eps=0.001, momentum=0.03, affine=True, track_running_stats=True)\n",
              "          (act): SiLU(inplace=True)\n",
              "        )\n",
              "        (cv2): Conv(\n",
              "          (conv): Conv2d(256, 128, kernel_size=(1, 1), stride=(1, 1), bias=False)\n",
              "          (bn): BatchNorm2d(128, eps=0.001, momentum=0.03, affine=True, track_running_stats=True)\n",
              "          (act): SiLU(inplace=True)\n",
              "        )\n",
              "        (m): ModuleList(\n",
              "          (0-1): 2 x Bottleneck(\n",
              "            (cv1): Conv(\n",
              "              (conv): Conv2d(64, 64, kernel_size=(3, 3), stride=(1, 1), padding=(1, 1), bias=False)\n",
              "              (bn): BatchNorm2d(64, eps=0.001, momentum=0.03, affine=True, track_running_stats=True)\n",
              "              (act): SiLU(inplace=True)\n",
              "            )\n",
              "            (cv2): Conv(\n",
              "              (conv): Conv2d(64, 64, kernel_size=(3, 3), stride=(1, 1), padding=(1, 1), bias=False)\n",
              "              (bn): BatchNorm2d(64, eps=0.001, momentum=0.03, affine=True, track_running_stats=True)\n",
              "              (act): SiLU(inplace=True)\n",
              "            )\n",
              "          )\n",
              "        )\n",
              "      )\n",
              "      (7): Conv(\n",
              "        (conv): Conv2d(128, 256, kernel_size=(3, 3), stride=(2, 2), padding=(1, 1), bias=False)\n",
              "        (bn): BatchNorm2d(256, eps=0.001, momentum=0.03, affine=True, track_running_stats=True)\n",
              "        (act): SiLU(inplace=True)\n",
              "      )\n",
              "      (8): C2f(\n",
              "        (cv1): Conv(\n",
              "          (conv): Conv2d(256, 256, kernel_size=(1, 1), stride=(1, 1), bias=False)\n",
              "          (bn): BatchNorm2d(256, eps=0.001, momentum=0.03, affine=True, track_running_stats=True)\n",
              "          (act): SiLU(inplace=True)\n",
              "        )\n",
              "        (cv2): Conv(\n",
              "          (conv): Conv2d(384, 256, kernel_size=(1, 1), stride=(1, 1), bias=False)\n",
              "          (bn): BatchNorm2d(256, eps=0.001, momentum=0.03, affine=True, track_running_stats=True)\n",
              "          (act): SiLU(inplace=True)\n",
              "        )\n",
              "        (m): ModuleList(\n",
              "          (0): Bottleneck(\n",
              "            (cv1): Conv(\n",
              "              (conv): Conv2d(128, 128, kernel_size=(3, 3), stride=(1, 1), padding=(1, 1), bias=False)\n",
              "              (bn): BatchNorm2d(128, eps=0.001, momentum=0.03, affine=True, track_running_stats=True)\n",
              "              (act): SiLU(inplace=True)\n",
              "            )\n",
              "            (cv2): Conv(\n",
              "              (conv): Conv2d(128, 128, kernel_size=(3, 3), stride=(1, 1), padding=(1, 1), bias=False)\n",
              "              (bn): BatchNorm2d(128, eps=0.001, momentum=0.03, affine=True, track_running_stats=True)\n",
              "              (act): SiLU(inplace=True)\n",
              "            )\n",
              "          )\n",
              "        )\n",
              "      )\n",
              "      (9): SPPF(\n",
              "        (cv1): Conv(\n",
              "          (conv): Conv2d(256, 128, kernel_size=(1, 1), stride=(1, 1), bias=False)\n",
              "          (bn): BatchNorm2d(128, eps=0.001, momentum=0.03, affine=True, track_running_stats=True)\n",
              "          (act): SiLU(inplace=True)\n",
              "        )\n",
              "        (cv2): Conv(\n",
              "          (conv): Conv2d(512, 256, kernel_size=(1, 1), stride=(1, 1), bias=False)\n",
              "          (bn): BatchNorm2d(256, eps=0.001, momentum=0.03, affine=True, track_running_stats=True)\n",
              "          (act): SiLU(inplace=True)\n",
              "        )\n",
              "        (m): MaxPool2d(kernel_size=5, stride=1, padding=2, dilation=1, ceil_mode=False)\n",
              "      )\n",
              "      (10): Upsample(scale_factor=2.0, mode='nearest')\n",
              "      (11): Concat()\n",
              "      (12): C2f(\n",
              "        (cv1): Conv(\n",
              "          (conv): Conv2d(384, 128, kernel_size=(1, 1), stride=(1, 1), bias=False)\n",
              "          (bn): BatchNorm2d(128, eps=0.001, momentum=0.03, affine=True, track_running_stats=True)\n",
              "          (act): SiLU(inplace=True)\n",
              "        )\n",
              "        (cv2): Conv(\n",
              "          (conv): Conv2d(192, 128, kernel_size=(1, 1), stride=(1, 1), bias=False)\n",
              "          (bn): BatchNorm2d(128, eps=0.001, momentum=0.03, affine=True, track_running_stats=True)\n",
              "          (act): SiLU(inplace=True)\n",
              "        )\n",
              "        (m): ModuleList(\n",
              "          (0): Bottleneck(\n",
              "            (cv1): Conv(\n",
              "              (conv): Conv2d(64, 64, kernel_size=(3, 3), stride=(1, 1), padding=(1, 1), bias=False)\n",
              "              (bn): BatchNorm2d(64, eps=0.001, momentum=0.03, affine=True, track_running_stats=True)\n",
              "              (act): SiLU(inplace=True)\n",
              "            )\n",
              "            (cv2): Conv(\n",
              "              (conv): Conv2d(64, 64, kernel_size=(3, 3), stride=(1, 1), padding=(1, 1), bias=False)\n",
              "              (bn): BatchNorm2d(64, eps=0.001, momentum=0.03, affine=True, track_running_stats=True)\n",
              "              (act): SiLU(inplace=True)\n",
              "            )\n",
              "          )\n",
              "        )\n",
              "      )\n",
              "      (13): Upsample(scale_factor=2.0, mode='nearest')\n",
              "      (14): Concat()\n",
              "      (15): C2f(\n",
              "        (cv1): Conv(\n",
              "          (conv): Conv2d(192, 64, kernel_size=(1, 1), stride=(1, 1), bias=False)\n",
              "          (bn): BatchNorm2d(64, eps=0.001, momentum=0.03, affine=True, track_running_stats=True)\n",
              "          (act): SiLU(inplace=True)\n",
              "        )\n",
              "        (cv2): Conv(\n",
              "          (conv): Conv2d(96, 64, kernel_size=(1, 1), stride=(1, 1), bias=False)\n",
              "          (bn): BatchNorm2d(64, eps=0.001, momentum=0.03, affine=True, track_running_stats=True)\n",
              "          (act): SiLU(inplace=True)\n",
              "        )\n",
              "        (m): ModuleList(\n",
              "          (0): Bottleneck(\n",
              "            (cv1): Conv(\n",
              "              (conv): Conv2d(32, 32, kernel_size=(3, 3), stride=(1, 1), padding=(1, 1), bias=False)\n",
              "              (bn): BatchNorm2d(32, eps=0.001, momentum=0.03, affine=True, track_running_stats=True)\n",
              "              (act): SiLU(inplace=True)\n",
              "            )\n",
              "            (cv2): Conv(\n",
              "              (conv): Conv2d(32, 32, kernel_size=(3, 3), stride=(1, 1), padding=(1, 1), bias=False)\n",
              "              (bn): BatchNorm2d(32, eps=0.001, momentum=0.03, affine=True, track_running_stats=True)\n",
              "              (act): SiLU(inplace=True)\n",
              "            )\n",
              "          )\n",
              "        )\n",
              "      )\n",
              "      (16): Conv(\n",
              "        (conv): Conv2d(64, 64, kernel_size=(3, 3), stride=(2, 2), padding=(1, 1), bias=False)\n",
              "        (bn): BatchNorm2d(64, eps=0.001, momentum=0.03, affine=True, track_running_stats=True)\n",
              "        (act): SiLU(inplace=True)\n",
              "      )\n",
              "      (17): Concat()\n",
              "      (18): C2f(\n",
              "        (cv1): Conv(\n",
              "          (conv): Conv2d(192, 128, kernel_size=(1, 1), stride=(1, 1), bias=False)\n",
              "          (bn): BatchNorm2d(128, eps=0.001, momentum=0.03, affine=True, track_running_stats=True)\n",
              "          (act): SiLU(inplace=True)\n",
              "        )\n",
              "        (cv2): Conv(\n",
              "          (conv): Conv2d(192, 128, kernel_size=(1, 1), stride=(1, 1), bias=False)\n",
              "          (bn): BatchNorm2d(128, eps=0.001, momentum=0.03, affine=True, track_running_stats=True)\n",
              "          (act): SiLU(inplace=True)\n",
              "        )\n",
              "        (m): ModuleList(\n",
              "          (0): Bottleneck(\n",
              "            (cv1): Conv(\n",
              "              (conv): Conv2d(64, 64, kernel_size=(3, 3), stride=(1, 1), padding=(1, 1), bias=False)\n",
              "              (bn): BatchNorm2d(64, eps=0.001, momentum=0.03, affine=True, track_running_stats=True)\n",
              "              (act): SiLU(inplace=True)\n",
              "            )\n",
              "            (cv2): Conv(\n",
              "              (conv): Conv2d(64, 64, kernel_size=(3, 3), stride=(1, 1), padding=(1, 1), bias=False)\n",
              "              (bn): BatchNorm2d(64, eps=0.001, momentum=0.03, affine=True, track_running_stats=True)\n",
              "              (act): SiLU(inplace=True)\n",
              "            )\n",
              "          )\n",
              "        )\n",
              "      )\n",
              "      (19): Conv(\n",
              "        (conv): Conv2d(128, 128, kernel_size=(3, 3), stride=(2, 2), padding=(1, 1), bias=False)\n",
              "        (bn): BatchNorm2d(128, eps=0.001, momentum=0.03, affine=True, track_running_stats=True)\n",
              "        (act): SiLU(inplace=True)\n",
              "      )\n",
              "      (20): Concat()\n",
              "      (21): C2f(\n",
              "        (cv1): Conv(\n",
              "          (conv): Conv2d(384, 256, kernel_size=(1, 1), stride=(1, 1), bias=False)\n",
              "          (bn): BatchNorm2d(256, eps=0.001, momentum=0.03, affine=True, track_running_stats=True)\n",
              "          (act): SiLU(inplace=True)\n",
              "        )\n",
              "        (cv2): Conv(\n",
              "          (conv): Conv2d(384, 256, kernel_size=(1, 1), stride=(1, 1), bias=False)\n",
              "          (bn): BatchNorm2d(256, eps=0.001, momentum=0.03, affine=True, track_running_stats=True)\n",
              "          (act): SiLU(inplace=True)\n",
              "        )\n",
              "        (m): ModuleList(\n",
              "          (0): Bottleneck(\n",
              "            (cv1): Conv(\n",
              "              (conv): Conv2d(128, 128, kernel_size=(3, 3), stride=(1, 1), padding=(1, 1), bias=False)\n",
              "              (bn): BatchNorm2d(128, eps=0.001, momentum=0.03, affine=True, track_running_stats=True)\n",
              "              (act): SiLU(inplace=True)\n",
              "            )\n",
              "            (cv2): Conv(\n",
              "              (conv): Conv2d(128, 128, kernel_size=(3, 3), stride=(1, 1), padding=(1, 1), bias=False)\n",
              "              (bn): BatchNorm2d(128, eps=0.001, momentum=0.03, affine=True, track_running_stats=True)\n",
              "              (act): SiLU(inplace=True)\n",
              "            )\n",
              "          )\n",
              "        )\n",
              "      )\n",
              "      (22): Detect(\n",
              "        (cv2): ModuleList(\n",
              "          (0): Sequential(\n",
              "            (0): Conv(\n",
              "              (conv): Conv2d(64, 64, kernel_size=(3, 3), stride=(1, 1), padding=(1, 1), bias=False)\n",
              "              (bn): BatchNorm2d(64, eps=0.001, momentum=0.03, affine=True, track_running_stats=True)\n",
              "              (act): SiLU(inplace=True)\n",
              "            )\n",
              "            (1): Conv(\n",
              "              (conv): Conv2d(64, 64, kernel_size=(3, 3), stride=(1, 1), padding=(1, 1), bias=False)\n",
              "              (bn): BatchNorm2d(64, eps=0.001, momentum=0.03, affine=True, track_running_stats=True)\n",
              "              (act): SiLU(inplace=True)\n",
              "            )\n",
              "            (2): Conv2d(64, 64, kernel_size=(1, 1), stride=(1, 1))\n",
              "          )\n",
              "          (1): Sequential(\n",
              "            (0): Conv(\n",
              "              (conv): Conv2d(128, 64, kernel_size=(3, 3), stride=(1, 1), padding=(1, 1), bias=False)\n",
              "              (bn): BatchNorm2d(64, eps=0.001, momentum=0.03, affine=True, track_running_stats=True)\n",
              "              (act): SiLU(inplace=True)\n",
              "            )\n",
              "            (1): Conv(\n",
              "              (conv): Conv2d(64, 64, kernel_size=(3, 3), stride=(1, 1), padding=(1, 1), bias=False)\n",
              "              (bn): BatchNorm2d(64, eps=0.001, momentum=0.03, affine=True, track_running_stats=True)\n",
              "              (act): SiLU(inplace=True)\n",
              "            )\n",
              "            (2): Conv2d(64, 64, kernel_size=(1, 1), stride=(1, 1))\n",
              "          )\n",
              "          (2): Sequential(\n",
              "            (0): Conv(\n",
              "              (conv): Conv2d(256, 64, kernel_size=(3, 3), stride=(1, 1), padding=(1, 1), bias=False)\n",
              "              (bn): BatchNorm2d(64, eps=0.001, momentum=0.03, affine=True, track_running_stats=True)\n",
              "              (act): SiLU(inplace=True)\n",
              "            )\n",
              "            (1): Conv(\n",
              "              (conv): Conv2d(64, 64, kernel_size=(3, 3), stride=(1, 1), padding=(1, 1), bias=False)\n",
              "              (bn): BatchNorm2d(64, eps=0.001, momentum=0.03, affine=True, track_running_stats=True)\n",
              "              (act): SiLU(inplace=True)\n",
              "            )\n",
              "            (2): Conv2d(64, 64, kernel_size=(1, 1), stride=(1, 1))\n",
              "          )\n",
              "        )\n",
              "        (cv3): ModuleList(\n",
              "          (0): Sequential(\n",
              "            (0): Conv(\n",
              "              (conv): Conv2d(64, 80, kernel_size=(3, 3), stride=(1, 1), padding=(1, 1), bias=False)\n",
              "              (bn): BatchNorm2d(80, eps=0.001, momentum=0.03, affine=True, track_running_stats=True)\n",
              "              (act): SiLU(inplace=True)\n",
              "            )\n",
              "            (1): Conv(\n",
              "              (conv): Conv2d(80, 80, kernel_size=(3, 3), stride=(1, 1), padding=(1, 1), bias=False)\n",
              "              (bn): BatchNorm2d(80, eps=0.001, momentum=0.03, affine=True, track_running_stats=True)\n",
              "              (act): SiLU(inplace=True)\n",
              "            )\n",
              "            (2): Conv2d(80, 80, kernel_size=(1, 1), stride=(1, 1))\n",
              "          )\n",
              "          (1): Sequential(\n",
              "            (0): Conv(\n",
              "              (conv): Conv2d(128, 80, kernel_size=(3, 3), stride=(1, 1), padding=(1, 1), bias=False)\n",
              "              (bn): BatchNorm2d(80, eps=0.001, momentum=0.03, affine=True, track_running_stats=True)\n",
              "              (act): SiLU(inplace=True)\n",
              "            )\n",
              "            (1): Conv(\n",
              "              (conv): Conv2d(80, 80, kernel_size=(3, 3), stride=(1, 1), padding=(1, 1), bias=False)\n",
              "              (bn): BatchNorm2d(80, eps=0.001, momentum=0.03, affine=True, track_running_stats=True)\n",
              "              (act): SiLU(inplace=True)\n",
              "            )\n",
              "            (2): Conv2d(80, 80, kernel_size=(1, 1), stride=(1, 1))\n",
              "          )\n",
              "          (2): Sequential(\n",
              "            (0): Conv(\n",
              "              (conv): Conv2d(256, 80, kernel_size=(3, 3), stride=(1, 1), padding=(1, 1), bias=False)\n",
              "              (bn): BatchNorm2d(80, eps=0.001, momentum=0.03, affine=True, track_running_stats=True)\n",
              "              (act): SiLU(inplace=True)\n",
              "            )\n",
              "            (1): Conv(\n",
              "              (conv): Conv2d(80, 80, kernel_size=(3, 3), stride=(1, 1), padding=(1, 1), bias=False)\n",
              "              (bn): BatchNorm2d(80, eps=0.001, momentum=0.03, affine=True, track_running_stats=True)\n",
              "              (act): SiLU(inplace=True)\n",
              "            )\n",
              "            (2): Conv2d(80, 80, kernel_size=(1, 1), stride=(1, 1))\n",
              "          )\n",
              "        )\n",
              "        (dfl): DFL(\n",
              "          (conv): Conv2d(16, 1, kernel_size=(1, 1), stride=(1, 1), bias=False)\n",
              "        )\n",
              "      )\n",
              "    )\n",
              "  )\n",
              ")"
            ]
          },
          "metadata": {},
          "execution_count": 4
        }
      ]
    },
    {
      "cell_type": "code",
      "source": [
        "results = model.train(data='/content/HardHat_Dataset.YOLO/data.yaml', epochs=100)\n",
        "results.results_dict"
      ],
      "metadata": {
        "colab": {
          "base_uri": "https://localhost:8080/"
        },
        "id": "d2XGIQW2ell_",
        "outputId": "3d55eb9e-f898-4404-82e9-2a72e8f16e4b"
      },
      "execution_count": null,
      "outputs": [
        {
          "output_type": "stream",
          "name": "stdout",
          "text": [
            "Ultralytics 8.3.27 🚀 Python-3.10.12 torch-2.5.0+cu121 CPU (Intel Xeon 2.20GHz)\n",
            "\u001b[34m\u001b[1mengine/trainer: \u001b[0mtask=detect, mode=train, model=yolov8n.pt, data=/content/HardHat_Dataset.YOLO/data.yaml, epochs=100, time=None, patience=100, batch=16, imgsz=640, save=True, save_period=-1, cache=False, device=None, workers=8, project=None, name=train, exist_ok=False, pretrained=True, optimizer=auto, verbose=True, seed=0, deterministic=True, single_cls=False, rect=False, cos_lr=False, close_mosaic=10, resume=False, amp=True, fraction=1.0, profile=False, freeze=None, multi_scale=False, overlap_mask=True, mask_ratio=4, dropout=0.0, val=True, split=val, save_json=False, save_hybrid=False, conf=None, iou=0.7, max_det=300, half=False, dnn=False, plots=True, source=None, vid_stride=1, stream_buffer=False, visualize=False, augment=False, agnostic_nms=False, classes=None, retina_masks=False, embed=None, show=False, save_frames=False, save_txt=False, save_conf=False, save_crop=False, show_labels=True, show_conf=True, show_boxes=True, line_width=None, format=torchscript, keras=False, optimize=False, int8=False, dynamic=False, simplify=True, opset=None, workspace=4, nms=False, lr0=0.01, lrf=0.01, momentum=0.937, weight_decay=0.0005, warmup_epochs=3.0, warmup_momentum=0.8, warmup_bias_lr=0.1, box=7.5, cls=0.5, dfl=1.5, pose=12.0, kobj=1.0, label_smoothing=0.0, nbs=64, hsv_h=0.015, hsv_s=0.7, hsv_v=0.4, degrees=0.0, translate=0.1, scale=0.5, shear=0.0, perspective=0.0, flipud=0.0, fliplr=0.5, bgr=0.0, mosaic=1.0, mixup=0.0, copy_paste=0.0, copy_paste_mode=flip, auto_augment=randaugment, erasing=0.4, crop_fraction=1.0, cfg=None, tracker=botsort.yaml, save_dir=runs/detect/train\n",
            "Downloading https://ultralytics.com/assets/Arial.ttf to '/root/.config/Ultralytics/Arial.ttf'...\n"
          ]
        },
        {
          "output_type": "stream",
          "name": "stderr",
          "text": [
            "100%|██████████| 755k/755k [00:00<00:00, 10.0MB/s]\n"
          ]
        },
        {
          "output_type": "stream",
          "name": "stdout",
          "text": [
            "Overriding model.yaml nc=80 with nc=3\n",
            "\n",
            "                   from  n    params  module                                       arguments                     \n",
            "  0                  -1  1       464  ultralytics.nn.modules.conv.Conv             [3, 16, 3, 2]                 \n",
            "  1                  -1  1      4672  ultralytics.nn.modules.conv.Conv             [16, 32, 3, 2]                \n",
            "  2                  -1  1      7360  ultralytics.nn.modules.block.C2f             [32, 32, 1, True]             \n",
            "  3                  -1  1     18560  ultralytics.nn.modules.conv.Conv             [32, 64, 3, 2]                \n",
            "  4                  -1  2     49664  ultralytics.nn.modules.block.C2f             [64, 64, 2, True]             \n",
            "  5                  -1  1     73984  ultralytics.nn.modules.conv.Conv             [64, 128, 3, 2]               \n",
            "  6                  -1  2    197632  ultralytics.nn.modules.block.C2f             [128, 128, 2, True]           \n",
            "  7                  -1  1    295424  ultralytics.nn.modules.conv.Conv             [128, 256, 3, 2]              \n",
            "  8                  -1  1    460288  ultralytics.nn.modules.block.C2f             [256, 256, 1, True]           \n",
            "  9                  -1  1    164608  ultralytics.nn.modules.block.SPPF            [256, 256, 5]                 \n",
            " 10                  -1  1         0  torch.nn.modules.upsampling.Upsample         [None, 2, 'nearest']          \n",
            " 11             [-1, 6]  1         0  ultralytics.nn.modules.conv.Concat           [1]                           \n",
            " 12                  -1  1    148224  ultralytics.nn.modules.block.C2f             [384, 128, 1]                 \n",
            " 13                  -1  1         0  torch.nn.modules.upsampling.Upsample         [None, 2, 'nearest']          \n",
            " 14             [-1, 4]  1         0  ultralytics.nn.modules.conv.Concat           [1]                           \n",
            " 15                  -1  1     37248  ultralytics.nn.modules.block.C2f             [192, 64, 1]                  \n",
            " 16                  -1  1     36992  ultralytics.nn.modules.conv.Conv             [64, 64, 3, 2]                \n",
            " 17            [-1, 12]  1         0  ultralytics.nn.modules.conv.Concat           [1]                           \n",
            " 18                  -1  1    123648  ultralytics.nn.modules.block.C2f             [192, 128, 1]                 \n",
            " 19                  -1  1    147712  ultralytics.nn.modules.conv.Conv             [128, 128, 3, 2]              \n",
            " 20             [-1, 9]  1         0  ultralytics.nn.modules.conv.Concat           [1]                           \n",
            " 21                  -1  1    493056  ultralytics.nn.modules.block.C2f             [384, 256, 1]                 \n",
            " 22        [15, 18, 21]  1    751897  ultralytics.nn.modules.head.Detect           [3, [64, 128, 256]]           \n",
            "Model summary: 225 layers, 3,011,433 parameters, 3,011,417 gradients, 8.2 GFLOPs\n",
            "\n",
            "Transferred 319/355 items from pretrained weights\n",
            "\u001b[34m\u001b[1mTensorBoard: \u001b[0mStart with 'tensorboard --logdir runs/detect/train', view at http://localhost:6006/\n",
            "Freezing layer 'model.22.dfl.conv.weight'\n"
          ]
        },
        {
          "output_type": "stream",
          "name": "stderr",
          "text": [
            "\u001b[34m\u001b[1mtrain: \u001b[0mScanning /content/HardHat_Dataset.YOLO/train/labels... 70 images, 0 backgrounds, 0 corrupt: 100%|██████████| 70/70 [00:00<00:00, 1146.49it/s]"
          ]
        },
        {
          "output_type": "stream",
          "name": "stdout",
          "text": [
            "\u001b[34m\u001b[1mtrain: \u001b[0mNew cache created: /content/HardHat_Dataset.YOLO/train/labels.cache\n",
            "\u001b[34m\u001b[1malbumentations: \u001b[0mBlur(p=0.01, blur_limit=(3, 7)), MedianBlur(p=0.01, blur_limit=(3, 7)), ToGray(p=0.01, num_output_channels=3, method='weighted_average'), CLAHE(p=0.01, clip_limit=(1.0, 4.0), tile_grid_size=(8, 8))\n"
          ]
        },
        {
          "output_type": "stream",
          "name": "stderr",
          "text": [
            "\n",
            "\u001b[34m\u001b[1mval: \u001b[0mScanning /content/HardHat_Dataset.YOLO/valid/labels... 20 images, 0 backgrounds, 0 corrupt: 100%|██████████| 20/20 [00:00<00:00, 710.16it/s]"
          ]
        },
        {
          "output_type": "stream",
          "name": "stdout",
          "text": [
            "\u001b[34m\u001b[1mval: \u001b[0mNew cache created: /content/HardHat_Dataset.YOLO/valid/labels.cache\n"
          ]
        },
        {
          "output_type": "stream",
          "name": "stderr",
          "text": [
            "\n"
          ]
        },
        {
          "output_type": "stream",
          "name": "stdout",
          "text": [
            "Plotting labels to runs/detect/train/labels.jpg... \n",
            "\u001b[34m\u001b[1moptimizer:\u001b[0m 'optimizer=auto' found, ignoring 'lr0=0.01' and 'momentum=0.937' and determining best 'optimizer', 'lr0' and 'momentum' automatically... \n",
            "\u001b[34m\u001b[1moptimizer:\u001b[0m AdamW(lr=0.001429, momentum=0.9) with parameter groups 57 weight(decay=0.0), 64 weight(decay=0.0005), 63 bias(decay=0.0)\n",
            "\u001b[34m\u001b[1mTensorBoard: \u001b[0mmodel graph visualization added ✅\n",
            "Image sizes 640 train, 640 val\n",
            "Using 0 dataloader workers\n",
            "Logging results to \u001b[1mruns/detect/train\u001b[0m\n",
            "Starting training for 100 epochs...\n",
            "\n",
            "      Epoch    GPU_mem   box_loss   cls_loss   dfl_loss  Instances       Size\n"
          ]
        },
        {
          "output_type": "stream",
          "name": "stderr",
          "text": [
            "      1/100         0G      1.871      4.066      1.553         57        640: 100%|██████████| 5/5 [01:02<00:00, 12.59s/it]\n",
            "                 Class     Images  Instances      Box(P          R      mAP50  mAP50-95): 100%|██████████| 1/1 [00:07<00:00,  7.01s/it]"
          ]
        },
        {
          "output_type": "stream",
          "name": "stdout",
          "text": [
            "                   all         20         65     0.0023      0.463    0.00663     0.0032\n"
          ]
        },
        {
          "output_type": "stream",
          "name": "stderr",
          "text": [
            "\n"
          ]
        },
        {
          "output_type": "stream",
          "name": "stdout",
          "text": [
            "\n",
            "      Epoch    GPU_mem   box_loss   cls_loss   dfl_loss  Instances       Size\n"
          ]
        },
        {
          "output_type": "stream",
          "name": "stderr",
          "text": [
            "      2/100         0G      1.571      3.746      1.333         35        640: 100%|██████████| 5/5 [00:56<00:00, 11.32s/it]\n",
            "                 Class     Images  Instances      Box(P          R      mAP50  mAP50-95): 100%|██████████| 1/1 [00:05<00:00,  5.51s/it]"
          ]
        },
        {
          "output_type": "stream",
          "name": "stdout",
          "text": [
            "                   all         20         65    0.00334      0.541     0.0625     0.0386\n"
          ]
        },
        {
          "output_type": "stream",
          "name": "stderr",
          "text": [
            "\n"
          ]
        },
        {
          "output_type": "stream",
          "name": "stdout",
          "text": [
            "\n",
            "      Epoch    GPU_mem   box_loss   cls_loss   dfl_loss  Instances       Size\n"
          ]
        },
        {
          "output_type": "stream",
          "name": "stderr",
          "text": [
            "      3/100         0G      1.558      2.897      1.191         50        640: 100%|██████████| 5/5 [00:56<00:00, 11.29s/it]\n",
            "                 Class     Images  Instances      Box(P          R      mAP50  mAP50-95): 100%|██████████| 1/1 [00:06<00:00,  6.46s/it]"
          ]
        },
        {
          "output_type": "stream",
          "name": "stdout",
          "text": [
            "                   all         20         65     0.0047      0.581     0.0972     0.0617\n"
          ]
        },
        {
          "output_type": "stream",
          "name": "stderr",
          "text": [
            "\n"
          ]
        },
        {
          "output_type": "stream",
          "name": "stdout",
          "text": [
            "\n",
            "      Epoch    GPU_mem   box_loss   cls_loss   dfl_loss  Instances       Size\n"
          ]
        },
        {
          "output_type": "stream",
          "name": "stderr",
          "text": [
            "      4/100         0G      1.355      1.938      1.141         30        640: 100%|██████████| 5/5 [00:55<00:00, 11.15s/it]\n",
            "                 Class     Images  Instances      Box(P          R      mAP50  mAP50-95): 100%|██████████| 1/1 [00:05<00:00,  5.22s/it]"
          ]
        },
        {
          "output_type": "stream",
          "name": "stdout",
          "text": [
            "                   all         20         65     0.0109      0.767      0.211      0.147\n"
          ]
        },
        {
          "output_type": "stream",
          "name": "stderr",
          "text": [
            "\n"
          ]
        },
        {
          "output_type": "stream",
          "name": "stdout",
          "text": [
            "\n",
            "      Epoch    GPU_mem   box_loss   cls_loss   dfl_loss  Instances       Size\n"
          ]
        },
        {
          "output_type": "stream",
          "name": "stderr",
          "text": [
            "      5/100         0G      1.432      1.829      1.168         49        640: 100%|██████████| 5/5 [00:55<00:00, 11.07s/it]\n",
            "                 Class     Images  Instances      Box(P          R      mAP50  mAP50-95): 100%|██████████| 1/1 [00:06<00:00,  6.50s/it]"
          ]
        },
        {
          "output_type": "stream",
          "name": "stdout",
          "text": [
            "                   all         20         65     0.0126       0.93      0.286      0.191\n"
          ]
        },
        {
          "output_type": "stream",
          "name": "stderr",
          "text": [
            "\n"
          ]
        },
        {
          "output_type": "stream",
          "name": "stdout",
          "text": [
            "\n",
            "      Epoch    GPU_mem   box_loss   cls_loss   dfl_loss  Instances       Size\n"
          ]
        },
        {
          "output_type": "stream",
          "name": "stderr",
          "text": [
            "      6/100         0G      1.388      1.752      1.099         39        640: 100%|██████████| 5/5 [00:53<00:00, 10.75s/it]\n",
            "                 Class     Images  Instances      Box(P          R      mAP50  mAP50-95): 100%|██████████| 1/1 [00:05<00:00,  5.15s/it]"
          ]
        },
        {
          "output_type": "stream",
          "name": "stdout",
          "text": [
            "                   all         20         65     0.0128      0.933      0.294      0.195\n"
          ]
        },
        {
          "output_type": "stream",
          "name": "stderr",
          "text": [
            "\n"
          ]
        },
        {
          "output_type": "stream",
          "name": "stdout",
          "text": [
            "\n",
            "      Epoch    GPU_mem   box_loss   cls_loss   dfl_loss  Instances       Size\n"
          ]
        },
        {
          "output_type": "stream",
          "name": "stderr",
          "text": [
            "      7/100         0G       1.37      1.711      1.119         37        640: 100%|██████████| 5/5 [00:56<00:00, 11.35s/it]\n",
            "                 Class     Images  Instances      Box(P          R      mAP50  mAP50-95): 100%|██████████| 1/1 [00:06<00:00,  6.39s/it]"
          ]
        },
        {
          "output_type": "stream",
          "name": "stdout",
          "text": [
            "                   all         20         65     0.0125      0.952      0.376      0.241\n"
          ]
        },
        {
          "output_type": "stream",
          "name": "stderr",
          "text": [
            "\n"
          ]
        },
        {
          "output_type": "stream",
          "name": "stdout",
          "text": [
            "\n",
            "      Epoch    GPU_mem   box_loss   cls_loss   dfl_loss  Instances       Size\n"
          ]
        },
        {
          "output_type": "stream",
          "name": "stderr",
          "text": [
            "      8/100         0G      1.349      1.576      1.109         30        640: 100%|██████████| 5/5 [00:55<00:00, 11.19s/it]\n",
            "                 Class     Images  Instances      Box(P          R      mAP50  mAP50-95): 100%|██████████| 1/1 [00:05<00:00,  5.03s/it]"
          ]
        },
        {
          "output_type": "stream",
          "name": "stdout",
          "text": [
            "                   all         20         65      0.995     0.0444      0.346      0.217\n"
          ]
        },
        {
          "output_type": "stream",
          "name": "stderr",
          "text": [
            "\n"
          ]
        },
        {
          "output_type": "stream",
          "name": "stdout",
          "text": [
            "\n",
            "      Epoch    GPU_mem   box_loss   cls_loss   dfl_loss  Instances       Size\n"
          ]
        },
        {
          "output_type": "stream",
          "name": "stderr",
          "text": [
            "      9/100         0G      1.295      1.624      1.067         28        640: 100%|██████████| 5/5 [00:55<00:00, 11.12s/it]\n",
            "                 Class     Images  Instances      Box(P          R      mAP50  mAP50-95): 100%|██████████| 1/1 [00:06<00:00,  6.40s/it]"
          ]
        },
        {
          "output_type": "stream",
          "name": "stdout",
          "text": [
            "                   all         20         65      0.957     0.0502      0.327      0.191\n"
          ]
        },
        {
          "output_type": "stream",
          "name": "stderr",
          "text": [
            "\n"
          ]
        },
        {
          "output_type": "stream",
          "name": "stdout",
          "text": [
            "\n",
            "      Epoch    GPU_mem   box_loss   cls_loss   dfl_loss  Instances       Size\n"
          ]
        },
        {
          "output_type": "stream",
          "name": "stderr",
          "text": [
            "     10/100         0G      1.307      1.395       1.09         36        640: 100%|██████████| 5/5 [00:54<00:00, 10.86s/it]\n",
            "                 Class     Images  Instances      Box(P          R      mAP50  mAP50-95): 100%|██████████| 1/1 [00:05<00:00,  5.02s/it]"
          ]
        },
        {
          "output_type": "stream",
          "name": "stdout",
          "text": [
            "                   all         20         65      0.962     0.0444      0.358      0.219\n"
          ]
        },
        {
          "output_type": "stream",
          "name": "stderr",
          "text": [
            "\n"
          ]
        },
        {
          "output_type": "stream",
          "name": "stdout",
          "text": [
            "\n",
            "      Epoch    GPU_mem   box_loss   cls_loss   dfl_loss  Instances       Size\n"
          ]
        },
        {
          "output_type": "stream",
          "name": "stderr",
          "text": [
            "     11/100         0G      1.296      1.397      1.099         26        640: 100%|██████████| 5/5 [00:55<00:00, 11.03s/it]\n",
            "                 Class     Images  Instances      Box(P          R      mAP50  mAP50-95): 100%|██████████| 1/1 [00:05<00:00,  5.67s/it]"
          ]
        },
        {
          "output_type": "stream",
          "name": "stdout",
          "text": [
            "                   all         20         65          1     0.0287      0.348      0.173\n"
          ]
        },
        {
          "output_type": "stream",
          "name": "stderr",
          "text": [
            "\n"
          ]
        },
        {
          "output_type": "stream",
          "name": "stdout",
          "text": [
            "\n",
            "      Epoch    GPU_mem   box_loss   cls_loss   dfl_loss  Instances       Size\n"
          ]
        },
        {
          "output_type": "stream",
          "name": "stderr",
          "text": [
            "     12/100         0G      1.403      1.435      1.138         57        640: 100%|██████████| 5/5 [00:55<00:00, 11.02s/it]\n",
            "                 Class     Images  Instances      Box(P          R      mAP50  mAP50-95): 100%|██████████| 1/1 [00:05<00:00,  5.50s/it]"
          ]
        },
        {
          "output_type": "stream",
          "name": "stdout",
          "text": [
            "                   all         20         65      0.949     0.0417      0.264       0.14\n"
          ]
        },
        {
          "output_type": "stream",
          "name": "stderr",
          "text": [
            "\n"
          ]
        },
        {
          "output_type": "stream",
          "name": "stdout",
          "text": [
            "\n",
            "      Epoch    GPU_mem   box_loss   cls_loss   dfl_loss  Instances       Size\n"
          ]
        },
        {
          "output_type": "stream",
          "name": "stderr",
          "text": [
            "     13/100         0G      1.296      1.325        1.1         51        640: 100%|██████████| 5/5 [00:54<00:00, 10.98s/it]\n",
            "                 Class     Images  Instances      Box(P          R      mAP50  mAP50-95): 100%|██████████| 1/1 [00:05<00:00,  5.03s/it]"
          ]
        },
        {
          "output_type": "stream",
          "name": "stdout",
          "text": [
            "                   all         20         65      0.923     0.0493      0.359      0.218\n"
          ]
        },
        {
          "output_type": "stream",
          "name": "stderr",
          "text": [
            "\n"
          ]
        },
        {
          "output_type": "stream",
          "name": "stdout",
          "text": [
            "\n",
            "      Epoch    GPU_mem   box_loss   cls_loss   dfl_loss  Instances       Size\n"
          ]
        },
        {
          "output_type": "stream",
          "name": "stderr",
          "text": [
            "     14/100         0G      1.313      1.332      1.095         56        640: 100%|██████████| 5/5 [00:57<00:00, 11.48s/it]\n",
            "                 Class     Images  Instances      Box(P          R      mAP50  mAP50-95): 100%|██████████| 1/1 [00:05<00:00,  5.49s/it]"
          ]
        },
        {
          "output_type": "stream",
          "name": "stdout",
          "text": [
            "                   all         20         65      0.939       0.17      0.536      0.306\n"
          ]
        },
        {
          "output_type": "stream",
          "name": "stderr",
          "text": [
            "\n"
          ]
        },
        {
          "output_type": "stream",
          "name": "stdout",
          "text": [
            "\n",
            "      Epoch    GPU_mem   box_loss   cls_loss   dfl_loss  Instances       Size\n"
          ]
        },
        {
          "output_type": "stream",
          "name": "stderr",
          "text": [
            "     15/100         0G      1.264      1.388      1.132         38        640: 100%|██████████| 5/5 [00:54<00:00, 10.98s/it]\n",
            "                 Class     Images  Instances      Box(P          R      mAP50  mAP50-95): 100%|██████████| 1/1 [00:05<00:00,  5.08s/it]"
          ]
        },
        {
          "output_type": "stream",
          "name": "stdout",
          "text": [
            "                   all         20         65      0.978      0.231       0.54      0.355\n"
          ]
        },
        {
          "output_type": "stream",
          "name": "stderr",
          "text": [
            "\n"
          ]
        },
        {
          "output_type": "stream",
          "name": "stdout",
          "text": [
            "\n",
            "      Epoch    GPU_mem   box_loss   cls_loss   dfl_loss  Instances       Size\n"
          ]
        },
        {
          "output_type": "stream",
          "name": "stderr",
          "text": [
            "     16/100         0G      1.251      1.199      1.095         26        640: 100%|██████████| 5/5 [00:53<00:00, 10.78s/it]\n",
            "                 Class     Images  Instances      Box(P          R      mAP50  mAP50-95): 100%|██████████| 1/1 [00:06<00:00,  6.22s/it]"
          ]
        },
        {
          "output_type": "stream",
          "name": "stdout",
          "text": [
            "                   all         20         65          1      0.355      0.584      0.357\n"
          ]
        },
        {
          "output_type": "stream",
          "name": "stderr",
          "text": [
            "\n"
          ]
        },
        {
          "output_type": "stream",
          "name": "stdout",
          "text": [
            "\n",
            "      Epoch    GPU_mem   box_loss   cls_loss   dfl_loss  Instances       Size\n"
          ]
        },
        {
          "output_type": "stream",
          "name": "stderr",
          "text": [
            "     17/100         0G      1.295      1.217      1.131         39        640: 100%|██████████| 5/5 [00:55<00:00, 11.20s/it]\n",
            "                 Class     Images  Instances      Box(P          R      mAP50  mAP50-95): 100%|██████████| 1/1 [00:05<00:00,  5.14s/it]"
          ]
        },
        {
          "output_type": "stream",
          "name": "stdout",
          "text": [
            "                   all         20         65      0.925      0.402      0.528      0.337\n"
          ]
        },
        {
          "output_type": "stream",
          "name": "stderr",
          "text": [
            "\n"
          ]
        },
        {
          "output_type": "stream",
          "name": "stdout",
          "text": [
            "\n",
            "      Epoch    GPU_mem   box_loss   cls_loss   dfl_loss  Instances       Size\n"
          ]
        },
        {
          "output_type": "stream",
          "name": "stderr",
          "text": [
            "     18/100         0G      1.301      1.177      1.118         41        640: 100%|██████████| 5/5 [00:56<00:00, 11.22s/it]\n",
            "                 Class     Images  Instances      Box(P          R      mAP50  mAP50-95): 100%|██████████| 1/1 [00:06<00:00,  6.50s/it]"
          ]
        },
        {
          "output_type": "stream",
          "name": "stdout",
          "text": [
            "                   all         20         65        0.9      0.459      0.539      0.334\n"
          ]
        },
        {
          "output_type": "stream",
          "name": "stderr",
          "text": [
            "\n"
          ]
        },
        {
          "output_type": "stream",
          "name": "stdout",
          "text": [
            "\n",
            "      Epoch    GPU_mem   box_loss   cls_loss   dfl_loss  Instances       Size\n"
          ]
        },
        {
          "output_type": "stream",
          "name": "stderr",
          "text": [
            "     19/100         0G      1.184      1.105      1.086         26        640: 100%|██████████| 5/5 [00:53<00:00, 10.78s/it]\n",
            "                 Class     Images  Instances      Box(P          R      mAP50  mAP50-95): 100%|██████████| 1/1 [00:05<00:00,  5.19s/it]"
          ]
        },
        {
          "output_type": "stream",
          "name": "stdout",
          "text": [
            "                   all         20         65      0.878      0.456      0.549       0.35\n"
          ]
        },
        {
          "output_type": "stream",
          "name": "stderr",
          "text": [
            "\n"
          ]
        },
        {
          "output_type": "stream",
          "name": "stdout",
          "text": [
            "\n",
            "      Epoch    GPU_mem   box_loss   cls_loss   dfl_loss  Instances       Size\n"
          ]
        },
        {
          "output_type": "stream",
          "name": "stderr",
          "text": [
            "     20/100         0G      1.137      1.103      1.082         28        640: 100%|██████████| 5/5 [00:55<00:00, 11.04s/it]\n",
            "                 Class     Images  Instances      Box(P          R      mAP50  mAP50-95): 100%|██████████| 1/1 [00:05<00:00,  5.56s/it]"
          ]
        },
        {
          "output_type": "stream",
          "name": "stdout",
          "text": [
            "                   all         20         65      0.905      0.385      0.572      0.365\n"
          ]
        },
        {
          "output_type": "stream",
          "name": "stderr",
          "text": [
            "\n"
          ]
        },
        {
          "output_type": "stream",
          "name": "stdout",
          "text": [
            "\n",
            "      Epoch    GPU_mem   box_loss   cls_loss   dfl_loss  Instances       Size\n"
          ]
        },
        {
          "output_type": "stream",
          "name": "stderr",
          "text": [
            "     21/100         0G       1.21      1.124      1.038         40        640: 100%|██████████| 5/5 [00:53<00:00, 10.75s/it]\n",
            "                 Class     Images  Instances      Box(P          R      mAP50  mAP50-95): 100%|██████████| 1/1 [00:06<00:00,  6.15s/it]"
          ]
        },
        {
          "output_type": "stream",
          "name": "stdout",
          "text": [
            "                   all         20         65      0.908      0.385      0.578      0.372\n"
          ]
        },
        {
          "output_type": "stream",
          "name": "stderr",
          "text": [
            "\n"
          ]
        },
        {
          "output_type": "stream",
          "name": "stdout",
          "text": [
            "\n",
            "      Epoch    GPU_mem   box_loss   cls_loss   dfl_loss  Instances       Size\n"
          ]
        },
        {
          "output_type": "stream",
          "name": "stderr",
          "text": [
            "     22/100         0G      1.148      1.085      1.036         27        640: 100%|██████████| 5/5 [00:56<00:00, 11.32s/it]\n",
            "                 Class     Images  Instances      Box(P          R      mAP50  mAP50-95): 100%|██████████| 1/1 [00:05<00:00,  5.20s/it]"
          ]
        },
        {
          "output_type": "stream",
          "name": "stdout",
          "text": [
            "                   all         20         65       0.58      0.469        0.6      0.365\n"
          ]
        },
        {
          "output_type": "stream",
          "name": "stderr",
          "text": [
            "\n"
          ]
        },
        {
          "output_type": "stream",
          "name": "stdout",
          "text": [
            "\n",
            "      Epoch    GPU_mem   box_loss   cls_loss   dfl_loss  Instances       Size\n"
          ]
        },
        {
          "output_type": "stream",
          "name": "stderr",
          "text": [
            "     23/100         0G      1.127      1.077      1.012         38        640: 100%|██████████| 5/5 [00:54<00:00, 10.98s/it]\n",
            "                 Class     Images  Instances      Box(P          R      mAP50  mAP50-95): 100%|██████████| 1/1 [00:06<00:00,  6.41s/it]"
          ]
        },
        {
          "output_type": "stream",
          "name": "stdout",
          "text": [
            "                   all         20         65      0.586      0.509        0.6       0.37\n"
          ]
        },
        {
          "output_type": "stream",
          "name": "stderr",
          "text": [
            "\n"
          ]
        },
        {
          "output_type": "stream",
          "name": "stdout",
          "text": [
            "\n",
            "      Epoch    GPU_mem   box_loss   cls_loss   dfl_loss  Instances       Size\n"
          ]
        },
        {
          "output_type": "stream",
          "name": "stderr",
          "text": [
            "     24/100         0G      1.129      1.011      1.031         46        640: 100%|██████████| 5/5 [00:54<00:00, 10.88s/it]\n",
            "                 Class     Images  Instances      Box(P          R      mAP50  mAP50-95): 100%|██████████| 1/1 [00:05<00:00,  5.14s/it]"
          ]
        },
        {
          "output_type": "stream",
          "name": "stdout",
          "text": [
            "                   all         20         65      0.504      0.558      0.588      0.378\n"
          ]
        },
        {
          "output_type": "stream",
          "name": "stderr",
          "text": [
            "\n"
          ]
        },
        {
          "output_type": "stream",
          "name": "stdout",
          "text": [
            "\n",
            "      Epoch    GPU_mem   box_loss   cls_loss   dfl_loss  Instances       Size\n"
          ]
        },
        {
          "output_type": "stream",
          "name": "stderr",
          "text": [
            "     25/100         0G       1.06      1.066      1.052         45        640: 100%|██████████| 5/5 [00:56<00:00, 11.28s/it]\n",
            "                 Class     Images  Instances      Box(P          R      mAP50  mAP50-95): 100%|██████████| 1/1 [00:06<00:00,  6.57s/it]"
          ]
        },
        {
          "output_type": "stream",
          "name": "stdout",
          "text": [
            "                   all         20         65      0.511      0.533      0.572      0.369\n"
          ]
        },
        {
          "output_type": "stream",
          "name": "stderr",
          "text": [
            "\n"
          ]
        },
        {
          "output_type": "stream",
          "name": "stdout",
          "text": [
            "\n",
            "      Epoch    GPU_mem   box_loss   cls_loss   dfl_loss  Instances       Size\n"
          ]
        },
        {
          "output_type": "stream",
          "name": "stderr",
          "text": [
            "     26/100         0G      1.099      1.094       1.02         27        640: 100%|██████████| 5/5 [00:54<00:00, 10.99s/it]\n",
            "                 Class     Images  Instances      Box(P          R      mAP50  mAP50-95): 100%|██████████| 1/1 [00:05<00:00,  5.10s/it]"
          ]
        },
        {
          "output_type": "stream",
          "name": "stdout",
          "text": [
            "                   all         20         65      0.494      0.481      0.554      0.352\n"
          ]
        },
        {
          "output_type": "stream",
          "name": "stderr",
          "text": [
            "\n"
          ]
        },
        {
          "output_type": "stream",
          "name": "stdout",
          "text": [
            "\n",
            "      Epoch    GPU_mem   box_loss   cls_loss   dfl_loss  Instances       Size\n"
          ]
        },
        {
          "output_type": "stream",
          "name": "stderr",
          "text": [
            "     27/100         0G      1.118      1.065      1.056         40        640: 100%|██████████| 5/5 [00:56<00:00, 11.25s/it]\n",
            "                 Class     Images  Instances      Box(P          R      mAP50  mAP50-95): 100%|██████████| 1/1 [00:06<00:00,  6.40s/it]"
          ]
        },
        {
          "output_type": "stream",
          "name": "stdout",
          "text": [
            "                   all         20         65      0.485      0.508      0.556      0.378\n"
          ]
        },
        {
          "output_type": "stream",
          "name": "stderr",
          "text": [
            "\n"
          ]
        },
        {
          "output_type": "stream",
          "name": "stdout",
          "text": [
            "\n",
            "      Epoch    GPU_mem   box_loss   cls_loss   dfl_loss  Instances       Size\n"
          ]
        },
        {
          "output_type": "stream",
          "name": "stderr",
          "text": [
            "     28/100         0G      1.075      1.016      1.017         16        640: 100%|██████████| 5/5 [00:54<00:00, 10.97s/it]\n",
            "                 Class     Images  Instances      Box(P          R      mAP50  mAP50-95): 100%|██████████| 1/1 [00:05<00:00,  5.13s/it]"
          ]
        },
        {
          "output_type": "stream",
          "name": "stdout",
          "text": [
            "                   all         20         65      0.399      0.486      0.528      0.358\n"
          ]
        },
        {
          "output_type": "stream",
          "name": "stderr",
          "text": [
            "\n"
          ]
        },
        {
          "output_type": "stream",
          "name": "stdout",
          "text": [
            "\n",
            "      Epoch    GPU_mem   box_loss   cls_loss   dfl_loss  Instances       Size\n"
          ]
        },
        {
          "output_type": "stream",
          "name": "stderr",
          "text": [
            "     29/100         0G      1.122     0.9789      1.019         32        640: 100%|██████████| 5/5 [00:56<00:00, 11.35s/it]\n",
            "                 Class     Images  Instances      Box(P          R      mAP50  mAP50-95): 100%|██████████| 1/1 [00:06<00:00,  6.49s/it]"
          ]
        },
        {
          "output_type": "stream",
          "name": "stdout",
          "text": [
            "                   all         20         65      0.429      0.407      0.512      0.322\n"
          ]
        },
        {
          "output_type": "stream",
          "name": "stderr",
          "text": [
            "\n"
          ]
        },
        {
          "output_type": "stream",
          "name": "stdout",
          "text": [
            "\n",
            "      Epoch    GPU_mem   box_loss   cls_loss   dfl_loss  Instances       Size\n"
          ]
        },
        {
          "output_type": "stream",
          "name": "stderr",
          "text": [
            "     30/100         0G      1.026     0.9324      1.026         26        640: 100%|██████████| 5/5 [00:55<00:00, 11.09s/it]\n",
            "                 Class     Images  Instances      Box(P          R      mAP50  mAP50-95): 100%|██████████| 1/1 [00:05<00:00,  5.24s/it]"
          ]
        },
        {
          "output_type": "stream",
          "name": "stdout",
          "text": [
            "                   all         20         65      0.571      0.407      0.565      0.353\n"
          ]
        },
        {
          "output_type": "stream",
          "name": "stderr",
          "text": [
            "\n"
          ]
        },
        {
          "output_type": "stream",
          "name": "stdout",
          "text": [
            "\n",
            "      Epoch    GPU_mem   box_loss   cls_loss   dfl_loss  Instances       Size\n"
          ]
        },
        {
          "output_type": "stream",
          "name": "stderr",
          "text": [
            "     31/100         0G      1.076     0.9892      1.018         19        640: 100%|██████████| 5/5 [00:55<00:00, 11.08s/it]\n",
            "                 Class     Images  Instances      Box(P          R      mAP50  mAP50-95): 100%|██████████| 1/1 [00:06<00:00,  6.52s/it]"
          ]
        },
        {
          "output_type": "stream",
          "name": "stdout",
          "text": [
            "                   all         20         65      0.572      0.407      0.561      0.353\n"
          ]
        },
        {
          "output_type": "stream",
          "name": "stderr",
          "text": [
            "\n"
          ]
        },
        {
          "output_type": "stream",
          "name": "stdout",
          "text": [
            "\n",
            "      Epoch    GPU_mem   box_loss   cls_loss   dfl_loss  Instances       Size\n"
          ]
        },
        {
          "output_type": "stream",
          "name": "stderr",
          "text": [
            "     32/100         0G      1.095     0.9535      1.023         43        640: 100%|██████████| 5/5 [00:54<00:00, 10.99s/it]\n",
            "                 Class     Images  Instances      Box(P          R      mAP50  mAP50-95): 100%|██████████| 1/1 [00:05<00:00,  5.46s/it]"
          ]
        },
        {
          "output_type": "stream",
          "name": "stdout",
          "text": [
            "                   all         20         65      0.506      0.494      0.544      0.328\n"
          ]
        },
        {
          "output_type": "stream",
          "name": "stderr",
          "text": [
            "\n"
          ]
        },
        {
          "output_type": "stream",
          "name": "stdout",
          "text": [
            "\n",
            "      Epoch    GPU_mem   box_loss   cls_loss   dfl_loss  Instances       Size\n"
          ]
        },
        {
          "output_type": "stream",
          "name": "stderr",
          "text": [
            "     33/100         0G      1.026     0.9022      1.041         25        640: 100%|██████████| 5/5 [00:54<00:00, 10.99s/it]\n",
            "                 Class     Images  Instances      Box(P          R      mAP50  mAP50-95): 100%|██████████| 1/1 [00:05<00:00,  5.12s/it]"
          ]
        },
        {
          "output_type": "stream",
          "name": "stdout",
          "text": [
            "                   all         20         65      0.506      0.552      0.558      0.369\n"
          ]
        },
        {
          "output_type": "stream",
          "name": "stderr",
          "text": [
            "\n"
          ]
        },
        {
          "output_type": "stream",
          "name": "stdout",
          "text": [
            "\n",
            "      Epoch    GPU_mem   box_loss   cls_loss   dfl_loss  Instances       Size\n"
          ]
        },
        {
          "output_type": "stream",
          "name": "stderr",
          "text": [
            "     34/100         0G      1.006     0.8584      1.008         64        640: 100%|██████████| 5/5 [00:53<00:00, 10.80s/it]\n",
            "                 Class     Images  Instances      Box(P          R      mAP50  mAP50-95): 100%|██████████| 1/1 [00:06<00:00,  6.21s/it]"
          ]
        },
        {
          "output_type": "stream",
          "name": "stdout",
          "text": [
            "                   all         20         65      0.501      0.537      0.559      0.372\n"
          ]
        },
        {
          "output_type": "stream",
          "name": "stderr",
          "text": [
            "\n"
          ]
        },
        {
          "output_type": "stream",
          "name": "stdout",
          "text": [
            "\n",
            "      Epoch    GPU_mem   box_loss   cls_loss   dfl_loss  Instances       Size\n"
          ]
        },
        {
          "output_type": "stream",
          "name": "stderr",
          "text": [
            "     35/100         0G      1.031     0.9001      1.018         42        640: 100%|██████████| 5/5 [00:54<00:00, 10.84s/it]\n",
            "                 Class     Images  Instances      Box(P          R      mAP50  mAP50-95): 100%|██████████| 1/1 [00:05<00:00,  5.08s/it]"
          ]
        },
        {
          "output_type": "stream",
          "name": "stdout",
          "text": [
            "                   all         20         65      0.492      0.522       0.57       0.38\n"
          ]
        },
        {
          "output_type": "stream",
          "name": "stderr",
          "text": [
            "\n"
          ]
        },
        {
          "output_type": "stream",
          "name": "stdout",
          "text": [
            "\n",
            "      Epoch    GPU_mem   box_loss   cls_loss   dfl_loss  Instances       Size\n"
          ]
        },
        {
          "output_type": "stream",
          "name": "stderr",
          "text": [
            "     36/100         0G      1.025     0.8966      1.017         32        640: 100%|██████████| 5/5 [00:54<00:00, 10.95s/it]\n",
            "                 Class     Images  Instances      Box(P          R      mAP50  mAP50-95): 100%|██████████| 1/1 [00:06<00:00,  6.36s/it]"
          ]
        },
        {
          "output_type": "stream",
          "name": "stdout",
          "text": [
            "                   all         20         65      0.528      0.512      0.554      0.379\n"
          ]
        },
        {
          "output_type": "stream",
          "name": "stderr",
          "text": [
            "\n"
          ]
        },
        {
          "output_type": "stream",
          "name": "stdout",
          "text": [
            "\n",
            "      Epoch    GPU_mem   box_loss   cls_loss   dfl_loss  Instances       Size\n"
          ]
        },
        {
          "output_type": "stream",
          "name": "stderr",
          "text": [
            "     37/100         0G      1.056      0.901      1.028         50        640: 100%|██████████| 5/5 [00:55<00:00, 11.12s/it]\n",
            "                 Class     Images  Instances      Box(P          R      mAP50  mAP50-95): 100%|██████████| 1/1 [00:05<00:00,  5.09s/it]"
          ]
        },
        {
          "output_type": "stream",
          "name": "stdout",
          "text": [
            "                   all         20         65      0.881      0.496      0.548      0.374\n"
          ]
        },
        {
          "output_type": "stream",
          "name": "stderr",
          "text": [
            "\n"
          ]
        },
        {
          "output_type": "stream",
          "name": "stdout",
          "text": [
            "\n",
            "      Epoch    GPU_mem   box_loss   cls_loss   dfl_loss  Instances       Size\n"
          ]
        },
        {
          "output_type": "stream",
          "name": "stderr",
          "text": [
            "     38/100         0G     0.9919      0.867     0.9762         49        640: 100%|██████████| 5/5 [00:59<00:00, 11.92s/it]\n",
            "                 Class     Images  Instances      Box(P          R      mAP50  mAP50-95): 100%|██████████| 1/1 [00:06<00:00,  6.41s/it]"
          ]
        },
        {
          "output_type": "stream",
          "name": "stdout",
          "text": [
            "                   all         20         65      0.869      0.533       0.57      0.387\n"
          ]
        },
        {
          "output_type": "stream",
          "name": "stderr",
          "text": [
            "\n"
          ]
        },
        {
          "output_type": "stream",
          "name": "stdout",
          "text": [
            "\n",
            "      Epoch    GPU_mem   box_loss   cls_loss   dfl_loss  Instances       Size\n"
          ]
        },
        {
          "output_type": "stream",
          "name": "stderr",
          "text": [
            "     39/100         0G      1.059       0.88      1.019         26        640: 100%|██████████| 5/5 [00:55<00:00, 11.05s/it]\n",
            "                 Class     Images  Instances      Box(P          R      mAP50  mAP50-95): 100%|██████████| 1/1 [00:05<00:00,  5.12s/it]"
          ]
        },
        {
          "output_type": "stream",
          "name": "stdout",
          "text": [
            "                   all         20         65      0.896      0.522      0.585      0.371\n"
          ]
        },
        {
          "output_type": "stream",
          "name": "stderr",
          "text": [
            "\n"
          ]
        },
        {
          "output_type": "stream",
          "name": "stdout",
          "text": [
            "\n",
            "      Epoch    GPU_mem   box_loss   cls_loss   dfl_loss  Instances       Size\n"
          ]
        },
        {
          "output_type": "stream",
          "name": "stderr",
          "text": [
            "     40/100         0G       1.01     0.7913     0.9756         55        640: 100%|██████████| 5/5 [00:55<00:00, 11.14s/it]\n",
            "                 Class     Images  Instances      Box(P          R      mAP50  mAP50-95): 100%|██████████| 1/1 [00:06<00:00,  6.45s/it]"
          ]
        },
        {
          "output_type": "stream",
          "name": "stdout",
          "text": [
            "                   all         20         65      0.853      0.589      0.609      0.402\n"
          ]
        },
        {
          "output_type": "stream",
          "name": "stderr",
          "text": [
            "\n"
          ]
        },
        {
          "output_type": "stream",
          "name": "stdout",
          "text": [
            "\n",
            "      Epoch    GPU_mem   box_loss   cls_loss   dfl_loss  Instances       Size\n"
          ]
        },
        {
          "output_type": "stream",
          "name": "stderr",
          "text": [
            "     41/100         0G       1.03     0.8317     0.9978         32        640: 100%|██████████| 5/5 [00:54<00:00, 10.90s/it]\n",
            "                 Class     Images  Instances      Box(P          R      mAP50  mAP50-95): 100%|██████████| 1/1 [00:05<00:00,  5.05s/it]"
          ]
        },
        {
          "output_type": "stream",
          "name": "stdout",
          "text": [
            "                   all         20         65      0.916      0.579      0.634      0.434\n"
          ]
        },
        {
          "output_type": "stream",
          "name": "stderr",
          "text": [
            "\n"
          ]
        },
        {
          "output_type": "stream",
          "name": "stdout",
          "text": [
            "\n",
            "      Epoch    GPU_mem   box_loss   cls_loss   dfl_loss  Instances       Size\n"
          ]
        },
        {
          "output_type": "stream",
          "name": "stderr",
          "text": [
            "     42/100         0G      1.012     0.8377      1.004         22        640: 100%|██████████| 5/5 [00:56<00:00, 11.29s/it]\n",
            "                 Class     Images  Instances      Box(P          R      mAP50  mAP50-95): 100%|██████████| 1/1 [00:05<00:00,  5.66s/it]"
          ]
        },
        {
          "output_type": "stream",
          "name": "stdout",
          "text": [
            "                   all         20         65      0.588      0.602      0.648      0.432\n"
          ]
        },
        {
          "output_type": "stream",
          "name": "stderr",
          "text": [
            "\n"
          ]
        },
        {
          "output_type": "stream",
          "name": "stdout",
          "text": [
            "\n",
            "      Epoch    GPU_mem   box_loss   cls_loss   dfl_loss  Instances       Size\n"
          ]
        },
        {
          "output_type": "stream",
          "name": "stderr",
          "text": [
            "     43/100         0G      1.086     0.8592      1.001         52        640: 100%|██████████| 5/5 [00:52<00:00, 10.53s/it]\n",
            "                 Class     Images  Instances      Box(P          R      mAP50  mAP50-95): 100%|██████████| 1/1 [00:06<00:00,  6.19s/it]"
          ]
        },
        {
          "output_type": "stream",
          "name": "stdout",
          "text": [
            "                   all         20         65      0.602        0.6      0.648      0.438\n"
          ]
        },
        {
          "output_type": "stream",
          "name": "stderr",
          "text": [
            "\n"
          ]
        },
        {
          "output_type": "stream",
          "name": "stdout",
          "text": [
            "\n",
            "      Epoch    GPU_mem   box_loss   cls_loss   dfl_loss  Instances       Size\n"
          ]
        },
        {
          "output_type": "stream",
          "name": "stderr",
          "text": [
            "     44/100         0G     0.9639     0.7921     0.9648         44        640: 100%|██████████| 5/5 [00:54<00:00, 10.83s/it]\n",
            "                 Class     Images  Instances      Box(P          R      mAP50  mAP50-95): 100%|██████████| 1/1 [00:05<00:00,  5.02s/it]"
          ]
        },
        {
          "output_type": "stream",
          "name": "stdout",
          "text": [
            "                   all         20         65      0.544      0.595      0.636      0.436\n"
          ]
        },
        {
          "output_type": "stream",
          "name": "stderr",
          "text": [
            "\n"
          ]
        },
        {
          "output_type": "stream",
          "name": "stdout",
          "text": [
            "\n",
            "      Epoch    GPU_mem   box_loss   cls_loss   dfl_loss  Instances       Size\n"
          ]
        },
        {
          "output_type": "stream",
          "name": "stderr",
          "text": [
            "     45/100         0G     0.9979     0.7985     0.9975         34        640: 100%|██████████| 5/5 [00:54<00:00, 11.00s/it]\n",
            "                 Class     Images  Instances      Box(P          R      mAP50  mAP50-95): 100%|██████████| 1/1 [00:06<00:00,  6.36s/it]"
          ]
        },
        {
          "output_type": "stream",
          "name": "stdout",
          "text": [
            "                   all         20         65      0.517      0.589      0.632      0.427\n"
          ]
        },
        {
          "output_type": "stream",
          "name": "stderr",
          "text": [
            "\n"
          ]
        },
        {
          "output_type": "stream",
          "name": "stdout",
          "text": [
            "\n",
            "      Epoch    GPU_mem   box_loss   cls_loss   dfl_loss  Instances       Size\n"
          ]
        },
        {
          "output_type": "stream",
          "name": "stderr",
          "text": [
            "     46/100         0G      1.022     0.8106     0.9934         49        640: 100%|██████████| 5/5 [00:53<00:00, 10.72s/it]\n",
            "                 Class     Images  Instances      Box(P          R      mAP50  mAP50-95): 100%|██████████| 1/1 [00:05<00:00,  5.27s/it]"
          ]
        },
        {
          "output_type": "stream",
          "name": "stdout",
          "text": [
            "                   all         20         65      0.539      0.564      0.632       0.44\n"
          ]
        },
        {
          "output_type": "stream",
          "name": "stderr",
          "text": [
            "\n"
          ]
        },
        {
          "output_type": "stream",
          "name": "stdout",
          "text": [
            "\n",
            "      Epoch    GPU_mem   box_loss   cls_loss   dfl_loss  Instances       Size\n"
          ]
        },
        {
          "output_type": "stream",
          "name": "stderr",
          "text": [
            "     47/100         0G      0.968     0.7902     0.9665         34        640: 100%|██████████| 5/5 [00:56<00:00, 11.34s/it]\n",
            "                 Class     Images  Instances      Box(P          R      mAP50  mAP50-95): 100%|██████████| 1/1 [00:05<00:00,  5.40s/it]"
          ]
        },
        {
          "output_type": "stream",
          "name": "stdout",
          "text": [
            "                   all         20         65      0.559      0.543      0.632      0.428\n"
          ]
        },
        {
          "output_type": "stream",
          "name": "stderr",
          "text": [
            "\n"
          ]
        },
        {
          "output_type": "stream",
          "name": "stdout",
          "text": [
            "\n",
            "      Epoch    GPU_mem   box_loss   cls_loss   dfl_loss  Instances       Size\n"
          ]
        },
        {
          "output_type": "stream",
          "name": "stderr",
          "text": [
            "     48/100         0G      1.039     0.8293     0.9954         42        640: 100%|██████████| 5/5 [00:54<00:00, 10.82s/it]\n",
            "                 Class     Images  Instances      Box(P          R      mAP50  mAP50-95): 100%|██████████| 1/1 [00:05<00:00,  6.00s/it]"
          ]
        },
        {
          "output_type": "stream",
          "name": "stdout",
          "text": [
            "                   all         20         65      0.568      0.561      0.624      0.415\n"
          ]
        },
        {
          "output_type": "stream",
          "name": "stderr",
          "text": [
            "\n"
          ]
        },
        {
          "output_type": "stream",
          "name": "stdout",
          "text": [
            "\n",
            "      Epoch    GPU_mem   box_loss   cls_loss   dfl_loss  Instances       Size\n"
          ]
        },
        {
          "output_type": "stream",
          "name": "stderr",
          "text": [
            "     49/100         0G     0.9652     0.7812     0.9993         30        640: 100%|██████████| 5/5 [00:54<00:00, 10.94s/it]\n",
            "                 Class     Images  Instances      Box(P          R      mAP50  mAP50-95): 100%|██████████| 1/1 [00:05<00:00,  5.09s/it]"
          ]
        },
        {
          "output_type": "stream",
          "name": "stdout",
          "text": [
            "                   all         20         65      0.554      0.544      0.619      0.433\n"
          ]
        },
        {
          "output_type": "stream",
          "name": "stderr",
          "text": [
            "\n"
          ]
        },
        {
          "output_type": "stream",
          "name": "stdout",
          "text": [
            "\n",
            "      Epoch    GPU_mem   box_loss   cls_loss   dfl_loss  Instances       Size\n"
          ]
        },
        {
          "output_type": "stream",
          "name": "stderr",
          "text": [
            "     50/100         0G     0.9053     0.7162     0.9402         39        640: 100%|██████████| 5/5 [00:54<00:00, 10.94s/it]\n",
            "                 Class     Images  Instances      Box(P          R      mAP50  mAP50-95): 100%|██████████| 1/1 [00:06<00:00,  6.08s/it]"
          ]
        },
        {
          "output_type": "stream",
          "name": "stdout",
          "text": [
            "                   all         20         65       0.61      0.526      0.619      0.423\n"
          ]
        },
        {
          "output_type": "stream",
          "name": "stderr",
          "text": [
            "\n"
          ]
        },
        {
          "output_type": "stream",
          "name": "stdout",
          "text": [
            "\n",
            "      Epoch    GPU_mem   box_loss   cls_loss   dfl_loss  Instances       Size\n"
          ]
        },
        {
          "output_type": "stream",
          "name": "stderr",
          "text": [
            "     51/100         0G     0.9257     0.7124     0.9501         60        640: 100%|██████████| 5/5 [00:54<00:00, 10.89s/it]\n",
            "                 Class     Images  Instances      Box(P          R      mAP50  mAP50-95): 100%|██████████| 1/1 [00:05<00:00,  5.03s/it]"
          ]
        },
        {
          "output_type": "stream",
          "name": "stdout",
          "text": [
            "                   all         20         65      0.594      0.554      0.627      0.433\n"
          ]
        },
        {
          "output_type": "stream",
          "name": "stderr",
          "text": [
            "\n"
          ]
        },
        {
          "output_type": "stream",
          "name": "stdout",
          "text": [
            "\n",
            "      Epoch    GPU_mem   box_loss   cls_loss   dfl_loss  Instances       Size\n"
          ]
        },
        {
          "output_type": "stream",
          "name": "stderr",
          "text": [
            "     52/100         0G     0.8834     0.7083     0.9588         36        640: 100%|██████████| 5/5 [00:56<00:00, 11.39s/it]\n",
            "                 Class     Images  Instances      Box(P          R      mAP50  mAP50-95): 100%|██████████| 1/1 [00:06<00:00,  6.12s/it]"
          ]
        },
        {
          "output_type": "stream",
          "name": "stdout",
          "text": [
            "                   all         20         65      0.554      0.531      0.618      0.426\n"
          ]
        },
        {
          "output_type": "stream",
          "name": "stderr",
          "text": [
            "\n"
          ]
        },
        {
          "output_type": "stream",
          "name": "stdout",
          "text": [
            "\n",
            "      Epoch    GPU_mem   box_loss   cls_loss   dfl_loss  Instances       Size\n"
          ]
        },
        {
          "output_type": "stream",
          "name": "stderr",
          "text": [
            "     53/100         0G     0.9133     0.7892     0.9678         26        640: 100%|██████████| 5/5 [00:54<00:00, 10.89s/it]\n",
            "                 Class     Images  Instances      Box(P          R      mAP50  mAP50-95): 100%|██████████| 1/1 [00:05<00:00,  5.03s/it]"
          ]
        },
        {
          "output_type": "stream",
          "name": "stdout",
          "text": [
            "                   all         20         65      0.558      0.547      0.614      0.425\n"
          ]
        },
        {
          "output_type": "stream",
          "name": "stderr",
          "text": [
            "\n"
          ]
        },
        {
          "output_type": "stream",
          "name": "stdout",
          "text": [
            "\n",
            "      Epoch    GPU_mem   box_loss   cls_loss   dfl_loss  Instances       Size\n"
          ]
        },
        {
          "output_type": "stream",
          "name": "stderr",
          "text": [
            "     54/100         0G     0.8673     0.7331     0.9394         27        640: 100%|██████████| 5/5 [00:54<00:00, 10.96s/it]\n",
            "                 Class     Images  Instances      Box(P          R      mAP50  mAP50-95): 100%|██████████| 1/1 [00:05<00:00,  5.22s/it]"
          ]
        },
        {
          "output_type": "stream",
          "name": "stdout",
          "text": [
            "                   all         20         65      0.557      0.576       0.62      0.441\n"
          ]
        },
        {
          "output_type": "stream",
          "name": "stderr",
          "text": [
            "\n"
          ]
        },
        {
          "output_type": "stream",
          "name": "stdout",
          "text": [
            "\n",
            "      Epoch    GPU_mem   box_loss   cls_loss   dfl_loss  Instances       Size\n"
          ]
        },
        {
          "output_type": "stream",
          "name": "stderr",
          "text": [
            "     55/100         0G     0.8788     0.7495     0.9473         52        640: 100%|██████████| 5/5 [00:54<00:00, 10.83s/it]\n",
            "                 Class     Images  Instances      Box(P          R      mAP50  mAP50-95): 100%|██████████| 1/1 [00:06<00:00,  6.07s/it]"
          ]
        },
        {
          "output_type": "stream",
          "name": "stdout",
          "text": [
            "                   all         20         65      0.582      0.583      0.627      0.445\n"
          ]
        },
        {
          "output_type": "stream",
          "name": "stderr",
          "text": [
            "\n"
          ]
        },
        {
          "output_type": "stream",
          "name": "stdout",
          "text": [
            "\n",
            "      Epoch    GPU_mem   box_loss   cls_loss   dfl_loss  Instances       Size\n"
          ]
        },
        {
          "output_type": "stream",
          "name": "stderr",
          "text": [
            "     56/100         0G     0.8127     0.7051     0.9455         41        640: 100%|██████████| 5/5 [00:54<00:00, 10.91s/it]\n",
            "                 Class     Images  Instances      Box(P          R      mAP50  mAP50-95): 100%|██████████| 1/1 [00:04<00:00,  5.00s/it]"
          ]
        },
        {
          "output_type": "stream",
          "name": "stdout",
          "text": [
            "                   all         20         65      0.637      0.578      0.629      0.444\n"
          ]
        },
        {
          "output_type": "stream",
          "name": "stderr",
          "text": [
            "\n"
          ]
        },
        {
          "output_type": "stream",
          "name": "stdout",
          "text": [
            "\n",
            "      Epoch    GPU_mem   box_loss   cls_loss   dfl_loss  Instances       Size\n"
          ]
        },
        {
          "output_type": "stream",
          "name": "stderr",
          "text": [
            "     57/100         0G      0.865     0.7241     0.9387         38        640: 100%|██████████| 5/5 [00:55<00:00, 11.17s/it]\n",
            "                 Class     Images  Instances      Box(P          R      mAP50  mAP50-95): 100%|██████████| 1/1 [00:06<00:00,  6.31s/it]"
          ]
        },
        {
          "output_type": "stream",
          "name": "stdout",
          "text": [
            "                   all         20         65      0.644      0.574      0.631      0.446\n"
          ]
        },
        {
          "output_type": "stream",
          "name": "stderr",
          "text": [
            "\n"
          ]
        },
        {
          "output_type": "stream",
          "name": "stdout",
          "text": [
            "\n",
            "      Epoch    GPU_mem   box_loss   cls_loss   dfl_loss  Instances       Size\n"
          ]
        },
        {
          "output_type": "stream",
          "name": "stderr",
          "text": [
            "     58/100         0G     0.8534     0.7114     0.9418         50        640: 100%|██████████| 5/5 [00:52<00:00, 10.59s/it]\n",
            "                 Class     Images  Instances      Box(P          R      mAP50  mAP50-95): 100%|██████████| 1/1 [00:05<00:00,  5.06s/it]"
          ]
        },
        {
          "output_type": "stream",
          "name": "stdout",
          "text": [
            "                   all         20         65      0.609        0.6      0.634      0.452\n"
          ]
        },
        {
          "output_type": "stream",
          "name": "stderr",
          "text": [
            "\n"
          ]
        },
        {
          "output_type": "stream",
          "name": "stdout",
          "text": [
            "\n",
            "      Epoch    GPU_mem   box_loss   cls_loss   dfl_loss  Instances       Size\n"
          ]
        },
        {
          "output_type": "stream",
          "name": "stderr",
          "text": [
            "     59/100         0G     0.8317     0.7056     0.9292         53        640: 100%|██████████| 5/5 [00:54<00:00, 10.90s/it]\n",
            "                 Class     Images  Instances      Box(P          R      mAP50  mAP50-95): 100%|██████████| 1/1 [00:05<00:00,  5.01s/it]"
          ]
        },
        {
          "output_type": "stream",
          "name": "stdout",
          "text": [
            "                   all         20         65      0.608      0.598      0.638       0.45\n"
          ]
        },
        {
          "output_type": "stream",
          "name": "stderr",
          "text": [
            "\n"
          ]
        },
        {
          "output_type": "stream",
          "name": "stdout",
          "text": [
            "\n",
            "      Epoch    GPU_mem   box_loss   cls_loss   dfl_loss  Instances       Size\n"
          ]
        },
        {
          "output_type": "stream",
          "name": "stderr",
          "text": [
            "     60/100         0G     0.8674     0.6922     0.9278         50        640: 100%|██████████| 5/5 [00:53<00:00, 10.75s/it]\n",
            "                 Class     Images  Instances      Box(P          R      mAP50  mAP50-95): 100%|██████████| 1/1 [00:06<00:00,  6.09s/it]"
          ]
        },
        {
          "output_type": "stream",
          "name": "stdout",
          "text": [
            "                   all         20         65      0.946      0.637      0.635      0.448\n"
          ]
        },
        {
          "output_type": "stream",
          "name": "stderr",
          "text": [
            "\n"
          ]
        },
        {
          "output_type": "stream",
          "name": "stdout",
          "text": [
            "\n",
            "      Epoch    GPU_mem   box_loss   cls_loss   dfl_loss  Instances       Size\n"
          ]
        },
        {
          "output_type": "stream",
          "name": "stderr",
          "text": [
            "     61/100         0G     0.8253     0.6609     0.9093         36        640: 100%|██████████| 5/5 [00:53<00:00, 10.65s/it]\n",
            "                 Class     Images  Instances      Box(P          R      mAP50  mAP50-95): 100%|██████████| 1/1 [00:04<00:00,  4.98s/it]"
          ]
        },
        {
          "output_type": "stream",
          "name": "stdout",
          "text": [
            "                   all         20         65      0.958      0.628      0.631      0.445\n"
          ]
        },
        {
          "output_type": "stream",
          "name": "stderr",
          "text": [
            "\n"
          ]
        },
        {
          "output_type": "stream",
          "name": "stdout",
          "text": [
            "\n",
            "      Epoch    GPU_mem   box_loss   cls_loss   dfl_loss  Instances       Size\n"
          ]
        },
        {
          "output_type": "stream",
          "name": "stderr",
          "text": [
            "     62/100         0G      0.827     0.6629     0.9208         62        640: 100%|██████████| 5/5 [00:55<00:00, 11.15s/it]\n",
            "                 Class     Images  Instances      Box(P          R      mAP50  mAP50-95): 100%|██████████| 1/1 [00:05<00:00,  5.74s/it]"
          ]
        },
        {
          "output_type": "stream",
          "name": "stdout",
          "text": [
            "                   all         20         65      0.605      0.633       0.63      0.439\n"
          ]
        },
        {
          "output_type": "stream",
          "name": "stderr",
          "text": [
            "\n"
          ]
        },
        {
          "output_type": "stream",
          "name": "stdout",
          "text": [
            "\n",
            "      Epoch    GPU_mem   box_loss   cls_loss   dfl_loss  Instances       Size\n"
          ]
        },
        {
          "output_type": "stream",
          "name": "stderr",
          "text": [
            "     63/100         0G     0.7921     0.6479     0.9175         43        640: 100%|██████████| 5/5 [00:52<00:00, 10.53s/it]\n",
            "                 Class     Images  Instances      Box(P          R      mAP50  mAP50-95): 100%|██████████| 1/1 [00:05<00:00,  5.85s/it]"
          ]
        },
        {
          "output_type": "stream",
          "name": "stdout",
          "text": [
            "                   all         20         65      0.604      0.629      0.632      0.439\n"
          ]
        },
        {
          "output_type": "stream",
          "name": "stderr",
          "text": [
            "\n"
          ]
        },
        {
          "output_type": "stream",
          "name": "stdout",
          "text": [
            "\n",
            "      Epoch    GPU_mem   box_loss   cls_loss   dfl_loss  Instances       Size\n"
          ]
        },
        {
          "output_type": "stream",
          "name": "stderr",
          "text": [
            "     64/100         0G     0.8051     0.6817     0.9287         19        640: 100%|██████████| 5/5 [00:53<00:00, 10.76s/it]\n",
            "                 Class     Images  Instances      Box(P          R      mAP50  mAP50-95): 100%|██████████| 1/1 [00:04<00:00,  4.98s/it]"
          ]
        },
        {
          "output_type": "stream",
          "name": "stdout",
          "text": [
            "                   all         20         65      0.627      0.594      0.638      0.429\n"
          ]
        },
        {
          "output_type": "stream",
          "name": "stderr",
          "text": [
            "\n"
          ]
        },
        {
          "output_type": "stream",
          "name": "stdout",
          "text": [
            "\n",
            "      Epoch    GPU_mem   box_loss   cls_loss   dfl_loss  Instances       Size\n"
          ]
        },
        {
          "output_type": "stream",
          "name": "stderr",
          "text": [
            "     65/100         0G     0.8128      0.636     0.9437         53        640: 100%|██████████| 5/5 [00:54<00:00, 10.93s/it]\n",
            "                 Class     Images  Instances      Box(P          R      mAP50  mAP50-95): 100%|██████████| 1/1 [00:06<00:00,  6.31s/it]"
          ]
        },
        {
          "output_type": "stream",
          "name": "stdout",
          "text": [
            "                   all         20         65      0.656      0.575      0.643      0.445\n"
          ]
        },
        {
          "output_type": "stream",
          "name": "stderr",
          "text": [
            "\n"
          ]
        },
        {
          "output_type": "stream",
          "name": "stdout",
          "text": [
            "\n",
            "      Epoch    GPU_mem   box_loss   cls_loss   dfl_loss  Instances       Size\n"
          ]
        },
        {
          "output_type": "stream",
          "name": "stderr",
          "text": [
            "     66/100         0G     0.7903     0.6654     0.9376         26        640: 100%|██████████| 5/5 [00:53<00:00, 10.60s/it]\n",
            "                 Class     Images  Instances      Box(P          R      mAP50  mAP50-95): 100%|██████████| 1/1 [00:05<00:00,  5.27s/it]"
          ]
        },
        {
          "output_type": "stream",
          "name": "stdout",
          "text": [
            "                   all         20         65      0.652      0.578      0.644      0.456\n"
          ]
        },
        {
          "output_type": "stream",
          "name": "stderr",
          "text": [
            "\n"
          ]
        },
        {
          "output_type": "stream",
          "name": "stdout",
          "text": [
            "\n",
            "      Epoch    GPU_mem   box_loss   cls_loss   dfl_loss  Instances       Size\n"
          ]
        },
        {
          "output_type": "stream",
          "name": "stderr",
          "text": [
            "     67/100         0G     0.7941     0.6518     0.9188         58        640: 100%|██████████| 5/5 [00:56<00:00, 11.21s/it]\n",
            "                 Class     Images  Instances      Box(P          R      mAP50  mAP50-95): 100%|██████████| 1/1 [00:05<00:00,  5.08s/it]"
          ]
        },
        {
          "output_type": "stream",
          "name": "stdout",
          "text": [
            "                   all         20         65      0.582      0.626      0.649      0.464\n"
          ]
        },
        {
          "output_type": "stream",
          "name": "stderr",
          "text": [
            "\n"
          ]
        },
        {
          "output_type": "stream",
          "name": "stdout",
          "text": [
            "\n",
            "      Epoch    GPU_mem   box_loss   cls_loss   dfl_loss  Instances       Size\n"
          ]
        },
        {
          "output_type": "stream",
          "name": "stderr",
          "text": [
            "     68/100         0G     0.7594     0.6303     0.9176        103        640:  60%|██████    | 3/5 [00:36<00:24, 12.37s/it]"
          ]
        }
      ]
    },
    {
      "cell_type": "code",
      "source": [
        "results.results_dict"
      ],
      "metadata": {
        "id": "QX9oLZu3-sq8"
      },
      "execution_count": null,
      "outputs": []
    }
  ]
}