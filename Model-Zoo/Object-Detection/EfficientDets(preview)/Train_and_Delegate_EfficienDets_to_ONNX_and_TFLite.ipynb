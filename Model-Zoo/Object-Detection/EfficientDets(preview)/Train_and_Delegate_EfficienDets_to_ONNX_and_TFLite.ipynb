{
 "cells": [
  {
   "cell_type": "markdown",
   "metadata": {},
   "source": [
    "# Train and Delegate EfficienDets to ONNX and TFLite Format\n",
    "\n",
    "<table class=\"tfo-notebook-buttons\" align=\"left\">\n",
    "  <td>\n",
    "    <a target=\"_blank\" href=\"\"><img src=\"https://www.tensorflow.org/images/GitHub-Mark-32px.png\" />View source on GitHub</a>\n",
    "  </td>\n",
    "  <td>\n",
    "    <a href=\"https://colab.research.google.com/drive/1wZ7NrSd1WlMbXD683ilTPJ7lGuGwYkMZ?usp=sharing\">\n",
    "      <img src=\"https://cloud.google.com/ml-engine/images/colab-logo-32px.png\" alt=\"Colab logo\"> View on Colab\n",
    "    </a>\n",
    "  </td>\n",
    "</table>"
   ]
  },
  {
   "cell_type": "markdown",
   "metadata": {},
   "source": [
    "**Import EfficienDets models from the AutoML framework (Tensorflow):** :\n",
    "\n",
    "Load pre-trained EfficienDets models from the AutoML library. This library is an open source development tool by Google for computer vision models. You can select the currently validated Image Classification model in `model_name`."
   ]
  },
  {
   "cell_type": "code",
   "execution_count": 1,
   "metadata": {
    "scrolled": true
   },
   "outputs": [
    {
     "name": "stderr",
     "output_type": "stream",
     "text": [
      "2024-12-04 09:37:43.757018: W tensorflow/stream_executor/platform/default/dso_loader.cc:64] Could not load dynamic library 'libcudart.so.11.0'; dlerror: libcudart.so.11.0: cannot open shared object file: No such file or directory\n",
      "2024-12-04 09:37:43.757036: I tensorflow/stream_executor/cuda/cudart_stub.cc:29] Ignore above cudart dlerror if you do not have a GPU set up on your machine.\n",
      "/home/r300/miniconda3/envs/automl/lib/python3.8/site-packages/tensorflow_addons/utils/tfa_eol_msg.py:23: UserWarning: \n",
      "\n",
      "TensorFlow Addons (TFA) has ended development and introduction of new features.\n",
      "TFA has entered a minimal maintenance and release mode until a planned end of life in May 2024.\n",
      "Please modify downstream libraries to take dependencies from other repositories in our TensorFlow community (e.g. Keras, Keras-CV, and Keras-NLP). \n",
      "\n",
      "For more information see: https://github.com/tensorflow/addons/issues/2807 \n",
      "\n",
      "  warnings.warn(\n",
      "/home/r300/miniconda3/envs/automl/lib/python3.8/site-packages/tensorflow_addons/utils/ensure_tf_install.py:53: UserWarning: Tensorflow Addons supports using Python ops for all Tensorflow versions above or equal to 2.11.0 and strictly below 2.14.0 (nightly versions are not supported). \n",
      " The versions of TensorFlow you are currently using is 2.8.1 and is not supported. \n",
      "Some things might work, some things might not.\n",
      "If you were to encounter a bug, do not file an issue.\n",
      "If you want to make sure you're using a tested and supported configuration, either change the TensorFlow version or the TensorFlow Addons's version. \n",
      "You can find the compatibility matrix in TensorFlow Addon's readme:\n",
      "https://github.com/tensorflow/addons\n",
      "  warnings.warn(\n"
     ]
    },
    {
     "name": "stdout",
     "output_type": "stream",
     "text": [
      "Num GPUs Available:  0\n",
      "CUDA Available:  True\n"
     ]
    },
    {
     "name": "stderr",
     "output_type": "stream",
     "text": [
      "2024-12-04 09:37:47.102139: I tensorflow/stream_executor/cuda/cuda_gpu_executor.cc:936] successful NUMA node read from SysFS had negative value (-1), but there must be at least one NUMA node, so returning NUMA node zero\n",
      "2024-12-04 09:37:47.102305: W tensorflow/stream_executor/platform/default/dso_loader.cc:64] Could not load dynamic library 'libcudart.so.11.0'; dlerror: libcudart.so.11.0: cannot open shared object file: No such file or directory; LD_LIBRARY_PATH: /home/r300/.local/lib/python3.8/site-packages/cv2/../../lib64:\n",
      "2024-12-04 09:37:47.102366: W tensorflow/stream_executor/platform/default/dso_loader.cc:64] Could not load dynamic library 'libcublas.so.11'; dlerror: libcublas.so.11: cannot open shared object file: No such file or directory; LD_LIBRARY_PATH: /home/r300/.local/lib/python3.8/site-packages/cv2/../../lib64:\n",
      "2024-12-04 09:37:47.102424: W tensorflow/stream_executor/platform/default/dso_loader.cc:64] Could not load dynamic library 'libcublasLt.so.11'; dlerror: libcublasLt.so.11: cannot open shared object file: No such file or directory; LD_LIBRARY_PATH: /home/r300/.local/lib/python3.8/site-packages/cv2/../../lib64:\n",
      "2024-12-04 09:37:47.102478: W tensorflow/stream_executor/platform/default/dso_loader.cc:64] Could not load dynamic library 'libcufft.so.10'; dlerror: libcufft.so.10: cannot open shared object file: No such file or directory; LD_LIBRARY_PATH: /home/r300/.local/lib/python3.8/site-packages/cv2/../../lib64:\n",
      "2024-12-04 09:37:47.102534: W tensorflow/stream_executor/platform/default/dso_loader.cc:64] Could not load dynamic library 'libcurand.so.10'; dlerror: libcurand.so.10: cannot open shared object file: No such file or directory; LD_LIBRARY_PATH: /home/r300/.local/lib/python3.8/site-packages/cv2/../../lib64:\n",
      "2024-12-04 09:37:47.102588: W tensorflow/stream_executor/platform/default/dso_loader.cc:64] Could not load dynamic library 'libcusolver.so.11'; dlerror: libcusolver.so.11: cannot open shared object file: No such file or directory; LD_LIBRARY_PATH: /home/r300/.local/lib/python3.8/site-packages/cv2/../../lib64:\n",
      "2024-12-04 09:37:47.102642: W tensorflow/stream_executor/platform/default/dso_loader.cc:64] Could not load dynamic library 'libcusparse.so.11'; dlerror: libcusparse.so.11: cannot open shared object file: No such file or directory; LD_LIBRARY_PATH: /home/r300/.local/lib/python3.8/site-packages/cv2/../../lib64:\n",
      "2024-12-04 09:37:47.102697: W tensorflow/stream_executor/platform/default/dso_loader.cc:64] Could not load dynamic library 'libcudnn.so.8'; dlerror: libcudnn.so.8: cannot open shared object file: No such file or directory; LD_LIBRARY_PATH: /home/r300/.local/lib/python3.8/site-packages/cv2/../../lib64:\n",
      "2024-12-04 09:37:47.102704: W tensorflow/core/common_runtime/gpu/gpu_device.cc:1850] Cannot dlopen some GPU libraries. Please make sure the missing libraries mentioned above are installed properly if you would like to use GPU. Follow the guide at https://www.tensorflow.org/install/gpu for how to download and setup the required libraries for your platform.\n",
      "Skipping registering GPU devices...\n",
      "2024-12-04 09:37:47.103329: I tensorflow/core/platform/cpu_feature_guard.cc:151] This TensorFlow binary is optimized with oneAPI Deep Neural Network Library (oneDNN) to use the following CPU instructions in performance-critical operations:  AVX2 FMA\n",
      "To enable them in other operations, rebuild TensorFlow with the appropriate compiler flags.\n"
     ]
    }
   ],
   "source": [
    "from tflite_model_maker import model_spec\n",
    "import tensorflow as tf\n",
    "print(\"Num GPUs Available: \", len(tf.config.list_physical_devices('GPU')))\n",
    "print(\"CUDA Available: \", tf.test.is_built_with_cuda())\n",
    "\n",
    "model_name = 'efficientdet_lite4' # @param [\"efficientdet_lite0\", \"efficientdet_lite1\", \"efficientdet_lite2\", \"efficientdet_lite3\", \"efficientdet_lite4\"]\n",
    "spec = model_spec.get(model_name)"
   ]
  },
  {
   "cell_type": "markdown",
   "metadata": {},
   "source": [
    "# Train on Custom Dataset\n",
    "\n",
    "To start training EfficienDets, an dataset with Pascal VOC format is required."
   ]
  },
  {
   "cell_type": "code",
   "execution_count": 2,
   "metadata": {},
   "outputs": [],
   "source": [
    "#!wget \n",
    "#!unzip coco8.pascal_voc.zip"
   ]
  },
  {
   "cell_type": "code",
   "execution_count": 3,
   "metadata": {
    "id": "yC7o9BfyrTeC",
    "scrolled": true
   },
   "outputs": [
    {
     "name": "stdout",
     "output_type": "stream",
     "text": [
      "INFO:tensorflow:Cache will be stored in /tmp/tmp_rfqx4mg with prefix filename 7bee435cfee6949ada7cad38d32e815e. Cache_prefix is /tmp/tmp_rfqx4mg/7bee435cfee6949ada7cad38d32e815e\n",
      "INFO:tensorflow:On image 0\n",
      "INFO:tensorflow:Cache will be stored in /tmp/tmp_fj4giu5 with prefix filename 7bee435cfee6949ada7cad38d32e815e. Cache_prefix is /tmp/tmp_fj4giu5/7bee435cfee6949ada7cad38d32e815e\n",
      "INFO:tensorflow:On image 0\n",
      "INFO:tensorflow:Cache will be stored in /tmp/tmp9hh6e7of with prefix filename 7bee435cfee6949ada7cad38d32e815e. Cache_prefix is /tmp/tmp9hh6e7of/7bee435cfee6949ada7cad38d32e815e\n",
      "INFO:tensorflow:On image 0\n",
      "INFO:tensorflow:Cache will be stored in /tmp/tmpawjfheva with prefix filename 7bee435cfee6949ada7cad38d32e815e. Cache_prefix is /tmp/tmpawjfheva/7bee435cfee6949ada7cad38d32e815e\n",
      "INFO:tensorflow:On image 0\n",
      "INFO:tensorflow:Cache will be stored in /tmp/tmp9e3xgzcy with prefix filename 7bee435cfee6949ada7cad38d32e815e. Cache_prefix is /tmp/tmp9e3xgzcy/7bee435cfee6949ada7cad38d32e815e\n",
      "INFO:tensorflow:On image 0\n",
      "INFO:tensorflow:Cache will be stored in /tmp/tmp5xnx0mac with prefix filename 7bee435cfee6949ada7cad38d32e815e. Cache_prefix is /tmp/tmp5xnx0mac/7bee435cfee6949ada7cad38d32e815e\n",
      "INFO:tensorflow:On image 0\n",
      "INFO:tensorflow:Cache will be stored in /tmp/tmpzya9yxr4 with prefix filename 7bee435cfee6949ada7cad38d32e815e. Cache_prefix is /tmp/tmpzya9yxr4/7bee435cfee6949ada7cad38d32e815e\n",
      "INFO:tensorflow:On image 0\n",
      "INFO:tensorflow:Cache will be stored in /tmp/tmp14dvyahp with prefix filename 7bee435cfee6949ada7cad38d32e815e. Cache_prefix is /tmp/tmp14dvyahp/7bee435cfee6949ada7cad38d32e815e\n",
      "INFO:tensorflow:On image 0\n",
      "INFO:tensorflow:Cache will be stored in /tmp/tmpsps9ydba with prefix filename 7bee435cfee6949ada7cad38d32e815e. Cache_prefix is /tmp/tmpsps9ydba/7bee435cfee6949ada7cad38d32e815e\n",
      "INFO:tensorflow:On image 0\n",
      "INFO:tensorflow:Cache will be stored in /tmp/tmps_1fzd4r with prefix filename 7bee435cfee6949ada7cad38d32e815e. Cache_prefix is /tmp/tmps_1fzd4r/7bee435cfee6949ada7cad38d32e815e\n",
      "INFO:tensorflow:On image 0\n",
      "INFO:tensorflow:Cache will be stored in /tmp/tmp0yddagli with prefix filename 7bee435cfee6949ada7cad38d32e815e. Cache_prefix is /tmp/tmp0yddagli/7bee435cfee6949ada7cad38d32e815e\n",
      "INFO:tensorflow:On image 0\n",
      "INFO:tensorflow:Cache will be stored in /tmp/tmpimgxjl3v with prefix filename 7bee435cfee6949ada7cad38d32e815e. Cache_prefix is /tmp/tmpimgxjl3v/7bee435cfee6949ada7cad38d32e815e\n",
      "INFO:tensorflow:On image 0\n",
      "INFO:tensorflow:Cache will be stored in /tmp/tmpr5emyqye with prefix filename 7bee435cfee6949ada7cad38d32e815e. Cache_prefix is /tmp/tmpr5emyqye/7bee435cfee6949ada7cad38d32e815e\n",
      "INFO:tensorflow:On image 0\n",
      "INFO:tensorflow:Cache will be stored in /tmp/tmp1juszsjz with prefix filename 7bee435cfee6949ada7cad38d32e815e. Cache_prefix is /tmp/tmp1juszsjz/7bee435cfee6949ada7cad38d32e815e\n",
      "INFO:tensorflow:On image 0\n",
      "INFO:tensorflow:Cache will be stored in /tmp/tmpxkrxuvh6 with prefix filename 7bee435cfee6949ada7cad38d32e815e. Cache_prefix is /tmp/tmpxkrxuvh6/7bee435cfee6949ada7cad38d32e815e\n",
      "INFO:tensorflow:On image 0\n",
      "INFO:tensorflow:Cache will be stored in /tmp/tmpy6s2jk43 with prefix filename 7bee435cfee6949ada7cad38d32e815e. Cache_prefix is /tmp/tmpy6s2jk43/7bee435cfee6949ada7cad38d32e815e\n",
      "INFO:tensorflow:On image 0\n",
      "INFO:tensorflow:Cache will be stored in /tmp/tmpako4mcvh with prefix filename 7bee435cfee6949ada7cad38d32e815e. Cache_prefix is /tmp/tmpako4mcvh/7bee435cfee6949ada7cad38d32e815e\n",
      "INFO:tensorflow:On image 0\n",
      "INFO:tensorflow:Cache will be stored in /tmp/tmpjw7q5yv4 with prefix filename 7bee435cfee6949ada7cad38d32e815e. Cache_prefix is /tmp/tmpjw7q5yv4/7bee435cfee6949ada7cad38d32e815e\n",
      "INFO:tensorflow:On image 0\n",
      "INFO:tensorflow:Cache will be stored in /tmp/tmpnk96pd_p with prefix filename 7bee435cfee6949ada7cad38d32e815e. Cache_prefix is /tmp/tmpnk96pd_p/7bee435cfee6949ada7cad38d32e815e\n",
      "INFO:tensorflow:On image 0\n",
      "INFO:tensorflow:Cache will be stored in /tmp/tmpn1l_7wvr with prefix filename 7bee435cfee6949ada7cad38d32e815e. Cache_prefix is /tmp/tmpn1l_7wvr/7bee435cfee6949ada7cad38d32e815e\n",
      "INFO:tensorflow:On image 0\n",
      "INFO:tensorflow:Cache will be stored in /tmp/tmpqiyv6ndj with prefix filename 7bee435cfee6949ada7cad38d32e815e. Cache_prefix is /tmp/tmpqiyv6ndj/7bee435cfee6949ada7cad38d32e815e\n",
      "INFO:tensorflow:On image 0\n",
      "INFO:tensorflow:Cache will be stored in /tmp/tmph5o1qtlj with prefix filename 7bee435cfee6949ada7cad38d32e815e. Cache_prefix is /tmp/tmph5o1qtlj/7bee435cfee6949ada7cad38d32e815e\n",
      "INFO:tensorflow:On image 0\n",
      "INFO:tensorflow:Cache will be stored in /tmp/tmpy5dxgf8d with prefix filename 7bee435cfee6949ada7cad38d32e815e. Cache_prefix is /tmp/tmpy5dxgf8d/7bee435cfee6949ada7cad38d32e815e\n",
      "INFO:tensorflow:On image 0\n",
      "INFO:tensorflow:Cache will be stored in /tmp/tmpzxmd8wij with prefix filename 7bee435cfee6949ada7cad38d32e815e. Cache_prefix is /tmp/tmpzxmd8wij/7bee435cfee6949ada7cad38d32e815e\n",
      "INFO:tensorflow:On image 0\n",
      "INFO:tensorflow:Cache will be stored in /tmp/tmp21mfe7rk with prefix filename 7bee435cfee6949ada7cad38d32e815e. Cache_prefix is /tmp/tmp21mfe7rk/7bee435cfee6949ada7cad38d32e815e\n",
      "INFO:tensorflow:On image 0\n",
      "INFO:tensorflow:Cache will be stored in /tmp/tmp47l67dy5 with prefix filename 7bee435cfee6949ada7cad38d32e815e. Cache_prefix is /tmp/tmp47l67dy5/7bee435cfee6949ada7cad38d32e815e\n",
      "INFO:tensorflow:On image 0\n",
      "INFO:tensorflow:Cache will be stored in /tmp/tmpr69njzul with prefix filename 7bee435cfee6949ada7cad38d32e815e. Cache_prefix is /tmp/tmpr69njzul/7bee435cfee6949ada7cad38d32e815e\n",
      "INFO:tensorflow:On image 0\n",
      "INFO:tensorflow:Cache will be stored in /tmp/tmpb0c_4_0m with prefix filename 7bee435cfee6949ada7cad38d32e815e. Cache_prefix is /tmp/tmpb0c_4_0m/7bee435cfee6949ada7cad38d32e815e\n",
      "INFO:tensorflow:On image 0\n",
      "INFO:tensorflow:Cache will be stored in /tmp/tmpncxw6cbx with prefix filename 7bee435cfee6949ada7cad38d32e815e. Cache_prefix is /tmp/tmpncxw6cbx/7bee435cfee6949ada7cad38d32e815e\n",
      "INFO:tensorflow:On image 0\n",
      "INFO:tensorflow:Cache will be stored in /tmp/tmpad_9pmdk with prefix filename 7bee435cfee6949ada7cad38d32e815e. Cache_prefix is /tmp/tmpad_9pmdk/7bee435cfee6949ada7cad38d32e815e\n",
      "INFO:tensorflow:On image 0\n",
      "INFO:tensorflow:Cache will be stored in /tmp/tmp8cmtk882 with prefix filename 7bee435cfee6949ada7cad38d32e815e. Cache_prefix is /tmp/tmp8cmtk882/7bee435cfee6949ada7cad38d32e815e\n",
      "INFO:tensorflow:On image 0\n",
      "INFO:tensorflow:Cache will be stored in /tmp/tmpooz11nrx with prefix filename 7bee435cfee6949ada7cad38d32e815e. Cache_prefix is /tmp/tmpooz11nrx/7bee435cfee6949ada7cad38d32e815e\n",
      "INFO:tensorflow:On image 0\n",
      "INFO:tensorflow:Cache will be stored in /tmp/tmpsp54lapl with prefix filename 7bee435cfee6949ada7cad38d32e815e. Cache_prefix is /tmp/tmpsp54lapl/7bee435cfee6949ada7cad38d32e815e\n",
      "INFO:tensorflow:On image 0\n",
      "INFO:tensorflow:Cache will be stored in /tmp/tmp4noj5_6c with prefix filename 7bee435cfee6949ada7cad38d32e815e. Cache_prefix is /tmp/tmp4noj5_6c/7bee435cfee6949ada7cad38d32e815e\n",
      "INFO:tensorflow:On image 0\n",
      "INFO:tensorflow:Cache will be stored in /tmp/tmp01jejv3d with prefix filename 7bee435cfee6949ada7cad38d32e815e. Cache_prefix is /tmp/tmp01jejv3d/7bee435cfee6949ada7cad38d32e815e\n",
      "INFO:tensorflow:On image 0\n",
      "INFO:tensorflow:Cache will be stored in /tmp/tmprmr9vivo with prefix filename 7bee435cfee6949ada7cad38d32e815e. Cache_prefix is /tmp/tmprmr9vivo/7bee435cfee6949ada7cad38d32e815e\n",
      "INFO:tensorflow:On image 0\n",
      "INFO:tensorflow:Cache will be stored in /tmp/tmppzohvlcl with prefix filename 7bee435cfee6949ada7cad38d32e815e. Cache_prefix is /tmp/tmppzohvlcl/7bee435cfee6949ada7cad38d32e815e\n",
      "INFO:tensorflow:On image 0\n",
      "INFO:tensorflow:Cache will be stored in /tmp/tmp6nmovsoj with prefix filename 7bee435cfee6949ada7cad38d32e815e. Cache_prefix is /tmp/tmp6nmovsoj/7bee435cfee6949ada7cad38d32e815e\n",
      "INFO:tensorflow:On image 0\n",
      "INFO:tensorflow:Cache will be stored in /tmp/tmpje2l62oi with prefix filename 7bee435cfee6949ada7cad38d32e815e. Cache_prefix is /tmp/tmpje2l62oi/7bee435cfee6949ada7cad38d32e815e\n",
      "INFO:tensorflow:On image 0\n",
      "INFO:tensorflow:Cache will be stored in /tmp/tmp_25wl9bd with prefix filename 7bee435cfee6949ada7cad38d32e815e. Cache_prefix is /tmp/tmp_25wl9bd/7bee435cfee6949ada7cad38d32e815e\n",
      "INFO:tensorflow:On image 0\n"
     ]
    },
    {
     "name": "stdout",
     "output_type": "stream",
     "text": [
      "INFO:tensorflow:Cache will be stored in /tmp/tmp08byoc9m with prefix filename 7bee435cfee6949ada7cad38d32e815e. Cache_prefix is /tmp/tmp08byoc9m/7bee435cfee6949ada7cad38d32e815e\n",
      "INFO:tensorflow:On image 0\n",
      "INFO:tensorflow:Cache will be stored in /tmp/tmp22832mqd with prefix filename 7bee435cfee6949ada7cad38d32e815e. Cache_prefix is /tmp/tmp22832mqd/7bee435cfee6949ada7cad38d32e815e\n",
      "INFO:tensorflow:On image 0\n",
      "INFO:tensorflow:Cache will be stored in /tmp/tmp7x9ld_m2 with prefix filename 7bee435cfee6949ada7cad38d32e815e. Cache_prefix is /tmp/tmp7x9ld_m2/7bee435cfee6949ada7cad38d32e815e\n",
      "INFO:tensorflow:On image 0\n",
      "INFO:tensorflow:Cache will be stored in /tmp/tmp1vsab2n_ with prefix filename 7bee435cfee6949ada7cad38d32e815e. Cache_prefix is /tmp/tmp1vsab2n_/7bee435cfee6949ada7cad38d32e815e\n",
      "INFO:tensorflow:On image 0\n",
      "INFO:tensorflow:Cache will be stored in /tmp/tmpmoqik5uz with prefix filename 7bee435cfee6949ada7cad38d32e815e. Cache_prefix is /tmp/tmpmoqik5uz/7bee435cfee6949ada7cad38d32e815e\n",
      "INFO:tensorflow:On image 0\n",
      "INFO:tensorflow:Cache will be stored in /tmp/tmpt6saaktd with prefix filename 7bee435cfee6949ada7cad38d32e815e. Cache_prefix is /tmp/tmpt6saaktd/7bee435cfee6949ada7cad38d32e815e\n",
      "INFO:tensorflow:On image 0\n",
      "INFO:tensorflow:Cache will be stored in /tmp/tmp17tjtih3 with prefix filename 7bee435cfee6949ada7cad38d32e815e. Cache_prefix is /tmp/tmp17tjtih3/7bee435cfee6949ada7cad38d32e815e\n",
      "INFO:tensorflow:On image 0\n",
      "INFO:tensorflow:Cache will be stored in /tmp/tmpv20jjln_ with prefix filename 7bee435cfee6949ada7cad38d32e815e. Cache_prefix is /tmp/tmpv20jjln_/7bee435cfee6949ada7cad38d32e815e\n",
      "INFO:tensorflow:On image 0\n",
      "INFO:tensorflow:Cache will be stored in /tmp/tmpuqt2bls_ with prefix filename 7bee435cfee6949ada7cad38d32e815e. Cache_prefix is /tmp/tmpuqt2bls_/7bee435cfee6949ada7cad38d32e815e\n",
      "INFO:tensorflow:On image 0\n",
      "INFO:tensorflow:Cache will be stored in /tmp/tmpiwjv03o2 with prefix filename 7bee435cfee6949ada7cad38d32e815e. Cache_prefix is /tmp/tmpiwjv03o2/7bee435cfee6949ada7cad38d32e815e\n",
      "INFO:tensorflow:On image 0\n",
      "INFO:tensorflow:Cache will be stored in /tmp/tmpn8xiyez6 with prefix filename 7bee435cfee6949ada7cad38d32e815e. Cache_prefix is /tmp/tmpn8xiyez6/7bee435cfee6949ada7cad38d32e815e\n",
      "INFO:tensorflow:On image 0\n",
      "INFO:tensorflow:Cache will be stored in /tmp/tmpcbw_33el with prefix filename 7bee435cfee6949ada7cad38d32e815e. Cache_prefix is /tmp/tmpcbw_33el/7bee435cfee6949ada7cad38d32e815e\n",
      "INFO:tensorflow:On image 0\n",
      "INFO:tensorflow:Cache will be stored in /tmp/tmpp6d7jz0q with prefix filename 7bee435cfee6949ada7cad38d32e815e. Cache_prefix is /tmp/tmpp6d7jz0q/7bee435cfee6949ada7cad38d32e815e\n",
      "INFO:tensorflow:On image 0\n",
      "INFO:tensorflow:Cache will be stored in /tmp/tmpwixwjgup with prefix filename 7bee435cfee6949ada7cad38d32e815e. Cache_prefix is /tmp/tmpwixwjgup/7bee435cfee6949ada7cad38d32e815e\n",
      "INFO:tensorflow:On image 0\n",
      "INFO:tensorflow:Cache will be stored in /tmp/tmpcqqeouek with prefix filename 7bee435cfee6949ada7cad38d32e815e. Cache_prefix is /tmp/tmpcqqeouek/7bee435cfee6949ada7cad38d32e815e\n",
      "INFO:tensorflow:On image 0\n",
      "INFO:tensorflow:Cache will be stored in /tmp/tmpg158_yta with prefix filename 7bee435cfee6949ada7cad38d32e815e. Cache_prefix is /tmp/tmpg158_yta/7bee435cfee6949ada7cad38d32e815e\n",
      "INFO:tensorflow:On image 0\n",
      "INFO:tensorflow:Cache will be stored in /tmp/tmpki4teono with prefix filename 7bee435cfee6949ada7cad38d32e815e. Cache_prefix is /tmp/tmpki4teono/7bee435cfee6949ada7cad38d32e815e\n",
      "INFO:tensorflow:On image 0\n",
      "INFO:tensorflow:Cache will be stored in /tmp/tmp6wt3vb33 with prefix filename 7bee435cfee6949ada7cad38d32e815e. Cache_prefix is /tmp/tmp6wt3vb33/7bee435cfee6949ada7cad38d32e815e\n",
      "INFO:tensorflow:On image 0\n",
      "INFO:tensorflow:Cache will be stored in /tmp/tmp1ygttb1u with prefix filename 7bee435cfee6949ada7cad38d32e815e. Cache_prefix is /tmp/tmp1ygttb1u/7bee435cfee6949ada7cad38d32e815e\n",
      "INFO:tensorflow:On image 0\n",
      "INFO:tensorflow:Cache will be stored in /tmp/tmpt1d3tdkb with prefix filename 7bee435cfee6949ada7cad38d32e815e. Cache_prefix is /tmp/tmpt1d3tdkb/7bee435cfee6949ada7cad38d32e815e\n",
      "INFO:tensorflow:On image 0\n",
      "INFO:tensorflow:Cache will be stored in /tmp/tmpeh3kymo7 with prefix filename 7bee435cfee6949ada7cad38d32e815e. Cache_prefix is /tmp/tmpeh3kymo7/7bee435cfee6949ada7cad38d32e815e\n",
      "INFO:tensorflow:On image 0\n",
      "INFO:tensorflow:Cache will be stored in /tmp/tmpj8us69mj with prefix filename 7bee435cfee6949ada7cad38d32e815e. Cache_prefix is /tmp/tmpj8us69mj/7bee435cfee6949ada7cad38d32e815e\n",
      "INFO:tensorflow:On image 0\n",
      "INFO:tensorflow:Cache will be stored in /tmp/tmp0uidt85q with prefix filename 7bee435cfee6949ada7cad38d32e815e. Cache_prefix is /tmp/tmp0uidt85q/7bee435cfee6949ada7cad38d32e815e\n",
      "INFO:tensorflow:On image 0\n",
      "INFO:tensorflow:Cache will be stored in /tmp/tmpixowa_ac with prefix filename 7bee435cfee6949ada7cad38d32e815e. Cache_prefix is /tmp/tmpixowa_ac/7bee435cfee6949ada7cad38d32e815e\n",
      "INFO:tensorflow:On image 0\n",
      "INFO:tensorflow:Cache will be stored in /tmp/tmplcnomwjh with prefix filename 7bee435cfee6949ada7cad38d32e815e. Cache_prefix is /tmp/tmplcnomwjh/7bee435cfee6949ada7cad38d32e815e\n",
      "INFO:tensorflow:On image 0\n",
      "INFO:tensorflow:Cache will be stored in /tmp/tmpd1945s69 with prefix filename 7bee435cfee6949ada7cad38d32e815e. Cache_prefix is /tmp/tmpd1945s69/7bee435cfee6949ada7cad38d32e815e\n",
      "INFO:tensorflow:On image 0\n",
      "INFO:tensorflow:Cache will be stored in /tmp/tmpjm9g8e1z with prefix filename 7bee435cfee6949ada7cad38d32e815e. Cache_prefix is /tmp/tmpjm9g8e1z/7bee435cfee6949ada7cad38d32e815e\n",
      "INFO:tensorflow:On image 0\n",
      "INFO:tensorflow:Cache will be stored in /tmp/tmpdgntsj5w with prefix filename 7bee435cfee6949ada7cad38d32e815e. Cache_prefix is /tmp/tmpdgntsj5w/7bee435cfee6949ada7cad38d32e815e\n",
      "INFO:tensorflow:On image 0\n",
      "INFO:tensorflow:Cache will be stored in /tmp/tmpfbmig3iu with prefix filename 7bee435cfee6949ada7cad38d32e815e. Cache_prefix is /tmp/tmpfbmig3iu/7bee435cfee6949ada7cad38d32e815e\n",
      "INFO:tensorflow:On image 0\n",
      "INFO:tensorflow:Cache will be stored in /tmp/tmpsa3ivj9n with prefix filename 7bee435cfee6949ada7cad38d32e815e. Cache_prefix is /tmp/tmpsa3ivj9n/7bee435cfee6949ada7cad38d32e815e\n",
      "INFO:tensorflow:On image 0\n",
      "INFO:tensorflow:Cache will be stored in /tmp/tmpvuy2428e with prefix filename 7bee435cfee6949ada7cad38d32e815e. Cache_prefix is /tmp/tmpvuy2428e/7bee435cfee6949ada7cad38d32e815e\n",
      "INFO:tensorflow:On image 0\n",
      "INFO:tensorflow:On image 100\n",
      "INFO:tensorflow:Cache will be stored in /tmp/tmputwblo19 with prefix filename 7bee435cfee6949ada7cad38d32e815e. Cache_prefix is /tmp/tmputwblo19/7bee435cfee6949ada7cad38d32e815e\n",
      "INFO:tensorflow:On image 0\n",
      "INFO:tensorflow:On image 100\n",
      "INFO:tensorflow:Cache will be stored in /tmp/tmp7vqz29n0 with prefix filename fd42585a6188df7d3abc4e516ad0ebb5. Cache_prefix is /tmp/tmp7vqz29n0/fd42585a6188df7d3abc4e516ad0ebb5\n",
      "INFO:tensorflow:On image 0\n",
      "INFO:tensorflow:On image 100\n",
      "INFO:tensorflow:Cache will be stored in /tmp/tmp_lxhqtg1 with prefix filename 11a526a320c4c8a1416196ba3144593c. Cache_prefix is /tmp/tmp_lxhqtg1/11a526a320c4c8a1416196ba3144593c\n",
      "INFO:tensorflow:On image 0\n",
      "INFO:tensorflow:On image 100\n",
      "['sofa', 'clock', 'book', 'mouse', 'remote', 'laptop', 'hot dog', 'sandwich', 'spoon', 'carrot', 'bowl', 'broccoli', 'diningtable', 'fork', 'elephant', 'cat', 'car', 'tennis racket', 'person', 'bed', 'teddy bear', 'aeroplane', 'baseball glove', 'wine glass', 'cup', 'pizza', 'bus', 'suitcase', 'refrigerator', 'oven', 'sink', 'pottedplant', 'vase', 'traffic light', 'backpack', 'truck', 'handbag', 'bottle', 'banana', 'cell phone', 'toilet', 'motorbike', 'sports ball', 'tie', 'frisbee', 'bicycle', 'baseball bat', 'orange', 'skateboard', 'chair', 'microwave', 'boat', 'donut', 'umbrella', 'dog', 'train', 'stop sign', 'knife', 'cake', 'bench', 'kite', 'bird', 'snowboard', 'giraffe', 'toothbrush', 'tvmonitor', 'horse', 'bear', 'scissors', 'skis', 'zebra']\n"
     ]
    }
   ],
   "source": [
    "from tflite_model_maker import object_detector\n",
    "\n",
    "dataset = './COCO128.pascal_voc'\n",
    "CLASSES = []\n",
    "while True:\n",
    "    try:\n",
    "        train_data = object_detector.DataLoader.from_pascal_voc(f'{dataset}/train', f'{dataset}/train', CLASSES)\n",
    "        test_data = object_detector.DataLoader.from_pascal_voc(f'{dataset}/test', f'{dataset}/test', CLASSES)\n",
    "        valid_data = object_detector.DataLoader.from_pascal_voc(f'{dataset}/valid', f'{dataset}/valid', CLASSES)\n",
    "        break\n",
    "    except KeyError as e:\n",
    "        CLASSES.append(str(e).strip(\"'\").strip(\"'\"))\n",
    "        \n",
    "print(CLASSES)"
   ]
  },
  {
   "cell_type": "markdown",
   "metadata": {},
   "source": [
    "### Start Training Porcess"
   ]
  },
  {
   "cell_type": "code",
   "execution_count": 4,
   "metadata": {
    "id": "eYKNtEVJqrfc",
    "scrolled": true
   },
   "outputs": [
    {
     "name": "stdout",
     "output_type": "stream",
     "text": [
      "INFO:tensorflow:Retraining the models...\n"
     ]
    },
    {
     "name": "stderr",
     "output_type": "stream",
     "text": [
      "2024-12-04 09:38:32.562639: W tensorflow/core/framework/dataset.cc:768] Input of GeneratorDatasetOp::Dataset will not be optimized because the dataset does not implement the AsGraphDefInternal() method needed to apply optimizations.\n"
     ]
    },
    {
     "name": "stdout",
     "output_type": "stream",
     "text": [
      "32/32 [==============================] - ETA: 0s - det_loss: 2.2524 - cls_loss: 1.6257 - box_loss: 0.0125 - reg_l2_loss: 0.1202 - loss: 2.3727 - learning_rate: 0.0065 - gradient_norm: 0.9520"
     ]
    },
    {
     "name": "stderr",
     "output_type": "stream",
     "text": [
      "2024-12-04 09:42:33.261630: W tensorflow/core/framework/dataset.cc:768] Input of GeneratorDatasetOp::Dataset will not be optimized because the dataset does not implement the AsGraphDefInternal() method needed to apply optimizations.\n"
     ]
    },
    {
     "name": "stdout",
     "output_type": "stream",
     "text": [
      "32/32 [==============================] - 282s 8s/step - det_loss: 2.2544 - cls_loss: 1.6299 - box_loss: 0.0125 - reg_l2_loss: 0.1202 - loss: 2.3746 - learning_rate: 0.0065 - gradient_norm: 0.9620 - val_det_loss: 1.8543 - val_cls_loss: 1.4279 - val_box_loss: 0.0085 - val_reg_l2_loss: 0.1202 - val_loss: 1.9745\n",
      "Model: \"\"\n",
      "_________________________________________________________________\n",
      " Layer (type)                Output Shape              Param #   \n",
      "=================================================================\n",
      " keras_layer (KerasLayer)    multiple                  15092016  \n",
      "                                                                 \n",
      " class_net/class-predict (Se  multiple                 145791    \n",
      " parableConv2D)                                                  \n",
      "                                                                 \n",
      " box_net/box-predict (Separa  multiple                 10116     \n",
      " bleConv2D)                                                      \n",
      "                                                                 \n",
      "=================================================================\n",
      "Total params: 15,247,923\n",
      "Trainable params: 15,092,419\n",
      "Non-trainable params: 155,504\n",
      "_________________________________________________________________\n"
     ]
    }
   ],
   "source": [
    "model = object_detector.create(train_data, model_spec=spec, epochs=1, batch_size=4, train_whole_model=True, validation_data=valid_data)\n",
    "model.summary()"
   ]
  },
  {
   "cell_type": "markdown",
   "metadata": {},
   "source": [
    "### Evaluate Training Results"
   ]
  },
  {
   "cell_type": "code",
   "execution_count": 5,
   "metadata": {},
   "outputs": [
    {
     "name": "stderr",
     "output_type": "stream",
     "text": [
      "2024-12-04 09:43:14.997341: W tensorflow/core/framework/dataset.cc:768] Input of GeneratorDatasetOp::Dataset will not be optimized because the dataset does not implement the AsGraphDefInternal() method needed to apply optimizations.\n",
      "2024-12-04 09:44:36.419172: W tensorflow/core/framework/cpu_allocator_impl.cc:82] Allocation of 3774873600 exceeds 10% of free system memory.\n"
     ]
    },
    {
     "name": "stdout",
     "output_type": "stream",
     "text": [
      "\r",
      "1/2 [==============>...............] - ETA: 1:39"
     ]
    },
    {
     "name": "stderr",
     "output_type": "stream",
     "text": [
      "2024-12-04 09:46:13.454821: W tensorflow/core/framework/cpu_allocator_impl.cc:82] Allocation of 3715891200 exceeds 10% of free system memory.\n"
     ]
    },
    {
     "name": "stdout",
     "output_type": "stream",
     "text": [
      "2/2 [==============================] - 197s 97s/step\n",
      "\n",
      "loading annotations into memory...\n",
      "Done (t=0.01s)\n",
      "creating index...\n",
      "index created!\n",
      "Loading and preparing results...\n",
      "Converting ndarray to lists...\n",
      "(12700, 7)\n",
      "0/12700\n",
      "DONE (t=0.95s)\n",
      "creating index...\n",
      "index created!\n",
      "Running per image evaluation...\n",
      "Evaluate annotation type *bbox*\n",
      "DONE (t=1.06s).\n",
      "Accumulating evaluation results...\n",
      "DONE (t=0.46s).\n",
      " Average Precision  (AP) @[ IoU=0.50:0.95 | area=   all | maxDets=100 ] = 0.003\n",
      " Average Precision  (AP) @[ IoU=0.50      | area=   all | maxDets=100 ] = 0.008\n",
      " Average Precision  (AP) @[ IoU=0.75      | area=   all | maxDets=100 ] = 0.002\n",
      " Average Precision  (AP) @[ IoU=0.50:0.95 | area= small | maxDets=100 ] = 0.000\n",
      " Average Precision  (AP) @[ IoU=0.50:0.95 | area=medium | maxDets=100 ] = 0.016\n",
      " Average Precision  (AP) @[ IoU=0.50:0.95 | area= large | maxDets=100 ] = 0.004\n",
      " Average Recall     (AR) @[ IoU=0.50:0.95 | area=   all | maxDets=  1 ] = 0.013\n",
      " Average Recall     (AR) @[ IoU=0.50:0.95 | area=   all | maxDets= 10 ] = 0.015\n",
      " Average Recall     (AR) @[ IoU=0.50:0.95 | area=   all | maxDets=100 ] = 0.015\n",
      " Average Recall     (AR) @[ IoU=0.50:0.95 | area= small | maxDets=100 ] = 0.000\n",
      " Average Recall     (AR) @[ IoU=0.50:0.95 | area=medium | maxDets=100 ] = 0.029\n",
      " Average Recall     (AR) @[ IoU=0.50:0.95 | area= large | maxDets=100 ] = 0.023\n"
     ]
    },
    {
     "data": {
      "text/plain": [
       "{'AP': 0.0030167939,\n",
       " 'AP50': 0.008408206,\n",
       " 'AP75': 0.0020150326,\n",
       " 'APs': 0.0,\n",
       " 'APm': 0.015514486,\n",
       " 'APl': 0.004085065,\n",
       " 'ARmax1': 0.0131091,\n",
       " 'ARmax10': 0.01469322,\n",
       " 'ARmax100': 0.014815694,\n",
       " 'ARs': 0.0,\n",
       " 'ARm': 0.028741343,\n",
       " 'ARl': 0.022758787,\n",
       " 'AP_/sofa': 0.0,\n",
       " 'AP_/clock': 0.0,\n",
       " 'AP_/book': 0.00014144271,\n",
       " 'AP_/mouse': 0.0,\n",
       " 'AP_/remote': 0.0,\n",
       " 'AP_/laptop': 0.0,\n",
       " 'AP_/hot dog': 0.0,\n",
       " 'AP_/sandwich': 0.0,\n",
       " 'AP_/spoon': 0.0,\n",
       " 'AP_/carrot': 0.0,\n",
       " 'AP_/bowl': 0.003960396,\n",
       " 'AP_/broccoli': 0.0,\n",
       " 'AP_/diningtable': 0.0,\n",
       " 'AP_/fork': 0.0018033946,\n",
       " 'AP_/elephant': 0.0,\n",
       " 'AP_/cat': 0.00034096124,\n",
       " 'AP_/car': 0.0,\n",
       " 'AP_/tennis racket': 0.0033645032,\n",
       " 'AP_/person': 0.017650558,\n",
       " 'AP_/bed': 0.0,\n",
       " 'AP_/teddy bear': 0.00048807697,\n",
       " 'AP_/aeroplane': 0.0,\n",
       " 'AP_/baseball glove': 0.0,\n",
       " 'AP_/wine glass': 0.0,\n",
       " 'AP_/cup': 0.0,\n",
       " 'AP_/pizza': 0.0,\n",
       " 'AP_/bus': 0.0,\n",
       " 'AP_/suitcase': 0.0,\n",
       " 'AP_/refrigerator': 0.0,\n",
       " 'AP_/oven': 0.0008847693,\n",
       " 'AP_/sink': 0.0,\n",
       " 'AP_/pottedplant': 0.0,\n",
       " 'AP_/vase': 0.0,\n",
       " 'AP_/traffic light': 0.0,\n",
       " 'AP_/backpack': 0.0,\n",
       " 'AP_/truck': 0.0,\n",
       " 'AP_/handbag': 0.0,\n",
       " 'AP_/bottle': 0.0,\n",
       " 'AP_/banana': 0.0,\n",
       " 'AP_/cell phone': 0.045049503,\n",
       " 'AP_/toilet': 0.004590459,\n",
       " 'AP_/motorbike': 0.0,\n",
       " 'AP_/sports ball': 0.0,\n",
       " 'AP_/tie': 0.0,\n",
       " 'AP_/frisbee': 0.0062376237,\n",
       " 'AP_/bicycle': 0.0,\n",
       " 'AP_/baseball bat': 0.0,\n",
       " 'AP_/orange': 0.0,\n",
       " 'AP_/skateboard': 0.0,\n",
       " 'AP_/chair': 0.0,\n",
       " 'AP_/microwave': 0.0,\n",
       " 'AP_/boat': 0.00062339567,\n",
       " 'AP_/donut': 0.0011315417,\n",
       " 'AP_/umbrella': 0.0,\n",
       " 'AP_/dog': 0.12762494,\n",
       " 'AP_/train': 0.0,\n",
       " 'AP_/stop sign': 0.0,\n",
       " 'AP_/knife': 0.0,\n",
       " 'AP_/cake': 0.0,\n",
       " 'AP_/bench': 0.0,\n",
       " 'AP_/kite': 0.0,\n",
       " 'AP_/bird': 0.0,\n",
       " 'AP_/snowboard': 0.0,\n",
       " 'AP_/giraffe': 0.00030078957,\n",
       " 'AP_/toothbrush': 0.0,\n",
       " 'AP_/tvmonitor': 0.0,\n",
       " 'AP_/horse': 0.0,\n",
       " 'AP_/bear': 0.0,\n",
       " 'AP_/scissors': 0.0,\n",
       " 'AP_/skis': 0.0,\n",
       " 'AP_/zebra': 0.0}"
      ]
     },
     "execution_count": 5,
     "metadata": {},
     "output_type": "execute_result"
    }
   ],
   "source": [
    "model.evaluate(test_data)"
   ]
  },
  {
   "cell_type": "markdown",
   "metadata": {},
   "source": [
    "# Delegation"
   ]
  },
  {
   "cell_type": "markdown",
   "metadata": {},
   "source": [
    "## Export to TFLite"
   ]
  },
  {
   "cell_type": "code",
   "execution_count": 6,
   "metadata": {
    "scrolled": true
   },
   "outputs": [
    {
     "name": "stdout",
     "output_type": "stream",
     "text": [
      "WARNING:tensorflow:Skipping full serialization of Keras layer <tensorflow_examples.lite.model_maker.core.task.model_spec.object_detector_spec.ExportModel object at 0x7f58d0bbf640>, because it is not built.\n"
     ]
    },
    {
     "name": "stderr",
     "output_type": "stream",
     "text": [
      "WARNING:tensorflow:Skipping full serialization of Keras layer <tensorflow_examples.lite.model_maker.core.task.model_spec.object_detector_spec.ExportModel object at 0x7f58d0bbf640>, because it is not built.\n",
      "2024-12-04 09:46:38.790110: W tensorflow/python/util/util.cc:368] Sets are not currently considered sequences, but this may change in the future, so consider avoiding using them.\n",
      "WARNING:absl:Found untraced functions such as restored_function_body, restored_function_body, restored_function_body, restored_function_body, restored_function_body while saving (showing 5 of 1028). These functions will not be directly callable after loading.\n"
     ]
    },
    {
     "name": "stdout",
     "output_type": "stream",
     "text": [
      "INFO:tensorflow:Assets written to: /tmp/tmp3vi2_q5k/assets\n"
     ]
    },
    {
     "name": "stderr",
     "output_type": "stream",
     "text": [
      "INFO:tensorflow:Assets written to: /tmp/tmp3vi2_q5k/assets\n",
      "2024-12-04 09:47:17.831984: W tensorflow/core/common_runtime/graph_constructor.cc:803] Node 'resample_p7/PartitionedCall' has 1 outputs but the _output_shapes attribute specifies shapes for 3 outputs. Output shapes may be inaccurate.\n",
      "2024-12-04 09:47:29.146338: W tensorflow/compiler/mlir/lite/python/tf_tfl_flatbuffer_helpers.cc:357] Ignored output_format.\n",
      "2024-12-04 09:47:29.146362: W tensorflow/compiler/mlir/lite/python/tf_tfl_flatbuffer_helpers.cc:360] Ignored drop_control_dependency.\n",
      "2024-12-04 09:47:29.147097: I tensorflow/cc/saved_model/reader.cc:43] Reading SavedModel from: /tmp/tmp3vi2_q5k\n",
      "2024-12-04 09:47:29.280674: I tensorflow/cc/saved_model/reader.cc:78] Reading meta graph with tags { serve }\n",
      "2024-12-04 09:47:29.280701: I tensorflow/cc/saved_model/reader.cc:119] Reading SavedModel debug info (if present) from: /tmp/tmp3vi2_q5k\n",
      "2024-12-04 09:47:29.710015: I tensorflow/cc/saved_model/loader.cc:228] Restoring SavedModel bundle.\n",
      "2024-12-04 09:47:32.710170: I tensorflow/cc/saved_model/loader.cc:212] Running initialization op on SavedModel bundle at path: /tmp/tmp3vi2_q5k\n",
      "2024-12-04 09:47:33.934246: I tensorflow/cc/saved_model/loader.cc:301] SavedModel load for tags { serve }; Status: success: OK. Took 4787152 microseconds.\n",
      "2024-12-04 09:47:35.888992: I tensorflow/compiler/mlir/tensorflow/utils/dump_mlir_util.cc:237] disabling MLIR crash reproducer, set env var `MLIR_CRASH_REPRODUCER_DIRECTORY` to enable.\n",
      "2024-12-04 09:47:38.681363: I tensorflow/compiler/mlir/lite/flatbuffer_export.cc:1963] Estimated count of arithmetic ops: 40.292 G  ops, equivalently 20.146 G  MACs\n",
      "\n",
      "fully_quantize: 0, inference_type: 6, input_inference_type: 3, output_inference_type: 0\n",
      "2024-12-04 09:53:15.183173: I tensorflow/compiler/mlir/lite/flatbuffer_export.cc:1963] Estimated count of arithmetic ops: 40.292 G  ops, equivalently 20.146 G  MACs\n",
      "\n"
     ]
    },
    {
     "name": "stdout",
     "output_type": "stream",
     "text": [
      "INFO:tensorflow:Label file is inside the TFLite model with metadata.\n"
     ]
    },
    {
     "name": "stderr",
     "output_type": "stream",
     "text": [
      "INFO:tensorflow:Label file is inside the TFLite model with metadata.\n"
     ]
    },
    {
     "name": "stdout",
     "output_type": "stream",
     "text": [
      "INFO:tensorflow:Saving labels in /tmp/tmpnpb715fw/labelmap.txt.\n"
     ]
    },
    {
     "name": "stderr",
     "output_type": "stream",
     "text": [
      "INFO:tensorflow:Saving labels in /tmp/tmpnpb715fw/labelmap.txt.\n"
     ]
    },
    {
     "name": "stdout",
     "output_type": "stream",
     "text": [
      "INFO:tensorflow:TensorFlow Lite model exported successfully: efficientdet_lite4/model.tflite\n"
     ]
    },
    {
     "name": "stderr",
     "output_type": "stream",
     "text": [
      "INFO:tensorflow:TensorFlow Lite model exported successfully: efficientdet_lite4/model.tflite\n"
     ]
    }
   ],
   "source": [
    "from tflite_model_maker.config import ExportFormat\n",
    "\n",
    "model.export(export_dir=f'{model_name}', export_format=[ExportFormat.TFLITE])"
   ]
  },
  {
   "cell_type": "markdown",
   "metadata": {},
   "source": [
    "## Export to ONNX"
   ]
  },
  {
   "cell_type": "code",
   "execution_count": 7,
   "metadata": {
    "scrolled": true
   },
   "outputs": [
    {
     "name": "stdout",
     "output_type": "stream",
     "text": [
      "2024-12-04 09:53:17.282932: W tensorflow/stream_executor/platform/default/dso_loader.cc:64] Could not load dynamic library 'libcudart.so.11.0'; dlerror: libcudart.so.11.0: cannot open shared object file: No such file or directory; LD_LIBRARY_PATH: /home/r300/.local/lib/python3.8/site-packages/cv2/../../lib64:\n",
      "2024-12-04 09:53:17.282954: I tensorflow/stream_executor/cuda/cudart_stub.cc:29] Ignore above cudart dlerror if you do not have a GPU set up on your machine.\n",
      "/home/r300/miniconda3/envs/automl/lib/python3.8/runpy.py:125: RuntimeWarning: 'tf2onnx.convert' found in sys.modules after import of package 'tf2onnx', but prior to execution of 'tf2onnx.convert'; this may result in unpredictable behaviour\n",
      "  warn(RuntimeWarning(msg))\n",
      "2024-12-04 09:53:18.691028: I tensorflow/stream_executor/cuda/cuda_gpu_executor.cc:936] successful NUMA node read from SysFS had negative value (-1), but there must be at least one NUMA node, so returning NUMA node zero\n",
      "2024-12-04 09:53:18.691280: W tensorflow/stream_executor/platform/default/dso_loader.cc:64] Could not load dynamic library 'libcudart.so.11.0'; dlerror: libcudart.so.11.0: cannot open shared object file: No such file or directory; LD_LIBRARY_PATH: /home/r300/.local/lib/python3.8/site-packages/cv2/../../lib64:\n",
      "2024-12-04 09:53:18.691368: W tensorflow/stream_executor/platform/default/dso_loader.cc:64] Could not load dynamic library 'libcublas.so.11'; dlerror: libcublas.so.11: cannot open shared object file: No such file or directory; LD_LIBRARY_PATH: /home/r300/.local/lib/python3.8/site-packages/cv2/../../lib64:\n",
      "2024-12-04 09:53:18.691449: W tensorflow/stream_executor/platform/default/dso_loader.cc:64] Could not load dynamic library 'libcublasLt.so.11'; dlerror: libcublasLt.so.11: cannot open shared object file: No such file or directory; LD_LIBRARY_PATH: /home/r300/.local/lib/python3.8/site-packages/cv2/../../lib64:\n",
      "2024-12-04 09:53:18.691530: W tensorflow/stream_executor/platform/default/dso_loader.cc:64] Could not load dynamic library 'libcufft.so.10'; dlerror: libcufft.so.10: cannot open shared object file: No such file or directory; LD_LIBRARY_PATH: /home/r300/.local/lib/python3.8/site-packages/cv2/../../lib64:\n",
      "2024-12-04 09:53:18.691609: W tensorflow/stream_executor/platform/default/dso_loader.cc:64] Could not load dynamic library 'libcurand.so.10'; dlerror: libcurand.so.10: cannot open shared object file: No such file or directory; LD_LIBRARY_PATH: /home/r300/.local/lib/python3.8/site-packages/cv2/../../lib64:\n",
      "2024-12-04 09:53:18.691684: W tensorflow/stream_executor/platform/default/dso_loader.cc:64] Could not load dynamic library 'libcusolver.so.11'; dlerror: libcusolver.so.11: cannot open shared object file: No such file or directory; LD_LIBRARY_PATH: /home/r300/.local/lib/python3.8/site-packages/cv2/../../lib64:\n",
      "2024-12-04 09:53:18.691763: W tensorflow/stream_executor/platform/default/dso_loader.cc:64] Could not load dynamic library 'libcusparse.so.11'; dlerror: libcusparse.so.11: cannot open shared object file: No such file or directory; LD_LIBRARY_PATH: /home/r300/.local/lib/python3.8/site-packages/cv2/../../lib64:\n",
      "2024-12-04 09:53:18.691839: W tensorflow/stream_executor/platform/default/dso_loader.cc:64] Could not load dynamic library 'libcudnn.so.8'; dlerror: libcudnn.so.8: cannot open shared object file: No such file or directory; LD_LIBRARY_PATH: /home/r300/.local/lib/python3.8/site-packages/cv2/../../lib64:\n",
      "2024-12-04 09:53:18.691856: W tensorflow/core/common_runtime/gpu/gpu_device.cc:1850] Cannot dlopen some GPU libraries. Please make sure the missing libraries mentioned above are installed properly if you would like to use GPU. Follow the guide at https://www.tensorflow.org/install/gpu for how to download and setup the required libraries for your platform.\n",
      "Skipping registering GPU devices...\n",
      "2024-12-04 09:53:18.692161: I tensorflow/core/platform/cpu_feature_guard.cc:151] This TensorFlow binary is optimized with oneAPI Deep Neural Network Library (oneDNN) to use the following CPU instructions in performance-critical operations:  AVX2 FMA\n",
      "To enable them in other operations, rebuild TensorFlow with the appropriate compiler flags.\n",
      "2024-12-04 09:53:18,694 - INFO - Using tensorflow=2.8.1, onnx=1.17.0, tf2onnx=1.16.1/15c810\n",
      "2024-12-04 09:53:18,694 - INFO - Using opset <onnx, 16>\n",
      "INFO: Created TensorFlow Lite XNNPACK delegate for CPU.\n",
      "2024-12-04 09:53:20,908 - WARNING - NMS node StatefulPartitionedCall:3 uses fast NMS. ONNX will approximate with standard NMS.\n",
      "2024-12-04 09:53:21,171 - INFO - Optimizing ONNX model\n",
      "2024-12-04 09:53:54,077 - INFO - After optimization: Cast -10 (12->2), Const -2839 (4173->1334), DequantizeLinear -49 (1049->1000), Identity -4 (4->0), QuantizeLinear -12 (480->468), Reshape -136 (146->10), Transpose -1337 (1349->12)\n",
      "2024-12-04 09:53:54,274 - INFO - \n",
      "2024-12-04 09:53:54,274 - INFO - Successfully converted TensorFlow model efficientdet_lite4/model.tflite to ONNX\n",
      "2024-12-04 09:53:54,275 - INFO - Model inputs: ['serving_default_images:0']\n",
      "2024-12-04 09:53:54,275 - INFO - Model outputs: ['StatefulPartitionedCall:1', 'StatefulPartitionedCall:3', 'StatefulPartitionedCall:0', 'StatefulPartitionedCall:2']\n",
      "2024-12-04 09:53:54,275 - INFO - ONNX model is saved at efficientdet_lite4.onnx\n"
     ]
    }
   ],
   "source": [
    "!python -m tf2onnx.convert --opset 16 --tflite {model_name}/model.tflite --output {model_name}.onnx"
   ]
  },
  {
   "cell_type": "code",
   "execution_count": null,
   "metadata": {},
   "outputs": [],
   "source": []
  }
 ],
 "metadata": {
  "colab": {
   "provenance": []
  },
  "kernelspec": {
   "display_name": "Python 3 (ipykernel)",
   "language": "python",
   "name": "python3"
  },
  "language_info": {
   "codemirror_mode": {
    "name": "ipython",
    "version": 3
   },
   "file_extension": ".py",
   "mimetype": "text/x-python",
   "name": "python",
   "nbconvert_exporter": "python",
   "pygments_lexer": "ipython3",
   "version": "3.8.0"
  }
 },
 "nbformat": 4,
 "nbformat_minor": 4
}
