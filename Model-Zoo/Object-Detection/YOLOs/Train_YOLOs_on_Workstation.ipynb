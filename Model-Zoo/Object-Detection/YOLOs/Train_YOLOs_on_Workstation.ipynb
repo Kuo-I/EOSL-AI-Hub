{
  "cells": [
    {
      "cell_type": "code",
      "execution_count": 1,
      "metadata": {
        "colab": {
          "base_uri": "https://localhost:8080/"
        },
        "id": "xbCBfAFDaZxB",
        "outputId": "0e37bfef-4580-4593-ea5e-ace401ae8c5e"
      },
      "outputs": [
        {
          "output_type": "stream",
          "name": "stdout",
          "text": [
            "--2024-11-11 11:14:30--  https://itriaihub.blob.core.windows.net/github-download-resources/repository/ITRI-AI-Hub/datasets/HardHat_Dataset.YOLO.zip\n",
            "Resolving itriaihub.blob.core.windows.net (itriaihub.blob.core.windows.net)... 20.209.42.36\n",
            "Connecting to itriaihub.blob.core.windows.net (itriaihub.blob.core.windows.net)|20.209.42.36|:443... connected.\n",
            "HTTP request sent, awaiting response... 200 OK\n",
            "Length: 3705720 (3.5M) [application/x-zip-compressed]\n",
            "Saving to: ‘HardHat_Dataset.YOLO.zip’\n",
            "\n",
            "HardHat_Dataset.YOL 100%[===================>]   3.53M  5.47MB/s    in 0.6s    \n",
            "\n",
            "2024-11-11 11:14:31 (5.47 MB/s) - ‘HardHat_Dataset.YOLO.zip’ saved [3705720/3705720]\n",
            "\n",
            "Archive:  HardHat_Dataset.YOLO.zip\n",
            "   creating: HardHat_Dataset.YOLO/\n",
            "  inflating: HardHat_Dataset.YOLO/data.yaml  \n",
            "  inflating: HardHat_Dataset.YOLO/README.roboflow.txt  \n",
            "   creating: HardHat_Dataset.YOLO/test/\n",
            "   creating: HardHat_Dataset.YOLO/test/images/\n",
            "  inflating: HardHat_Dataset.YOLO/test/images/000008_jpg.rf.8ddEpaD8kjf9Wwgm1P3I.jpg  \n",
            "  inflating: HardHat_Dataset.YOLO/test/images/000011_jpg.rf.n6TiaiPM2lzuMoiSQNmo.jpg  \n",
            "  inflating: HardHat_Dataset.YOLO/test/images/000034_jpg.rf.qntmyCFyZO1mm5K83Q2U.jpg  \n",
            "  inflating: HardHat_Dataset.YOLO/test/images/000047_jpg.rf.rrQnzhne8qC0aY5YFqTs.jpg  \n",
            "  inflating: HardHat_Dataset.YOLO/test/images/000054_jpg.rf.4rv9qXIezByFltihCAki.jpg  \n",
            "  inflating: HardHat_Dataset.YOLO/test/images/000073_jpg.rf.WaR1Cr7x6TS2HKvYK1x9.jpg  \n",
            "  inflating: HardHat_Dataset.YOLO/test/images/000076_jpg.rf.ySqZfAFjerLFbsr3lYFA.jpg  \n",
            "  inflating: HardHat_Dataset.YOLO/test/images/000084_jpg.rf.ypBrJPcN7GVM2jxfozBk.jpg  \n",
            "  inflating: HardHat_Dataset.YOLO/test/images/000097_jpg.rf.TiWcbiGnH5DmEu4s1ytr.jpg  \n",
            "  inflating: HardHat_Dataset.YOLO/test/images/000098_jpg.rf.nnm9JVksIPPAqpQTx76U.jpg  \n",
            "   creating: HardHat_Dataset.YOLO/test/labels/\n",
            "  inflating: HardHat_Dataset.YOLO/test/labels/000008_jpg.rf.8ddEpaD8kjf9Wwgm1P3I.txt  \n",
            "  inflating: HardHat_Dataset.YOLO/test/labels/000011_jpg.rf.n6TiaiPM2lzuMoiSQNmo.txt  \n",
            "  inflating: HardHat_Dataset.YOLO/test/labels/000034_jpg.rf.qntmyCFyZO1mm5K83Q2U.txt  \n",
            "  inflating: HardHat_Dataset.YOLO/test/labels/000047_jpg.rf.rrQnzhne8qC0aY5YFqTs.txt  \n",
            "  inflating: HardHat_Dataset.YOLO/test/labels/000054_jpg.rf.4rv9qXIezByFltihCAki.txt  \n",
            "  inflating: HardHat_Dataset.YOLO/test/labels/000073_jpg.rf.WaR1Cr7x6TS2HKvYK1x9.txt  \n",
            "  inflating: HardHat_Dataset.YOLO/test/labels/000076_jpg.rf.ySqZfAFjerLFbsr3lYFA.txt  \n",
            "  inflating: HardHat_Dataset.YOLO/test/labels/000084_jpg.rf.ypBrJPcN7GVM2jxfozBk.txt  \n",
            "  inflating: HardHat_Dataset.YOLO/test/labels/000097_jpg.rf.TiWcbiGnH5DmEu4s1ytr.txt  \n",
            "  inflating: HardHat_Dataset.YOLO/test/labels/000098_jpg.rf.nnm9JVksIPPAqpQTx76U.txt  \n",
            "   creating: HardHat_Dataset.YOLO/train/\n",
            "   creating: HardHat_Dataset.YOLO/train/images/\n",
            "  inflating: HardHat_Dataset.YOLO/train/images/000001_jpg.rf.lr4ZmXF3PvLg6puT9eTZ.jpg  \n",
            "  inflating: HardHat_Dataset.YOLO/train/images/000007_jpg.rf.mn7CnVZFyc8sfVSuTUU9.jpg  \n",
            "  inflating: HardHat_Dataset.YOLO/train/images/000012_jpg.rf.SXG83CiV3friXnUAZFvn.jpg  \n",
            "  inflating: HardHat_Dataset.YOLO/train/images/000013_jpg.rf.NKiMm27JcltSIR4TH6Yw.jpg  \n",
            "  inflating: HardHat_Dataset.YOLO/train/images/000014_jpg.rf.Pl5PKx0zQyRw6Z4twhRh.jpg  \n",
            "  inflating: HardHat_Dataset.YOLO/train/images/000016_jpg.rf.ZIq2bpsCTJ3aoHXhMujn.jpg  \n",
            "  inflating: HardHat_Dataset.YOLO/train/images/000017_jpg.rf.fmnhbILLEYBAbbgkCUzY.jpg  \n",
            "  inflating: HardHat_Dataset.YOLO/train/images/000018_jpg.rf.ejU3o24j3VaxiLXoYfmm.jpg  \n",
            "  inflating: HardHat_Dataset.YOLO/train/images/000019_jpg.rf.7JZ1deu9Lr71Mr87XEyr.jpg  \n",
            "  inflating: HardHat_Dataset.YOLO/train/images/000020_jpg.rf.6iWFXgOzff5GFKaCffKu.jpg  \n",
            "  inflating: HardHat_Dataset.YOLO/train/images/000021_jpg.rf.GHFXMr2bYhIOcHTR2I8a.jpg  \n",
            "  inflating: HardHat_Dataset.YOLO/train/images/000022_jpg.rf.IGCXkU0mFl300eqfrq4W.jpg  \n",
            "  inflating: HardHat_Dataset.YOLO/train/images/000023_jpg.rf.2PtGhFk0VisqQG0UKgeS.jpg  \n",
            "  inflating: HardHat_Dataset.YOLO/train/images/000024_jpg.rf.GeuqSF7poGvwFxLyQnD0.jpg  \n",
            "  inflating: HardHat_Dataset.YOLO/train/images/000025_jpg.rf.j90EdnFwguNExJ8Qlnac.jpg  \n",
            "  inflating: HardHat_Dataset.YOLO/train/images/000026_jpg.rf.lLox0IncnLd5vvl97wpt.jpg  \n",
            "  inflating: HardHat_Dataset.YOLO/train/images/000027_jpg.rf.VPRIBHENkqF8DRtsYoq6.jpg  \n",
            "  inflating: HardHat_Dataset.YOLO/train/images/000028_jpg.rf.cVcf9mxnqav9lIKjhKTB.jpg  \n",
            "  inflating: HardHat_Dataset.YOLO/train/images/000029_jpg.rf.EBQCCwqNWzhNSsO316mB.jpg  \n",
            "  inflating: HardHat_Dataset.YOLO/train/images/000030_jpg.rf.norcz4nZ6jiSQSahqSSv.jpg  \n",
            "  inflating: HardHat_Dataset.YOLO/train/images/000031_jpg.rf.0gOBdTRlsXHxeEoU6MrY.jpg  \n",
            "  inflating: HardHat_Dataset.YOLO/train/images/000032_jpg.rf.cUdwomewOltL7m7H8tom.jpg  \n",
            "  inflating: HardHat_Dataset.YOLO/train/images/000033_jpg.rf.jlc79Y5MRxqPQa92MJ2L.jpg  \n",
            "  inflating: HardHat_Dataset.YOLO/train/images/000035_jpg.rf.b964v8uDAWCqCWr06243.jpg  \n",
            "  inflating: HardHat_Dataset.YOLO/train/images/000036_jpg.rf.Qnva2FdBk3VJ9TfcLnVE.jpg  \n",
            "  inflating: HardHat_Dataset.YOLO/train/images/000037_jpg.rf.5T7nwKm9LinkkoqsPvnQ.jpg  \n",
            "  inflating: HardHat_Dataset.YOLO/train/images/000038_jpg.rf.blyuB6O3jcicHh6rcW6y.jpg  \n",
            "  inflating: HardHat_Dataset.YOLO/train/images/000039_jpg.rf.DdAwtHEjNjAlF7MHMERy.jpg  \n",
            "  inflating: HardHat_Dataset.YOLO/train/images/000040_jpg.rf.Z0b27laDa9tM1udrtbxu.jpg  \n",
            "  inflating: HardHat_Dataset.YOLO/train/images/000041_jpg.rf.ID0EFYpJ3AFVZ6dPexlu.jpg  \n",
            "  inflating: HardHat_Dataset.YOLO/train/images/000042_jpg.rf.gu1tKBJoYUPEK2TfmRgH.jpg  \n",
            "  inflating: HardHat_Dataset.YOLO/train/images/000044_jpg.rf.Y7aNPeRVl953G0Smpk7B.jpg  \n",
            "  inflating: HardHat_Dataset.YOLO/train/images/000045_jpg.rf.63JtErP9ClkjFvImok08.jpg  \n",
            "  inflating: HardHat_Dataset.YOLO/train/images/000049_jpg.rf.NJsuzQfhycmkMUHo4XKk.jpg  \n",
            "  inflating: HardHat_Dataset.YOLO/train/images/000050_jpg.rf.s0QUkANVPyRBszh7UaS5.jpg  \n",
            "  inflating: HardHat_Dataset.YOLO/train/images/000051_jpg.rf.Y1MHTGe7lgKqGKdeSvAA.jpg  \n",
            "  inflating: HardHat_Dataset.YOLO/train/images/000052_jpg.rf.bG12OWcn4wNqKupMqPVU.jpg  \n",
            "  inflating: HardHat_Dataset.YOLO/train/images/000053_jpg.rf.42lW2wsPitDMMdIdeHeX.jpg  \n",
            "  inflating: HardHat_Dataset.YOLO/train/images/000056_jpg.rf.DBLCiTl8d0xE20SR0nCN.jpg  \n",
            "  inflating: HardHat_Dataset.YOLO/train/images/000058_jpg.rf.YuZxHJr1b46TrpirGUGm.jpg  \n",
            "  inflating: HardHat_Dataset.YOLO/train/images/000059_jpg.rf.b2F46aXvPxUGRWbxbaYA.jpg  \n",
            "  inflating: HardHat_Dataset.YOLO/train/images/000060_jpg.rf.neA0AtXF901C9mcPC3rg.jpg  \n",
            "  inflating: HardHat_Dataset.YOLO/train/images/000061_jpg.rf.yrzgWg4swwYtUN4zfaev.jpg  \n",
            "  inflating: HardHat_Dataset.YOLO/train/images/000062_jpg.rf.qaBCRl1lJcfnE3dZHuNB.jpg  \n",
            "  inflating: HardHat_Dataset.YOLO/train/images/000064_jpg.rf.rZXmv7lDI6bSMRfV9pzc.jpg  \n",
            "  inflating: HardHat_Dataset.YOLO/train/images/000066_jpg.rf.n42Z6WlJzId2bXIyTocO.jpg  \n",
            "  inflating: HardHat_Dataset.YOLO/train/images/000067_jpg.rf.5QXCAaj4ORQgu79PXmF5.jpg  \n",
            "  inflating: HardHat_Dataset.YOLO/train/images/000068_jpg.rf.tonB2bT09Vu1Wj6hoCnQ.jpg  \n",
            "  inflating: HardHat_Dataset.YOLO/train/images/000069_jpg.rf.d1MM9KbeNiI7Rk11xq91.jpg  \n",
            "  inflating: HardHat_Dataset.YOLO/train/images/000070_jpg.rf.FS0D4Yn9tGvqhqV04Bqw.jpg  \n",
            "  inflating: HardHat_Dataset.YOLO/train/images/000072_jpg.rf.9sjrqItGLF1muAnUsp4X.jpg  \n",
            "  inflating: HardHat_Dataset.YOLO/train/images/000074_jpg.rf.0mhNgaIhuK6AksOZuIE7.jpg  \n",
            "  inflating: HardHat_Dataset.YOLO/train/images/000075_jpg.rf.JtQTSb5UCbP3592TkThM.jpg  \n",
            "  inflating: HardHat_Dataset.YOLO/train/images/000077_jpg.rf.9n4RChdCQApHrjx3LZz1.jpg  \n",
            "  inflating: HardHat_Dataset.YOLO/train/images/000078_jpg.rf.H2ek4btF7N2ghdmXFv8i.jpg  \n",
            "  inflating: HardHat_Dataset.YOLO/train/images/000079_jpg.rf.IOebpXGwlLZVvC0FcPt3.jpg  \n",
            "  inflating: HardHat_Dataset.YOLO/train/images/000080_jpg.rf.ccWXnwgMKKHp9BYA3ARq.jpg  \n",
            "  inflating: HardHat_Dataset.YOLO/train/images/000081_jpg.rf.ZcWyAWeqDpUm1Bpmpk3W.jpg  \n",
            "  inflating: HardHat_Dataset.YOLO/train/images/000082_jpg.rf.imhAb6oKepLm9B3TA9q0.jpg  \n",
            "  inflating: HardHat_Dataset.YOLO/train/images/000083_jpg.rf.3kqxcVBX5xiUn1seP3UR.jpg  \n",
            "  inflating: HardHat_Dataset.YOLO/train/images/000085_jpg.rf.aZ3Q7Wy94WQ6i05e7CM0.jpg  \n",
            "  inflating: HardHat_Dataset.YOLO/train/images/000086_jpg.rf.vOm6zJIiagrPWUcDWZT2.jpg  \n",
            "  inflating: HardHat_Dataset.YOLO/train/images/000087_jpg.rf.lJPmeH4TPXtfnCZVJrGY.jpg  \n",
            "  inflating: HardHat_Dataset.YOLO/train/images/000089_jpg.rf.wvu4hEGMA72ZcIV5niww.jpg  \n",
            "  inflating: HardHat_Dataset.YOLO/train/images/000090_jpg.rf.thD0aBzhv7T3yHKyHpL9.jpg  \n",
            "  inflating: HardHat_Dataset.YOLO/train/images/000092_jpg.rf.rb0MN0wMcwaLhvNz8AFx.jpg  \n",
            "  inflating: HardHat_Dataset.YOLO/train/images/000093_jpg.rf.vyRp7GG7PHuksTTLWHpj.jpg  \n",
            "  inflating: HardHat_Dataset.YOLO/train/images/000094_jpg.rf.DpdZYGvWVeZZdz79mEuX.jpg  \n",
            "  inflating: HardHat_Dataset.YOLO/train/images/000096_jpg.rf.dRa1uZXefKajmoBDBLCm.jpg  \n",
            "  inflating: HardHat_Dataset.YOLO/train/images/000100_jpg.rf.BzOp5ivVZTzPYFCmYYdx.jpg  \n",
            "   creating: HardHat_Dataset.YOLO/train/labels/\n",
            "  inflating: HardHat_Dataset.YOLO/train/labels/000001_jpg.rf.lr4ZmXF3PvLg6puT9eTZ.txt  \n",
            "  inflating: HardHat_Dataset.YOLO/train/labels/000007_jpg.rf.mn7CnVZFyc8sfVSuTUU9.txt  \n",
            "  inflating: HardHat_Dataset.YOLO/train/labels/000012_jpg.rf.SXG83CiV3friXnUAZFvn.txt  \n",
            "  inflating: HardHat_Dataset.YOLO/train/labels/000013_jpg.rf.NKiMm27JcltSIR4TH6Yw.txt  \n",
            "  inflating: HardHat_Dataset.YOLO/train/labels/000014_jpg.rf.Pl5PKx0zQyRw6Z4twhRh.txt  \n",
            "  inflating: HardHat_Dataset.YOLO/train/labels/000016_jpg.rf.ZIq2bpsCTJ3aoHXhMujn.txt  \n",
            "  inflating: HardHat_Dataset.YOLO/train/labels/000017_jpg.rf.fmnhbILLEYBAbbgkCUzY.txt  \n",
            "  inflating: HardHat_Dataset.YOLO/train/labels/000018_jpg.rf.ejU3o24j3VaxiLXoYfmm.txt  \n",
            "  inflating: HardHat_Dataset.YOLO/train/labels/000019_jpg.rf.7JZ1deu9Lr71Mr87XEyr.txt  \n",
            "  inflating: HardHat_Dataset.YOLO/train/labels/000020_jpg.rf.6iWFXgOzff5GFKaCffKu.txt  \n",
            "  inflating: HardHat_Dataset.YOLO/train/labels/000021_jpg.rf.GHFXMr2bYhIOcHTR2I8a.txt  \n",
            "  inflating: HardHat_Dataset.YOLO/train/labels/000022_jpg.rf.IGCXkU0mFl300eqfrq4W.txt  \n",
            "  inflating: HardHat_Dataset.YOLO/train/labels/000023_jpg.rf.2PtGhFk0VisqQG0UKgeS.txt  \n",
            "  inflating: HardHat_Dataset.YOLO/train/labels/000024_jpg.rf.GeuqSF7poGvwFxLyQnD0.txt  \n",
            "  inflating: HardHat_Dataset.YOLO/train/labels/000025_jpg.rf.j90EdnFwguNExJ8Qlnac.txt  \n",
            "  inflating: HardHat_Dataset.YOLO/train/labels/000026_jpg.rf.lLox0IncnLd5vvl97wpt.txt  \n",
            "  inflating: HardHat_Dataset.YOLO/train/labels/000027_jpg.rf.VPRIBHENkqF8DRtsYoq6.txt  \n",
            "  inflating: HardHat_Dataset.YOLO/train/labels/000028_jpg.rf.cVcf9mxnqav9lIKjhKTB.txt  \n",
            "  inflating: HardHat_Dataset.YOLO/train/labels/000029_jpg.rf.EBQCCwqNWzhNSsO316mB.txt  \n",
            "  inflating: HardHat_Dataset.YOLO/train/labels/000030_jpg.rf.norcz4nZ6jiSQSahqSSv.txt  \n",
            "  inflating: HardHat_Dataset.YOLO/train/labels/000031_jpg.rf.0gOBdTRlsXHxeEoU6MrY.txt  \n",
            "  inflating: HardHat_Dataset.YOLO/train/labels/000032_jpg.rf.cUdwomewOltL7m7H8tom.txt  \n",
            "  inflating: HardHat_Dataset.YOLO/train/labels/000033_jpg.rf.jlc79Y5MRxqPQa92MJ2L.txt  \n",
            "  inflating: HardHat_Dataset.YOLO/train/labels/000035_jpg.rf.b964v8uDAWCqCWr06243.txt  \n",
            "  inflating: HardHat_Dataset.YOLO/train/labels/000036_jpg.rf.Qnva2FdBk3VJ9TfcLnVE.txt  \n",
            "  inflating: HardHat_Dataset.YOLO/train/labels/000037_jpg.rf.5T7nwKm9LinkkoqsPvnQ.txt  \n",
            "  inflating: HardHat_Dataset.YOLO/train/labels/000038_jpg.rf.blyuB6O3jcicHh6rcW6y.txt  \n",
            "  inflating: HardHat_Dataset.YOLO/train/labels/000039_jpg.rf.DdAwtHEjNjAlF7MHMERy.txt  \n",
            "  inflating: HardHat_Dataset.YOLO/train/labels/000040_jpg.rf.Z0b27laDa9tM1udrtbxu.txt  \n",
            "  inflating: HardHat_Dataset.YOLO/train/labels/000041_jpg.rf.ID0EFYpJ3AFVZ6dPexlu.txt  \n",
            "  inflating: HardHat_Dataset.YOLO/train/labels/000042_jpg.rf.gu1tKBJoYUPEK2TfmRgH.txt  \n",
            "  inflating: HardHat_Dataset.YOLO/train/labels/000044_jpg.rf.Y7aNPeRVl953G0Smpk7B.txt  \n",
            "  inflating: HardHat_Dataset.YOLO/train/labels/000045_jpg.rf.63JtErP9ClkjFvImok08.txt  \n",
            "  inflating: HardHat_Dataset.YOLO/train/labels/000049_jpg.rf.NJsuzQfhycmkMUHo4XKk.txt  \n",
            "  inflating: HardHat_Dataset.YOLO/train/labels/000050_jpg.rf.s0QUkANVPyRBszh7UaS5.txt  \n",
            "  inflating: HardHat_Dataset.YOLO/train/labels/000051_jpg.rf.Y1MHTGe7lgKqGKdeSvAA.txt  \n",
            "  inflating: HardHat_Dataset.YOLO/train/labels/000052_jpg.rf.bG12OWcn4wNqKupMqPVU.txt  \n",
            "  inflating: HardHat_Dataset.YOLO/train/labels/000053_jpg.rf.42lW2wsPitDMMdIdeHeX.txt  \n",
            "  inflating: HardHat_Dataset.YOLO/train/labels/000056_jpg.rf.DBLCiTl8d0xE20SR0nCN.txt  \n",
            "  inflating: HardHat_Dataset.YOLO/train/labels/000058_jpg.rf.YuZxHJr1b46TrpirGUGm.txt  \n",
            "  inflating: HardHat_Dataset.YOLO/train/labels/000059_jpg.rf.b2F46aXvPxUGRWbxbaYA.txt  \n",
            "  inflating: HardHat_Dataset.YOLO/train/labels/000060_jpg.rf.neA0AtXF901C9mcPC3rg.txt  \n",
            "  inflating: HardHat_Dataset.YOLO/train/labels/000061_jpg.rf.yrzgWg4swwYtUN4zfaev.txt  \n",
            "  inflating: HardHat_Dataset.YOLO/train/labels/000062_jpg.rf.qaBCRl1lJcfnE3dZHuNB.txt  \n",
            "  inflating: HardHat_Dataset.YOLO/train/labels/000064_jpg.rf.rZXmv7lDI6bSMRfV9pzc.txt  \n",
            "  inflating: HardHat_Dataset.YOLO/train/labels/000066_jpg.rf.n42Z6WlJzId2bXIyTocO.txt  \n",
            "  inflating: HardHat_Dataset.YOLO/train/labels/000067_jpg.rf.5QXCAaj4ORQgu79PXmF5.txt  \n",
            "  inflating: HardHat_Dataset.YOLO/train/labels/000068_jpg.rf.tonB2bT09Vu1Wj6hoCnQ.txt  \n",
            "  inflating: HardHat_Dataset.YOLO/train/labels/000069_jpg.rf.d1MM9KbeNiI7Rk11xq91.txt  \n",
            "  inflating: HardHat_Dataset.YOLO/train/labels/000070_jpg.rf.FS0D4Yn9tGvqhqV04Bqw.txt  \n",
            "  inflating: HardHat_Dataset.YOLO/train/labels/000072_jpg.rf.9sjrqItGLF1muAnUsp4X.txt  \n",
            "  inflating: HardHat_Dataset.YOLO/train/labels/000074_jpg.rf.0mhNgaIhuK6AksOZuIE7.txt  \n",
            "  inflating: HardHat_Dataset.YOLO/train/labels/000075_jpg.rf.JtQTSb5UCbP3592TkThM.txt  \n",
            "  inflating: HardHat_Dataset.YOLO/train/labels/000077_jpg.rf.9n4RChdCQApHrjx3LZz1.txt  \n",
            "  inflating: HardHat_Dataset.YOLO/train/labels/000078_jpg.rf.H2ek4btF7N2ghdmXFv8i.txt  \n",
            "  inflating: HardHat_Dataset.YOLO/train/labels/000079_jpg.rf.IOebpXGwlLZVvC0FcPt3.txt  \n",
            "  inflating: HardHat_Dataset.YOLO/train/labels/000080_jpg.rf.ccWXnwgMKKHp9BYA3ARq.txt  \n",
            "  inflating: HardHat_Dataset.YOLO/train/labels/000081_jpg.rf.ZcWyAWeqDpUm1Bpmpk3W.txt  \n",
            "  inflating: HardHat_Dataset.YOLO/train/labels/000082_jpg.rf.imhAb6oKepLm9B3TA9q0.txt  \n",
            "  inflating: HardHat_Dataset.YOLO/train/labels/000083_jpg.rf.3kqxcVBX5xiUn1seP3UR.txt  \n",
            "  inflating: HardHat_Dataset.YOLO/train/labels/000085_jpg.rf.aZ3Q7Wy94WQ6i05e7CM0.txt  \n",
            "  inflating: HardHat_Dataset.YOLO/train/labels/000086_jpg.rf.vOm6zJIiagrPWUcDWZT2.txt  \n",
            "  inflating: HardHat_Dataset.YOLO/train/labels/000087_jpg.rf.lJPmeH4TPXtfnCZVJrGY.txt  \n",
            "  inflating: HardHat_Dataset.YOLO/train/labels/000089_jpg.rf.wvu4hEGMA72ZcIV5niww.txt  \n",
            "  inflating: HardHat_Dataset.YOLO/train/labels/000090_jpg.rf.thD0aBzhv7T3yHKyHpL9.txt  \n",
            "  inflating: HardHat_Dataset.YOLO/train/labels/000092_jpg.rf.rb0MN0wMcwaLhvNz8AFx.txt  \n",
            "  inflating: HardHat_Dataset.YOLO/train/labels/000093_jpg.rf.vyRp7GG7PHuksTTLWHpj.txt  \n",
            "  inflating: HardHat_Dataset.YOLO/train/labels/000094_jpg.rf.DpdZYGvWVeZZdz79mEuX.txt  \n",
            "  inflating: HardHat_Dataset.YOLO/train/labels/000096_jpg.rf.dRa1uZXefKajmoBDBLCm.txt  \n",
            "  inflating: HardHat_Dataset.YOLO/train/labels/000100_jpg.rf.BzOp5ivVZTzPYFCmYYdx.txt  \n",
            "   creating: HardHat_Dataset.YOLO/valid/\n",
            "   creating: HardHat_Dataset.YOLO/valid/images/\n",
            "  inflating: HardHat_Dataset.YOLO/valid/images/000002_jpg.rf.TlCjYNxN0dHXRn6ctWn5.jpg  \n",
            "  inflating: HardHat_Dataset.YOLO/valid/images/000003_jpg.rf.EjIdAhHuafGrfVhehoij.jpg  \n",
            "  inflating: HardHat_Dataset.YOLO/valid/images/000004_jpg.rf.2GdL1eNABqI43qeB9rXr.jpg  \n",
            "  inflating: HardHat_Dataset.YOLO/valid/images/000005_jpg.rf.IK4SxvmKAdE1oZQ2HTDP.jpg  \n",
            "  inflating: HardHat_Dataset.YOLO/valid/images/000006_jpg.rf.flfDLCVd3tPH0v65BrQC.jpg  \n",
            "  inflating: HardHat_Dataset.YOLO/valid/images/000009_jpg.rf.Ir5w16tzcvVT0LmMaLsj.jpg  \n",
            "  inflating: HardHat_Dataset.YOLO/valid/images/000010_jpg.rf.7zS8QbkzXx5yCyeU2AuQ.jpg  \n",
            "  inflating: HardHat_Dataset.YOLO/valid/images/000015_jpg.rf.tRd4zoJP3vdWLz8IH3gN.jpg  \n",
            "  inflating: HardHat_Dataset.YOLO/valid/images/000043_jpg.rf.QmNTLAsIrQ7QLD1t6Oue.jpg  \n",
            "  inflating: HardHat_Dataset.YOLO/valid/images/000046_jpg.rf.kKFomGyV5pD4rFt0cp6t.jpg  \n",
            "  inflating: HardHat_Dataset.YOLO/valid/images/000048_jpg.rf.GvZcBmbGjfHpZ7oZ9k2n.jpg  \n",
            "  inflating: HardHat_Dataset.YOLO/valid/images/000055_jpg.rf.0Yk2MA7lmPmTcczN0Tcr.jpg  \n",
            "  inflating: HardHat_Dataset.YOLO/valid/images/000063_jpg.rf.fv1FHLDZzHuTGcFh2NHk.jpg  \n",
            "  inflating: HardHat_Dataset.YOLO/valid/images/000065_jpg.rf.FX2AuBNCGfGzs94x3kmD.jpg  \n",
            "  inflating: HardHat_Dataset.YOLO/valid/images/000071_jpg.rf.waLD6hhz137pK57LrHgW.jpg  \n",
            "  inflating: HardHat_Dataset.YOLO/valid/images/000088_jpg.rf.B6UqpphUZFXwTPdQgrNQ.jpg  \n",
            "  inflating: HardHat_Dataset.YOLO/valid/images/000091_jpg.rf.LrtkMqnIntdJ843SL5ax.jpg  \n",
            "  inflating: HardHat_Dataset.YOLO/valid/images/000099_jpg.rf.HDeWNLsEC4a7Lp3dgBrH.jpg  \n",
            "  inflating: HardHat_Dataset.YOLO/valid/images/000101_jpg.rf.onyq0ctZMDwxamdFdycU.jpg  \n",
            "  inflating: HardHat_Dataset.YOLO/valid/images/000102_jpg.rf.NxJRm40Pcb42W5gbi1S7.jpg  \n",
            "   creating: HardHat_Dataset.YOLO/valid/labels/\n",
            "  inflating: HardHat_Dataset.YOLO/valid/labels/000002_jpg.rf.TlCjYNxN0dHXRn6ctWn5.txt  \n",
            "  inflating: HardHat_Dataset.YOLO/valid/labels/000003_jpg.rf.EjIdAhHuafGrfVhehoij.txt  \n",
            "  inflating: HardHat_Dataset.YOLO/valid/labels/000004_jpg.rf.2GdL1eNABqI43qeB9rXr.txt  \n",
            "  inflating: HardHat_Dataset.YOLO/valid/labels/000005_jpg.rf.IK4SxvmKAdE1oZQ2HTDP.txt  \n",
            "  inflating: HardHat_Dataset.YOLO/valid/labels/000006_jpg.rf.flfDLCVd3tPH0v65BrQC.txt  \n",
            "  inflating: HardHat_Dataset.YOLO/valid/labels/000009_jpg.rf.Ir5w16tzcvVT0LmMaLsj.txt  \n",
            "  inflating: HardHat_Dataset.YOLO/valid/labels/000010_jpg.rf.7zS8QbkzXx5yCyeU2AuQ.txt  \n",
            "  inflating: HardHat_Dataset.YOLO/valid/labels/000015_jpg.rf.tRd4zoJP3vdWLz8IH3gN.txt  \n",
            "  inflating: HardHat_Dataset.YOLO/valid/labels/000043_jpg.rf.QmNTLAsIrQ7QLD1t6Oue.txt  \n",
            "  inflating: HardHat_Dataset.YOLO/valid/labels/000046_jpg.rf.kKFomGyV5pD4rFt0cp6t.txt  \n",
            "  inflating: HardHat_Dataset.YOLO/valid/labels/000048_jpg.rf.GvZcBmbGjfHpZ7oZ9k2n.txt  \n",
            "  inflating: HardHat_Dataset.YOLO/valid/labels/000055_jpg.rf.0Yk2MA7lmPmTcczN0Tcr.txt  \n",
            "  inflating: HardHat_Dataset.YOLO/valid/labels/000063_jpg.rf.fv1FHLDZzHuTGcFh2NHk.txt  \n",
            "  inflating: HardHat_Dataset.YOLO/valid/labels/000065_jpg.rf.FX2AuBNCGfGzs94x3kmD.txt  \n",
            "  inflating: HardHat_Dataset.YOLO/valid/labels/000071_jpg.rf.waLD6hhz137pK57LrHgW.txt  \n",
            "  inflating: HardHat_Dataset.YOLO/valid/labels/000088_jpg.rf.B6UqpphUZFXwTPdQgrNQ.txt  \n",
            "  inflating: HardHat_Dataset.YOLO/valid/labels/000091_jpg.rf.LrtkMqnIntdJ843SL5ax.txt  \n",
            "  inflating: HardHat_Dataset.YOLO/valid/labels/000099_jpg.rf.HDeWNLsEC4a7Lp3dgBrH.txt  \n",
            "  inflating: HardHat_Dataset.YOLO/valid/labels/000101_jpg.rf.onyq0ctZMDwxamdFdycU.txt  \n",
            "  inflating: HardHat_Dataset.YOLO/valid/labels/000102_jpg.rf.NxJRm40Pcb42W5gbi1S7.txt  \n"
          ]
        }
      ],
      "source": [
        "!wget https://itriaihub.blob.core.windows.net/github-download-resources/repository/ITRI-AI-Hub/datasets/HardHat_Dataset.YOLO.zip\n",
        "!unzip HardHat_Dataset.YOLO.zip"
      ]
    },
    {
      "cell_type": "code",
      "execution_count": 2,
      "metadata": {
        "colab": {
          "base_uri": "https://localhost:8080/"
        },
        "id": "u2WSrdecgIj4",
        "outputId": "be681eae-cd00-4335-a73e-a654ddd57719"
      },
      "outputs": [
        {
          "output_type": "stream",
          "name": "stdout",
          "text": [
            "Cloning into 'AutoAugment'...\n",
            "remote: Enumerating objects: 66, done.\u001b[K\n",
            "remote: Counting objects: 100% (66/66), done.\u001b[K\n",
            "remote: Compressing objects: 100% (63/63), done.\u001b[K\n",
            "remote: Total 66 (delta 17), reused 0 (delta 0), pack-reused 0 (from 0)\u001b[K\n",
            "Receiving objects: 100% (66/66), 27.71 KiB | 13.85 MiB/s, done.\n",
            "Resolving deltas: 100% (17/17), done.\n",
            "Requirement already satisfied: albumentations in /usr/local/lib/python3.10/dist-packages (from -r AutoAugment/requirements.txt (line 1)) (1.4.20)\n",
            "Requirement already satisfied: numpy>=1.24.4 in /usr/local/lib/python3.10/dist-packages (from albumentations->-r AutoAugment/requirements.txt (line 1)) (1.26.4)\n",
            "Requirement already satisfied: scipy>=1.10.0 in /usr/local/lib/python3.10/dist-packages (from albumentations->-r AutoAugment/requirements.txt (line 1)) (1.13.1)\n",
            "Requirement already satisfied: PyYAML in /usr/local/lib/python3.10/dist-packages (from albumentations->-r AutoAugment/requirements.txt (line 1)) (6.0.2)\n",
            "Requirement already satisfied: pydantic>=2.7.0 in /usr/local/lib/python3.10/dist-packages (from albumentations->-r AutoAugment/requirements.txt (line 1)) (2.9.2)\n",
            "Requirement already satisfied: albucore==0.0.19 in /usr/local/lib/python3.10/dist-packages (from albumentations->-r AutoAugment/requirements.txt (line 1)) (0.0.19)\n",
            "Requirement already satisfied: eval-type-backport in /usr/local/lib/python3.10/dist-packages (from albumentations->-r AutoAugment/requirements.txt (line 1)) (0.2.0)\n",
            "Requirement already satisfied: opencv-python-headless>=4.9.0.80 in /usr/local/lib/python3.10/dist-packages (from albumentations->-r AutoAugment/requirements.txt (line 1)) (4.10.0.84)\n",
            "Requirement already satisfied: stringzilla>=3.10.4 in /usr/local/lib/python3.10/dist-packages (from albucore==0.0.19->albumentations->-r AutoAugment/requirements.txt (line 1)) (3.10.6)\n",
            "Requirement already satisfied: annotated-types>=0.6.0 in /usr/local/lib/python3.10/dist-packages (from pydantic>=2.7.0->albumentations->-r AutoAugment/requirements.txt (line 1)) (0.7.0)\n",
            "Requirement already satisfied: pydantic-core==2.23.4 in /usr/local/lib/python3.10/dist-packages (from pydantic>=2.7.0->albumentations->-r AutoAugment/requirements.txt (line 1)) (2.23.4)\n",
            "Requirement already satisfied: typing-extensions>=4.6.1 in /usr/local/lib/python3.10/dist-packages (from pydantic>=2.7.0->albumentations->-r AutoAugment/requirements.txt (line 1)) (4.12.2)\n"
          ]
        }
      ],
      "source": [
        "#optional\n",
        "!git clone https://github.com/R300-AI/AutoAugment.git\n",
        "!pip install -r AutoAugment/requirements.txt"
      ]
    },
    {
      "cell_type": "markdown",
      "metadata": {
        "id": "gb9HgPNIlCNS"
      },
      "source": [
        "https://huggingface.co/spaces/qubvel-hf/albumentations-demo"
      ]
    },
    {
      "cell_type": "code",
      "execution_count": 3,
      "metadata": {
        "colab": {
          "base_uri": "https://localhost:8080/",
          "height": 547
        },
        "id": "U5SkEfKkgRxU",
        "outputId": "db04a788-fb89-42ae-a510-0103e4438d68"
      },
      "outputs": [
        {
          "output_type": "stream",
          "name": "stderr",
          "text": [
            "/usr/local/lib/python3.10/dist-packages/albumentations/__init__.py:24: UserWarning: A new version of Albumentations is available: 1.4.21 (you have 1.4.20). Upgrade using: pip install -U albumentations. To disable automatic update checks, set the environment variable NO_ALBUMENTATIONS_UPDATE to 1.\n",
            "  check_for_updates()\n"
          ]
        },
        {
          "output_type": "stream",
          "name": "stdout",
          "text": [
            "summary the samples...\n",
            "process each samples limited to 0.8571428571428571 seconds.\n"
          ]
        },
        {
          "output_type": "stream",
          "name": "stderr",
          "text": [
            "100%|██████████| 70/70 [04:06<00:00,  3.52s/it]\n"
          ]
        },
        {
          "output_type": "display_data",
          "data": {
            "image/jpeg": "[encoded data removed]",
            "text/plain": [
              "<IPython.core.display.Image object>"
            ]
          },
          "metadata": {}
        }
      ],
      "source": [
        "from AutoAugment.augmentors import ObjectAugmentor\n",
        "from IPython.display import display, Image\n",
        "import albumentations as A\n",
        "import warnings, os\n",
        "\n",
        "warnings.simplefilter(\"ignore\")\n",
        "\n",
        "augmentor = ObjectAugmentor(maximum_size = 16, maximum_process_second = 60)\n",
        "NEW_DATASET_PATH = augmentor.fit('/content/HardHat_Dataset.YOLO', [A.Blur(p=0.8), A.CLAHE(p=0.8), A.GaussNoise(p=0.8), A.HorizontalFlip(p=0.5), A.PixelDropout(p=0.8),\n",
        "                                      A.RandomBrightnessContrast(p=0.9), A.RandomShadow(p=0.8, shadow_intensity_range=(0.6, 0.9)),\n",
        "                                      A.BBoxSafeRandomCrop(p=.7), A.ColorJitter(p=.8)] , save=True, verbose=True)\n",
        "\n",
        "log = os.listdir(f\"{NEW_DATASET_PATH}/log\")[-1]\n",
        "display(Image(filename=f\"{NEW_DATASET_PATH}/log/{log}\"))"
      ]
    },
    {
      "cell_type": "code",
      "execution_count": 7,
      "metadata": {
        "colab": {
          "base_uri": "https://localhost:8080/"
        },
        "id": "s8ZSq34kdKpN",
        "outputId": "66ee4501-ea19-4c08-f0ce-c2cb42a81ed4"
      },
      "outputs": [
        {
          "output_type": "stream",
          "name": "stdout",
          "text": [
            "Ultralytics 8.3.28 🚀 Python-3.10.12 torch-2.5.0+cu121 CUDA:0 (Tesla T4, 15102MiB)\n",
            "\u001b[34m\u001b[1mengine/trainer: \u001b[0mtask=detect, mode=train, model=yolo11n.pt, data=/content/HardHat_Dataset.YOLO/data.yaml, epochs=100, time=None, patience=100, batch=16, imgsz=640, save=True, save_period=-1, cache=False, device=None, workers=8, project=None, name=train3, exist_ok=False, pretrained=True, optimizer=auto, verbose=True, seed=0, deterministic=True, single_cls=False, rect=False, cos_lr=False, close_mosaic=10, resume=False, amp=True, fraction=1.0, profile=False, freeze=None, multi_scale=False, overlap_mask=True, mask_ratio=4, dropout=0.0, val=True, split=val, save_json=False, save_hybrid=False, conf=None, iou=0.7, max_det=300, half=False, dnn=False, plots=True, source=None, vid_stride=1, stream_buffer=False, visualize=False, augment=False, agnostic_nms=False, classes=None, retina_masks=False, embed=None, show=False, save_frames=False, save_txt=False, save_conf=False, save_crop=False, show_labels=True, show_conf=True, show_boxes=True, line_width=None, format=torchscript, keras=False, optimize=False, int8=False, dynamic=False, simplify=True, opset=None, workspace=4, nms=False, lr0=0.01, lrf=0.01, momentum=0.937, weight_decay=0.0005, warmup_epochs=3.0, warmup_momentum=0.8, warmup_bias_lr=0.1, box=7.5, cls=0.5, dfl=1.5, pose=12.0, kobj=1.0, label_smoothing=0.0, nbs=64, hsv_h=0.015, hsv_s=0.7, hsv_v=0.4, degrees=0.0, translate=0.1, scale=0.5, shear=0.0, perspective=0.0, flipud=0.0, fliplr=0.5, bgr=0.0, mosaic=1.0, mixup=0.0, copy_paste=0.0, copy_paste_mode=flip, auto_augment=randaugment, erasing=0.4, crop_fraction=1.0, cfg=None, tracker=botsort.yaml, save_dir=runs/detect/train3\n",
            "Overriding model.yaml nc=80 with nc=3\n",
            "\n",
            "                   from  n    params  module                                       arguments                     \n",
            "  0                  -1  1       464  ultralytics.nn.modules.conv.Conv             [3, 16, 3, 2]                 \n",
            "  1                  -1  1      4672  ultralytics.nn.modules.conv.Conv             [16, 32, 3, 2]                \n",
            "  2                  -1  1      6640  ultralytics.nn.modules.block.C3k2            [32, 64, 1, False, 0.25]      \n",
            "  3                  -1  1     36992  ultralytics.nn.modules.conv.Conv             [64, 64, 3, 2]                \n",
            "  4                  -1  1     26080  ultralytics.nn.modules.block.C3k2            [64, 128, 1, False, 0.25]     \n",
            "  5                  -1  1    147712  ultralytics.nn.modules.conv.Conv             [128, 128, 3, 2]              \n",
            "  6                  -1  1     87040  ultralytics.nn.modules.block.C3k2            [128, 128, 1, True]           \n",
            "  7                  -1  1    295424  ultralytics.nn.modules.conv.Conv             [128, 256, 3, 2]              \n",
            "  8                  -1  1    346112  ultralytics.nn.modules.block.C3k2            [256, 256, 1, True]           \n",
            "  9                  -1  1    164608  ultralytics.nn.modules.block.SPPF            [256, 256, 5]                 \n",
            " 10                  -1  1    249728  ultralytics.nn.modules.block.C2PSA           [256, 256, 1]                 \n",
            " 11                  -1  1         0  torch.nn.modules.upsampling.Upsample         [None, 2, 'nearest']          \n",
            " 12             [-1, 6]  1         0  ultralytics.nn.modules.conv.Concat           [1]                           \n",
            " 13                  -1  1    111296  ultralytics.nn.modules.block.C3k2            [384, 128, 1, False]          \n",
            " 14                  -1  1         0  torch.nn.modules.upsampling.Upsample         [None, 2, 'nearest']          \n",
            " 15             [-1, 4]  1         0  ultralytics.nn.modules.conv.Concat           [1]                           \n",
            " 16                  -1  1     32096  ultralytics.nn.modules.block.C3k2            [256, 64, 1, False]           \n",
            " 17                  -1  1     36992  ultralytics.nn.modules.conv.Conv             [64, 64, 3, 2]                \n",
            " 18            [-1, 13]  1         0  ultralytics.nn.modules.conv.Concat           [1]                           \n",
            " 19                  -1  1     86720  ultralytics.nn.modules.block.C3k2            [192, 128, 1, False]          \n",
            " 20                  -1  1    147712  ultralytics.nn.modules.conv.Conv             [128, 128, 3, 2]              \n",
            " 21            [-1, 10]  1         0  ultralytics.nn.modules.conv.Concat           [1]                           \n",
            " 22                  -1  1    378880  ultralytics.nn.modules.block.C3k2            [384, 256, 1, True]           \n",
            " 23        [16, 19, 22]  1    431257  ultralytics.nn.modules.head.Detect           [3, [64, 128, 256]]           \n",
            "YOLO11n summary: 319 layers, 2,590,425 parameters, 2,590,409 gradients, 6.4 GFLOPs\n",
            "\n",
            "Transferred 448/499 items from pretrained weights\n",
            "\u001b[34m\u001b[1mTensorBoard: \u001b[0mStart with 'tensorboard --logdir runs/detect/train3', view at http://localhost:6006/\n",
            "Freezing layer 'model.23.dfl.conv.weight'\n",
            "\u001b[34m\u001b[1mAMP: \u001b[0mrunning Automatic Mixed Precision (AMP) checks...\n",
            "\u001b[34m\u001b[1mAMP: \u001b[0mchecks passed ✅\n"
          ]
        },
        {
          "output_type": "stream",
          "name": "stderr",
          "text": [
            "\u001b[34m\u001b[1mtrain: \u001b[0mScanning /content/HardHat_Dataset.YOLO/train/labels.cache... 70 images, 0 backgrounds, 0 corrupt: 100%|██████████| 70/70 [00:00<?, ?it/s]"
          ]
        },
        {
          "output_type": "stream",
          "name": "stdout",
          "text": [
            "\u001b[34m\u001b[1malbumentations: \u001b[0mBlur(p=0.01, blur_limit=(3, 7)), MedianBlur(p=0.01, blur_limit=(3, 7)), ToGray(p=0.01, num_output_channels=3, method='weighted_average'), CLAHE(p=0.01, clip_limit=(1.0, 4.0), tile_grid_size=(8, 8))\n"
          ]
        },
        {
          "output_type": "stream",
          "name": "stderr",
          "text": [
            "\n",
            "\u001b[34m\u001b[1mval: \u001b[0mScanning /content/HardHat_Dataset.YOLO/valid/labels.cache... 20 images, 0 backgrounds, 0 corrupt: 100%|██████████| 20/20 [00:00<?, ?it/s]\n"
          ]
        },
        {
          "output_type": "stream",
          "name": "stdout",
          "text": [
            "Plotting labels to runs/detect/train3/labels.jpg... \n",
            "\u001b[34m\u001b[1moptimizer:\u001b[0m 'optimizer=auto' found, ignoring 'lr0=0.01' and 'momentum=0.937' and determining best 'optimizer', 'lr0' and 'momentum' automatically... \n",
            "\u001b[34m\u001b[1moptimizer:\u001b[0m AdamW(lr=0.001429, momentum=0.9) with parameter groups 81 weight(decay=0.0), 88 weight(decay=0.0005), 87 bias(decay=0.0)\n",
            "\u001b[34m\u001b[1mTensorBoard: \u001b[0mmodel graph visualization added ✅\n",
            "Image sizes 640 train, 640 val\n",
            "Using 2 dataloader workers\n",
            "Logging results to \u001b[1mruns/detect/train3\u001b[0m\n",
            "Starting training for 100 epochs...\n",
            "\n",
            "      Epoch    GPU_mem   box_loss   cls_loss   dfl_loss  Instances       Size\n"
          ]
        },
        {
          "output_type": "stream",
          "name": "stderr",
          "text": [
            "      1/100      2.58G       1.87      3.916      1.553         31        640: 100%|██████████| 5/5 [00:02<00:00,  1.91it/s]\n",
            "                 Class     Images  Instances      Box(P          R      mAP50  mAP50-95): 100%|██████████| 1/1 [00:00<00:00,  2.61it/s]"
          ]
        },
        {
          "output_type": "stream",
          "name": "stdout",
          "text": [
            "                   all         20         65    0.00157      0.411     0.0172    0.00919\n"
          ]
        },
        {
          "output_type": "stream",
          "name": "stderr",
          "text": [
            "\n"
          ]
        },
        {
          "output_type": "stream",
          "name": "stdout",
          "text": [
            "\n",
            "      Epoch    GPU_mem   box_loss   cls_loss   dfl_loss  Instances       Size\n"
          ]
        },
        {
          "output_type": "stream",
          "name": "stderr",
          "text": [
            "      2/100       2.4G      1.688      3.858      1.397         48        640: 100%|██████████| 5/5 [00:01<00:00,  4.15it/s]\n",
            "                 Class     Images  Instances      Box(P          R      mAP50  mAP50-95): 100%|██████████| 1/1 [00:00<00:00,  3.00it/s]"
          ]
        },
        {
          "output_type": "stream",
          "name": "stdout",
          "text": [
            "                   all         20         65     0.0022      0.452     0.0397     0.0224\n"
          ]
        },
        {
          "output_type": "stream",
          "name": "stderr",
          "text": [
            "\n"
          ]
        },
        {
          "output_type": "stream",
          "name": "stdout",
          "text": [
            "\n",
            "      Epoch    GPU_mem   box_loss   cls_loss   dfl_loss  Instances       Size\n"
          ]
        },
        {
          "output_type": "stream",
          "name": "stderr",
          "text": [
            "      3/100       2.4G      1.381      3.298      1.163         31        640: 100%|██████████| 5/5 [00:01<00:00,  4.01it/s]\n",
            "                 Class     Images  Instances      Box(P          R      mAP50  mAP50-95): 100%|██████████| 1/1 [00:00<00:00,  4.00it/s]"
          ]
        },
        {
          "output_type": "stream",
          "name": "stdout",
          "text": [
            "                   all         20         65    0.00328      0.511     0.0794     0.0465\n"
          ]
        },
        {
          "output_type": "stream",
          "name": "stderr",
          "text": [
            "\n"
          ]
        },
        {
          "output_type": "stream",
          "name": "stdout",
          "text": [
            "\n",
            "      Epoch    GPU_mem   box_loss   cls_loss   dfl_loss  Instances       Size\n"
          ]
        },
        {
          "output_type": "stream",
          "name": "stderr",
          "text": [
            "      4/100      2.39G      1.386      2.665      1.143         53        640: 100%|██████████| 5/5 [00:01<00:00,  4.42it/s]\n",
            "                 Class     Images  Instances      Box(P          R      mAP50  mAP50-95): 100%|██████████| 1/1 [00:00<00:00,  3.78it/s]"
          ]
        },
        {
          "output_type": "stream",
          "name": "stdout",
          "text": [
            "                   all         20         65    0.00468      0.604     0.0974      0.068\n"
          ]
        },
        {
          "output_type": "stream",
          "name": "stderr",
          "text": [
            "\n"
          ]
        },
        {
          "output_type": "stream",
          "name": "stdout",
          "text": [
            "\n",
            "      Epoch    GPU_mem   box_loss   cls_loss   dfl_loss  Instances       Size\n"
          ]
        },
        {
          "output_type": "stream",
          "name": "stderr",
          "text": [
            "      5/100      2.42G      1.442      2.322      1.157         60        640: 100%|██████████| 5/5 [00:01<00:00,  2.58it/s]\n",
            "                 Class     Images  Instances      Box(P          R      mAP50  mAP50-95): 100%|██████████| 1/1 [00:00<00:00,  2.53it/s]"
          ]
        },
        {
          "output_type": "stream",
          "name": "stdout",
          "text": [
            "                   all         20         65    0.00693      0.756      0.258      0.176\n"
          ]
        },
        {
          "output_type": "stream",
          "name": "stderr",
          "text": [
            "\n"
          ]
        },
        {
          "output_type": "stream",
          "name": "stdout",
          "text": [
            "\n",
            "      Epoch    GPU_mem   box_loss   cls_loss   dfl_loss  Instances       Size\n"
          ]
        },
        {
          "output_type": "stream",
          "name": "stderr",
          "text": [
            "      6/100      2.42G      1.393      2.076      1.157         36        640: 100%|██████████| 5/5 [00:01<00:00,  2.67it/s]\n",
            "                 Class     Images  Instances      Box(P          R      mAP50  mAP50-95): 100%|██████████| 1/1 [00:00<00:00,  1.64it/s]"
          ]
        },
        {
          "output_type": "stream",
          "name": "stdout",
          "text": [
            "                   all         20         65      0.009      0.907      0.318        0.2\n"
          ]
        },
        {
          "output_type": "stream",
          "name": "stderr",
          "text": [
            "\n"
          ]
        },
        {
          "output_type": "stream",
          "name": "stdout",
          "text": [
            "\n",
            "      Epoch    GPU_mem   box_loss   cls_loss   dfl_loss  Instances       Size\n"
          ]
        },
        {
          "output_type": "stream",
          "name": "stderr",
          "text": [
            "      7/100      2.39G      1.363      1.761      1.169         35        640: 100%|██████████| 5/5 [00:01<00:00,  2.93it/s]\n",
            "                 Class     Images  Instances      Box(P          R      mAP50  mAP50-95): 100%|██████████| 1/1 [00:00<00:00,  3.43it/s]"
          ]
        },
        {
          "output_type": "stream",
          "name": "stdout",
          "text": [
            "                   all         20         65    0.00932      0.915      0.337      0.218\n"
          ]
        },
        {
          "output_type": "stream",
          "name": "stderr",
          "text": [
            "\n"
          ]
        },
        {
          "output_type": "stream",
          "name": "stdout",
          "text": [
            "\n",
            "      Epoch    GPU_mem   box_loss   cls_loss   dfl_loss  Instances       Size\n"
          ]
        },
        {
          "output_type": "stream",
          "name": "stderr",
          "text": [
            "      8/100      2.42G      1.321      1.648      1.176         20        640: 100%|██████████| 5/5 [00:01<00:00,  4.47it/s]\n",
            "                 Class     Images  Instances      Box(P          R      mAP50  mAP50-95): 100%|██████████| 1/1 [00:00<00:00,  3.89it/s]"
          ]
        },
        {
          "output_type": "stream",
          "name": "stdout",
          "text": [
            "                   all         20         65      0.764      0.211      0.404      0.245\n"
          ]
        },
        {
          "output_type": "stream",
          "name": "stderr",
          "text": [
            "\n"
          ]
        },
        {
          "output_type": "stream",
          "name": "stdout",
          "text": [
            "\n",
            "      Epoch    GPU_mem   box_loss   cls_loss   dfl_loss  Instances       Size\n"
          ]
        },
        {
          "output_type": "stream",
          "name": "stderr",
          "text": [
            "      9/100      2.39G        1.3      1.496      1.141         41        640: 100%|██████████| 5/5 [00:01<00:00,  4.26it/s]\n",
            "                 Class     Images  Instances      Box(P          R      mAP50  mAP50-95): 100%|██████████| 1/1 [00:00<00:00,  4.04it/s]"
          ]
        },
        {
          "output_type": "stream",
          "name": "stdout",
          "text": [
            "                   all         20         65      0.926      0.164       0.47      0.263\n"
          ]
        },
        {
          "output_type": "stream",
          "name": "stderr",
          "text": [
            "\n"
          ]
        },
        {
          "output_type": "stream",
          "name": "stdout",
          "text": [
            "\n",
            "      Epoch    GPU_mem   box_loss   cls_loss   dfl_loss  Instances       Size\n"
          ]
        },
        {
          "output_type": "stream",
          "name": "stderr",
          "text": [
            "     10/100       2.4G      1.293      1.477      1.168         63        640: 100%|██████████| 5/5 [00:01<00:00,  4.52it/s]\n",
            "                 Class     Images  Instances      Box(P          R      mAP50  mAP50-95): 100%|██████████| 1/1 [00:00<00:00,  3.42it/s]"
          ]
        },
        {
          "output_type": "stream",
          "name": "stdout",
          "text": [
            "                   all         20         65      0.923     0.0493      0.435      0.255\n"
          ]
        },
        {
          "output_type": "stream",
          "name": "stderr",
          "text": [
            "\n"
          ]
        },
        {
          "output_type": "stream",
          "name": "stdout",
          "text": [
            "\n",
            "      Epoch    GPU_mem   box_loss   cls_loss   dfl_loss  Instances       Size\n"
          ]
        },
        {
          "output_type": "stream",
          "name": "stderr",
          "text": [
            "     11/100      2.42G      1.178      1.357       1.12         23        640: 100%|██████████| 5/5 [00:01<00:00,  4.35it/s]\n",
            "                 Class     Images  Instances      Box(P          R      mAP50  mAP50-95): 100%|██████████| 1/1 [00:00<00:00,  4.05it/s]"
          ]
        },
        {
          "output_type": "stream",
          "name": "stdout",
          "text": [
            "                   all         20         65      0.927       0.15       0.44      0.246\n"
          ]
        },
        {
          "output_type": "stream",
          "name": "stderr",
          "text": [
            "\n"
          ]
        },
        {
          "output_type": "stream",
          "name": "stdout",
          "text": [
            "\n",
            "      Epoch    GPU_mem   box_loss   cls_loss   dfl_loss  Instances       Size\n"
          ]
        },
        {
          "output_type": "stream",
          "name": "stderr",
          "text": [
            "     12/100      2.39G      1.234      1.337      1.116         27        640: 100%|██████████| 5/5 [00:01<00:00,  2.75it/s]\n",
            "                 Class     Images  Instances      Box(P          R      mAP50  mAP50-95): 100%|██████████| 1/1 [00:00<00:00,  2.69it/s]"
          ]
        },
        {
          "output_type": "stream",
          "name": "stdout",
          "text": [
            "                   all         20         65      0.974      0.133      0.467      0.287\n"
          ]
        },
        {
          "output_type": "stream",
          "name": "stderr",
          "text": [
            "\n"
          ]
        },
        {
          "output_type": "stream",
          "name": "stdout",
          "text": [
            "\n",
            "      Epoch    GPU_mem   box_loss   cls_loss   dfl_loss  Instances       Size\n"
          ]
        },
        {
          "output_type": "stream",
          "name": "stderr",
          "text": [
            "     13/100      2.42G        1.3      1.333      1.164         28        640: 100%|██████████| 5/5 [00:01<00:00,  2.75it/s]\n",
            "                 Class     Images  Instances      Box(P          R      mAP50  mAP50-95): 100%|██████████| 1/1 [00:00<00:00,  1.78it/s]"
          ]
        },
        {
          "output_type": "stream",
          "name": "stdout",
          "text": [
            "                   all         20         65       0.15      0.563      0.423      0.243\n"
          ]
        },
        {
          "output_type": "stream",
          "name": "stderr",
          "text": [
            "\n"
          ]
        },
        {
          "output_type": "stream",
          "name": "stdout",
          "text": [
            "\n",
            "      Epoch    GPU_mem   box_loss   cls_loss   dfl_loss  Instances       Size\n"
          ]
        },
        {
          "output_type": "stream",
          "name": "stderr",
          "text": [
            "     14/100      2.38G      1.238      1.253      1.161         37        640: 100%|██████████| 5/5 [00:01<00:00,  2.57it/s]\n",
            "                 Class     Images  Instances      Box(P          R      mAP50  mAP50-95): 100%|██████████| 1/1 [00:00<00:00,  1.66it/s]"
          ]
        },
        {
          "output_type": "stream",
          "name": "stdout",
          "text": [
            "                   all         20         65      0.911      0.107       0.46      0.303\n"
          ]
        },
        {
          "output_type": "stream",
          "name": "stderr",
          "text": [
            "\n"
          ]
        },
        {
          "output_type": "stream",
          "name": "stdout",
          "text": [
            "\n",
            "      Epoch    GPU_mem   box_loss   cls_loss   dfl_loss  Instances       Size\n"
          ]
        },
        {
          "output_type": "stream",
          "name": "stderr",
          "text": [
            "     15/100      2.42G      1.261      1.301      1.146         53        640: 100%|██████████| 5/5 [00:01<00:00,  4.30it/s]\n",
            "                 Class     Images  Instances      Box(P          R      mAP50  mAP50-95): 100%|██████████| 1/1 [00:00<00:00,  5.53it/s]"
          ]
        },
        {
          "output_type": "stream",
          "name": "stdout",
          "text": [
            "                   all         20         65      0.863     0.0821      0.497      0.312\n"
          ]
        },
        {
          "output_type": "stream",
          "name": "stderr",
          "text": [
            "\n"
          ]
        },
        {
          "output_type": "stream",
          "name": "stdout",
          "text": [
            "\n",
            "      Epoch    GPU_mem   box_loss   cls_loss   dfl_loss  Instances       Size\n"
          ]
        },
        {
          "output_type": "stream",
          "name": "stderr",
          "text": [
            "     16/100      2.35G      1.303      1.256      1.181         35        640: 100%|██████████| 5/5 [00:01<00:00,  4.59it/s]\n",
            "                 Class     Images  Instances      Box(P          R      mAP50  mAP50-95): 100%|██████████| 1/1 [00:00<00:00,  3.75it/s]"
          ]
        },
        {
          "output_type": "stream",
          "name": "stdout",
          "text": [
            "                   all         20         65          1     0.0418        0.5      0.307\n"
          ]
        },
        {
          "output_type": "stream",
          "name": "stderr",
          "text": [
            "\n"
          ]
        },
        {
          "output_type": "stream",
          "name": "stdout",
          "text": [
            "\n",
            "      Epoch    GPU_mem   box_loss   cls_loss   dfl_loss  Instances       Size\n"
          ]
        },
        {
          "output_type": "stream",
          "name": "stderr",
          "text": [
            "     17/100      2.39G      1.233      1.243      1.113         58        640: 100%|██████████| 5/5 [00:01<00:00,  4.35it/s]\n",
            "                 Class     Images  Instances      Box(P          R      mAP50  mAP50-95): 100%|██████████| 1/1 [00:00<00:00,  4.28it/s]"
          ]
        },
        {
          "output_type": "stream",
          "name": "stdout",
          "text": [
            "                   all         20         65      0.966     0.0656      0.357      0.235\n"
          ]
        },
        {
          "output_type": "stream",
          "name": "stderr",
          "text": [
            "\n"
          ]
        },
        {
          "output_type": "stream",
          "name": "stdout",
          "text": [
            "\n",
            "      Epoch    GPU_mem   box_loss   cls_loss   dfl_loss  Instances       Size\n"
          ]
        },
        {
          "output_type": "stream",
          "name": "stderr",
          "text": [
            "     18/100      2.42G      1.205      1.257      1.142         41        640: 100%|██████████| 5/5 [00:01<00:00,  4.51it/s]\n",
            "                 Class     Images  Instances      Box(P          R      mAP50  mAP50-95): 100%|██████████| 1/1 [00:00<00:00,  3.87it/s]"
          ]
        },
        {
          "output_type": "stream",
          "name": "stdout",
          "text": [
            "                   all         20         65      0.935     0.0922      0.335      0.206\n"
          ]
        },
        {
          "output_type": "stream",
          "name": "stderr",
          "text": [
            "\n"
          ]
        },
        {
          "output_type": "stream",
          "name": "stdout",
          "text": [
            "\n",
            "      Epoch    GPU_mem   box_loss   cls_loss   dfl_loss  Instances       Size\n"
          ]
        },
        {
          "output_type": "stream",
          "name": "stderr",
          "text": [
            "     19/100      2.43G        1.2      1.154      1.139         34        640: 100%|██████████| 5/5 [00:01<00:00,  4.47it/s]\n",
            "                 Class     Images  Instances      Box(P          R      mAP50  mAP50-95): 100%|██████████| 1/1 [00:00<00:00,  2.83it/s]"
          ]
        },
        {
          "output_type": "stream",
          "name": "stdout",
          "text": [
            "                   all         20         65      0.932      0.116      0.354      0.219\n"
          ]
        },
        {
          "output_type": "stream",
          "name": "stderr",
          "text": [
            "\n"
          ]
        },
        {
          "output_type": "stream",
          "name": "stdout",
          "text": [
            "\n",
            "      Epoch    GPU_mem   box_loss   cls_loss   dfl_loss  Instances       Size\n"
          ]
        },
        {
          "output_type": "stream",
          "name": "stderr",
          "text": [
            "     20/100       2.4G      1.243      1.223      1.146         21        640: 100%|██████████| 5/5 [00:01<00:00,  2.83it/s]\n",
            "                 Class     Images  Instances      Box(P          R      mAP50  mAP50-95): 100%|██████████| 1/1 [00:00<00:00,  2.61it/s]"
          ]
        },
        {
          "output_type": "stream",
          "name": "stdout",
          "text": [
            "                   all         20         65       0.54      0.227      0.499      0.327\n"
          ]
        },
        {
          "output_type": "stream",
          "name": "stderr",
          "text": [
            "\n"
          ]
        },
        {
          "output_type": "stream",
          "name": "stdout",
          "text": [
            "\n",
            "      Epoch    GPU_mem   box_loss   cls_loss   dfl_loss  Instances       Size\n"
          ]
        },
        {
          "output_type": "stream",
          "name": "stderr",
          "text": [
            "     21/100      2.36G      1.224      1.195       1.12         62        640: 100%|██████████| 5/5 [00:01<00:00,  2.59it/s]\n",
            "                 Class     Images  Instances      Box(P          R      mAP50  mAP50-95): 100%|██████████| 1/1 [00:00<00:00,  1.86it/s]"
          ]
        },
        {
          "output_type": "stream",
          "name": "stdout",
          "text": [
            "                   all         20         65      0.572      0.324      0.531       0.34\n"
          ]
        },
        {
          "output_type": "stream",
          "name": "stderr",
          "text": [
            "\n"
          ]
        },
        {
          "output_type": "stream",
          "name": "stdout",
          "text": [
            "\n",
            "      Epoch    GPU_mem   box_loss   cls_loss   dfl_loss  Instances       Size\n"
          ]
        },
        {
          "output_type": "stream",
          "name": "stderr",
          "text": [
            "     22/100      2.37G      1.209      1.124      1.101         62        640: 100%|██████████| 5/5 [00:01<00:00,  4.99it/s]\n",
            "                 Class     Images  Instances      Box(P          R      mAP50  mAP50-95): 100%|██████████| 1/1 [00:00<00:00,  3.20it/s]"
          ]
        },
        {
          "output_type": "stream",
          "name": "stdout",
          "text": [
            "                   all         20         65       0.65      0.541      0.599      0.378\n"
          ]
        },
        {
          "output_type": "stream",
          "name": "stderr",
          "text": [
            "\n"
          ]
        },
        {
          "output_type": "stream",
          "name": "stdout",
          "text": [
            "\n",
            "      Epoch    GPU_mem   box_loss   cls_loss   dfl_loss  Instances       Size\n"
          ]
        },
        {
          "output_type": "stream",
          "name": "stderr",
          "text": [
            "     23/100      2.43G      1.221      1.259      1.147         22        640: 100%|██████████| 5/5 [00:01<00:00,  4.46it/s]\n",
            "                 Class     Images  Instances      Box(P          R      mAP50  mAP50-95): 100%|██████████| 1/1 [00:00<00:00,  4.68it/s]"
          ]
        },
        {
          "output_type": "stream",
          "name": "stdout",
          "text": [
            "                   all         20         65      0.653      0.606      0.642       0.38\n"
          ]
        },
        {
          "output_type": "stream",
          "name": "stderr",
          "text": [
            "\n"
          ]
        },
        {
          "output_type": "stream",
          "name": "stdout",
          "text": [
            "\n",
            "      Epoch    GPU_mem   box_loss   cls_loss   dfl_loss  Instances       Size\n"
          ]
        },
        {
          "output_type": "stream",
          "name": "stderr",
          "text": [
            "     24/100      2.42G      1.122      1.086      1.096         62        640: 100%|██████████| 5/5 [00:01<00:00,  4.30it/s]\n",
            "                 Class     Images  Instances      Box(P          R      mAP50  mAP50-95): 100%|██████████| 1/1 [00:00<00:00,  4.16it/s]"
          ]
        },
        {
          "output_type": "stream",
          "name": "stdout",
          "text": [
            "                   all         20         65      0.681       0.67      0.764      0.443\n"
          ]
        },
        {
          "output_type": "stream",
          "name": "stderr",
          "text": [
            "\n"
          ]
        },
        {
          "output_type": "stream",
          "name": "stdout",
          "text": [
            "\n",
            "      Epoch    GPU_mem   box_loss   cls_loss   dfl_loss  Instances       Size\n"
          ]
        },
        {
          "output_type": "stream",
          "name": "stderr",
          "text": [
            "     25/100      2.39G      1.117      1.109      1.069         43        640: 100%|██████████| 5/5 [00:01<00:00,  4.46it/s]\n",
            "                 Class     Images  Instances      Box(P          R      mAP50  mAP50-95): 100%|██████████| 1/1 [00:00<00:00,  5.15it/s]"
          ]
        },
        {
          "output_type": "stream",
          "name": "stdout",
          "text": [
            "                   all         20         65      0.894      0.569      0.684      0.409\n"
          ]
        },
        {
          "output_type": "stream",
          "name": "stderr",
          "text": [
            "\n"
          ]
        },
        {
          "output_type": "stream",
          "name": "stdout",
          "text": [
            "\n",
            "      Epoch    GPU_mem   box_loss   cls_loss   dfl_loss  Instances       Size\n"
          ]
        },
        {
          "output_type": "stream",
          "name": "stderr",
          "text": [
            "     26/100      2.36G      1.158      1.104      1.074         52        640: 100%|██████████| 5/5 [00:01<00:00,  4.85it/s]\n",
            "                 Class     Images  Instances      Box(P          R      mAP50  mAP50-95): 100%|██████████| 1/1 [00:00<00:00,  3.71it/s]"
          ]
        },
        {
          "output_type": "stream",
          "name": "stdout",
          "text": [
            "                   all         20         65      0.772       0.73       0.77      0.434\n"
          ]
        },
        {
          "output_type": "stream",
          "name": "stderr",
          "text": [
            "\n"
          ]
        },
        {
          "output_type": "stream",
          "name": "stdout",
          "text": [
            "\n",
            "      Epoch    GPU_mem   box_loss   cls_loss   dfl_loss  Instances       Size\n"
          ]
        },
        {
          "output_type": "stream",
          "name": "stderr",
          "text": [
            "     27/100      2.42G      1.272      1.271      1.189         20        640: 100%|██████████| 5/5 [00:01<00:00,  3.50it/s]\n",
            "                 Class     Images  Instances      Box(P          R      mAP50  mAP50-95): 100%|██████████| 1/1 [00:00<00:00,  2.18it/s]"
          ]
        },
        {
          "output_type": "stream",
          "name": "stdout",
          "text": [
            "                   all         20         65      0.769      0.722      0.789       0.45\n"
          ]
        },
        {
          "output_type": "stream",
          "name": "stderr",
          "text": [
            "\n"
          ]
        },
        {
          "output_type": "stream",
          "name": "stdout",
          "text": [
            "\n",
            "      Epoch    GPU_mem   box_loss   cls_loss   dfl_loss  Instances       Size\n"
          ]
        },
        {
          "output_type": "stream",
          "name": "stderr",
          "text": [
            "     28/100      2.41G      1.256      1.058      1.097         26        640: 100%|██████████| 5/5 [00:01<00:00,  2.65it/s]\n",
            "                 Class     Images  Instances      Box(P          R      mAP50  mAP50-95): 100%|██████████| 1/1 [00:00<00:00,  1.89it/s]"
          ]
        },
        {
          "output_type": "stream",
          "name": "stdout",
          "text": [
            "                   all         20         65      0.849       0.69      0.798      0.471\n"
          ]
        },
        {
          "output_type": "stream",
          "name": "stderr",
          "text": [
            "\n"
          ]
        },
        {
          "output_type": "stream",
          "name": "stdout",
          "text": [
            "\n",
            "      Epoch    GPU_mem   box_loss   cls_loss   dfl_loss  Instances       Size\n"
          ]
        },
        {
          "output_type": "stream",
          "name": "stderr",
          "text": [
            "     29/100       2.4G      1.165      1.118      1.086         36        640: 100%|██████████| 5/5 [00:01<00:00,  3.15it/s]\n",
            "                 Class     Images  Instances      Box(P          R      mAP50  mAP50-95): 100%|██████████| 1/1 [00:00<00:00,  3.11it/s]"
          ]
        },
        {
          "output_type": "stream",
          "name": "stdout",
          "text": [
            "                   all         20         65      0.858      0.694      0.812      0.487\n"
          ]
        },
        {
          "output_type": "stream",
          "name": "stderr",
          "text": [
            "\n"
          ]
        },
        {
          "output_type": "stream",
          "name": "stdout",
          "text": [
            "\n",
            "      Epoch    GPU_mem   box_loss   cls_loss   dfl_loss  Instances       Size\n"
          ]
        },
        {
          "output_type": "stream",
          "name": "stderr",
          "text": [
            "     30/100      2.39G      1.143      1.021      1.083         52        640: 100%|██████████| 5/5 [00:01<00:00,  4.59it/s]\n",
            "                 Class     Images  Instances      Box(P          R      mAP50  mAP50-95): 100%|██████████| 1/1 [00:00<00:00,  3.87it/s]"
          ]
        },
        {
          "output_type": "stream",
          "name": "stdout",
          "text": [
            "                   all         20         65      0.658      0.774       0.78      0.509\n"
          ]
        },
        {
          "output_type": "stream",
          "name": "stderr",
          "text": [
            "\n"
          ]
        },
        {
          "output_type": "stream",
          "name": "stdout",
          "text": [
            "\n",
            "      Epoch    GPU_mem   box_loss   cls_loss   dfl_loss  Instances       Size\n"
          ]
        },
        {
          "output_type": "stream",
          "name": "stderr",
          "text": [
            "     31/100      2.42G       1.09      1.024      1.048         20        640: 100%|██████████| 5/5 [00:01<00:00,  4.73it/s]\n",
            "                 Class     Images  Instances      Box(P          R      mAP50  mAP50-95): 100%|██████████| 1/1 [00:00<00:00,  3.44it/s]"
          ]
        },
        {
          "output_type": "stream",
          "name": "stdout",
          "text": [
            "                   all         20         65      0.544      0.789      0.658      0.431\n"
          ]
        },
        {
          "output_type": "stream",
          "name": "stderr",
          "text": [
            "\n"
          ]
        },
        {
          "output_type": "stream",
          "name": "stdout",
          "text": [
            "\n",
            "      Epoch    GPU_mem   box_loss   cls_loss   dfl_loss  Instances       Size\n"
          ]
        },
        {
          "output_type": "stream",
          "name": "stderr",
          "text": [
            "     32/100      2.42G      1.147     0.9976      1.081         43        640: 100%|██████████| 5/5 [00:01<00:00,  4.62it/s]\n",
            "                 Class     Images  Instances      Box(P          R      mAP50  mAP50-95): 100%|██████████| 1/1 [00:00<00:00,  4.40it/s]"
          ]
        },
        {
          "output_type": "stream",
          "name": "stdout",
          "text": [
            "                   all         20         65      0.475      0.585      0.611      0.376\n"
          ]
        },
        {
          "output_type": "stream",
          "name": "stderr",
          "text": [
            "\n"
          ]
        },
        {
          "output_type": "stream",
          "name": "stdout",
          "text": [
            "\n",
            "      Epoch    GPU_mem   box_loss   cls_loss   dfl_loss  Instances       Size\n"
          ]
        },
        {
          "output_type": "stream",
          "name": "stderr",
          "text": [
            "     33/100      2.42G       1.09     0.9767      1.034         59        640: 100%|██████████| 5/5 [00:01<00:00,  4.68it/s]\n",
            "                 Class     Images  Instances      Box(P          R      mAP50  mAP50-95): 100%|██████████| 1/1 [00:00<00:00,  4.22it/s]"
          ]
        },
        {
          "output_type": "stream",
          "name": "stdout",
          "text": [
            "                   all         20         65       0.54      0.549      0.617      0.385\n"
          ]
        },
        {
          "output_type": "stream",
          "name": "stderr",
          "text": [
            "\n"
          ]
        },
        {
          "output_type": "stream",
          "name": "stdout",
          "text": [
            "\n",
            "      Epoch    GPU_mem   box_loss   cls_loss   dfl_loss  Instances       Size\n"
          ]
        },
        {
          "output_type": "stream",
          "name": "stderr",
          "text": [
            "     34/100      2.42G       1.23      1.119      1.141         20        640: 100%|██████████| 5/5 [00:01<00:00,  3.89it/s]\n",
            "                 Class     Images  Instances      Box(P          R      mAP50  mAP50-95): 100%|██████████| 1/1 [00:00<00:00,  3.17it/s]"
          ]
        },
        {
          "output_type": "stream",
          "name": "stdout",
          "text": [
            "                   all         20         65      0.903      0.478      0.601      0.373\n"
          ]
        },
        {
          "output_type": "stream",
          "name": "stderr",
          "text": [
            "\n"
          ]
        },
        {
          "output_type": "stream",
          "name": "stdout",
          "text": [
            "\n",
            "      Epoch    GPU_mem   box_loss   cls_loss   dfl_loss  Instances       Size\n"
          ]
        },
        {
          "output_type": "stream",
          "name": "stderr",
          "text": [
            "     35/100       2.4G        1.1      1.029      1.131         30        640: 100%|██████████| 5/5 [00:01<00:00,  2.99it/s]\n",
            "                 Class     Images  Instances      Box(P          R      mAP50  mAP50-95): 100%|██████████| 1/1 [00:00<00:00,  1.96it/s]"
          ]
        },
        {
          "output_type": "stream",
          "name": "stdout",
          "text": [
            "                   all         20         65      0.884      0.456      0.575      0.345\n"
          ]
        },
        {
          "output_type": "stream",
          "name": "stderr",
          "text": [
            "\n"
          ]
        },
        {
          "output_type": "stream",
          "name": "stdout",
          "text": [
            "\n",
            "      Epoch    GPU_mem   box_loss   cls_loss   dfl_loss  Instances       Size\n"
          ]
        },
        {
          "output_type": "stream",
          "name": "stderr",
          "text": [
            "     36/100      2.34G      1.117     0.9998      1.103         39        640: 100%|██████████| 5/5 [00:01<00:00,  2.55it/s]\n",
            "                 Class     Images  Instances      Box(P          R      mAP50  mAP50-95): 100%|██████████| 1/1 [00:00<00:00,  2.04it/s]"
          ]
        },
        {
          "output_type": "stream",
          "name": "stdout",
          "text": [
            "                   all         20         65      0.484      0.437      0.561      0.318\n"
          ]
        },
        {
          "output_type": "stream",
          "name": "stderr",
          "text": [
            "\n"
          ]
        },
        {
          "output_type": "stream",
          "name": "stdout",
          "text": [
            "\n",
            "      Epoch    GPU_mem   box_loss   cls_loss   dfl_loss  Instances       Size\n"
          ]
        },
        {
          "output_type": "stream",
          "name": "stderr",
          "text": [
            "     37/100      2.42G      1.184      1.031      1.065         33        640: 100%|██████████| 5/5 [00:01<00:00,  4.26it/s]\n",
            "                 Class     Images  Instances      Box(P          R      mAP50  mAP50-95): 100%|██████████| 1/1 [00:00<00:00,  4.22it/s]"
          ]
        },
        {
          "output_type": "stream",
          "name": "stdout",
          "text": [
            "                   all         20         65      0.558      0.509      0.567      0.378\n"
          ]
        },
        {
          "output_type": "stream",
          "name": "stderr",
          "text": [
            "\n"
          ]
        },
        {
          "output_type": "stream",
          "name": "stdout",
          "text": [
            "\n",
            "      Epoch    GPU_mem   box_loss   cls_loss   dfl_loss  Instances       Size\n"
          ]
        },
        {
          "output_type": "stream",
          "name": "stderr",
          "text": [
            "     38/100      2.35G      1.103     0.9547      1.063         59        640: 100%|██████████| 5/5 [00:01<00:00,  4.69it/s]\n",
            "                 Class     Images  Instances      Box(P          R      mAP50  mAP50-95): 100%|██████████| 1/1 [00:00<00:00,  6.02it/s]"
          ]
        },
        {
          "output_type": "stream",
          "name": "stdout",
          "text": [
            "                   all         20         65      0.568      0.525       0.58      0.399\n"
          ]
        },
        {
          "output_type": "stream",
          "name": "stderr",
          "text": [
            "\n"
          ]
        },
        {
          "output_type": "stream",
          "name": "stdout",
          "text": [
            "\n",
            "      Epoch    GPU_mem   box_loss   cls_loss   dfl_loss  Instances       Size\n"
          ]
        },
        {
          "output_type": "stream",
          "name": "stderr",
          "text": [
            "     39/100      2.39G      1.043     0.9097       1.03         39        640: 100%|██████████| 5/5 [00:01<00:00,  4.57it/s]\n",
            "                 Class     Images  Instances      Box(P          R      mAP50  mAP50-95): 100%|██████████| 1/1 [00:00<00:00,  4.58it/s]"
          ]
        },
        {
          "output_type": "stream",
          "name": "stdout",
          "text": [
            "                   all         20         65      0.574      0.524      0.577      0.372\n"
          ]
        },
        {
          "output_type": "stream",
          "name": "stderr",
          "text": [
            "\n"
          ]
        },
        {
          "output_type": "stream",
          "name": "stdout",
          "text": [
            "\n",
            "      Epoch    GPU_mem   box_loss   cls_loss   dfl_loss  Instances       Size\n"
          ]
        },
        {
          "output_type": "stream",
          "name": "stderr",
          "text": [
            "     40/100      2.38G      1.078     0.8808      1.059         36        640: 100%|██████████| 5/5 [00:01<00:00,  4.34it/s]\n",
            "                 Class     Images  Instances      Box(P          R      mAP50  mAP50-95): 100%|██████████| 1/1 [00:00<00:00,  5.09it/s]"
          ]
        },
        {
          "output_type": "stream",
          "name": "stdout",
          "text": [
            "                   all         20         65      0.519      0.507      0.556       0.33\n"
          ]
        },
        {
          "output_type": "stream",
          "name": "stderr",
          "text": [
            "\n"
          ]
        },
        {
          "output_type": "stream",
          "name": "stdout",
          "text": [
            "\n",
            "      Epoch    GPU_mem   box_loss   cls_loss   dfl_loss  Instances       Size\n"
          ]
        },
        {
          "output_type": "stream",
          "name": "stderr",
          "text": [
            "     41/100      2.45G      1.059     0.8574      1.015         66        640: 100%|██████████| 5/5 [00:01<00:00,  4.62it/s]\n",
            "                 Class     Images  Instances      Box(P          R      mAP50  mAP50-95): 100%|██████████| 1/1 [00:00<00:00,  4.00it/s]"
          ]
        },
        {
          "output_type": "stream",
          "name": "stdout",
          "text": [
            "                   all         20         65      0.502      0.507      0.557      0.346\n"
          ]
        },
        {
          "output_type": "stream",
          "name": "stderr",
          "text": [
            "\n"
          ]
        },
        {
          "output_type": "stream",
          "name": "stdout",
          "text": [
            "\n",
            "      Epoch    GPU_mem   box_loss   cls_loss   dfl_loss  Instances       Size\n"
          ]
        },
        {
          "output_type": "stream",
          "name": "stderr",
          "text": [
            "     42/100      2.38G       1.07      0.899      1.047         45        640: 100%|██████████| 5/5 [00:01<00:00,  3.12it/s]\n",
            "                 Class     Images  Instances      Box(P          R      mAP50  mAP50-95): 100%|██████████| 1/1 [00:00<00:00,  2.54it/s]"
          ]
        },
        {
          "output_type": "stream",
          "name": "stdout",
          "text": [
            "                   all         20         65      0.551      0.495      0.561      0.367\n"
          ]
        },
        {
          "output_type": "stream",
          "name": "stderr",
          "text": [
            "\n"
          ]
        },
        {
          "output_type": "stream",
          "name": "stdout",
          "text": [
            "\n",
            "      Epoch    GPU_mem   box_loss   cls_loss   dfl_loss  Instances       Size\n"
          ]
        },
        {
          "output_type": "stream",
          "name": "stderr",
          "text": [
            "     43/100      2.42G      1.043     0.9194      1.065         25        640: 100%|██████████| 5/5 [00:01<00:00,  2.84it/s]\n",
            "                 Class     Images  Instances      Box(P          R      mAP50  mAP50-95): 100%|██████████| 1/1 [00:00<00:00,  2.31it/s]"
          ]
        },
        {
          "output_type": "stream",
          "name": "stdout",
          "text": [
            "                   all         20         65      0.561      0.506      0.572      0.386\n"
          ]
        },
        {
          "output_type": "stream",
          "name": "stderr",
          "text": [
            "\n"
          ]
        },
        {
          "output_type": "stream",
          "name": "stdout",
          "text": [
            "\n",
            "      Epoch    GPU_mem   box_loss   cls_loss   dfl_loss  Instances       Size\n"
          ]
        },
        {
          "output_type": "stream",
          "name": "stderr",
          "text": [
            "     44/100       2.4G      1.016     0.8836      1.019         50        640: 100%|██████████| 5/5 [00:01<00:00,  2.82it/s]\n",
            "                 Class     Images  Instances      Box(P          R      mAP50  mAP50-95): 100%|██████████| 1/1 [00:00<00:00,  5.04it/s]"
          ]
        },
        {
          "output_type": "stream",
          "name": "stdout",
          "text": [
            "                   all         20         65      0.526      0.584      0.609      0.396\n"
          ]
        },
        {
          "output_type": "stream",
          "name": "stderr",
          "text": [
            "\n"
          ]
        },
        {
          "output_type": "stream",
          "name": "stdout",
          "text": [
            "\n",
            "      Epoch    GPU_mem   box_loss   cls_loss   dfl_loss  Instances       Size\n"
          ]
        },
        {
          "output_type": "stream",
          "name": "stderr",
          "text": [
            "     45/100      2.39G      1.054     0.8658      1.054         29        640: 100%|██████████| 5/5 [00:01<00:00,  4.74it/s]\n",
            "                 Class     Images  Instances      Box(P          R      mAP50  mAP50-95): 100%|██████████| 1/1 [00:00<00:00,  3.94it/s]"
          ]
        },
        {
          "output_type": "stream",
          "name": "stdout",
          "text": [
            "                   all         20         65      0.541      0.761      0.617      0.403\n"
          ]
        },
        {
          "output_type": "stream",
          "name": "stderr",
          "text": [
            "\n"
          ]
        },
        {
          "output_type": "stream",
          "name": "stdout",
          "text": [
            "\n",
            "      Epoch    GPU_mem   box_loss   cls_loss   dfl_loss  Instances       Size\n"
          ]
        },
        {
          "output_type": "stream",
          "name": "stderr",
          "text": [
            "     46/100      2.41G      1.011      1.003      1.051         12        640: 100%|██████████| 5/5 [00:01<00:00,  4.67it/s]\n",
            "                 Class     Images  Instances      Box(P          R      mAP50  mAP50-95): 100%|██████████| 1/1 [00:00<00:00,  4.24it/s]"
          ]
        },
        {
          "output_type": "stream",
          "name": "stdout",
          "text": [
            "                   all         20         65      0.568       0.77      0.621      0.424\n"
          ]
        },
        {
          "output_type": "stream",
          "name": "stderr",
          "text": [
            "\n"
          ]
        },
        {
          "output_type": "stream",
          "name": "stdout",
          "text": [
            "\n",
            "      Epoch    GPU_mem   box_loss   cls_loss   dfl_loss  Instances       Size\n"
          ]
        },
        {
          "output_type": "stream",
          "name": "stderr",
          "text": [
            "     47/100      2.39G      1.001     0.8957      1.061         28        640: 100%|██████████| 5/5 [00:01<00:00,  4.60it/s]\n",
            "                 Class     Images  Instances      Box(P          R      mAP50  mAP50-95): 100%|██████████| 1/1 [00:00<00:00,  5.15it/s]"
          ]
        },
        {
          "output_type": "stream",
          "name": "stdout",
          "text": [
            "                   all         20         65      0.616      0.585      0.622      0.428\n"
          ]
        },
        {
          "output_type": "stream",
          "name": "stderr",
          "text": [
            "\n"
          ]
        },
        {
          "output_type": "stream",
          "name": "stdout",
          "text": [
            "\n",
            "      Epoch    GPU_mem   box_loss   cls_loss   dfl_loss  Instances       Size\n"
          ]
        },
        {
          "output_type": "stream",
          "name": "stderr",
          "text": [
            "     48/100      2.43G     0.9375     0.8284     0.9935         37        640: 100%|██████████| 5/5 [00:01<00:00,  4.43it/s]\n",
            "                 Class     Images  Instances      Box(P          R      mAP50  mAP50-95): 100%|██████████| 1/1 [00:00<00:00,  4.72it/s]"
          ]
        },
        {
          "output_type": "stream",
          "name": "stdout",
          "text": [
            "                   all         20         65      0.606      0.586      0.628      0.455\n"
          ]
        },
        {
          "output_type": "stream",
          "name": "stderr",
          "text": [
            "\n"
          ]
        },
        {
          "output_type": "stream",
          "name": "stdout",
          "text": [
            "\n",
            "      Epoch    GPU_mem   box_loss   cls_loss   dfl_loss  Instances       Size\n"
          ]
        },
        {
          "output_type": "stream",
          "name": "stderr",
          "text": [
            "     49/100       2.4G      0.949     0.8441     0.9807         64        640: 100%|██████████| 5/5 [00:01<00:00,  4.50it/s]\n",
            "                 Class     Images  Instances      Box(P          R      mAP50  mAP50-95): 100%|██████████| 1/1 [00:00<00:00,  2.31it/s]"
          ]
        },
        {
          "output_type": "stream",
          "name": "stdout",
          "text": [
            "                   all         20         65      0.593      0.607      0.643      0.465\n"
          ]
        },
        {
          "output_type": "stream",
          "name": "stderr",
          "text": [
            "\n"
          ]
        },
        {
          "output_type": "stream",
          "name": "stdout",
          "text": [
            "\n",
            "      Epoch    GPU_mem   box_loss   cls_loss   dfl_loss  Instances       Size\n"
          ]
        },
        {
          "output_type": "stream",
          "name": "stderr",
          "text": [
            "     50/100      2.39G     0.9719     0.8312      1.004         46        640: 100%|██████████| 5/5 [00:01<00:00,  2.92it/s]\n",
            "                 Class     Images  Instances      Box(P          R      mAP50  mAP50-95): 100%|██████████| 1/1 [00:00<00:00,  2.28it/s]"
          ]
        },
        {
          "output_type": "stream",
          "name": "stdout",
          "text": [
            "                   all         20         65       0.58      0.782      0.662       0.46\n"
          ]
        },
        {
          "output_type": "stream",
          "name": "stderr",
          "text": [
            "\n"
          ]
        },
        {
          "output_type": "stream",
          "name": "stdout",
          "text": [
            "\n",
            "      Epoch    GPU_mem   box_loss   cls_loss   dfl_loss  Instances       Size\n"
          ]
        },
        {
          "output_type": "stream",
          "name": "stderr",
          "text": [
            "     51/100      2.38G     0.9669     0.8431     0.9917         70        640: 100%|██████████| 5/5 [00:01<00:00,  2.92it/s]\n",
            "                 Class     Images  Instances      Box(P          R      mAP50  mAP50-95): 100%|██████████| 1/1 [00:00<00:00,  2.05it/s]"
          ]
        },
        {
          "output_type": "stream",
          "name": "stdout",
          "text": [
            "                   all         20         65      0.579        0.8      0.668      0.461\n"
          ]
        },
        {
          "output_type": "stream",
          "name": "stderr",
          "text": [
            "\n"
          ]
        },
        {
          "output_type": "stream",
          "name": "stdout",
          "text": [
            "\n",
            "      Epoch    GPU_mem   box_loss   cls_loss   dfl_loss  Instances       Size\n"
          ]
        },
        {
          "output_type": "stream",
          "name": "stderr",
          "text": [
            "     52/100       2.4G     0.9239     0.7964     0.9881         40        640: 100%|██████████| 5/5 [00:01<00:00,  3.79it/s]\n",
            "                 Class     Images  Instances      Box(P          R      mAP50  mAP50-95): 100%|██████████| 1/1 [00:00<00:00,  5.41it/s]\n"
          ]
        },
        {
          "output_type": "stream",
          "name": "stdout",
          "text": [
            "                   all         20         65       0.92      0.619       0.67      0.457\n",
            "\n",
            "      Epoch    GPU_mem   box_loss   cls_loss   dfl_loss  Instances       Size\n"
          ]
        },
        {
          "output_type": "stream",
          "name": "stderr",
          "text": [
            "     53/100      2.42G     0.9374     0.7999     0.9588         45        640: 100%|██████████| 5/5 [00:01<00:00,  4.15it/s]\n",
            "                 Class     Images  Instances      Box(P          R      mAP50  mAP50-95): 100%|██████████| 1/1 [00:00<00:00,  5.10it/s]\n"
          ]
        },
        {
          "output_type": "stream",
          "name": "stdout",
          "text": [
            "                   all         20         65      0.936      0.604      0.658      0.458\n",
            "\n",
            "      Epoch    GPU_mem   box_loss   cls_loss   dfl_loss  Instances       Size\n"
          ]
        },
        {
          "output_type": "stream",
          "name": "stderr",
          "text": [
            "     54/100      2.39G     0.9337     0.8161      1.007         27        640: 100%|██████████| 5/5 [00:01<00:00,  4.46it/s]\n",
            "                 Class     Images  Instances      Box(P          R      mAP50  mAP50-95): 100%|██████████| 1/1 [00:00<00:00,  5.70it/s]"
          ]
        },
        {
          "output_type": "stream",
          "name": "stdout",
          "text": [
            "                   all         20         65      0.948      0.603      0.647      0.456\n"
          ]
        },
        {
          "output_type": "stream",
          "name": "stderr",
          "text": [
            "\n"
          ]
        },
        {
          "output_type": "stream",
          "name": "stdout",
          "text": [
            "\n",
            "      Epoch    GPU_mem   box_loss   cls_loss   dfl_loss  Instances       Size\n"
          ]
        },
        {
          "output_type": "stream",
          "name": "stderr",
          "text": [
            "     55/100      2.37G     0.9045     0.7687     0.9865         43        640: 100%|██████████| 5/5 [00:01<00:00,  4.55it/s]\n",
            "                 Class     Images  Instances      Box(P          R      mAP50  mAP50-95): 100%|██████████| 1/1 [00:00<00:00,  4.02it/s]"
          ]
        },
        {
          "output_type": "stream",
          "name": "stdout",
          "text": [
            "                   all         20         65      0.945      0.603      0.643      0.459\n"
          ]
        },
        {
          "output_type": "stream",
          "name": "stderr",
          "text": [
            "\n"
          ]
        },
        {
          "output_type": "stream",
          "name": "stdout",
          "text": [
            "\n",
            "      Epoch    GPU_mem   box_loss   cls_loss   dfl_loss  Instances       Size\n"
          ]
        },
        {
          "output_type": "stream",
          "name": "stderr",
          "text": [
            "     56/100      2.41G     0.8609     0.7612     0.9832         44        640: 100%|██████████| 5/5 [00:01<00:00,  4.44it/s]\n",
            "                 Class     Images  Instances      Box(P          R      mAP50  mAP50-95): 100%|██████████| 1/1 [00:00<00:00,  5.03it/s]"
          ]
        },
        {
          "output_type": "stream",
          "name": "stdout",
          "text": [
            "                   all         20         65      0.604      0.598      0.639      0.445\n"
          ]
        },
        {
          "output_type": "stream",
          "name": "stderr",
          "text": [
            "\n"
          ]
        },
        {
          "output_type": "stream",
          "name": "stdout",
          "text": [
            "\n",
            "      Epoch    GPU_mem   box_loss   cls_loss   dfl_loss  Instances       Size\n"
          ]
        },
        {
          "output_type": "stream",
          "name": "stderr",
          "text": [
            "     57/100      2.43G     0.8743     0.8101     0.9874         22        640: 100%|██████████| 5/5 [00:01<00:00,  3.04it/s]\n",
            "                 Class     Images  Instances      Box(P          R      mAP50  mAP50-95): 100%|██████████| 1/1 [00:00<00:00,  2.96it/s]"
          ]
        },
        {
          "output_type": "stream",
          "name": "stdout",
          "text": [
            "                   all         20         65      0.604      0.599      0.633      0.452\n"
          ]
        },
        {
          "output_type": "stream",
          "name": "stderr",
          "text": [
            "\n"
          ]
        },
        {
          "output_type": "stream",
          "name": "stdout",
          "text": [
            "\n",
            "      Epoch    GPU_mem   box_loss   cls_loss   dfl_loss  Instances       Size\n"
          ]
        },
        {
          "output_type": "stream",
          "name": "stderr",
          "text": [
            "     58/100       2.4G     0.9598     0.8455     0.9948         29        640: 100%|██████████| 5/5 [00:01<00:00,  2.70it/s]\n",
            "                 Class     Images  Instances      Box(P          R      mAP50  mAP50-95): 100%|██████████| 1/1 [00:00<00:00,  2.51it/s]"
          ]
        },
        {
          "output_type": "stream",
          "name": "stdout",
          "text": [
            "                   all         20         65      0.954      0.589      0.637      0.451\n"
          ]
        },
        {
          "output_type": "stream",
          "name": "stderr",
          "text": [
            "\n"
          ]
        },
        {
          "output_type": "stream",
          "name": "stdout",
          "text": [
            "\n",
            "      Epoch    GPU_mem   box_loss   cls_loss   dfl_loss  Instances       Size\n"
          ]
        },
        {
          "output_type": "stream",
          "name": "stderr",
          "text": [
            "     59/100      2.39G     0.8735     0.7628     0.9653         36        640: 100%|██████████| 5/5 [00:01<00:00,  3.34it/s]\n",
            "                 Class     Images  Instances      Box(P          R      mAP50  mAP50-95): 100%|██████████| 1/1 [00:00<00:00,  4.06it/s]"
          ]
        },
        {
          "output_type": "stream",
          "name": "stdout",
          "text": [
            "                   all         20         65      0.945      0.601       0.64      0.445\n"
          ]
        },
        {
          "output_type": "stream",
          "name": "stderr",
          "text": [
            "\n"
          ]
        },
        {
          "output_type": "stream",
          "name": "stdout",
          "text": [
            "\n",
            "      Epoch    GPU_mem   box_loss   cls_loss   dfl_loss  Instances       Size\n"
          ]
        },
        {
          "output_type": "stream",
          "name": "stderr",
          "text": [
            "     60/100      2.41G     0.8448     0.7154     0.9489         36        640: 100%|██████████| 5/5 [00:01<00:00,  4.38it/s]\n",
            "                 Class     Images  Instances      Box(P          R      mAP50  mAP50-95): 100%|██████████| 1/1 [00:00<00:00,  5.93it/s]\n"
          ]
        },
        {
          "output_type": "stream",
          "name": "stdout",
          "text": [
            "                   all         20         65       0.93      0.581      0.624      0.433\n",
            "\n",
            "      Epoch    GPU_mem   box_loss   cls_loss   dfl_loss  Instances       Size\n"
          ]
        },
        {
          "output_type": "stream",
          "name": "stderr",
          "text": [
            "     61/100       2.4G     0.8782     0.7667     0.9872         44        640: 100%|██████████| 5/5 [00:01<00:00,  4.71it/s]\n",
            "                 Class     Images  Instances      Box(P          R      mAP50  mAP50-95): 100%|██████████| 1/1 [00:00<00:00,  4.24it/s]"
          ]
        },
        {
          "output_type": "stream",
          "name": "stdout",
          "text": [
            "                   all         20         65       0.93      0.584      0.622      0.435\n"
          ]
        },
        {
          "output_type": "stream",
          "name": "stderr",
          "text": [
            "\n"
          ]
        },
        {
          "output_type": "stream",
          "name": "stdout",
          "text": [
            "\n",
            "      Epoch    GPU_mem   box_loss   cls_loss   dfl_loss  Instances       Size\n"
          ]
        },
        {
          "output_type": "stream",
          "name": "stderr",
          "text": [
            "     62/100      2.42G     0.9156     0.7684     0.9775         69        640: 100%|██████████| 5/5 [00:01<00:00,  4.87it/s]\n",
            "                 Class     Images  Instances      Box(P          R      mAP50  mAP50-95): 100%|██████████| 1/1 [00:00<00:00,  3.86it/s]"
          ]
        },
        {
          "output_type": "stream",
          "name": "stdout",
          "text": [
            "                   all         20         65      0.918      0.581      0.619      0.449\n"
          ]
        },
        {
          "output_type": "stream",
          "name": "stderr",
          "text": [
            "\n"
          ]
        },
        {
          "output_type": "stream",
          "name": "stdout",
          "text": [
            "\n",
            "      Epoch    GPU_mem   box_loss   cls_loss   dfl_loss  Instances       Size\n"
          ]
        },
        {
          "output_type": "stream",
          "name": "stderr",
          "text": [
            "     63/100       2.4G     0.8395     0.7586     0.9734         40        640: 100%|██████████| 5/5 [00:01<00:00,  4.56it/s]\n",
            "                 Class     Images  Instances      Box(P          R      mAP50  mAP50-95): 100%|██████████| 1/1 [00:00<00:00,  5.37it/s]\n"
          ]
        },
        {
          "output_type": "stream",
          "name": "stdout",
          "text": [
            "                   all         20         65      0.562      0.617      0.621      0.437\n",
            "\n",
            "      Epoch    GPU_mem   box_loss   cls_loss   dfl_loss  Instances       Size\n"
          ]
        },
        {
          "output_type": "stream",
          "name": "stderr",
          "text": [
            "     64/100      2.42G     0.8783     0.7513     0.9627         31        640: 100%|██████████| 5/5 [00:01<00:00,  3.41it/s]\n",
            "                 Class     Images  Instances      Box(P          R      mAP50  mAP50-95): 100%|██████████| 1/1 [00:00<00:00,  3.40it/s]"
          ]
        },
        {
          "output_type": "stream",
          "name": "stdout",
          "text": [
            "                   all         20         65      0.574      0.577      0.623      0.428\n"
          ]
        },
        {
          "output_type": "stream",
          "name": "stderr",
          "text": [
            "\n"
          ]
        },
        {
          "output_type": "stream",
          "name": "stdout",
          "text": [
            "\n",
            "      Epoch    GPU_mem   box_loss   cls_loss   dfl_loss  Instances       Size\n"
          ]
        },
        {
          "output_type": "stream",
          "name": "stderr",
          "text": [
            "     65/100      2.42G     0.8561      0.751     0.9652         29        640: 100%|██████████| 5/5 [00:01<00:00,  2.96it/s]\n",
            "                 Class     Images  Instances      Box(P          R      mAP50  mAP50-95): 100%|██████████| 1/1 [00:00<00:00,  1.81it/s]"
          ]
        },
        {
          "output_type": "stream",
          "name": "stdout",
          "text": [
            "                   all         20         65      0.574       0.57       0.61      0.414\n"
          ]
        },
        {
          "output_type": "stream",
          "name": "stderr",
          "text": [
            "\n"
          ]
        },
        {
          "output_type": "stream",
          "name": "stdout",
          "text": [
            "\n",
            "      Epoch    GPU_mem   box_loss   cls_loss   dfl_loss  Instances       Size\n"
          ]
        },
        {
          "output_type": "stream",
          "name": "stderr",
          "text": [
            "     66/100      2.39G     0.8412     0.7449     0.9679         34        640: 100%|██████████| 5/5 [00:01<00:00,  2.73it/s]\n",
            "                 Class     Images  Instances      Box(P          R      mAP50  mAP50-95): 100%|██████████| 1/1 [00:00<00:00,  1.80it/s]"
          ]
        },
        {
          "output_type": "stream",
          "name": "stdout",
          "text": [
            "                   all         20         65      0.555      0.589       0.61      0.418\n"
          ]
        },
        {
          "output_type": "stream",
          "name": "stderr",
          "text": [
            "\n"
          ]
        },
        {
          "output_type": "stream",
          "name": "stdout",
          "text": [
            "\n",
            "      Epoch    GPU_mem   box_loss   cls_loss   dfl_loss  Instances       Size\n"
          ]
        },
        {
          "output_type": "stream",
          "name": "stderr",
          "text": [
            "     67/100      2.42G      0.891     0.7668     0.9677         39        640: 100%|██████████| 5/5 [00:01<00:00,  4.15it/s]\n",
            "                 Class     Images  Instances      Box(P          R      mAP50  mAP50-95): 100%|██████████| 1/1 [00:00<00:00,  5.05it/s]"
          ]
        },
        {
          "output_type": "stream",
          "name": "stdout",
          "text": [
            "                   all         20         65      0.598      0.587      0.621       0.43\n"
          ]
        },
        {
          "output_type": "stream",
          "name": "stderr",
          "text": [
            "\n"
          ]
        },
        {
          "output_type": "stream",
          "name": "stdout",
          "text": [
            "\n",
            "      Epoch    GPU_mem   box_loss   cls_loss   dfl_loss  Instances       Size\n"
          ]
        },
        {
          "output_type": "stream",
          "name": "stderr",
          "text": [
            "     68/100      2.43G     0.8353     0.7099     0.9544         30        640: 100%|██████████| 5/5 [00:01<00:00,  4.44it/s]\n",
            "                 Class     Images  Instances      Box(P          R      mAP50  mAP50-95): 100%|██████████| 1/1 [00:00<00:00,  4.83it/s]"
          ]
        },
        {
          "output_type": "stream",
          "name": "stdout",
          "text": [
            "                   all         20         65      0.603      0.635      0.637       0.45\n"
          ]
        },
        {
          "output_type": "stream",
          "name": "stderr",
          "text": [
            "\n"
          ]
        },
        {
          "output_type": "stream",
          "name": "stdout",
          "text": [
            "\n",
            "      Epoch    GPU_mem   box_loss   cls_loss   dfl_loss  Instances       Size\n"
          ]
        },
        {
          "output_type": "stream",
          "name": "stderr",
          "text": [
            "     69/100      2.42G     0.8433     0.7417       0.95         42        640: 100%|██████████| 5/5 [00:01<00:00,  4.66it/s]\n",
            "                 Class     Images  Instances      Box(P          R      mAP50  mAP50-95): 100%|██████████| 1/1 [00:00<00:00,  4.01it/s]"
          ]
        },
        {
          "output_type": "stream",
          "name": "stdout",
          "text": [
            "                   all         20         65      0.627      0.643      0.641      0.455\n"
          ]
        },
        {
          "output_type": "stream",
          "name": "stderr",
          "text": [
            "\n"
          ]
        },
        {
          "output_type": "stream",
          "name": "stdout",
          "text": [
            "\n",
            "      Epoch    GPU_mem   box_loss   cls_loss   dfl_loss  Instances       Size\n"
          ]
        },
        {
          "output_type": "stream",
          "name": "stderr",
          "text": [
            "     70/100      2.39G     0.8173     0.7392     0.9698         29        640: 100%|██████████| 5/5 [00:01<00:00,  4.43it/s]\n",
            "                 Class     Images  Instances      Box(P          R      mAP50  mAP50-95): 100%|██████████| 1/1 [00:00<00:00,  5.36it/s]\n"
          ]
        },
        {
          "output_type": "stream",
          "name": "stdout",
          "text": [
            "                   all         20         65      0.971      0.608      0.644      0.451\n",
            "\n",
            "      Epoch    GPU_mem   box_loss   cls_loss   dfl_loss  Instances       Size\n"
          ]
        },
        {
          "output_type": "stream",
          "name": "stderr",
          "text": [
            "     71/100      2.34G     0.8131     0.6843     0.9279         54        640: 100%|██████████| 5/5 [00:01<00:00,  4.51it/s]\n",
            "                 Class     Images  Instances      Box(P          R      mAP50  mAP50-95): 100%|██████████| 1/1 [00:00<00:00,  5.30it/s]\n"
          ]
        },
        {
          "output_type": "stream",
          "name": "stdout",
          "text": [
            "                   all         20         65      0.972      0.613      0.644      0.456\n",
            "\n",
            "      Epoch    GPU_mem   box_loss   cls_loss   dfl_loss  Instances       Size\n"
          ]
        },
        {
          "output_type": "stream",
          "name": "stderr",
          "text": [
            "     72/100      2.39G     0.8086     0.6741     0.9293         36        640: 100%|██████████| 5/5 [00:01<00:00,  2.94it/s]\n",
            "                 Class     Images  Instances      Box(P          R      mAP50  mAP50-95): 100%|██████████| 1/1 [00:00<00:00,  2.55it/s]"
          ]
        },
        {
          "output_type": "stream",
          "name": "stdout",
          "text": [
            "                   all         20         65      0.974      0.608      0.638      0.455\n"
          ]
        },
        {
          "output_type": "stream",
          "name": "stderr",
          "text": [
            "\n"
          ]
        },
        {
          "output_type": "stream",
          "name": "stdout",
          "text": [
            "\n",
            "      Epoch    GPU_mem   box_loss   cls_loss   dfl_loss  Instances       Size\n"
          ]
        },
        {
          "output_type": "stream",
          "name": "stderr",
          "text": [
            "     73/100      2.39G     0.8304     0.6985     0.9482         34        640: 100%|██████████| 5/5 [00:01<00:00,  2.88it/s]\n",
            "                 Class     Images  Instances      Box(P          R      mAP50  mAP50-95): 100%|██████████| 1/1 [00:00<00:00,  2.56it/s]"
          ]
        },
        {
          "output_type": "stream",
          "name": "stdout",
          "text": [
            "                   all         20         65      0.977      0.604      0.636       0.44\n"
          ]
        },
        {
          "output_type": "stream",
          "name": "stderr",
          "text": [
            "\n"
          ]
        },
        {
          "output_type": "stream",
          "name": "stdout",
          "text": [
            "\n",
            "      Epoch    GPU_mem   box_loss   cls_loss   dfl_loss  Instances       Size\n"
          ]
        },
        {
          "output_type": "stream",
          "name": "stderr",
          "text": [
            "     74/100      2.42G     0.8192      0.723     0.9628         37        640: 100%|██████████| 5/5 [00:01<00:00,  3.10it/s]\n",
            "                 Class     Images  Instances      Box(P          R      mAP50  mAP50-95): 100%|██████████| 1/1 [00:00<00:00,  4.20it/s]"
          ]
        },
        {
          "output_type": "stream",
          "name": "stdout",
          "text": [
            "                   all         20         65      0.978       0.61       0.64       0.46\n"
          ]
        },
        {
          "output_type": "stream",
          "name": "stderr",
          "text": [
            "\n"
          ]
        },
        {
          "output_type": "stream",
          "name": "stdout",
          "text": [
            "\n",
            "      Epoch    GPU_mem   box_loss   cls_loss   dfl_loss  Instances       Size\n"
          ]
        },
        {
          "output_type": "stream",
          "name": "stderr",
          "text": [
            "     75/100      2.37G     0.8105     0.6888     0.9245         36        640: 100%|██████████| 5/5 [00:01<00:00,  4.60it/s]\n",
            "                 Class     Images  Instances      Box(P          R      mAP50  mAP50-95): 100%|██████████| 1/1 [00:00<00:00,  5.33it/s]\n"
          ]
        },
        {
          "output_type": "stream",
          "name": "stdout",
          "text": [
            "                   all         20         65      0.618      0.619       0.64      0.461\n",
            "\n",
            "      Epoch    GPU_mem   box_loss   cls_loss   dfl_loss  Instances       Size\n"
          ]
        },
        {
          "output_type": "stream",
          "name": "stderr",
          "text": [
            "     76/100      2.42G      0.812     0.6858     0.9287         45        640: 100%|██████████| 5/5 [00:01<00:00,  4.84it/s]\n",
            "                 Class     Images  Instances      Box(P          R      mAP50  mAP50-95): 100%|██████████| 1/1 [00:00<00:00,  4.13it/s]"
          ]
        },
        {
          "output_type": "stream",
          "name": "stdout",
          "text": [
            "                   all         20         65      0.613      0.622      0.638      0.443\n"
          ]
        },
        {
          "output_type": "stream",
          "name": "stderr",
          "text": [
            "\n"
          ]
        },
        {
          "output_type": "stream",
          "name": "stdout",
          "text": [
            "\n",
            "      Epoch    GPU_mem   box_loss   cls_loss   dfl_loss  Instances       Size\n"
          ]
        },
        {
          "output_type": "stream",
          "name": "stderr",
          "text": [
            "     77/100      2.37G     0.8232     0.7012     0.9524         41        640: 100%|██████████| 5/5 [00:01<00:00,  4.59it/s]\n",
            "                 Class     Images  Instances      Box(P          R      mAP50  mAP50-95): 100%|██████████| 1/1 [00:00<00:00,  4.33it/s]"
          ]
        },
        {
          "output_type": "stream",
          "name": "stdout",
          "text": [
            "                   all         20         65      0.943      0.619      0.635      0.441\n"
          ]
        },
        {
          "output_type": "stream",
          "name": "stderr",
          "text": [
            "\n"
          ]
        },
        {
          "output_type": "stream",
          "name": "stdout",
          "text": [
            "\n",
            "      Epoch    GPU_mem   box_loss   cls_loss   dfl_loss  Instances       Size\n"
          ]
        },
        {
          "output_type": "stream",
          "name": "stderr",
          "text": [
            "     78/100      2.43G     0.8586       0.72     0.9408         23        640: 100%|██████████| 5/5 [00:01<00:00,  4.62it/s]\n",
            "                 Class     Images  Instances      Box(P          R      mAP50  mAP50-95): 100%|██████████| 1/1 [00:00<00:00,  3.85it/s]"
          ]
        },
        {
          "output_type": "stream",
          "name": "stdout",
          "text": [
            "                   all         20         65      0.955      0.615      0.636       0.45\n"
          ]
        },
        {
          "output_type": "stream",
          "name": "stderr",
          "text": [
            "\n"
          ]
        },
        {
          "output_type": "stream",
          "name": "stdout",
          "text": [
            "\n",
            "      Epoch    GPU_mem   box_loss   cls_loss   dfl_loss  Instances       Size\n"
          ]
        },
        {
          "output_type": "stream",
          "name": "stderr",
          "text": [
            "     79/100      2.45G     0.8031     0.6833     0.9311         18        640: 100%|██████████| 5/5 [00:01<00:00,  3.87it/s]\n",
            "                 Class     Images  Instances      Box(P          R      mAP50  mAP50-95): 100%|██████████| 1/1 [00:00<00:00,  2.84it/s]"
          ]
        },
        {
          "output_type": "stream",
          "name": "stdout",
          "text": [
            "                   all         20         65      0.963      0.604      0.637      0.453\n"
          ]
        },
        {
          "output_type": "stream",
          "name": "stderr",
          "text": [
            "\n"
          ]
        },
        {
          "output_type": "stream",
          "name": "stdout",
          "text": [
            "\n",
            "      Epoch    GPU_mem   box_loss   cls_loss   dfl_loss  Instances       Size\n"
          ]
        },
        {
          "output_type": "stream",
          "name": "stderr",
          "text": [
            "     80/100      2.42G     0.7388     0.6309     0.9188         44        640: 100%|██████████| 5/5 [00:01<00:00,  2.69it/s]\n",
            "                 Class     Images  Instances      Box(P          R      mAP50  mAP50-95): 100%|██████████| 1/1 [00:00<00:00,  2.21it/s]"
          ]
        },
        {
          "output_type": "stream",
          "name": "stdout",
          "text": [
            "                   all         20         65      0.977      0.604       0.64      0.457\n"
          ]
        },
        {
          "output_type": "stream",
          "name": "stderr",
          "text": [
            "\n"
          ]
        },
        {
          "output_type": "stream",
          "name": "stdout",
          "text": [
            "\n",
            "      Epoch    GPU_mem   box_loss   cls_loss   dfl_loss  Instances       Size\n"
          ]
        },
        {
          "output_type": "stream",
          "name": "stderr",
          "text": [
            "     81/100      2.42G     0.7671     0.6555     0.9157         44        640: 100%|██████████| 5/5 [00:01<00:00,  2.74it/s]\n",
            "                 Class     Images  Instances      Box(P          R      mAP50  mAP50-95): 100%|██████████| 1/1 [00:00<00:00,  2.48it/s]"
          ]
        },
        {
          "output_type": "stream",
          "name": "stdout",
          "text": [
            "                   all         20         65      0.979      0.608      0.641      0.453\n"
          ]
        },
        {
          "output_type": "stream",
          "name": "stderr",
          "text": [
            "\n"
          ]
        },
        {
          "output_type": "stream",
          "name": "stdout",
          "text": [
            "\n",
            "      Epoch    GPU_mem   box_loss   cls_loss   dfl_loss  Instances       Size\n"
          ]
        },
        {
          "output_type": "stream",
          "name": "stderr",
          "text": [
            "     82/100      2.35G     0.7647     0.6584     0.9489         29        640: 100%|██████████| 5/5 [00:01<00:00,  4.45it/s]\n",
            "                 Class     Images  Instances      Box(P          R      mAP50  mAP50-95): 100%|██████████| 1/1 [00:00<00:00,  5.07it/s]\n"
          ]
        },
        {
          "output_type": "stream",
          "name": "stdout",
          "text": [
            "                   all         20         65      0.973      0.611      0.643      0.446\n",
            "\n",
            "      Epoch    GPU_mem   box_loss   cls_loss   dfl_loss  Instances       Size\n"
          ]
        },
        {
          "output_type": "stream",
          "name": "stderr",
          "text": [
            "     83/100      2.38G     0.7909     0.6263     0.9364         53        640: 100%|██████████| 5/5 [00:01<00:00,  4.74it/s]\n",
            "                 Class     Images  Instances      Box(P          R      mAP50  mAP50-95): 100%|██████████| 1/1 [00:00<00:00,  4.27it/s]"
          ]
        },
        {
          "output_type": "stream",
          "name": "stdout",
          "text": [
            "                   all         20         65      0.968      0.611      0.643       0.45\n"
          ]
        },
        {
          "output_type": "stream",
          "name": "stderr",
          "text": [
            "\n"
          ]
        },
        {
          "output_type": "stream",
          "name": "stdout",
          "text": [
            "\n",
            "      Epoch    GPU_mem   box_loss   cls_loss   dfl_loss  Instances       Size\n"
          ]
        },
        {
          "output_type": "stream",
          "name": "stderr",
          "text": [
            "     84/100      2.41G      0.732     0.6344     0.9185         40        640: 100%|██████████| 5/5 [00:01<00:00,  4.33it/s]\n",
            "                 Class     Images  Instances      Box(P          R      mAP50  mAP50-95): 100%|██████████| 1/1 [00:00<00:00,  5.27it/s]\n"
          ]
        },
        {
          "output_type": "stream",
          "name": "stdout",
          "text": [
            "                   all         20         65      0.958       0.61      0.642      0.448\n",
            "\n",
            "      Epoch    GPU_mem   box_loss   cls_loss   dfl_loss  Instances       Size\n"
          ]
        },
        {
          "output_type": "stream",
          "name": "stderr",
          "text": [
            "     85/100      2.42G     0.7726     0.6213     0.9353         31        640: 100%|██████████| 5/5 [00:01<00:00,  4.79it/s]\n",
            "                 Class     Images  Instances      Box(P          R      mAP50  mAP50-95): 100%|██████████| 1/1 [00:00<00:00,  4.32it/s]"
          ]
        },
        {
          "output_type": "stream",
          "name": "stdout",
          "text": [
            "                   all         20         65      0.947      0.616      0.644      0.456\n"
          ]
        },
        {
          "output_type": "stream",
          "name": "stderr",
          "text": [
            "\n"
          ]
        },
        {
          "output_type": "stream",
          "name": "stdout",
          "text": [
            "\n",
            "      Epoch    GPU_mem   box_loss   cls_loss   dfl_loss  Instances       Size\n"
          ]
        },
        {
          "output_type": "stream",
          "name": "stderr",
          "text": [
            "     86/100      2.42G     0.7732     0.6558     0.9327         30        640: 100%|██████████| 5/5 [00:01<00:00,  4.74it/s]\n",
            "                 Class     Images  Instances      Box(P          R      mAP50  mAP50-95): 100%|██████████| 1/1 [00:00<00:00,  5.30it/s]\n"
          ]
        },
        {
          "output_type": "stream",
          "name": "stdout",
          "text": [
            "                   all         20         65      0.948      0.619      0.646      0.461\n",
            "\n",
            "      Epoch    GPU_mem   box_loss   cls_loss   dfl_loss  Instances       Size\n"
          ]
        },
        {
          "output_type": "stream",
          "name": "stderr",
          "text": [
            "     87/100      2.39G     0.7387     0.6341     0.9023         27        640: 100%|██████████| 5/5 [00:01<00:00,  3.41it/s]\n",
            "                 Class     Images  Instances      Box(P          R      mAP50  mAP50-95): 100%|██████████| 1/1 [00:00<00:00,  2.46it/s]"
          ]
        },
        {
          "output_type": "stream",
          "name": "stdout",
          "text": [
            "                   all         20         65      0.944      0.619      0.647       0.46\n"
          ]
        },
        {
          "output_type": "stream",
          "name": "stderr",
          "text": [
            "\n"
          ]
        },
        {
          "output_type": "stream",
          "name": "stdout",
          "text": [
            "\n",
            "      Epoch    GPU_mem   box_loss   cls_loss   dfl_loss  Instances       Size\n"
          ]
        },
        {
          "output_type": "stream",
          "name": "stderr",
          "text": [
            "     88/100      2.42G     0.7211      0.617     0.8912         52        640: 100%|██████████| 5/5 [00:01<00:00,  2.73it/s]\n",
            "                 Class     Images  Instances      Box(P          R      mAP50  mAP50-95): 100%|██████████| 1/1 [00:00<00:00,  2.83it/s]"
          ]
        },
        {
          "output_type": "stream",
          "name": "stdout",
          "text": [
            "                   all         20         65      0.945      0.618      0.652      0.464\n"
          ]
        },
        {
          "output_type": "stream",
          "name": "stderr",
          "text": [
            "\n"
          ]
        },
        {
          "output_type": "stream",
          "name": "stdout",
          "text": [
            "\n",
            "      Epoch    GPU_mem   box_loss   cls_loss   dfl_loss  Instances       Size\n"
          ]
        },
        {
          "output_type": "stream",
          "name": "stderr",
          "text": [
            "     89/100      2.39G     0.7343     0.6373     0.9575         28        640: 100%|██████████| 5/5 [00:01<00:00,  2.88it/s]\n",
            "                 Class     Images  Instances      Box(P          R      mAP50  mAP50-95): 100%|██████████| 1/1 [00:00<00:00,  3.64it/s]"
          ]
        },
        {
          "output_type": "stream",
          "name": "stdout",
          "text": [
            "                   all         20         65      0.945      0.618      0.651      0.473\n"
          ]
        },
        {
          "output_type": "stream",
          "name": "stderr",
          "text": [
            "\n"
          ]
        },
        {
          "output_type": "stream",
          "name": "stdout",
          "text": [
            "\n",
            "      Epoch    GPU_mem   box_loss   cls_loss   dfl_loss  Instances       Size\n"
          ]
        },
        {
          "output_type": "stream",
          "name": "stderr",
          "text": [
            "     90/100      2.45G     0.6906     0.6035     0.9078         33        640: 100%|██████████| 5/5 [00:01<00:00,  4.55it/s]\n",
            "                 Class     Images  Instances      Box(P          R      mAP50  mAP50-95): 100%|██████████| 1/1 [00:00<00:00,  3.69it/s]"
          ]
        },
        {
          "output_type": "stream",
          "name": "stdout",
          "text": [
            "                   all         20         65      0.944      0.613      0.648      0.473\n"
          ]
        },
        {
          "output_type": "stream",
          "name": "stderr",
          "text": [
            "\n"
          ]
        },
        {
          "output_type": "stream",
          "name": "stdout",
          "text": [
            "Closing dataloader mosaic\n",
            "\u001b[34m\u001b[1malbumentations: \u001b[0mBlur(p=0.01, blur_limit=(3, 7)), MedianBlur(p=0.01, blur_limit=(3, 7)), ToGray(p=0.01, num_output_channels=3, method='weighted_average'), CLAHE(p=0.01, clip_limit=(1.0, 4.0), tile_grid_size=(8, 8))\n",
            "\n",
            "      Epoch    GPU_mem   box_loss   cls_loss   dfl_loss  Instances       Size\n"
          ]
        },
        {
          "output_type": "stream",
          "name": "stderr",
          "text": [
            "     91/100      2.54G     0.7498     0.7669     0.8997         19        640: 100%|██████████| 5/5 [00:02<00:00,  1.90it/s]\n",
            "                 Class     Images  Instances      Box(P          R      mAP50  mAP50-95): 100%|██████████| 1/1 [00:00<00:00,  5.66it/s]"
          ]
        },
        {
          "output_type": "stream",
          "name": "stdout",
          "text": [
            "                   all         20         65      0.942      0.611      0.647      0.471\n"
          ]
        },
        {
          "output_type": "stream",
          "name": "stderr",
          "text": [
            "\n"
          ]
        },
        {
          "output_type": "stream",
          "name": "stdout",
          "text": [
            "\n",
            "      Epoch    GPU_mem   box_loss   cls_loss   dfl_loss  Instances       Size\n"
          ]
        },
        {
          "output_type": "stream",
          "name": "stderr",
          "text": [
            "     92/100      2.39G      0.715     0.7078     0.9029         12        640: 100%|██████████| 5/5 [00:01<00:00,  4.86it/s]\n",
            "                 Class     Images  Instances      Box(P          R      mAP50  mAP50-95): 100%|██████████| 1/1 [00:00<00:00,  4.01it/s]"
          ]
        },
        {
          "output_type": "stream",
          "name": "stdout",
          "text": [
            "                   all         20         65      0.918      0.634      0.642      0.474\n"
          ]
        },
        {
          "output_type": "stream",
          "name": "stderr",
          "text": [
            "\n"
          ]
        },
        {
          "output_type": "stream",
          "name": "stdout",
          "text": [
            "\n",
            "      Epoch    GPU_mem   box_loss   cls_loss   dfl_loss  Instances       Size\n"
          ]
        },
        {
          "output_type": "stream",
          "name": "stderr",
          "text": [
            "     93/100      2.39G     0.7014     0.6858     0.9027         13        640: 100%|██████████| 5/5 [00:01<00:00,  4.47it/s]\n",
            "                 Class     Images  Instances      Box(P          R      mAP50  mAP50-95): 100%|██████████| 1/1 [00:00<00:00,  3.73it/s]"
          ]
        },
        {
          "output_type": "stream",
          "name": "stdout",
          "text": [
            "                   all         20         65      0.922      0.632      0.639       0.47\n"
          ]
        },
        {
          "output_type": "stream",
          "name": "stderr",
          "text": [
            "\n"
          ]
        },
        {
          "output_type": "stream",
          "name": "stdout",
          "text": [
            "\n",
            "      Epoch    GPU_mem   box_loss   cls_loss   dfl_loss  Instances       Size\n"
          ]
        },
        {
          "output_type": "stream",
          "name": "stderr",
          "text": [
            "     94/100       2.4G     0.6699     0.6855     0.8834         16        640: 100%|██████████| 5/5 [00:01<00:00,  3.19it/s]\n",
            "                 Class     Images  Instances      Box(P          R      mAP50  mAP50-95): 100%|██████████| 1/1 [00:00<00:00,  3.18it/s]"
          ]
        },
        {
          "output_type": "stream",
          "name": "stdout",
          "text": [
            "                   all         20         65      0.915      0.626      0.638      0.473\n"
          ]
        },
        {
          "output_type": "stream",
          "name": "stderr",
          "text": [
            "\n"
          ]
        },
        {
          "output_type": "stream",
          "name": "stdout",
          "text": [
            "\n",
            "      Epoch    GPU_mem   box_loss   cls_loss   dfl_loss  Instances       Size\n"
          ]
        },
        {
          "output_type": "stream",
          "name": "stderr",
          "text": [
            "     95/100      2.39G     0.6736     0.6928     0.8871         13        640: 100%|██████████| 5/5 [00:01<00:00,  2.95it/s]\n",
            "                 Class     Images  Instances      Box(P          R      mAP50  mAP50-95): 100%|██████████| 1/1 [00:00<00:00,  2.40it/s]"
          ]
        },
        {
          "output_type": "stream",
          "name": "stdout",
          "text": [
            "                   all         20         65      0.922      0.631      0.635      0.466\n"
          ]
        },
        {
          "output_type": "stream",
          "name": "stderr",
          "text": [
            "\n"
          ]
        },
        {
          "output_type": "stream",
          "name": "stdout",
          "text": [
            "\n",
            "      Epoch    GPU_mem   box_loss   cls_loss   dfl_loss  Instances       Size\n"
          ]
        },
        {
          "output_type": "stream",
          "name": "stderr",
          "text": [
            "     96/100      2.39G     0.6374     0.6859     0.8829         14        640: 100%|██████████| 5/5 [00:01<00:00,  4.06it/s]\n",
            "                 Class     Images  Instances      Box(P          R      mAP50  mAP50-95): 100%|██████████| 1/1 [00:00<00:00,  5.84it/s]"
          ]
        },
        {
          "output_type": "stream",
          "name": "stdout",
          "text": [
            "                   all         20         65      0.974      0.581      0.637      0.461\n"
          ]
        },
        {
          "output_type": "stream",
          "name": "stderr",
          "text": [
            "\n"
          ]
        },
        {
          "output_type": "stream",
          "name": "stdout",
          "text": [
            "\n",
            "      Epoch    GPU_mem   box_loss   cls_loss   dfl_loss  Instances       Size\n"
          ]
        },
        {
          "output_type": "stream",
          "name": "stderr",
          "text": [
            "     97/100      2.39G     0.6791     0.6772     0.8875         28        640: 100%|██████████| 5/5 [00:01<00:00,  4.87it/s]\n",
            "                 Class     Images  Instances      Box(P          R      mAP50  mAP50-95): 100%|██████████| 1/1 [00:00<00:00,  4.48it/s]"
          ]
        },
        {
          "output_type": "stream",
          "name": "stdout",
          "text": [
            "                   all         20         65      0.949      0.611      0.636      0.463\n"
          ]
        },
        {
          "output_type": "stream",
          "name": "stderr",
          "text": [
            "\n"
          ]
        },
        {
          "output_type": "stream",
          "name": "stdout",
          "text": [
            "\n",
            "      Epoch    GPU_mem   box_loss   cls_loss   dfl_loss  Instances       Size\n"
          ]
        },
        {
          "output_type": "stream",
          "name": "stderr",
          "text": [
            "     98/100      2.39G     0.6519     0.6521     0.8866         19        640: 100%|██████████| 5/5 [00:01<00:00,  4.70it/s]\n",
            "                 Class     Images  Instances      Box(P          R      mAP50  mAP50-95): 100%|██████████| 1/1 [00:00<00:00,  4.75it/s]"
          ]
        },
        {
          "output_type": "stream",
          "name": "stdout",
          "text": [
            "                   all         20         65      0.947      0.611      0.636      0.462\n"
          ]
        },
        {
          "output_type": "stream",
          "name": "stderr",
          "text": [
            "\n"
          ]
        },
        {
          "output_type": "stream",
          "name": "stdout",
          "text": [
            "\n",
            "      Epoch    GPU_mem   box_loss   cls_loss   dfl_loss  Instances       Size\n"
          ]
        },
        {
          "output_type": "stream",
          "name": "stderr",
          "text": [
            "     99/100      2.39G     0.6741      0.647     0.9011         33        640: 100%|██████████| 5/5 [00:01<00:00,  4.68it/s]\n",
            "                 Class     Images  Instances      Box(P          R      mAP50  mAP50-95): 100%|██████████| 1/1 [00:00<00:00,  4.84it/s]"
          ]
        },
        {
          "output_type": "stream",
          "name": "stdout",
          "text": [
            "                   all         20         65      0.951      0.615      0.637      0.463\n"
          ]
        },
        {
          "output_type": "stream",
          "name": "stderr",
          "text": [
            "\n"
          ]
        },
        {
          "output_type": "stream",
          "name": "stdout",
          "text": [
            "\n",
            "      Epoch    GPU_mem   box_loss   cls_loss   dfl_loss  Instances       Size\n"
          ]
        },
        {
          "output_type": "stream",
          "name": "stderr",
          "text": [
            "    100/100      2.42G     0.6498     0.6787     0.9035         10        640: 100%|██████████| 5/5 [00:01<00:00,  4.59it/s]\n",
            "                 Class     Images  Instances      Box(P          R      mAP50  mAP50-95): 100%|██████████| 1/1 [00:00<00:00,  5.11it/s]"
          ]
        },
        {
          "output_type": "stream",
          "name": "stdout",
          "text": [
            "                   all         20         65      0.953      0.614      0.638      0.461\n"
          ]
        },
        {
          "output_type": "stream",
          "name": "stderr",
          "text": [
            "\n"
          ]
        },
        {
          "output_type": "stream",
          "name": "stdout",
          "text": [
            "\n",
            "100 epochs completed in 0.077 hours.\n",
            "Optimizer stripped from runs/detect/train3/weights/last.pt, 5.5MB\n",
            "Optimizer stripped from runs/detect/train3/weights/best.pt, 5.5MB\n",
            "\n",
            "Validating runs/detect/train3/weights/best.pt...\n",
            "Ultralytics 8.3.28 🚀 Python-3.10.12 torch-2.5.0+cu121 CUDA:0 (Tesla T4, 15102MiB)\n",
            "YOLO11n summary (fused): 238 layers, 2,582,737 parameters, 0 gradients, 6.3 GFLOPs\n"
          ]
        },
        {
          "output_type": "stream",
          "name": "stderr",
          "text": [
            "                 Class     Images  Instances      Box(P          R      mAP50  mAP50-95): 100%|██████████| 1/1 [00:00<00:00,  3.62it/s]\n"
          ]
        },
        {
          "output_type": "stream",
          "name": "stdout",
          "text": [
            "                   all         20         65       0.66       0.77      0.778      0.509\n",
            "                  head          3         18      0.597      0.989      0.893      0.574\n",
            "                helmet         17         45      0.972      0.822      0.901      0.635\n",
            "                person          1          2       0.41        0.5       0.54       0.32\n",
            "Speed: 0.5ms preprocess, 3.1ms inference, 0.0ms loss, 4.0ms postprocess per image\n",
            "Results saved to \u001b[1mruns/detect/train3\u001b[0m\n"
          ]
        },
        {
          "output_type": "execute_result",
          "data": {
            "text/plain": [
              "{'metrics/precision(B)': 0.6596164111582712,\n",
              " 'metrics/recall(B)': 0.770355776117093,\n",
              " 'metrics/mAP50(B)': 0.7780881215892119,\n",
              " 'metrics/mAP50-95(B)': 0.5094214971703475,\n",
              " 'fitness': 0.5362881596122339}"
            ]
          },
          "metadata": {},
          "execution_count": 7
        }
      ],
      "source": [
        "#!pip install ultralytics\n",
        "from ultralytics import YOLO\n",
        "\n",
        "version = 'yolo11n'   # @param ['yolov5n', 'yolov8n', 'yolo11n']\n",
        "model = YOLO(f'{version}.pt')\n",
        "results = model.train(data='/content/HardHat_Dataset.YOLO/data.yaml', epochs=100)\n",
        "results.results_dict"
      ]
    }
  ],
  "metadata": {
    "colab": {
      "provenance": [],
      "gpuType": "T4"
    },
    "kernelspec": {
      "display_name": "Python 3",
      "name": "python3"
    },
    "language_info": {
      "name": "python"
    },
    "accelerator": "GPU"
  },
  "nbformat": 4,
  "nbformat_minor": 0
}