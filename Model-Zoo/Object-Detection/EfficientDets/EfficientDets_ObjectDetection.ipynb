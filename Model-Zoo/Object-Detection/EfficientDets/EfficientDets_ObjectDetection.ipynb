{
 "cells": [
  {
   "cell_type": "markdown",
   "metadata": {},
   "source": [
    "# Export EfficientDets via AutoML"
   ]
  },
  {
   "cell_type": "markdown",
   "metadata": {},
   "source": [
    "<table class=\"tfo-notebook-buttons\" align=\"left\">\n",
    "  <td>\n",
    "    <a target=\"_blank\" href=\"\"><img src=\"https://www.tensorflow.org/images/GitHub-Mark-32px.png\" />View source on GitHub</a>\n",
    "  </td>\n",
    "  <td>\n",
    "    <a href=\"https://storage.googleapis.com/tensorflow_docs/tensorflow/tensorflow/lite/g3doc/models/modify/model_maker/object_detection.ipynb\"><img src=\"https://www.tensorflow.org/images/download_logo_32px.png\" />Run in Azure ML Studio</a>\n",
    "  </td>\n",
    "</table>"
   ]
  },
  {
   "cell_type": "markdown",
   "metadata": {
    "id": "w7DEUNO_orr1"
   },
   "source": [
    "> * **Ubuntu Server** and **Python3.8** Compiler is required for this script. We also recommand that you can use conda to build an virtual environment before running jupyter notebook.\n",
    ">   \n",
    ">   ```bash\n",
    ">   conda create --name automl python==3.8\n",
    ">   source activate automl\n",
    ">   ```"
   ]
  },
  {
   "cell_type": "code",
   "execution_count": 1,
   "metadata": {},
   "outputs": [
    {
     "name": "stderr",
     "output_type": "stream",
     "text": [
      "2024-12-03 18:27:06.425004: W tensorflow/stream_executor/platform/default/dso_loader.cc:64] Could not load dynamic library 'libcudart.so.11.0'; dlerror: libcudart.so.11.0: cannot open shared object file: No such file or directory\n",
      "2024-12-03 18:27:06.425023: I tensorflow/stream_executor/cuda/cudart_stub.cc:29] Ignore above cudart dlerror if you do not have a GPU set up on your machine.\n",
      "/home/r300/miniconda3/envs/automl/lib/python3.8/site-packages/tensorflow_addons/utils/tfa_eol_msg.py:23: UserWarning: \n",
      "\n",
      "TensorFlow Addons (TFA) has ended development and introduction of new features.\n",
      "TFA has entered a minimal maintenance and release mode until a planned end of life in May 2024.\n",
      "Please modify downstream libraries to take dependencies from other repositories in our TensorFlow community (e.g. Keras, Keras-CV, and Keras-NLP). \n",
      "\n",
      "For more information see: https://github.com/tensorflow/addons/issues/2807 \n",
      "\n",
      "  warnings.warn(\n",
      "/home/r300/miniconda3/envs/automl/lib/python3.8/site-packages/tensorflow_addons/utils/ensure_tf_install.py:53: UserWarning: Tensorflow Addons supports using Python ops for all Tensorflow versions above or equal to 2.11.0 and strictly below 2.14.0 (nightly versions are not supported). \n",
      " The versions of TensorFlow you are currently using is 2.8.1 and is not supported. \n",
      "Some things might work, some things might not.\n",
      "If you were to encounter a bug, do not file an issue.\n",
      "If you want to make sure you're using a tested and supported configuration, either change the TensorFlow version or the TensorFlow Addons's version. \n",
      "You can find the compatibility matrix in TensorFlow Addon's readme:\n",
      "https://github.com/tensorflow/addons\n",
      "  warnings.warn(\n",
      "2024-12-03 18:27:09.921220: I tensorflow/stream_executor/cuda/cuda_gpu_executor.cc:936] successful NUMA node read from SysFS had negative value (-1), but there must be at least one NUMA node, so returning NUMA node zero\n",
      "2024-12-03 18:27:09.921444: W tensorflow/stream_executor/platform/default/dso_loader.cc:64] Could not load dynamic library 'libcudart.so.11.0'; dlerror: libcudart.so.11.0: cannot open shared object file: No such file or directory; LD_LIBRARY_PATH: /home/r300/.local/lib/python3.8/site-packages/cv2/../../lib64:\n",
      "2024-12-03 18:27:09.921520: W tensorflow/stream_executor/platform/default/dso_loader.cc:64] Could not load dynamic library 'libcublas.so.11'; dlerror: libcublas.so.11: cannot open shared object file: No such file or directory; LD_LIBRARY_PATH: /home/r300/.local/lib/python3.8/site-packages/cv2/../../lib64:\n",
      "2024-12-03 18:27:09.921590: W tensorflow/stream_executor/platform/default/dso_loader.cc:64] Could not load dynamic library 'libcublasLt.so.11'; dlerror: libcublasLt.so.11: cannot open shared object file: No such file or directory; LD_LIBRARY_PATH: /home/r300/.local/lib/python3.8/site-packages/cv2/../../lib64:\n",
      "2024-12-03 18:27:09.921664: W tensorflow/stream_executor/platform/default/dso_loader.cc:64] Could not load dynamic library 'libcufft.so.10'; dlerror: libcufft.so.10: cannot open shared object file: No such file or directory; LD_LIBRARY_PATH: /home/r300/.local/lib/python3.8/site-packages/cv2/../../lib64:\n",
      "2024-12-03 18:27:09.921733: W tensorflow/stream_executor/platform/default/dso_loader.cc:64] Could not load dynamic library 'libcurand.so.10'; dlerror: libcurand.so.10: cannot open shared object file: No such file or directory; LD_LIBRARY_PATH: /home/r300/.local/lib/python3.8/site-packages/cv2/../../lib64:\n",
      "2024-12-03 18:27:09.921801: W tensorflow/stream_executor/platform/default/dso_loader.cc:64] Could not load dynamic library 'libcusolver.so.11'; dlerror: libcusolver.so.11: cannot open shared object file: No such file or directory; LD_LIBRARY_PATH: /home/r300/.local/lib/python3.8/site-packages/cv2/../../lib64:\n",
      "2024-12-03 18:27:09.921869: W tensorflow/stream_executor/platform/default/dso_loader.cc:64] Could not load dynamic library 'libcusparse.so.11'; dlerror: libcusparse.so.11: cannot open shared object file: No such file or directory; LD_LIBRARY_PATH: /home/r300/.local/lib/python3.8/site-packages/cv2/../../lib64:\n",
      "2024-12-03 18:27:09.921937: W tensorflow/stream_executor/platform/default/dso_loader.cc:64] Could not load dynamic library 'libcudnn.so.8'; dlerror: libcudnn.so.8: cannot open shared object file: No such file or directory; LD_LIBRARY_PATH: /home/r300/.local/lib/python3.8/site-packages/cv2/../../lib64:\n",
      "2024-12-03 18:27:09.921949: W tensorflow/core/common_runtime/gpu/gpu_device.cc:1850] Cannot dlopen some GPU libraries. Please make sure the missing libraries mentioned above are installed properly if you would like to use GPU. Follow the guide at https://www.tensorflow.org/install/gpu for how to download and setup the required libraries for your platform.\n",
      "Skipping registering GPU devices...\n",
      "2024-12-03 18:27:09.922372: I tensorflow/core/platform/cpu_feature_guard.cc:151] This TensorFlow binary is optimized with oneAPI Deep Neural Network Library (oneDNN) to use the following CPU instructions in performance-critical operations:  AVX2 FMA\n",
      "To enable them in other operations, rebuild TensorFlow with the appropriate compiler flags.\n"
     ]
    }
   ],
   "source": [
    "from tflite_model_maker import model_spec\n",
    "import tensorflow as tf\n",
    "\n",
    "model_name = 'efficientdet_lite0' # @param [\"efficientdet_lite0\", \"efficientdet_lite1\", \"efficientdet_lite2\", \"efficientdet_lite3\", \"efficientdet_lite4\"]\n",
    "spec = model_spec.get(model_name)"
   ]
  },
  {
   "cell_type": "code",
   "execution_count": 2,
   "metadata": {},
   "outputs": [
    {
     "name": "stdout",
     "output_type": "stream",
     "text": [
      "--2024-12-03 18:27:09--  https://itriaihub.blob.core.windows.net/github-download-resources/repository/ITRI-AI-Hub/datasets/coco8.pascal_voc.zip\n",
      "Resolving itriaihub.blob.core.windows.net (itriaihub.blob.core.windows.net)... 20.209.42.36\n",
      "Connecting to itriaihub.blob.core.windows.net (itriaihub.blob.core.windows.net)|20.209.42.36|:443... connected.\n",
      "HTTP request sent, awaiting response... 200 OK\n",
      "Length: 792284 (774K) [application/zip]\n",
      "Saving to: ‘coco8.pascal_voc.zip.3’\n",
      "\n",
      "coco8.pascal_voc.zi 100%[===================>] 773.71K  2.19MB/s    in 0.3s    \n",
      "\n",
      "2024-12-03 18:27:10 (2.19 MB/s) - ‘coco8.pascal_voc.zip.3’ saved [792284/792284]\n",
      "\n",
      "Archive:  coco8.pascal_voc.zip\n",
      "replace coco8.pascal_voc/test/000000000034_jpg.rf.52f9e31a58727c2b125d8434f7a20d7b.jpg? [y]es, [n]o, [A]ll, [N]one, [r]ename: ^C\n"
     ]
    }
   ],
   "source": [
    "!wget https://itriaihub.blob.core.windows.net/github-download-resources/repository/ITRI-AI-Hub/datasets/coco8.pascal_voc.zip\n",
    "!unzip coco8.pascal_voc.zip"
   ]
  },
  {
   "cell_type": "code",
   "execution_count": 3,
   "metadata": {
    "id": "yC7o9BfyrTeC",
    "scrolled": true
   },
   "outputs": [
    {
     "name": "stdout",
     "output_type": "stream",
     "text": [
      "INFO:tensorflow:Cache will be stored in /tmp/tmpb_ctm974 with prefix filename 7bee435cfee6949ada7cad38d32e815e. Cache_prefix is /tmp/tmpb_ctm974/7bee435cfee6949ada7cad38d32e815e\n",
      "INFO:tensorflow:On image 0\n",
      "INFO:tensorflow:Cache will be stored in /tmp/tmp0y566p3q with prefix filename fd42585a6188df7d3abc4e516ad0ebb5. Cache_prefix is /tmp/tmp0y566p3q/fd42585a6188df7d3abc4e516ad0ebb5\n",
      "INFO:tensorflow:On image 0\n",
      "INFO:tensorflow:Cache will be stored in /tmp/tmpiz8aqnz5 with prefix filename 11a526a320c4c8a1416196ba3144593c. Cache_prefix is /tmp/tmpiz8aqnz5/11a526a320c4c8a1416196ba3144593c\n",
      "INFO:tensorflow:On image 0\n"
     ]
    }
   ],
   "source": [
    "from tflite_model_maker import object_detector\n",
    "\n",
    "dataset = './coco8.pascal_voc'\n",
    "CLASSES = [str(i) for i in range(80)]\n",
    "train_data = object_detector.DataLoader.from_pascal_voc(f'{dataset}/train', f'{dataset}/train', CLASSES)\n",
    "test_data = object_detector.DataLoader.from_pascal_voc(f'{dataset}/test', f'{dataset}/test', CLASSES)\n",
    "valid_data = object_detector.DataLoader.from_pascal_voc(f'{dataset}/valid', f'{dataset}/valid', CLASSES)"
   ]
  },
  {
   "cell_type": "code",
   "execution_count": 4,
   "metadata": {
    "id": "eYKNtEVJqrfc",
    "scrolled": true
   },
   "outputs": [
    {
     "name": "stdout",
     "output_type": "stream",
     "text": [
      "INFO:tensorflow:Retraining the models...\n"
     ]
    },
    {
     "name": "stderr",
     "output_type": "stream",
     "text": [
      "2024-12-03 18:28:15.753586: W tensorflow/core/framework/dataset.cc:768] Input of GeneratorDatasetOp::Dataset will not be optimized because the dataset does not implement the AsGraphDefInternal() method needed to apply optimizations.\n"
     ]
    },
    {
     "name": "stdout",
     "output_type": "stream",
     "text": [
      "6/6 [==============================] - ETA: 0s - det_loss: 2.1191 - cls_loss: 1.4736 - box_loss: 0.0129 - reg_l2_loss: 0.0770 - loss: 2.1962 - learning_rate: 0.0052 - gradient_norm: 4.5753WARNING:tensorflow:Callback method `on_train_batch_end` is slow compared to the batch time (batch time: 0.1748s vs `on_train_batch_end` time: 0.2274s). Check your callbacks.\n"
     ]
    },
    {
     "name": "stderr",
     "output_type": "stream",
     "text": [
      "WARNING:tensorflow:Callback method `on_train_batch_end` is slow compared to the batch time (batch time: 0.1748s vs `on_train_batch_end` time: 0.2274s). Check your callbacks.\n"
     ]
    },
    {
     "name": "stdout",
     "output_type": "stream",
     "text": [
      "6/6 [==============================] - 25s 723ms/step - det_loss: 2.1011 - cls_loss: 1.4514 - box_loss: 0.0130 - reg_l2_loss: 0.0770 - loss: 2.1781 - learning_rate: 0.0048 - gradient_norm: 4.2835 - val_det_loss: 1.9974 - val_cls_loss: 1.2573 - val_box_loss: 0.0148 - val_reg_l2_loss: 0.0770 - val_loss: 2.0744\n",
      "Model: \"\"\n",
      "_________________________________________________________________\n",
      " Layer (type)                Output Shape              Param #   \n",
      "=================================================================\n",
      " keras_layer (KerasLayer)    multiple                  3234464   \n",
      "                                                                 \n",
      " class_net/class-predict (Se  multiple                 47376     \n",
      " parableConv2D)                                                  \n",
      "                                                                 \n",
      " box_net/box-predict (Separa  multiple                 2916      \n",
      " bleConv2D)                                                      \n",
      "                                                                 \n",
      "=================================================================\n",
      "Total params: 3,284,756\n",
      "Trainable params: 3,237,620\n",
      "Non-trainable params: 47,136\n",
      "_________________________________________________________________\n"
     ]
    }
   ],
   "source": [
    "model = object_detector.create(train_data, model_spec=spec, epochs=1, batch_size=1, train_whole_model=True, validation_data=valid_data)\n",
    "model.summary()"
   ]
  },
  {
   "cell_type": "code",
   "execution_count": 8,
   "metadata": {},
   "outputs": [
    {
     "name": "stderr",
     "output_type": "stream",
     "text": [
      "2024-12-03 18:30:04.967516: W tensorflow/core/framework/dataset.cc:768] Input of GeneratorDatasetOp::Dataset will not be optimized because the dataset does not implement the AsGraphDefInternal() method needed to apply optimizations.\n"
     ]
    },
    {
     "name": "stdout",
     "output_type": "stream",
     "text": [
      "1/1 [==============================] - 10s 10s/step\n",
      "\n",
      "loading annotations into memory...\n",
      "Done (t=0.00s)\n",
      "creating index...\n",
      "index created!\n",
      "Loading and preparing results...\n",
      "Converting ndarray to lists...\n",
      "(600, 7)\n",
      "0/600\n",
      "DONE (t=0.00s)\n",
      "creating index...\n",
      "index created!\n",
      "Running per image evaluation...\n",
      "Evaluate annotation type *bbox*\n",
      "DONE (t=0.04s).\n",
      "Accumulating evaluation results...\n",
      "DONE (t=0.04s).\n",
      " Average Precision  (AP) @[ IoU=0.50:0.95 | area=   all | maxDets=100 ] = 0.000\n",
      " Average Precision  (AP) @[ IoU=0.50      | area=   all | maxDets=100 ] = 0.000\n",
      " Average Precision  (AP) @[ IoU=0.75      | area=   all | maxDets=100 ] = 0.000\n",
      " Average Precision  (AP) @[ IoU=0.50:0.95 | area= small | maxDets=100 ] = -1.000\n",
      " Average Precision  (AP) @[ IoU=0.50:0.95 | area=medium | maxDets=100 ] = 0.000\n",
      " Average Precision  (AP) @[ IoU=0.50:0.95 | area= large | maxDets=100 ] = 0.000\n",
      " Average Recall     (AR) @[ IoU=0.50:0.95 | area=   all | maxDets=  1 ] = 0.000\n",
      " Average Recall     (AR) @[ IoU=0.50:0.95 | area=   all | maxDets= 10 ] = 0.000\n",
      " Average Recall     (AR) @[ IoU=0.50:0.95 | area=   all | maxDets=100 ] = 0.000\n",
      " Average Recall     (AR) @[ IoU=0.50:0.95 | area= small | maxDets=100 ] = -1.000\n",
      " Average Recall     (AR) @[ IoU=0.50:0.95 | area=medium | maxDets=100 ] = 0.000\n",
      " Average Recall     (AR) @[ IoU=0.50:0.95 | area= large | maxDets=100 ] = 0.000\n"
     ]
    },
    {
     "data": {
      "text/plain": [
       "{'AP': 0.0,\n",
       " 'AP50': 0.0,\n",
       " 'AP75': 0.0,\n",
       " 'APs': -1.0,\n",
       " 'APm': 0.0,\n",
       " 'APl': 0.0,\n",
       " 'ARmax1': 0.0,\n",
       " 'ARmax10': 0.0,\n",
       " 'ARmax100': 0.0,\n",
       " 'ARs': -1.0,\n",
       " 'ARm': 0.0,\n",
       " 'ARl': 0.0,\n",
       " 'AP_/0': 0.0,\n",
       " 'AP_/1': -1.0,\n",
       " 'AP_/2': -1.0,\n",
       " 'AP_/3': -1.0,\n",
       " 'AP_/4': -1.0,\n",
       " 'AP_/5': -1.0,\n",
       " 'AP_/6': -1.0,\n",
       " 'AP_/7': -1.0,\n",
       " 'AP_/8': -1.0,\n",
       " 'AP_/9': -1.0,\n",
       " 'AP_/10': -1.0,\n",
       " 'AP_/11': -1.0,\n",
       " 'AP_/12': -1.0,\n",
       " 'AP_/13': -1.0,\n",
       " 'AP_/14': -1.0,\n",
       " 'AP_/15': -1.0,\n",
       " 'AP_/16': 0.0,\n",
       " 'AP_/17': -1.0,\n",
       " 'AP_/18': -1.0,\n",
       " 'AP_/19': -1.0,\n",
       " 'AP_/20': 0.0,\n",
       " 'AP_/21': -1.0,\n",
       " 'AP_/22': -1.0,\n",
       " 'AP_/23': 0.0,\n",
       " 'AP_/24': -1.0,\n",
       " 'AP_/25': 0.0,\n",
       " 'AP_/26': -1.0,\n",
       " 'AP_/27': -1.0,\n",
       " 'AP_/28': -1.0,\n",
       " 'AP_/29': -1.0,\n",
       " 'AP_/30': -1.0,\n",
       " 'AP_/31': -1.0,\n",
       " 'AP_/32': -1.0,\n",
       " 'AP_/33': -1.0,\n",
       " 'AP_/34': -1.0,\n",
       " 'AP_/35': -1.0,\n",
       " 'AP_/36': -1.0,\n",
       " 'AP_/37': -1.0,\n",
       " 'AP_/38': -1.0,\n",
       " 'AP_/39': -1.0,\n",
       " 'AP_/40': -1.0,\n",
       " 'AP_/41': -1.0,\n",
       " 'AP_/42': -1.0,\n",
       " 'AP_/43': -1.0,\n",
       " 'AP_/44': -1.0,\n",
       " 'AP_/45': 0.0,\n",
       " 'AP_/46': -1.0,\n",
       " 'AP_/47': -1.0,\n",
       " 'AP_/48': -1.0,\n",
       " 'AP_/49': 0.0,\n",
       " 'AP_/50': 0.0,\n",
       " 'AP_/51': -1.0,\n",
       " 'AP_/52': -1.0,\n",
       " 'AP_/53': -1.0,\n",
       " 'AP_/54': -1.0,\n",
       " 'AP_/55': -1.0,\n",
       " 'AP_/56': -1.0,\n",
       " 'AP_/57': -1.0,\n",
       " 'AP_/58': 0.0,\n",
       " 'AP_/59': -1.0,\n",
       " 'AP_/60': -1.0,\n",
       " 'AP_/61': -1.0,\n",
       " 'AP_/62': -1.0,\n",
       " 'AP_/63': -1.0,\n",
       " 'AP_/64': -1.0,\n",
       " 'AP_/65': -1.0,\n",
       " 'AP_/66': -1.0,\n",
       " 'AP_/67': -1.0,\n",
       " 'AP_/68': -1.0,\n",
       " 'AP_/69': -1.0,\n",
       " 'AP_/70': -1.0,\n",
       " 'AP_/71': -1.0,\n",
       " 'AP_/72': -1.0,\n",
       " 'AP_/73': -1.0,\n",
       " 'AP_/74': -1.0,\n",
       " 'AP_/75': 0.0,\n",
       " 'AP_/76': -1.0,\n",
       " 'AP_/77': -1.0,\n",
       " 'AP_/78': -1.0,\n",
       " 'AP_/79': -1.0}"
      ]
     },
     "execution_count": 8,
     "metadata": {},
     "output_type": "execute_result"
    }
   ],
   "source": [
    "model.evaluate(test_data)"
   ]
  },
  {
   "cell_type": "markdown",
   "metadata": {},
   "source": [
    "* **Format 1**: TFLite\n",
    "(*We can preview `GFLOPS` of this model via console outputs and fill it to ITRI-AI-Hub**)"
   ]
  },
  {
   "cell_type": "code",
   "execution_count": 6,
   "metadata": {
    "scrolled": true
   },
   "outputs": [
    {
     "name": "stdout",
     "output_type": "stream",
     "text": [
      "WARNING:tensorflow:Skipping full serialization of Keras layer <tensorflow_examples.lite.model_maker.core.task.model_spec.object_detector_spec.ExportModel object at 0x7fda292a20d0>, because it is not built.\n"
     ]
    },
    {
     "name": "stderr",
     "output_type": "stream",
     "text": [
      "WARNING:tensorflow:Skipping full serialization of Keras layer <tensorflow_examples.lite.model_maker.core.task.model_spec.object_detector_spec.ExportModel object at 0x7fda292a20d0>, because it is not built.\n",
      "2024-12-03 18:28:46.735290: W tensorflow/python/util/util.cc:368] Sets are not currently considered sequences, but this may change in the future, so consider avoiding using them.\n",
      "WARNING:absl:Found untraced functions such as restored_function_body, restored_function_body, restored_function_body, restored_function_body, restored_function_body while saving (showing 5 of 608). These functions will not be directly callable after loading.\n"
     ]
    },
    {
     "name": "stdout",
     "output_type": "stream",
     "text": [
      "INFO:tensorflow:Assets written to: /tmp/tmpu9niaxce/assets\n"
     ]
    },
    {
     "name": "stderr",
     "output_type": "stream",
     "text": [
      "INFO:tensorflow:Assets written to: /tmp/tmpu9niaxce/assets\n",
      "2024-12-03 18:29:09.539480: W tensorflow/core/common_runtime/graph_constructor.cc:803] Node 'resample_p7/PartitionedCall' has 1 outputs but the _output_shapes attribute specifies shapes for 3 outputs. Output shapes may be inaccurate.\n",
      "2024-12-03 18:29:15.005115: W tensorflow/compiler/mlir/lite/python/tf_tfl_flatbuffer_helpers.cc:357] Ignored output_format.\n",
      "2024-12-03 18:29:15.005142: W tensorflow/compiler/mlir/lite/python/tf_tfl_flatbuffer_helpers.cc:360] Ignored drop_control_dependency.\n",
      "2024-12-03 18:29:15.005819: I tensorflow/cc/saved_model/reader.cc:43] Reading SavedModel from: /tmp/tmpu9niaxce\n",
      "2024-12-03 18:29:15.096371: I tensorflow/cc/saved_model/reader.cc:78] Reading meta graph with tags { serve }\n",
      "2024-12-03 18:29:15.096413: I tensorflow/cc/saved_model/reader.cc:119] Reading SavedModel debug info (if present) from: /tmp/tmpu9niaxce\n",
      "2024-12-03 18:29:15.380362: I tensorflow/cc/saved_model/loader.cc:228] Restoring SavedModel bundle.\n",
      "2024-12-03 18:29:16.907153: I tensorflow/cc/saved_model/loader.cc:212] Running initialization op on SavedModel bundle at path: /tmp/tmpu9niaxce\n",
      "2024-12-03 18:29:17.585998: I tensorflow/cc/saved_model/loader.cc:301] SavedModel load for tags { serve }; Status: success: OK. Took 2580181 microseconds.\n",
      "2024-12-03 18:29:18.724434: I tensorflow/compiler/mlir/tensorflow/utils/dump_mlir_util.cc:237] disabling MLIR crash reproducer, set env var `MLIR_CRASH_REPRODUCER_DIRECTORY` to enable.\n",
      "2024-12-03 18:29:20.064534: I tensorflow/compiler/mlir/lite/flatbuffer_export.cc:1963] Estimated count of arithmetic ops: 2.041 G  ops, equivalently 1.021 G  MACs\n",
      "\n",
      "fully_quantize: 0, inference_type: 6, input_inference_type: 3, output_inference_type: 0\n",
      "2024-12-03 18:29:22.481663: I tensorflow/compiler/mlir/lite/flatbuffer_export.cc:1963] Estimated count of arithmetic ops: 2.041 G  ops, equivalently 1.021 G  MACs\n",
      "\n"
     ]
    },
    {
     "name": "stdout",
     "output_type": "stream",
     "text": [
      "INFO:tensorflow:Label file is inside the TFLite model with metadata.\n"
     ]
    },
    {
     "name": "stderr",
     "output_type": "stream",
     "text": [
      "INFO:tensorflow:Label file is inside the TFLite model with metadata.\n"
     ]
    },
    {
     "name": "stdout",
     "output_type": "stream",
     "text": [
      "INFO:tensorflow:Saving labels in /tmp/tmptlkgoabb/labelmap.txt.\n"
     ]
    },
    {
     "name": "stderr",
     "output_type": "stream",
     "text": [
      "INFO:tensorflow:Saving labels in /tmp/tmptlkgoabb/labelmap.txt.\n"
     ]
    },
    {
     "name": "stdout",
     "output_type": "stream",
     "text": [
      "INFO:tensorflow:TensorFlow Lite model exported successfully: efficientdet_lite0/model.tflite\n"
     ]
    },
    {
     "name": "stderr",
     "output_type": "stream",
     "text": [
      "INFO:tensorflow:TensorFlow Lite model exported successfully: efficientdet_lite0/model.tflite\n"
     ]
    }
   ],
   "source": [
    "from tflite_model_maker.config import ExportFormat\n",
    "\n",
    "model.export(export_dir=f'{model_name}', export_format=[ExportFormat.TFLITE])"
   ]
  },
  {
   "cell_type": "markdown",
   "metadata": {},
   "source": [
    "* **Format 2**: ONNX"
   ]
  },
  {
   "cell_type": "code",
   "execution_count": 7,
   "metadata": {
    "scrolled": true
   },
   "outputs": [
    {
     "name": "stdout",
     "output_type": "stream",
     "text": [
      "2024-12-03 18:29:23.521419: W tensorflow/stream_executor/platform/default/dso_loader.cc:64] Could not load dynamic library 'libcudart.so.11.0'; dlerror: libcudart.so.11.0: cannot open shared object file: No such file or directory; LD_LIBRARY_PATH: /home/r300/.local/lib/python3.8/site-packages/cv2/../../lib64:\n",
      "2024-12-03 18:29:23.521440: I tensorflow/stream_executor/cuda/cudart_stub.cc:29] Ignore above cudart dlerror if you do not have a GPU set up on your machine.\n",
      "/home/r300/miniconda3/envs/automl/lib/python3.8/runpy.py:125: RuntimeWarning: 'tf2onnx.convert' found in sys.modules after import of package 'tf2onnx', but prior to execution of 'tf2onnx.convert'; this may result in unpredictable behaviour\n",
      "  warn(RuntimeWarning(msg))\n",
      "2024-12-03 18:29:24.915495: I tensorflow/stream_executor/cuda/cuda_gpu_executor.cc:936] successful NUMA node read from SysFS had negative value (-1), but there must be at least one NUMA node, so returning NUMA node zero\n",
      "2024-12-03 18:29:24.915769: W tensorflow/stream_executor/platform/default/dso_loader.cc:64] Could not load dynamic library 'libcudart.so.11.0'; dlerror: libcudart.so.11.0: cannot open shared object file: No such file or directory; LD_LIBRARY_PATH: /home/r300/.local/lib/python3.8/site-packages/cv2/../../lib64:\n",
      "2024-12-03 18:29:24.915869: W tensorflow/stream_executor/platform/default/dso_loader.cc:64] Could not load dynamic library 'libcublas.so.11'; dlerror: libcublas.so.11: cannot open shared object file: No such file or directory; LD_LIBRARY_PATH: /home/r300/.local/lib/python3.8/site-packages/cv2/../../lib64:\n",
      "2024-12-03 18:29:24.915959: W tensorflow/stream_executor/platform/default/dso_loader.cc:64] Could not load dynamic library 'libcublasLt.so.11'; dlerror: libcublasLt.so.11: cannot open shared object file: No such file or directory; LD_LIBRARY_PATH: /home/r300/.local/lib/python3.8/site-packages/cv2/../../lib64:\n",
      "2024-12-03 18:29:24.916047: W tensorflow/stream_executor/platform/default/dso_loader.cc:64] Could not load dynamic library 'libcufft.so.10'; dlerror: libcufft.so.10: cannot open shared object file: No such file or directory; LD_LIBRARY_PATH: /home/r300/.local/lib/python3.8/site-packages/cv2/../../lib64:\n",
      "2024-12-03 18:29:24.916134: W tensorflow/stream_executor/platform/default/dso_loader.cc:64] Could not load dynamic library 'libcurand.so.10'; dlerror: libcurand.so.10: cannot open shared object file: No such file or directory; LD_LIBRARY_PATH: /home/r300/.local/lib/python3.8/site-packages/cv2/../../lib64:\n",
      "2024-12-03 18:29:24.916226: W tensorflow/stream_executor/platform/default/dso_loader.cc:64] Could not load dynamic library 'libcusolver.so.11'; dlerror: libcusolver.so.11: cannot open shared object file: No such file or directory; LD_LIBRARY_PATH: /home/r300/.local/lib/python3.8/site-packages/cv2/../../lib64:\n",
      "2024-12-03 18:29:24.916297: W tensorflow/stream_executor/platform/default/dso_loader.cc:64] Could not load dynamic library 'libcusparse.so.11'; dlerror: libcusparse.so.11: cannot open shared object file: No such file or directory; LD_LIBRARY_PATH: /home/r300/.local/lib/python3.8/site-packages/cv2/../../lib64:\n",
      "2024-12-03 18:29:24.916371: W tensorflow/stream_executor/platform/default/dso_loader.cc:64] Could not load dynamic library 'libcudnn.so.8'; dlerror: libcudnn.so.8: cannot open shared object file: No such file or directory; LD_LIBRARY_PATH: /home/r300/.local/lib/python3.8/site-packages/cv2/../../lib64:\n",
      "2024-12-03 18:29:24.916387: W tensorflow/core/common_runtime/gpu/gpu_device.cc:1850] Cannot dlopen some GPU libraries. Please make sure the missing libraries mentioned above are installed properly if you would like to use GPU. Follow the guide at https://www.tensorflow.org/install/gpu for how to download and setup the required libraries for your platform.\n",
      "Skipping registering GPU devices...\n",
      "2024-12-03 18:29:24.916660: I tensorflow/core/platform/cpu_feature_guard.cc:151] This TensorFlow binary is optimized with oneAPI Deep Neural Network Library (oneDNN) to use the following CPU instructions in performance-critical operations:  AVX2 FMA\n",
      "To enable them in other operations, rebuild TensorFlow with the appropriate compiler flags.\n",
      "2024-12-03 18:29:24,918 - INFO - Using tensorflow=2.8.1, onnx=1.17.0, tf2onnx=1.16.1/15c810\n",
      "2024-12-03 18:29:24,918 - INFO - Using opset <onnx, 16>\n",
      "Traceback (most recent call last):\n",
      "  File \"/home/r300/miniconda3/envs/automl/lib/python3.8/runpy.py\", line 192, in _run_module_as_main\n",
      "    return _run_code(code, main_globals, None,\n",
      "  File \"/home/r300/miniconda3/envs/automl/lib/python3.8/runpy.py\", line 85, in _run_code\n",
      "    exec(code, run_globals)\n",
      "  File \"/home/r300/miniconda3/envs/automl/lib/python3.8/site-packages/tf2onnx/convert.py\", line 714, in <module>\n",
      "    main()\n",
      "  File \"/home/r300/miniconda3/envs/automl/lib/python3.8/site-packages/tf2onnx/convert.py\", line 273, in main\n",
      "    model_proto, _ = _convert_common(\n",
      "  File \"/home/r300/miniconda3/envs/automl/lib/python3.8/site-packages/tf2onnx/convert.py\", line 168, in _convert_common\n",
      "    g = process_tf_graph(tf_graph, const_node_values=const_node_values,\n",
      "  File \"/home/r300/miniconda3/envs/automl/lib/python3.8/site-packages/tf2onnx/tfonnx.py\", line 453, in process_tf_graph\n",
      "    main_g, subgraphs = graphs_from_tflite(tflite_path, input_names, output_names)\n",
      "  File \"/home/r300/miniconda3/envs/automl/lib/python3.8/site-packages/tf2onnx/tflite_utils.py\", line 143, in graphs_from_tflite\n",
      "    tflite_graphs, opcodes, model, tensor_shapes = read_tflite_model(tflite_path)\n",
      "  File \"/home/r300/miniconda3/envs/automl/lib/python3.8/site-packages/tf2onnx/tflite_utils.py\", line 178, in read_tflite_model\n",
      "    with open(tflite_path, 'rb') as f:\n",
      "FileNotFoundError: [Errno 2] No such file or directory: '{BACKBONE}/model.tflite'\n"
     ]
    }
   ],
   "source": [
    "!python -m tf2onnx.convert --opset 16 --tflite {BACKBONE}/model.tflite --output {BACKBONE}/model.onnx"
   ]
  },
  {
   "cell_type": "code",
   "execution_count": null,
   "metadata": {},
   "outputs": [],
   "source": []
  }
 ],
 "metadata": {
  "colab": {
   "provenance": []
  },
  "kernelspec": {
   "display_name": "Python 3 (ipykernel)",
   "language": "python",
   "name": "python3"
  },
  "language_info": {
   "codemirror_mode": {
    "name": "ipython",
    "version": 3
   },
   "file_extension": ".py",
   "mimetype": "text/x-python",
   "name": "python",
   "nbconvert_exporter": "python",
   "pygments_lexer": "ipython3",
   "version": "3.8.0"
  }
 },
 "nbformat": 4,
 "nbformat_minor": 4
}
